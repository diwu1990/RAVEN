{
 "cells": [
  {
   "cell_type": "code",
   "execution_count": 1,
   "metadata": {},
   "outputs": [],
   "source": [
    "%load_ext autoreload\n",
    "%autoreload 2"
   ]
  },
  {
   "cell_type": "code",
   "execution_count": 1,
   "metadata": {},
   "outputs": [],
   "source": [
    "import torch\n",
    "from RAVEN.pe.mac_taylor_utils import *\n",
    "import matplotlib.pyplot as plt"
   ]
  },
  {
   "cell_type": "markdown",
   "metadata": {},
   "source": [
    "# test MAC_Taylor"
   ]
  },
  {
   "cell_type": "code",
   "execution_count": 2,
   "metadata": {},
   "outputs": [
    {
     "name": "stdout",
     "output_type": "stream",
     "text": [
      "[1.0, 1.0, 0.5, 0.16666666666666666, 0.041666666666666664, 0.008333333333333333, 0.001388888888888889, 0.0001984126984126984]\n",
      "min error rate: tensor(-0.0118)\n",
      "max error rate: tensor(-0.0001)\n",
      "avg error rate: tensor(-0.0053)\n",
      "rms error rate: tensor(0.0056)\n"
     ]
    }
   ],
   "source": [
    "device = torch.device(\"cuda:0\" if torch.cuda.is_available() else \"cpu\")\n",
    "\n",
    "a = torch.arange(0, 1, 0.001).to(device)\n",
    "\n",
    "precise = torch.exp(a).to(device)\n",
    "\n",
    "point = 0.5\n",
    "scale = torch.exp(torch.tensor([point])).to(device)\n",
    "var = a - point\n",
    "\n",
    "coeff = [1/1, 1/1, 1/2, 1/6, 1/24, 1/120, 1/720, 1/5040, 1/40320, 1/362880]\n",
    "\n",
    "coeff = coeff[0:8]\n",
    "print(coeff)\n",
    "\n",
    "approximate = MAC_Taylor(scale, \n",
    "                         coeff, \n",
    "                         var, \n",
    "                         fxp=True, \n",
    "                         intwidth=7, \n",
    "                         fracwidth=8, \n",
    "                         rounding_coeff=\"round\", \n",
    "                         rounding_var=\"floor\", \n",
    "                         keepwidth=True)\n",
    "\n",
    "error = (approximate - precise) / precise\n",
    "print(\"min error rate:\", error.min())\n",
    "print(\"max error rate:\", error.max())\n",
    "print(\"avg error rate:\", error.mean())\n",
    "print(\"rms error rate:\", error.mul(error).mean().sqrt())"
   ]
  },
  {
   "cell_type": "markdown",
   "metadata": {},
   "source": [
    "# point search test"
   ]
  },
  {
   "cell_type": "markdown",
   "metadata": {},
   "source": [
    "## test exp"
   ]
  },
  {
   "cell_type": "markdown",
   "metadata": {},
   "source": [
    "### fxp guassian"
   ]
  },
  {
   "cell_type": "code",
   "execution_count": 3,
   "metadata": {
    "scrolled": true
   },
   "outputs": [
    {
     "data": {
      "image/png": "[encoded data removed]",
      "text/plain": [
       "<Figure size 432x288 with 1 Axes>"
      ]
     },
     "metadata": {
      "needs_background": "light"
     },
     "output_type": "display_data"
    },
    {
     "name": "stdout",
     "output_type": "stream",
     "text": [
      "gaussian data mu= 0.25 Taylor expansion point= 0.0\n",
      "eff coeff: ['1.0000000000', '1.0000000000', '0.5000000000', '0.1666666667', '0.0416666667']\n",
      "min error: ['-0.2642410994', '-0.0803013667', '-0.0191092025', '-0.0045126127', '-0.0021743155']\n",
      "max error: ['0.0000000000', '0.0015456392', '0.0017781437', '0.0018073127', '0.0022234549']\n",
      "avg error: ['-0.0619901754', '-0.0121463798', '-0.0021217999', '-0.0002941944', '-0.0000765598']\n",
      "rms error: ['0.0925558880', '0.0233024396', '0.0049167010', '0.0011620240', '0.0009145369']\n",
      "\n",
      "gaussian data mu= 0.25 Taylor expansion point= 0.25\n",
      "eff coeff: ['1.0000000000', '1.0000000000', '0.5000000000', '0.1666666667', '0.0416666667']\n",
      "min error: ['-0.1722712368', '-0.0400645547', '-0.0070128846', '-0.0025743698', '-0.0025743698']\n",
      "max error: ['0.0021473581', '0.0077213040', '0.0043279962', '0.0045673698', '0.0043279962']\n",
      "avg error: ['-0.0259348992', '-0.0029493070', '0.0001714639', '0.0007417523', '0.0007282411']\n",
      "rms error: ['0.0505836941', '0.0101365978', '0.0019825771', '0.0015279009', '0.0015006984']\n",
      "\n",
      "gaussian data mu= 0.25 Taylor expansion point= 0.5\n",
      "eff coeff: ['1.0000000000', '1.0000000000', '0.5000000000', '0.1666666667']\n",
      "min error: ['-0.1757812500', '-0.0142094698', '-0.0083810370', '-0.0042697969']\n",
      "max error: ['0.0006546711', '0.0312500000', '0.0033335746', '0.0040315618']\n",
      "avg error: ['-0.0474365540', '0.0036952081', '-0.0009277738', '-0.0000580166']\n",
      "rms error: ['0.0645915493', '0.0092350924', '0.0021990910', '0.0016759256']\n",
      "\n",
      "gaussian data mu= 0.25 Taylor expansion point= 0.75\n",
      "eff coeff: ['1.0000000000', '1.0000000000', '0.5000000000', '0.1666666667', '0.0416666667']\n",
      "min error: ['-0.4687500000', '-0.0031161634', '-0.0308862794', '-0.0045927530', '-0.0070723402']\n",
      "max error: ['0.0008437737', '0.1283960938', '0.0030050469', '0.0091350963', '0.0074731782']\n",
      "avg error: ['-0.1577945501', '0.0308692288', '-0.0051235268', '0.0009771332', '0.0001922791']\n",
      "rms error: ['0.2006255984', '0.0442232341', '0.0083343983', '0.0025465183', '0.0023479688']\n",
      "\n",
      "gaussian data mu= 0.25 Taylor expansion point= 1.0\n",
      "eff coeff: ['1.0000000000', '1.0000000000', '0.5000000000', '0.1666666667', '0.0416666667']\n",
      "min error: ['-1.0000000000', '-0.0026293751', '-0.1046783775', '-0.0032642395', '-0.0082565499']\n",
      "max error: ['0.0007751551', '0.3593750000', '0.0036533310', '0.0272295475', '0.0152619928']\n",
      "avg error: ['-0.4080725014', '0.1148411259', '-0.0252909381', '0.0050961622', '0.0000319733']\n",
      "rms error: ['0.4849857688', '0.1476644576', '0.0350027084', '0.0080563724', '0.0034542100']\n",
      "\n"
     ]
    },
    {
     "data": {
      "image/png": "[encoded data removed]",
      "text/plain": [
       "<Figure size 432x288 with 1 Axes>"
      ]
     },
     "metadata": {
      "needs_background": "light"
     },
     "output_type": "display_data"
    },
    {
     "name": "stdout",
     "output_type": "stream",
     "text": [
      "gaussian data mu= 0.5 Taylor expansion point= 0.0\n",
      "eff coeff: ['1.0000000000', '1.0000000000', '0.5000000000', '0.1666666667', '0.0416666667']\n",
      "min error: ['-0.2642410994', '-0.0803013667', '-0.0191092025', '-0.0045126127', '-0.0021743155']\n",
      "max error: ['0.0000000000', '0.0015456392', '0.0017781437', '0.0018073127', '0.0022234549']\n",
      "avg error: ['-0.0962673426', '-0.0186304618', '-0.0028514559', '-0.0002948158', '-0.0000659931']\n",
      "rms error: ['0.1118652970', '0.0245855786', '0.0044281599', '0.0010260444', '0.0008683119']\n",
      "\n",
      "gaussian data mu= 0.5 Taylor expansion point= 0.25\n",
      "eff coeff: ['1.0000000000', '1.0000000000', '0.5000000000', '0.1666666667']\n",
      "min error: ['-0.1722712368', '-0.0400645547', '-0.0070128846', '-0.0025743698']\n",
      "max error: ['0.0021473581', '0.0077213040', '0.0043279962', '0.0045673698']\n",
      "avg error: ['-0.0371911265', '-0.0043012374', '0.0002426727', '0.0008402499']\n",
      "rms error: ['0.0524378568', '0.0085347081', '0.0015940421', '0.0014442402']\n",
      "\n",
      "gaussian data mu= 0.5 Taylor expansion point= 0.5\n",
      "eff coeff: ['1.0000000000', '1.0000000000', '0.5000000000', '0.1666666667']\n",
      "min error: ['-0.1757812500', '-0.0142094698', '-0.0083810370', '-0.0042697969']\n",
      "max error: ['0.0006546711', '0.0312500000', '0.0033335746', '0.0040315618']\n",
      "avg error: ['-0.0199483801', '0.0002197037', '-0.0005053920', '-0.0002361279']\n",
      "rms error: ['0.0337183066', '0.0045531299', '0.0015366822', '0.0013782639']\n",
      "\n",
      "gaussian data mu= 0.5 Taylor expansion point= 0.75\n",
      "eff coeff: ['1.0000000000', '1.0000000000', '0.5000000000', '0.1666666667', '0.0416666667']\n",
      "min error: ['-0.4687500000', '-0.0031161634', '-0.0308862794', '-0.0045927530', '-0.0070723402']\n",
      "max error: ['0.0008437737', '0.1283960938', '0.0030050469', '0.0091350963', '0.0074731782']\n",
      "avg error: ['-0.0685752034', '0.0108968681', '-0.0015589973', '0.0003681818', '0.0001384162']\n",
      "rms error: ['0.1085841358', '0.0218047779', '0.0041559641', '0.0018623433', '0.0017998890']\n",
      "\n",
      "gaussian data mu= 0.5 Taylor expansion point= 1.0\n",
      "eff coeff: ['1.0000000000', '1.0000000000', '0.5000000000', '0.1666666667', '0.0416666667']\n",
      "min error: ['-1.0000000000', '-0.0026293751', '-0.1046783775', '-0.0032642395', '-0.0082565499']\n",
      "max error: ['0.0007751551', '0.3593750000', '0.0036533310', '0.0272295475', '0.0152619928']\n",
      "avg error: ['-0.2242323756', '0.0516988076', '-0.0097931176', '0.0020560769', '0.0002354270']\n",
      "rms error: ['0.2922923267', '0.0796427876', '0.0177704562', '0.0043361261', '0.0026473615']\n",
      "\n"
     ]
    },
    {
     "data": {
      "image/png": "[encoded data removed]",
      "text/plain": [
       "<Figure size 432x288 with 1 Axes>"
      ]
     },
     "metadata": {
      "needs_background": "light"
     },
     "output_type": "display_data"
    },
    {
     "name": "stdout",
     "output_type": "stream",
     "text": [
      "gaussian data mu= 0.75 Taylor expansion point= 0.0\n",
      "eff coeff: ['1.0000000000', '1.0000000000', '0.5000000000', '0.1666666667', '0.0416666667']\n",
      "min error: ['-0.2642410994', '-0.0803013667', '-0.0191092025', '-0.0045126127', '-0.0021743155']\n",
      "max error: ['0.0000000000', '0.0015456392', '0.0017781437', '0.0018073127', '0.0022234549']\n",
      "avg error: ['-0.1451647878', '-0.0344329253', '-0.0063547716', '-0.0008671801', '-0.0002597894']\n",
      "rms error: ['0.1616413742', '0.0407267585', '0.0080959108', '0.0014324810', '0.0008957774']\n",
      "\n",
      "gaussian data mu= 0.75 Taylor expansion point= 0.25\n",
      "eff coeff: ['1.0000000000', '1.0000000000', '0.5000000000', '0.1666666667']\n",
      "min error: ['-0.1722712368', '-0.0400645547', '-0.0070128846', '-0.0025743698']\n",
      "max error: ['0.0021473581', '0.0077213040', '0.0043279962', '0.0045673698']\n",
      "avg error: ['-0.0756603628', '-0.0120193725', '-0.0008822676', '0.0007809682']\n",
      "rms error: ['0.0890647173', '0.0164996069', '0.0022803876', '0.0013724435']\n",
      "\n",
      "gaussian data mu= 0.75 Taylor expansion point= 0.5\n",
      "eff coeff: ['1.0000000000', '1.0000000000', '0.5000000000', '0.1666666667', '0.0416666667']\n",
      "min error: ['-0.1757812500', '-0.0142094698', '-0.0083810370', '-0.0042697969', '-0.0042697969']\n",
      "max error: ['0.0006546711', '0.0312500000', '0.0033335746', '0.0040315618', '0.0040315618']\n",
      "avg error: ['-0.0379005969', '-0.0011553783', '-0.0007874960', '-0.0001806715', '-0.0001986262']\n",
      "rms error: ['0.0535674915', '0.0078038028', '0.0017349175', '0.0012787053', '0.0012741461']\n",
      "\n",
      "gaussian data mu= 0.75 Taylor expansion point= 0.75\n",
      "eff coeff: ['1.0000000000', '1.0000000000', '0.5000000000', '0.1666666667', '0.0416666667']\n",
      "min error: ['-0.4687500000', '-0.0031161634', '-0.0308862794', '-0.0045927530', '-0.0070723402']\n",
      "max error: ['0.0008437737', '0.1283960938', '0.0030050469', '0.0091350963', '0.0074731782']\n",
      "avg error: ['-0.0514127053', '0.0098039052', '-0.0017817594', '0.0002900281', '-0.0000120863']\n",
      "rms error: ['0.1201948300', '0.0287328698', '0.0057019969', '0.0017770897', '0.0016576623']\n",
      "\n",
      "gaussian data mu= 0.75 Taylor expansion point= 1.0\n",
      "eff coeff: ['1.0000000000', '1.0000000000', '0.5000000000', '0.1666666667', '0.0416666667']\n",
      "min error: ['-1.0000000000', '-0.0026293751', '-0.1046783775', '-0.0032642395', '-0.0082565499']\n",
      "max error: ['0.0007751551', '0.3593750000', '0.0036533310', '0.0272295475', '0.0152619928']\n",
      "avg error: ['-0.1505551338', '0.0383597948', '-0.0082375314', '0.0019892862', '0.0003166454']\n",
      "rms error: ['0.2815353572', '0.0899163783', '0.0224573947', '0.0054388689', '0.0024568539']\n",
      "\n"
     ]
    }
   ],
   "source": [
    "point_search(func=\"exp\", uniform=False, fxp=True, intwidth=7, fracwidth=8, \n",
    "             valid=True, rounding_coeff=\"round\", rounding_var=\"round\", keepwidth=True)"
   ]
  },
  {
   "cell_type": "markdown",
   "metadata": {},
   "source": [
    "### flp guassian"
   ]
  },
  {
   "cell_type": "code",
   "execution_count": 4,
   "metadata": {
    "scrolled": true
   },
   "outputs": [
    {
     "data": {
      "image/png": "[encoded data removed]",
      "text/plain": [
       "<Figure size 432x288 with 1 Axes>"
      ]
     },
     "metadata": {
      "needs_background": "light"
     },
     "output_type": "display_data"
    },
    {
     "name": "stdout",
     "output_type": "stream",
     "text": [
      "gaussian data mu= 0.25 Taylor expansion point= 0.0\n",
      "eff coeff: ['1.0000000000', '1.0000000000', '0.5000000000', '0.1666666667', '0.0416666667', '0.0083333333', '0.0013888889', '0.0001984127']\n",
      "min error: ['-0.2642410994', '-0.0803013667', '-0.0189880971', '-0.0036597580', '-0.0005940550', '-0.0000831484', '-0.0000101743', '-0.0000010691']\n",
      "max error: ['0.0000000000', '0.0000000000', '0.0000000000', '0.0000001151', '0.0000001151', '0.0000001151', '0.0000001151', '0.0000001452']\n",
      "avg error: ['-0.0619835369', '-0.0121160550', '-0.0021287506', '-0.0003346681', '-0.0000468945', '-0.0000058655', '-0.0000006613', '-0.0000000714']\n",
      "rms error: ['0.0926468745', '0.0233299769', '0.0049427785', '0.0008813328', '0.0001343987', '0.0000178364', '0.0000020890', '0.0000002210']\n",
      "\n",
      "gaussian data mu= 0.25 Taylor expansion point= 0.25\n",
      "eff coeff: ['1.0000000000', '1.0000000000', '0.5000000000', '0.1666666667', '0.0416666667', '0.0083333333', '0.0013888889', '0.0001984127']\n",
      "min error: ['-0.1733584702', '-0.0405053794', '-0.0072921510', '-0.0010646154', '-0.0001305991', '-0.0000137704', '-0.0000012424', '-0.0000001853']\n",
      "max error: ['0.0000000000', '0.0031448603', '0.0000000921', '0.0000100136', '0.0000001081', '0.0000001527', '0.0000001527', '0.0000001527']\n",
      "avg error: ['-0.0268622879', '-0.0037287078', '-0.0005956804', '-0.0000736521', '-0.0000081324', '-0.0000007741', '-0.0000000616', '-0.0000000011']\n",
      "rms error: ['0.0510547124', '0.0103382757', '0.0016965216', '0.0002300399', '0.0000264687', '0.0000026385', '0.0000002369', '0.0000000609']\n",
      "\n",
      "gaussian data mu= 0.25 Taylor expansion point= 0.5\n",
      "eff coeff: ['1.0000000000', '1.0000000000', '0.5000000000', '0.1666666667', '0.0416666667', '0.0083333333', '0.0013888889', '0.0001984127']\n",
      "min error: ['-0.1756393909', '-0.0143876579', '-0.0038975477', '-0.0001720856', '-0.0000333190', '-0.0000009648', '-0.0000002375', '-0.0000002188']\n",
      "max error: ['0.0000000000', '0.0304508209', '0.0000000000', '0.0003960133', '0.0000000842', '0.0000023842', '0.0000001113', '0.0000001192']\n",
      "avg error: ['-0.0474605225', '0.0039784755', '-0.0005946704', '0.0000312083', '-0.0000035266', '0.0000000990', '-0.0000000441', '-0.0000000347']\n",
      "rms error: ['0.0646507815', '0.0092202267', '0.0010216936', '0.0000926154', '0.0000071168', '0.0000004660', '0.0000000824', '0.0000000726']\n",
      "\n",
      "gaussian data mu= 0.25 Taylor expansion point= 0.75\n",
      "eff coeff: ['1.0000000000', '1.0000000000', '0.5000000000', '0.1666666667', '0.0416666667', '0.0083333333', '0.0013888889', '0.0001984127']\n",
      "min error: ['-0.4707499743', '-0.0021614202', '-0.0241952538', '-0.0000065782', '-0.0004720092', '-0.0000000663', '-0.0000048280', '-0.0000001028']\n",
      "max error: ['0.0000000000', '0.1246563196', '0.0000001139', '0.0037144423', '0.0000001312', '0.0000512600', '0.0000001853', '0.0000004750']\n",
      "avg error: ['-0.1582631320', '0.0310312063', '-0.0047725174', '0.0005986876', '-0.0000639443', '0.0000059998', '-0.0000004544', '0.0000000728']\n",
      "rms error: ['0.2011407763', '0.0443099402', '0.0074734511', '0.0010245979', '0.0001184741', '0.0000118802', '0.0000010281', '0.0000001276']\n",
      "\n",
      "gaussian data mu= 0.25 Taylor expansion point= 1.0\n",
      "eff coeff: ['1.0000000000', '1.0000000000', '0.5000000000', '0.1666666667', '0.0416666667', '0.0083333333', '0.0013888889', '0.0001984127']\n",
      "min error: ['-1.0000000000', '0.0000000000', '-0.0939061642', '-0.0000000919', '-0.0032967329', '-0.0000001148', '-0.0000607371', '-0.0000001990']\n",
      "max error: ['0.0000000000', '0.3591408730', '0.0000000000', '0.0193555355', '0.0000001021', '0.0004786253', '0.0000001171', '0.0000066757']\n",
      "avg error: ['-0.4088493288', '0.1148745194', '-0.0243955757', '0.0041948366', '-0.0006086114', '0.0000765183', '-0.0000085479', '0.0000008110']\n",
      "rms error: ['0.4859116375', '0.1475758851', '0.0338033624', '0.0062478865', '0.0009703428', '0.0001300836', '0.0000153740', '0.0000016071']\n",
      "\n"
     ]
    },
    {
     "data": {
      "image/png": "[encoded data removed]",
      "text/plain": [
       "<Figure size 432x288 with 1 Axes>"
      ]
     },
     "metadata": {
      "needs_background": "light"
     },
     "output_type": "display_data"
    },
    {
     "name": "stdout",
     "output_type": "stream",
     "text": [
      "gaussian data mu= 0.5 Taylor expansion point= 0.0\n",
      "eff coeff: ['1.0000000000', '1.0000000000', '0.5000000000', '0.1666666667', '0.0416666667', '0.0083333333', '0.0013888889', '0.0001984127']\n",
      "min error: ['-0.2642410994', '-0.0803013667', '-0.0189880971', '-0.0036597580', '-0.0005940550', '-0.0000831484', '-0.0000101743', '-0.0000010691']\n",
      "max error: ['0.0000000000', '0.0000000000', '0.0000000000', '0.0000001151', '0.0000001151', '0.0000001151', '0.0000001151', '0.0000001452']\n",
      "avg error: ['-0.0964282602', '-0.0186372381', '-0.0029637213', '-0.0004041426', '-0.0000485165', '-0.0000052195', '-0.0000005125', '-0.0000000510']\n",
      "rms error: ['0.1120389774', '0.0246380121', '0.0045161759', '0.0007120373', '0.0000984684', '0.0000121062', '0.0000013356', '0.0000001439']\n",
      "\n",
      "gaussian data mu= 0.5 Taylor expansion point= 0.25\n",
      "eff coeff: ['1.0000000000', '1.0000000000', '0.5000000000', '0.1666666667', '0.0416666667', '0.0083333333', '0.0013888889', '0.0001984127']\n",
      "min error: ['-0.1733584702', '-0.0405053794', '-0.0072921510', '-0.0010646154', '-0.0001305991', '-0.0000137704', '-0.0000012424', '-0.0000001853']\n",
      "max error: ['0.0000000000', '0.0031448603', '0.0000000921', '0.0000100136', '0.0000001081', '0.0000001527', '0.0000001527', '0.0000001527']\n",
      "avg error: ['-0.0381697863', '-0.0051601320', '-0.0006136718', '-0.0000627438', '-0.0000057338', '-0.0000004638', '-0.0000000303', '0.0000000005']\n",
      "rms error: ['0.0531973615', '0.0089475773', '0.0012700688', '0.0001551713', '0.0000165638', '0.0000015620', '0.0000001413', '0.0000000589']\n",
      "\n",
      "gaussian data mu= 0.5 Taylor expansion point= 0.5\n",
      "eff coeff: ['1.0000000000', '1.0000000000', '0.5000000000', '0.1666666667', '0.0416666667', '0.0083333333', '0.0013888889', '0.0001984127']\n",
      "min error: ['-0.1756393909', '-0.0143876579', '-0.0038975477', '-0.0001720856', '-0.0000333190', '-0.0000009648', '-0.0000002375', '-0.0000002188']\n",
      "max error: ['0.0000000000', '0.0304508209', '0.0000000000', '0.0003960133', '0.0000000842', '0.0000023842', '0.0000001113', '0.0000001192']\n",
      "avg error: ['-0.0197086334', '0.0004863781', '-0.0001716707', '0.0000038404', '-0.0000008771', '-0.0000000199', '-0.0000000391', '-0.0000000375']\n",
      "rms error: ['0.0334374495', '0.0043626744', '0.0004614623', '0.0000407421', '0.0000030832', '0.0000002099', '0.0000000709', '0.0000000690']\n",
      "\n",
      "gaussian data mu= 0.5 Taylor expansion point= 0.75\n",
      "eff coeff: ['1.0000000000', '1.0000000000', '0.5000000000', '0.1666666667', '0.0416666667', '0.0083333333', '0.0013888889', '0.0001984127']\n",
      "min error: ['-0.4707499743', '-0.0021614202', '-0.0241952538', '-0.0000065782', '-0.0004720092', '-0.0000000663', '-0.0000048280', '-0.0000001028']\n",
      "max error: ['0.0000000000', '0.1246563196', '0.0000001139', '0.0037144423', '0.0000001312', '0.0000512600', '0.0000001853', '0.0000004750']\n",
      "avg error: ['-0.0683520436', '0.0108541381', '-0.0014294443', '0.0001595085', '-0.0000155330', '0.0000013968', '-0.0000000616', '0.0000000497']\n",
      "rms error: ['0.1080218628', '0.0215553418', '0.0034287702', '0.0004532615', '0.0000511906', '0.0000050564', '0.0000004369', '0.0000000842']\n",
      "\n",
      "gaussian data mu= 0.5 Taylor expansion point= 1.0\n",
      "eff coeff: ['1.0000000000', '1.0000000000', '0.5000000000', '0.1666666667', '0.0416666667', '0.0083333333', '0.0013888889', '0.0001984127']\n",
      "min error: ['-1.0000000000', '0.0000000000', '-0.0939061642', '-0.0000000919', '-0.0032967329', '-0.0000001148', '-0.0000607371', '-0.0000001990']\n",
      "max error: ['0.0000000000', '0.3591408730', '0.0000000000', '0.0193555355', '0.0000001021', '0.0004786253', '0.0000001171', '0.0000066757']\n",
      "avg error: ['-0.2237084955', '0.0513933562', '-0.0092922738', '0.0014021508', '-0.0001827971', '0.0000210151', '-0.0000022073', '0.0000001682']\n",
      "rms error: ['0.2913002968', '0.0789553896', '0.0167715978', '0.0029441039', '0.0004410472', '0.0000576214', '0.0000066886', '0.0000006901']\n",
      "\n"
     ]
    },
    {
     "data": {
      "image/png": "[encoded data removed]",
      "text/plain": [
       "<Figure size 432x288 with 1 Axes>"
      ]
     },
     "metadata": {
      "needs_background": "light"
     },
     "output_type": "display_data"
    },
    {
     "name": "stdout",
     "output_type": "stream",
     "text": [
      "gaussian data mu= 0.75 Taylor expansion point= 0.0\n",
      "eff coeff: ['1.0000000000', '1.0000000000', '0.5000000000', '0.1666666667', '0.0416666667', '0.0083333333', '0.0013888889', '0.0001984127']\n",
      "min error: ['-0.2642410994', '-0.0803013667', '-0.0189880971', '-0.0036597580', '-0.0005940550', '-0.0000831484', '-0.0000101743', '-0.0000010691']\n",
      "max error: ['0.0000000000', '0.0000000000', '0.0000000000', '0.0000001151', '0.0000001151', '0.0000001151', '0.0000001151', '0.0000001452']\n",
      "avg error: ['-0.1451096982', '-0.0344131216', '-0.0065164976', '-0.0010296367', '-0.0001398696', '-0.0000166820', '-0.0000017711', '-0.0000001656']\n",
      "rms error: ['0.1616465598', '0.0407640487', '0.0082529066', '0.0013966806', '0.0002030457', '0.0000258560', '0.0000029210', '0.0000002958']\n",
      "\n",
      "gaussian data mu= 0.75 Taylor expansion point= 0.25\n",
      "eff coeff: ['1.0000000000', '1.0000000000', '0.5000000000', '0.1666666667', '0.0416666667', '0.0083333333', '0.0013888889', '0.0001984127']\n",
      "min error: ['-0.1733584702', '-0.0405053794', '-0.0072921510', '-0.0010646154', '-0.0001305991', '-0.0000137704', '-0.0000012424', '-0.0000001853']\n",
      "max error: ['0.0000000000', '0.0031448603', '0.0000000921', '0.0000100136', '0.0000001081', '0.0000001527', '0.0000001527', '0.0000001527']\n",
      "avg error: ['-0.0764858276', '-0.0128137926', '-0.0018127483', '-0.0002114296', '-0.0000214446', '-0.0000019013', '-0.0000001423', '-0.0000000036']\n",
      "rms error: ['0.0897500515', '0.0170275904', '0.0026056601', '0.0003335682', '0.0000366601', '0.0000035207', '0.0000003001', '0.0000000628']\n",
      "\n",
      "gaussian data mu= 0.75 Taylor expansion point= 0.5\n",
      "eff coeff: ['1.0000000000', '1.0000000000', '0.5000000000', '0.1666666667', '0.0416666667', '0.0083333333', '0.0013888889', '0.0001984127']\n",
      "min error: ['-0.1756393909', '-0.0143876579', '-0.0038975477', '-0.0001720856', '-0.0000333190', '-0.0000009648', '-0.0000002375', '-0.0000002188']\n",
      "max error: ['0.0000000000', '0.0304508209', '0.0000000000', '0.0003960133', '0.0000000842', '0.0000023842', '0.0000001113', '0.0000001192']\n",
      "avg error: ['-0.0378449075', '-0.0009241860', '-0.0004683429', '-0.0000013727', '-0.0000028342', '-0.0000000211', '-0.0000000445', '-0.0000000374']\n",
      "rms error: ['0.0536082387', '0.0077301376', '0.0008707797', '0.0000801906', '0.0000062483', '0.0000004209', '0.0000000829', '0.0000000753']\n",
      "\n",
      "gaussian data mu= 0.75 Taylor expansion point= 0.75\n",
      "eff coeff: ['1.0000000000', '1.0000000000', '0.5000000000', '0.1666666667', '0.0416666667', '0.0083333333', '0.0013888889', '0.0001984127']\n",
      "min error: ['-0.4707499743', '-0.0021614202', '-0.0241952538', '-0.0000065782', '-0.0004720092', '-0.0000000663', '-0.0000048280', '-0.0000001028']\n",
      "max error: ['0.0000000000', '0.1246563196', '0.0000001139', '0.0037144423', '0.0000001312', '0.0000512600', '0.0000001853', '0.0000004750']\n",
      "avg error: ['-0.0517537408', '0.0098790498', '-0.0016698296', '0.0002261280', '-0.0000260542', '0.0000026456', '-0.0000001817', '0.0000000634']\n",
      "rms error: ['0.1206738949', '0.0287238006', '0.0051537640', '0.0007411261', '0.0000889681', '0.0000091880', '0.0000008188', '0.0000001056']\n",
      "\n",
      "gaussian data mu= 0.75 Taylor expansion point= 1.0\n",
      "eff coeff: ['1.0000000000', '1.0000000000', '0.5000000000', '0.1666666667', '0.0416666667', '0.0083333333', '0.0013888889', '0.0001984127']\n",
      "min error: ['-1.0000000000', '0.0000000000', '-0.0939061642', '-0.0000000919', '-0.0032967329', '-0.0000001148', '-0.0000607371', '-0.0000001990']\n",
      "max error: ['0.0000000000', '0.3591408730', '0.0000000000', '0.0193555355', '0.0000001021', '0.0004786253', '0.0000001171', '0.0000066757']\n",
      "avg error: ['-0.1511815637', '0.0384114198', '-0.0080883997', '0.0014368802', '-0.0002189424', '0.0000290310', '-0.0000034329', '0.0000003309']\n",
      "rms error: ['0.2824195623', '0.0899761915', '0.0217515621', '0.0042154933', '0.0006812708', '0.0000944245', '0.0000114699', '0.0000012347']\n",
      "\n"
     ]
    }
   ],
   "source": [
    "point_search(func=\"exp\", uniform=False, fxp=False, intwidth=7, fracwidth=8, \n",
    "             valid=True, rounding_coeff=\"round\", rounding_var=\"round\", keepwidth=True)"
   ]
  },
  {
   "cell_type": "markdown",
   "metadata": {},
   "source": [
    "### fxp uniform"
   ]
  },
  {
   "cell_type": "code",
   "execution_count": 5,
   "metadata": {
    "scrolled": true
   },
   "outputs": [
    {
     "data": {
      "image/png": "[encoded data removed]",
      "text/plain": [
       "<Figure size 432x288 with 1 Axes>"
      ]
     },
     "metadata": {
      "needs_background": "light"
     },
     "output_type": "display_data"
    },
    {
     "name": "stdout",
     "output_type": "stream",
     "text": [
      "gaussian data mu= 0.5 Taylor expansion point= 0.0\n",
      "eff coeff: ['1.0000000000', '1.0000000000', '0.5000000000', '0.1666666667', '0.0416666667']\n",
      "min error: ['-0.2642410994', '-0.0803013667', '-0.0191092025', '-0.0045126127', '-0.0021743155']\n",
      "max error: ['0.0000000000', '0.0015456392', '0.0017781437', '0.0018073127', '0.0022234549']\n",
      "avg error: ['-0.1036196500', '-0.0233613625', '-0.0042648879', '-0.0005826807', '-0.0001604343']\n",
      "rms error: ['0.1320160627', '0.0333850831', '0.0067674648', '0.0013164879', '0.0009079226']\n",
      "\n",
      "gaussian data mu= 0.5 Taylor expansion point= 0.25\n",
      "eff coeff: ['1.0000000000', '1.0000000000', '0.5000000000', '0.1666666667']\n",
      "min error: ['-0.1722712368', '-0.0400645547', '-0.0070128846', '-0.0025743698']\n",
      "max error: ['0.0021473581', '0.0077213040', '0.0043279962', '0.0045673698']\n",
      "avg error: ['-0.0511163734', '-0.0075212610', '-0.0003564870', '0.0007680327']\n",
      "rms error: ['0.0728537589', '0.0138713447', '0.0021828080', '0.0014641309']\n",
      "\n",
      "gaussian data mu= 0.5 Taylor expansion point= 0.5\n",
      "eff coeff: ['1.0000000000', '1.0000000000', '0.5000000000', '0.1666666667']\n",
      "min error: ['-0.1757812500', '-0.0142094698', '-0.0083810370', '-0.0042697969']\n",
      "max error: ['0.0006546711', '0.0312500000', '0.0033335746', '0.0040315618']\n",
      "avg error: ['-0.0434206240', '0.0013496452', '-0.0008976231', '-0.0001261025']\n",
      "rms error: ['0.0607354492', '0.0088131400', '0.0020159290', '0.0014909451']\n",
      "\n",
      "gaussian data mu= 0.5 Taylor expansion point= 0.75\n",
      "eff coeff: ['1.0000000000', '1.0000000000', '0.5000000000', '0.1666666667', '0.0416666667']\n",
      "min error: ['-0.4687500000', '-0.0031161634', '-0.0308862794', '-0.0045927530', '-0.0070723402']\n",
      "max error: ['0.0008437737', '0.1283960938', '0.0030050469', '0.0091350963', '0.0074731782']\n",
      "avg error: ['-0.1060112119', '0.0207511187', '-0.0035608872', '0.0006520032', '0.0000857508']\n",
      "rms error: ['0.1680517346', '0.0381790660', '0.0073673860', '0.0022270905', '0.0020392134']\n",
      "\n",
      "gaussian data mu= 0.5 Taylor expansion point= 1.0\n",
      "eff coeff: ['1.0000000000', '1.0000000000', '0.5000000000', '0.1666666667', '0.0416666667']\n",
      "min error: ['-1.0000000000', '-0.0026293751', '-0.1046783775', '-0.0032642395', '-0.0082565499']\n",
      "max error: ['0.0007751551', '0.3593750000', '0.0036533310', '0.0272295475', '0.0152619928']\n",
      "avg error: ['-0.2816791534', '0.0776283816', '-0.0170833487', '0.0036377178', '0.0002030129']\n",
      "rms error: ['0.4010018110', '0.1243923083', '0.0300504398', '0.0070640286', '0.0030401729']\n",
      "\n"
     ]
    }
   ],
   "source": [
    "point_search(func=\"exp\", uniform=True, fxp=True, intwidth=7, fracwidth=8, \n",
    "             valid=True, rounding_coeff=\"round\", rounding_var=\"round\", keepwidth=True)"
   ]
  },
  {
   "cell_type": "markdown",
   "metadata": {},
   "source": [
    "### flp uniform"
   ]
  },
  {
   "cell_type": "code",
   "execution_count": 6,
   "metadata": {
    "scrolled": true
   },
   "outputs": [
    {
     "data": {
      "image/png": "[encoded data removed]",
      "text/plain": [
       "<Figure size 432x288 with 1 Axes>"
      ]
     },
     "metadata": {
      "needs_background": "light"
     },
     "output_type": "display_data"
    },
    {
     "name": "stdout",
     "output_type": "stream",
     "text": [
      "gaussian data mu= 0.5 Taylor expansion point= 0.0\n",
      "eff coeff: ['1.0000000000', '1.0000000000', '0.5000000000', '0.1666666667', '0.0416666667', '0.0083333333', '0.0013888889', '0.0001984127']\n",
      "min error: ['-0.2642410994', '-0.0803013667', '-0.0189880971', '-0.0036597580', '-0.0005940550', '-0.0000831484', '-0.0000101743', '-0.0000010691']\n",
      "max error: ['0.0000000000', '0.0000000000', '0.0000000000', '0.0000001151', '0.0000001151', '0.0000001151', '0.0000001151', '0.0000001452']\n",
      "avg error: ['-0.1033727899', '-0.0232466795', '-0.0043269438', '-0.0006847144', '-0.0000940584', '-0.0000113994', '-0.0000012348', '-0.0000001209']\n",
      "rms error: ['0.1317452639', '0.0332989767', '0.0068455064', '0.0011797454', '0.0001745602', '0.0000225895', '0.0000025901', '0.0000002670']\n",
      "\n",
      "gaussian data mu= 0.5 Taylor expansion point= 0.25\n",
      "eff coeff: ['1.0000000000', '1.0000000000', '0.5000000000', '0.1666666667', '0.0416666667', '0.0083333333', '0.0013888889', '0.0001984127']\n",
      "min error: ['-0.1733584702', '-0.0405053794', '-0.0072921510', '-0.0010646154', '-0.0001305991', '-0.0000137704', '-0.0000012424', '-0.0000001853']\n",
      "max error: ['0.0000000000', '0.0031448603', '0.0000000921', '0.0000100136', '0.0000001081', '0.0000001527', '0.0000001527', '0.0000001527']\n",
      "avg error: ['-0.0517370030', '-0.0082683219', '-0.0012115064', '-0.0001441207', '-0.0000150401', '-0.0000013677', '-0.0000001050', '-0.0000000025']\n",
      "rms error: ['0.0731819347', '0.0141902706', '0.0022262912', '0.0002913887', '0.0000326325', '0.0000031846', '0.0000002774', '0.0000000622']\n",
      "\n",
      "gaussian data mu= 0.5 Taylor expansion point= 0.5\n",
      "eff coeff: ['1.0000000000', '1.0000000000', '0.5000000000', '0.1666666667', '0.0416666667', '0.0083333333', '0.0013888889', '0.0001984127']\n",
      "min error: ['-0.1756393909', '-0.0143876579', '-0.0038975477', '-0.0001720856', '-0.0000333190', '-0.0000009648', '-0.0000002375', '-0.0000002188']\n",
      "max error: ['0.0000000000', '0.0304508209', '0.0000000000', '0.0003960133', '0.0000000842', '0.0000023842', '0.0000001113', '0.0000001192']\n",
      "avg error: ['-0.0431008674', '0.0015970111', '-0.0005481592', '0.0000157969', '-0.0000033240', '0.0000000439', '-0.0000000449', '-0.0000000359']\n",
      "rms error: ['0.0603767745', '0.0087098377', '0.0009761343', '0.0000893475', '0.0000069206', '0.0000004590', '0.0000000831', '0.0000000737']\n",
      "\n",
      "gaussian data mu= 0.5 Taylor expansion point= 0.75\n",
      "eff coeff: ['1.0000000000', '1.0000000000', '0.5000000000', '0.1666666667', '0.0416666667', '0.0083333333', '0.0013888889', '0.0001984127']\n",
      "min error: ['-0.4707499743', '-0.0021614202', '-0.0241952538', '-0.0000065782', '-0.0004720092', '-0.0000000663', '-0.0000048280', '-0.0000001028']\n",
      "max error: ['0.0000000000', '0.1246563196', '0.0000001139', '0.0037144423', '0.0000001312', '0.0000512600', '0.0000001853', '0.0000004750']\n",
      "avg error: ['-0.1060555056', '0.0207477082', '-0.0032878802', '0.0004234913', '-0.0000464770', '0.0000044861', '-0.0000003333', '0.0000000697']\n",
      "rms error: ['0.1677522957', '0.0379895419', '0.0065621147', '0.0009173796', '0.0001077803', '0.0000109481', '0.0000009596', '0.0000001195']\n",
      "\n",
      "gaussian data mu= 0.5 Taylor expansion point= 1.0\n",
      "eff coeff: ['1.0000000000', '1.0000000000', '0.5000000000', '0.1666666667', '0.0416666667', '0.0083333333', '0.0013888889', '0.0001984127']\n",
      "min error: ['-1.0000000000', '0.0000000000', '-0.0939061642', '-0.0000000919', '-0.0032967329', '-0.0000001148', '-0.0000607371', '-0.0000001990']\n",
      "max error: ['0.0000000000', '0.3591408730', '0.0000000000', '0.0193555355', '0.0000001021', '0.0004786253', '0.0000001171', '0.0000066757']\n",
      "avg error: ['-0.2819657028', '0.0774305835', '-0.0164698642', '0.0028671406', '-0.0004231265', '0.0000541993', '-0.0000061767', '0.0000005922']\n",
      "rms error: ['0.4006087184', '0.1237496361', '0.0289008860', '0.0054387129', '0.0008581461', '0.0001166358', '0.0000139459', '0.0000014766']\n",
      "\n"
     ]
    }
   ],
   "source": [
    "point_search(func=\"exp\", uniform=True, fxp=False, intwidth=7, fracwidth=8, \n",
    "             valid=True, rounding_coeff=\"round\", rounding_var=\"round\", keepwidth=True)"
   ]
  },
  {
   "cell_type": "markdown",
   "metadata": {},
   "source": [
    "## test div"
   ]
  },
  {
   "cell_type": "markdown",
   "metadata": {},
   "source": [
    "### fxp guassian"
   ]
  },
  {
   "cell_type": "code",
   "execution_count": 7,
   "metadata": {
    "scrolled": true
   },
   "outputs": [
    {
     "data": {
      "image/png": "[encoded data removed]",
      "text/plain": [
       "<Figure size 432x288 with 1 Axes>"
      ]
     },
     "metadata": {
      "needs_background": "light"
     },
     "output_type": "display_data"
    },
    {
     "name": "stdout",
     "output_type": "stream",
     "text": [
      "gaussian data mu= 0.625 Taylor expansion point= 1.0\n",
      "eff coeff: ['1.0000000000', '1.0000000000', '1.0000000000', '1.0000000000', '1.0000000000', '1.0000000000', '1.0000000000', '1.0000000000']\n",
      "min error: ['-0.2500000000', '-0.1250000000', '-0.0625000000', '-0.0312500000', '-0.0156250000', '-0.0078125000', '-0.0039062500', '-0.0019531697']\n",
      "max error: ['0.0000000000', '0.0015259349', '0.0015259349', '0.0015259349', '0.0015259349', '0.0015259349', '0.0015259349', '0.0015259349']\n",
      "avg error: ['-0.1191102564', '-0.0462520793', '-0.0185845587', '-0.0077433959', '-0.0033038037', '-0.0014891771', '-0.0008818785', '-0.0006834849']\n",
      "rms error: ['0.1365296841', '0.0569820814', '0.0246529207', '0.0109920427', '0.0050138035', '0.0023162970', '0.0013293445', '0.0010387274']\n",
      "\n"
     ]
    },
    {
     "data": {
      "image/png": "[encoded data removed]",
      "text/plain": [
       "<Figure size 432x288 with 1 Axes>"
      ]
     },
     "metadata": {
      "needs_background": "light"
     },
     "output_type": "display_data"
    },
    {
     "name": "stdout",
     "output_type": "stream",
     "text": [
      "gaussian data mu= 0.75 Taylor expansion point= 1.0\n",
      "eff coeff: ['1.0000000000', '1.0000000000', '1.0000000000', '1.0000000000', '1.0000000000', '1.0000000000', '1.0000000000', '1.0000000000']\n",
      "min error: ['-0.2500000000', '-0.1250000000', '-0.0625000000', '-0.0312500000', '-0.0156250000', '-0.0078125000', '-0.0039062500', '-0.0019531697']\n",
      "max error: ['0.0000000000', '0.0015259349', '0.0015259349', '0.0015259349', '0.0015259349', '0.0015259349', '0.0015259349', '0.0015259349']\n",
      "avg error: ['-0.0720321015', '-0.0226015057', '-0.0076884916', '-0.0028315708', '-0.0011862849', '-0.0006768989', '-0.0005481048', '-0.0005137061']\n",
      "rms error: ['0.0879345238', '0.0321872160', '0.0127318623', '0.0054064542', '0.0024632916', '0.0013369896', '0.0010496849', '0.0009913775']\n",
      "\n"
     ]
    },
    {
     "data": {
      "image/png": "[encoded data removed]",
      "text/plain": [
       "<Figure size 432x288 with 1 Axes>"
      ]
     },
     "metadata": {
      "needs_background": "light"
     },
     "output_type": "display_data"
    },
    {
     "name": "stdout",
     "output_type": "stream",
     "text": [
      "gaussian data mu= 0.875 Taylor expansion point= 1.0\n",
      "eff coeff: ['1.0000000000', '1.0000000000', '1.0000000000', '1.0000000000', '1.0000000000', '1.0000000000', '1.0000000000', '1.0000000000']\n",
      "min error: ['-0.2500000000', '-0.1250000000', '-0.0625000000', '-0.0312500000', '-0.0156250000', '-0.0078125000', '-0.0039062500', '-0.0019531697']\n",
      "max error: ['0.0000000000', '0.0015259349', '0.0015259349', '0.0015259349', '0.0015259349', '0.0015259349', '0.0015259349', '0.0015259349']\n",
      "avg error: ['-0.0471193194', '-0.0157288462', '-0.0062297620', '-0.0027750323', '-0.0014084885', '-0.0008215915', '-0.0005717851', '-0.0004571026']\n",
      "rms error: ['0.0782048926', '0.0336207896', '0.0153729971', '0.0072255977', '0.0035051510', '0.0018296321', '0.0012121374', '0.0010372235']\n",
      "\n"
     ]
    }
   ],
   "source": [
    "point_search(func=\"div\", uniform=False, fxp=True, intwidth=7, fracwidth=8, \n",
    "             valid=True, rounding_coeff=\"round\", rounding_var=\"round\", keepwidth=True)"
   ]
  },
  {
   "cell_type": "markdown",
   "metadata": {},
   "source": [
    "### flp guassian"
   ]
  },
  {
   "cell_type": "code",
   "execution_count": 8,
   "metadata": {
    "scrolled": true
   },
   "outputs": [
    {
     "data": {
      "image/png": "[encoded data removed]",
      "text/plain": [
       "<Figure size 432x288 with 1 Axes>"
      ]
     },
     "metadata": {
      "needs_background": "light"
     },
     "output_type": "display_data"
    },
    {
     "name": "stdout",
     "output_type": "stream",
     "text": [
      "gaussian data mu= 0.625 Taylor expansion point= 1.0\n",
      "eff coeff: ['1.0000000000', '1.0000000000', '1.0000000000', '1.0000000000', '1.0000000000', '1.0000000000', '1.0000000000', '1.0000000000']\n",
      "min error: ['-0.2500000000', '-0.1250000000', '-0.0625000000', '-0.0312500000', '-0.0156250000', '-0.0078125000', '-0.0039062500', '-0.0019531250']\n",
      "max error: ['0.0000000000', '0.0000000000', '0.0000000000', '0.0000001159', '0.0000001159', '0.0000001159', '0.0000001159', '0.0000001159']\n",
      "avg error: ['-0.1194003224', '-0.0464976802', '-0.0187276918', '-0.0077421991', '-0.0032690628', '-0.0014046971', '-0.0006125136', '-0.0002704307']\n",
      "rms error: ['0.1368489861', '0.0571757630', '0.0247490332', '0.0109852748', '0.0049670413', '0.0022776183', '0.0010558589', '0.0004937400']\n",
      "\n"
     ]
    },
    {
     "data": {
      "image/png": "[encoded data removed]",
      "text/plain": [
       "<Figure size 432x288 with 1 Axes>"
      ]
     },
     "metadata": {
      "needs_background": "light"
     },
     "output_type": "display_data"
    },
    {
     "name": "stdout",
     "output_type": "stream",
     "text": [
      "gaussian data mu= 0.75 Taylor expansion point= 1.0\n",
      "eff coeff: ['1.0000000000', '1.0000000000', '1.0000000000', '1.0000000000', '1.0000000000', '1.0000000000', '1.0000000000', '1.0000000000']\n",
      "min error: ['-0.2500000000', '-0.1250000000', '-0.0625000000', '-0.0312500000', '-0.0156250000', '-0.0078125000', '-0.0039062500', '-0.0019531250']\n",
      "max error: ['0.0000000000', '0.0000000000', '0.0000000000', '0.0000001159', '0.0000001159', '0.0000001159', '0.0000001159', '0.0000001159']\n",
      "avg error: ['-0.0719331354', '-0.0227429755', '-0.0077122585', '-0.0027642713', '-0.0010363333', '-0.0004031587', '-0.0001617180', '-0.0000665558']\n",
      "rms error: ['0.0878194571', '0.0321921743', '0.0127169704', '0.0052903844', '0.0022831727', '0.0010119169', '0.0004574028', '0.0002098504']\n",
      "\n"
     ]
    },
    {
     "data": {
      "image/png": "[encoded data removed]",
      "text/plain": [
       "<Figure size 432x288 with 1 Axes>"
      ]
     },
     "metadata": {
      "needs_background": "light"
     },
     "output_type": "display_data"
    },
    {
     "name": "stdout",
     "output_type": "stream",
     "text": [
      "gaussian data mu= 0.875 Taylor expansion point= 1.0\n",
      "eff coeff: ['1.0000000000', '1.0000000000', '1.0000000000', '1.0000000000', '1.0000000000', '1.0000000000', '1.0000000000', '1.0000000000']\n",
      "min error: ['-0.2500000000', '-0.1250000000', '-0.0625000000', '-0.0312500000', '-0.0156250000', '-0.0078125000', '-0.0039062500', '-0.0019531250']\n",
      "max error: ['0.0000000000', '0.0000000000', '0.0000000000', '0.0000001159', '0.0000001159', '0.0000001159', '0.0000001159', '0.0000001159']\n",
      "avg error: ['-0.0470340475', '-0.0157799032', '-0.0061059226', '-0.0025636093', '-0.0011275512', '-0.0005096517', '-0.0002342786', '-0.0001088996']\n",
      "rms error: ['0.0781404227', '0.0335790031', '0.0153060239', '0.0071419142', '0.0033720320', '0.0016037261', '0.0007666624', '0.0003679601']\n",
      "\n"
     ]
    }
   ],
   "source": [
    "point_search(func=\"div\", uniform=False, fxp=False, intwidth=7, fracwidth=8, \n",
    "             valid=True, rounding_coeff=\"round\", rounding_var=\"round\", keepwidth=True)"
   ]
  },
  {
   "cell_type": "markdown",
   "metadata": {},
   "source": [
    "### fxp uniform"
   ]
  },
  {
   "cell_type": "code",
   "execution_count": 9,
   "metadata": {
    "scrolled": true
   },
   "outputs": [
    {
     "data": {
      "image/png": "[encoded data removed]",
      "text/plain": [
       "<Figure size 432x288 with 1 Axes>"
      ]
     },
     "metadata": {
      "needs_background": "light"
     },
     "output_type": "display_data"
    },
    {
     "name": "stdout",
     "output_type": "stream",
     "text": [
      "gaussian data mu= 0.5 Taylor expansion point= 1.0\n",
      "eff coeff: ['1.0000000000', '1.0000000000', '1.0000000000', '1.0000000000', '1.0000000000', '1.0000000000', '1.0000000000', '1.0000000000']\n",
      "min error: ['-0.2500000000', '-0.1250000000', '-0.0625000000', '-0.0312500000', '-0.0156250000', '-0.0078125000', '-0.0039062500', '-0.0019531697']\n",
      "max error: ['0.0000000000', '0.0015259349', '0.0015259349', '0.0015259349', '0.0015259349', '0.0015259349', '0.0015259349', '0.0015259349']\n",
      "avg error: ['-0.0832996219', '-0.0311852340', '-0.0125479130', '-0.0053362194', '-0.0024032812', '-0.0011781212', '-0.0007370152', '-0.0005715907']\n",
      "rms error: ['0.1118638813', '0.0472900830', '0.0208818652', '0.0094909770', '0.0044255573', '0.0021287710', '0.0012856157', '0.0010388211']\n",
      "\n"
     ]
    }
   ],
   "source": [
    "point_search(func=\"div\", uniform=True, fxp=True, intwidth=7, fracwidth=8, \n",
    "             valid=True, rounding_coeff=\"round\", rounding_var=\"round\", keepwidth=True)"
   ]
  },
  {
   "cell_type": "markdown",
   "metadata": {},
   "source": [
    "### flp uniform"
   ]
  },
  {
   "cell_type": "code",
   "execution_count": 10,
   "metadata": {
    "scrolled": true
   },
   "outputs": [
    {
     "data": {
      "image/png": "[encoded data removed]",
      "text/plain": [
       "<Figure size 432x288 with 1 Axes>"
      ]
     },
     "metadata": {
      "needs_background": "light"
     },
     "output_type": "display_data"
    },
    {
     "name": "stdout",
     "output_type": "stream",
     "text": [
      "gaussian data mu= 0.5 Taylor expansion point= 1.0\n",
      "eff coeff: ['1.0000000000', '1.0000000000', '1.0000000000', '1.0000000000', '1.0000000000', '1.0000000000', '1.0000000000', '1.0000000000']\n",
      "min error: ['-0.2500000000', '-0.1250000000', '-0.0625000000', '-0.0312500000', '-0.0156250000', '-0.0078125000', '-0.0039062500', '-0.0019531250']\n",
      "max error: ['0.0000000000', '0.0000000000', '0.0000000000', '0.0000001159', '0.0000001159', '0.0000001159', '0.0000001159', '0.0000001159']\n",
      "avg error: ['-0.0836428031', '-0.0313854329', '-0.0125567000', '-0.0052320203', '-0.0022422026', '-0.0009809281', '-0.0004359661', '-0.0001961936']\n",
      "rms error: ['0.1120565832', '0.0473519303', '0.0208797473', '0.0094437664', '0.0043441225', '0.0020225137', '0.0009501682', '0.0004495271']\n",
      "\n"
     ]
    }
   ],
   "source": [
    "point_search(func=\"div\", uniform=True, fxp=False, intwidth=7, fracwidth=8, \n",
    "             valid=True, rounding_coeff=\"round\", rounding_var=\"round\", keepwidth=True)"
   ]
  },
  {
   "cell_type": "markdown",
   "metadata": {},
   "source": [
    "## test log"
   ]
  },
  {
   "cell_type": "markdown",
   "metadata": {},
   "source": [
    "### fxp guassian"
   ]
  },
  {
   "cell_type": "code",
   "execution_count": 11,
   "metadata": {},
   "outputs": [
    {
     "data": {
      "image/png": "[encoded data removed]",
      "text/plain": [
       "<Figure size 432x288 with 1 Axes>"
      ]
     },
     "metadata": {
      "needs_background": "light"
     },
     "output_type": "display_data"
    },
    {
     "name": "stdout",
     "output_type": "stream",
     "text": [
      "gaussian data mu= 0.625 Taylor expansion point= 0.5\n",
      "eff coeff: ['0.6931471806', '2.0000000000', '2.0000000000', '2.6666666667', '4.0000000000', '6.4000000000', '10.6666666667', '18.2857142857']\n",
      "min error: ['-77.8495101929', '-0.0027473923', '-34.9335479736', '-0.0033870686', '-21.9589576721', '-0.0049951603', '-15.9706840515', '-0.0064094882']\n",
      "max error: ['-0.0025116347', '47.9042358398', '0.0032875452', '26.9452762604', '0.0037608473', '17.9628658295', '0.0046279477', '13.9706840515']\n",
      "avg error: ['-1.7061320543', '0.9901136160', '-0.6854585409', '0.5143558383', '-0.4054985046', '0.3293458521', '-0.2862665653', '0.2418046892']\n",
      "rms error: ['7.9940276146', '4.8997216225', '3.5405747890', '2.7217690945', '2.2011849880', '1.8019592762', '1.5954415798', '1.3816490173']\n",
      "\n",
      "gaussian data mu= 0.625 Taylor expansion point= 0.625\n",
      "eff coeff: ['0.4700036292', '1.6000000000', '1.2800000000', '1.3653333333', '1.6384000000', '2.0971520000', '2.7962026667']\n",
      "min error: ['-32.9374580383', '-0.0049756025', '-4.9921822548', '-0.0071597705', '-1.0000000000', '-0.0236250553', '-0.0295916833']\n",
      "max error: ['0.0037608473', '11.9745931625', '0.0054189702', '1.9941366911', '0.0116302520', '0.9960911274', '0.0289397147']\n",
      "avg error: ['-0.6762385964', '0.2369728684', '-0.0983933881', '0.0402449816', '-0.0198228564', '0.0137781249', '-0.0007504725']\n",
      "rms error: ['3.3582696915', '1.2256424427', '0.5126141310', '0.2055539340', '0.1039541438', '0.0924114659', '0.0058045574']\n",
      "\n",
      "gaussian data mu= 0.625 Taylor expansion point= 0.75\n",
      "eff coeff: ['0.2876820725', '1.3333333333', '0.8888888889', '0.7901234568']\n",
      "min error: ['-10.9804553986', '-0.0253824908', '-1.0000000000', '-0.0295916833']\n",
      "max error: ['0.0047984002', '2.9921822548', '0.0130670872', '0.0289397147']\n",
      "avg error: ['-0.2455820292', '0.0424094722', '-0.0151600167', '-0.0012807265']\n",
      "rms error: ['1.1247490644', '0.2791011035', '0.0984082744', '0.0058072531']\n",
      "\n",
      "gaussian data mu= 0.625 Taylor expansion point= 0.875\n",
      "eff coeff: ['0.1335313926', '1.1428571429', '0.6530612245', '0.4975704568', '0.4264889629', '0.3899327661', '0.3713645392']\n",
      "min error: ['-1.9980456829', '-0.0588669106', '-0.0315861516', '-0.0315861516', '-0.0315861516', '-0.0315861516', '-0.0315861516']\n",
      "max error: ['0.0117039112', '0.0351022035', '0.0232646391', '0.0232646391', '0.0232646391', '0.0232646391', '0.0232646391']\n",
      "avg error: ['-0.1260331422', '-0.0200846139', '-0.0060769627', '-0.0027100663', '-0.0018021035', '-0.0014739218', '-0.0011776548']\n",
      "rms error: ['0.2298232168', '0.0256719738', '0.0092244176', '0.0062429309', '0.0058995117', '0.0058908034', '0.0058763726']\n",
      "\n",
      "gaussian data mu= 0.625 Taylor expansion point= 1.0\n",
      "eff coeff: ['0.0000000000', '1.0000000000', '0.5000000000', '0.3333333333', '0.2500000000', '0.2000000000', '0.1666666667', '0.1428571429']\n",
      "min error: ['-0.2786524892', '-0.0983156040', '-0.0419603288', '-0.0315861516', '-0.0315861516', '-0.0315861516', '-0.0315861516', '-0.0315861516']\n",
      "max error: ['-0.0019544237', '0.0232646391', '0.0232646391', '0.0232646391', '0.0232646391', '0.0232646391', '0.0232646391', '0.0232646391']\n",
      "avg error: ['-0.1746851206', '-0.0462499596', '-0.0146019254', '-0.0056943921', '-0.0025795593', '-0.0017544721', '-0.0014371477', '-0.0010960143']\n",
      "rms error: ['0.1879494637', '0.0527731664', '0.0179198515', '0.0085999053', '0.0062748971', '0.0059365304', '0.0058733849', '0.0058553186']\n",
      "\n"
     ]
    },
    {
     "data": {
      "image/png": "[encoded data removed]",
      "text/plain": [
       "<Figure size 432x288 with 1 Axes>"
      ]
     },
     "metadata": {
      "needs_background": "light"
     },
     "output_type": "display_data"
    },
    {
     "name": "stdout",
     "output_type": "stream",
     "text": [
      "gaussian data mu= 0.75 Taylor expansion point= 0.5\n",
      "eff coeff: ['0.6931471806', '2.0000000000', '2.0000000000', '2.6666666667', '4.0000000000', '6.4000000000', '10.6666666667', '18.2857142857']\n",
      "min error: ['-77.8495101929', '-0.0027473923', '-34.9335479736', '-0.0033870686', '-21.9589576721', '-0.0049951603', '-15.9706840515', '-0.0064094882']\n",
      "max error: ['-0.0025116347', '47.9042358398', '0.0032875452', '26.9452762604', '0.0037608473', '17.9628658295', '0.0046279477', '13.9706840515']\n",
      "avg error: ['-0.8847008348', '0.4382885098', '-0.2658162713', '0.1799171418', '-0.1303616464', '0.0994462073', '-0.0820107162', '0.0663076043']\n",
      "rms error: ['3.6937348843', '2.2413816452', '1.6067482233', '1.2295347452', '0.9905972481', '0.8099200130', '0.7152118683', '0.6177449226']\n",
      "\n",
      "gaussian data mu= 0.75 Taylor expansion point= 0.625\n",
      "eff coeff: ['0.4700036292', '1.6000000000', '1.2800000000', '1.3653333333', '1.6384000000', '2.0971520000', '2.7962026667']\n",
      "min error: ['-32.9374580383', '-0.0049756025', '-4.9921822548', '-0.0071597705', '-1.0000000000', '-0.0236250553', '-0.0295916833']\n",
      "max error: ['0.0037608473', '11.9745931625', '0.0054189702', '1.9941366911', '0.0116302520', '0.9960911274', '0.0289397147']\n",
      "avg error: ['-0.2970781922', '0.0881416500', '-0.0325688384', '0.0131145511', '-0.0057412158', '0.0040556220', '-0.0001959691']\n",
      "rms error: ['1.5368808508', '0.5563098192', '0.2320327163', '0.0936425030', '0.0474027209', '0.0421662256', '0.0062645562']\n",
      "\n",
      "gaussian data mu= 0.75 Taylor expansion point= 0.75\n",
      "eff coeff: ['0.2876820725', '1.3333333333', '0.8888888889', '0.7901234568']\n",
      "min error: ['-10.9804553986', '-0.0253824908', '-1.0000000000', '-0.0295916833']\n",
      "max error: ['0.0047984002', '2.9921822548', '0.0130670872', '0.0289397147']\n",
      "avg error: ['-0.0827554017', '0.0126371728', '-0.0041207881', '-0.0005521859']\n",
      "rms error: ['0.5095049143', '0.1254838258', '0.0437491164', '0.0062062186']\n",
      "\n",
      "gaussian data mu= 0.75 Taylor expansion point= 0.875\n",
      "eff coeff: ['0.1335313926', '1.1428571429', '0.6530612245', '0.4975704568', '0.4264889629', '0.3899327661', '0.3713645392']\n",
      "min error: ['-1.9980456829', '-0.0588669106', '-0.0315861516', '-0.0315861516', '-0.0315861516', '-0.0315861516', '-0.0315861516']\n",
      "max error: ['0.0117039112', '0.0351022035', '0.0232646391', '0.0232646391', '0.0232646391', '0.0232646391', '0.0232646391']\n",
      "avg error: ['-0.0575628430', '-0.0085478434', '-0.0025634433', '-0.0015719206', '-0.0012101700', '-0.0011304143', '-0.0010223597']\n",
      "rms error: ['0.1124238372', '0.0148600480', '0.0071672746', '0.0063480074', '0.0062677516', '0.0062677758', '0.0062606814']\n",
      "\n",
      "gaussian data mu= 0.75 Taylor expansion point= 1.0\n",
      "eff coeff: ['0.0000000000', '1.0000000000', '0.5000000000', '0.3333333333', '0.2500000000', '0.2000000000', '0.1666666667', '0.1428571429']\n",
      "min error: ['-0.2786524892', '-0.0983156040', '-0.0419603288', '-0.0315861516', '-0.0315861516', '-0.0315861516', '-0.0315861516', '-0.0315861516']\n",
      "max error: ['-0.0019544237', '0.0232646391', '0.0232646391', '0.0232646391', '0.0232646391', '0.0232646391', '0.0232646391', '0.0232646391']\n",
      "avg error: ['-0.1331250221', '-0.0271511991', '-0.0073801763', '-0.0024604090', '-0.0011017908', '-0.0008706910', '-0.0006525224', '-0.0005765941']\n",
      "rms error: ['0.1438395530', '0.0337928459', '0.0114166923', '0.0071003828', '0.0063902363', '0.0063136523', '0.0062911147', '0.0062874365']\n",
      "\n"
     ]
    },
    {
     "data": {
      "image/png": "[encoded data removed]",
      "text/plain": [
       "<Figure size 432x288 with 1 Axes>"
      ]
     },
     "metadata": {
      "needs_background": "light"
     },
     "output_type": "display_data"
    },
    {
     "name": "stdout",
     "output_type": "stream",
     "text": [
      "gaussian data mu= 0.875 Taylor expansion point= 0.5\n",
      "eff coeff: ['0.6931471806', '2.0000000000', '2.0000000000', '2.6666666667', '4.0000000000', '6.4000000000', '10.6666666667', '18.2857142857']\n",
      "min error: ['-77.8495101929', '-0.0027473923', '-34.9335479736', '-0.0033870686', '-21.9589576721', '-0.0049951603', '-15.9706840515', '-0.0064094882']\n",
      "max error: ['-0.0025116347', '47.9042358398', '0.0032875452', '26.9452762604', '0.0037608473', '17.9628658295', '0.0046279477', '13.9706840515']\n",
      "avg error: ['-3.0127961636', '1.6995470524', '-1.1316251755', '0.8184175491', '-0.6252855659', '0.4952987134', '-0.4192756116', '0.3466862440']\n",
      "rms error: ['8.6092205048', '5.2505021095', '3.7726936340', '2.8909420967', '2.3300895691', '1.9060043097', '1.6834475994', '1.4531118870']\n",
      "\n",
      "gaussian data mu= 0.875 Taylor expansion point= 0.625\n",
      "eff coeff: ['0.4700036292', '1.6000000000', '1.2800000000', '1.3653333333', '1.6384000000', '2.0971520000', '2.7962026667']\n",
      "min error: ['-32.9374580383', '-0.0049756025', '-4.9921822548', '-0.0071597705', '-1.0000000000', '-0.0236250553', '-0.0295916833']\n",
      "max error: ['0.0037608473', '11.9745931625', '0.0054189702', '1.9941366911', '0.0116302520', '0.9960911274', '0.0289397147']\n",
      "avg error: ['-1.1693108082', '0.3913666904', '-0.1560424864', '0.0647185072', '-0.0294274632', '0.0199716985', '-0.0014694928']\n",
      "rms error: ['3.5985860825', '1.3079593182', '0.5465537906', '0.2203079760', '0.1114175618', '0.0976022929', '0.0106526623']\n",
      "\n",
      "gaussian data mu= 0.875 Taylor expansion point= 0.75\n",
      "eff coeff: ['0.2876820725', '1.3333333333', '0.8888888889', '0.7901234568']\n",
      "min error: ['-10.9804553986', '-0.0253824908', '-1.0000000000', '-0.0295916833']\n",
      "max error: ['0.0047984002', '2.9921822548', '0.0130670872', '0.0289397147']\n",
      "avg error: ['-0.3556227386', '0.0697304383', '-0.0192413777', '-0.0017749415']\n",
      "rms error: ['1.1984508038', '0.2924681306', '0.1026221365', '0.0105750859']\n",
      "\n",
      "gaussian data mu= 0.875 Taylor expansion point= 0.875\n",
      "eff coeff: ['0.1335313926', '1.1428571429', '0.6530612245', '0.4975704568', '0.4264889629', '0.3899327661', '0.3713645392']\n",
      "min error: ['-1.9980456829', '-0.0588669106', '-0.0315861516', '-0.0315861516', '-0.0315861516', '-0.0315861516', '-0.0315861516']\n",
      "max error: ['0.0117039112', '0.0351022035', '0.0232646391', '0.0232646391', '0.0232646391', '0.0232646391', '0.0232646391']\n",
      "avg error: ['-0.0803696513', '-0.0068754973', '-0.0043082950', '-0.0032998188', '-0.0029686908', '-0.0028751562', '-0.0027692139']\n",
      "rms error: ['0.2246463150', '0.0184454042', '0.0116105620', '0.0107803866', '0.0106790056', '0.0106750233', '0.0106739355']\n",
      "\n",
      "gaussian data mu= 0.875 Taylor expansion point= 1.0\n",
      "eff coeff: ['0.0000000000', '1.0000000000', '0.5000000000', '0.3333333333', '0.2500000000', '0.2000000000', '0.1666666667', '0.1428571429']\n",
      "min error: ['-0.2786524892', '-0.0983156040', '-0.0419603288', '-0.0315861516', '-0.0315861516', '-0.0315861516', '-0.0315861516', '-0.0315861516']\n",
      "max error: ['-0.0019544237', '0.0232646391', '0.0232646391', '0.0232646391', '0.0232646391', '0.0232646391', '0.0232646391', '0.0232646391']\n",
      "avg error: ['-0.0948350802', '-0.0197085310', '-0.0076685329', '-0.0037487403', '-0.0027238026', '-0.0024375950', '-0.0022934715', '-0.0021571645']\n",
      "rms error: ['0.1170756370', '0.0319642536', '0.0148139177', '0.0114295473', '0.0108163562', '0.0107164616', '0.0107011227', '0.0106978118']\n",
      "\n"
     ]
    }
   ],
   "source": [
    "point_search(func=\"log\", uniform=False, fxp=True, intwidth=7, fracwidth=8, \n",
    "             valid=True, rounding_coeff=\"round\", rounding_var=\"round\", keepwidth=True)"
   ]
  },
  {
   "cell_type": "markdown",
   "metadata": {},
   "source": [
    "### flp guassian"
   ]
  },
  {
   "cell_type": "code",
   "execution_count": 12,
   "metadata": {},
   "outputs": [
    {
     "data": {
      "image/png": "[encoded data removed]",
      "text/plain": [
       "<Figure size 432x288 with 1 Axes>"
      ]
     },
     "metadata": {
      "needs_background": "light"
     },
     "output_type": "display_data"
    },
    {
     "name": "stdout",
     "output_type": "stream",
     "text": [
      "gaussian data mu= 0.625 Taylor expansion point= 0.5\n",
      "eff coeff: ['0.6931471806', '2.0000000000', '2.0000000000', '2.6666666667', '4.0000000000', '6.4000000000', '10.6666666667', '18.2857142857']\n",
      "min error: ['-77.4047012329', '-0.0000000000', '-34.8291854858', '-0.0000000000', '-22.0618782043', '-0.0000000000', '-15.9861488342', '-0.0000001074']\n",
      "max error: ['-0.0000000000', '48.3568382263', '-0.0000000000', '27.0729103088', '0.0000000910', '18.5638923645', '0.0000000988', '14.0089540482']\n",
      "avg error: ['-1.6470837593', '0.9641191363', '-0.6643071771', '0.4990430772', '-0.3952372968', '0.3243427873', '-0.2730412185', '0.2343175709']\n",
      "rms error: ['7.7943758965', '4.8376712799', '3.4634423256', '2.6770997047', '2.1701474190', '1.8170448542', '1.5574299097', '1.3587638140']\n",
      "\n",
      "gaussian data mu= 0.625 Taylor expansion point= 0.625\n",
      "eff coeff: ['0.4700036292', '1.6000000000', '1.2800000000', '1.3653333333', '1.6384000000', '2.0971520000', '2.7962026667', '3.8347922286']\n",
      "min error: ['-32.6171531677', '-0.0045351824', '-5.4074172974', '-0.0001109288', '-1.2396439314', '-0.0000031817', '-0.3234119117', '-0.0000001173']\n",
      "max error: ['-0.0000000000', '12.4196519852', '-0.0000000000', '2.5311989784', '0.0000000698', '0.6261376739', '0.0000001544', '0.1699087471']\n",
      "avg error: ['-0.6530418992', '0.2340132445', '-0.0980780348', '0.0443581007', '-0.0210881326', '0.0103659155', '-0.0052221790', '0.0026803887']\n",
      "rms error: ['3.2682771683', '1.2344741821', '0.5335370898', '0.2480587065', '0.1207244471', '0.0606208593', '0.0311408415', '0.0162759311']\n",
      "\n",
      "gaussian data mu= 0.625 Taylor expansion point= 0.75\n",
      "eff coeff: ['0.2876820725', '1.3333333333', '0.8888888889', '0.7901234568', '0.7901234568', '0.8427983539', '0.9364426155', '1.0702201319']\n",
      "min error: ['-11.3331508636', '-0.0239143595', '-0.5875919461', '-0.0016505175', '-0.0415202901', '-0.0001332866', '-0.0033212234', '-0.0000115228']\n",
      "max error: ['-0.0000000000', '2.4211645126', '0.0000001017', '0.1528442204', '0.0000001160', '0.0116262455', '0.0000001666', '0.0009703707']\n",
      "avg error: ['-0.2416016012', '0.0378554463', '-0.0108601293', '0.0022799424', '-0.0006977156', '0.0001650919', '-0.0000518800', '0.0000131746']\n",
      "rms error: ['1.1264070272', '0.2380133867', '0.0572058670', '0.0147513729', '0.0039758664', '0.0011051921', '0.0003137363', '0.0000910001']\n",
      "\n",
      "gaussian data mu= 0.625 Taylor expansion point= 0.875\n",
      "eff coeff: ['0.1335313926', '1.1428571429', '0.6530612245', '0.4975704568', '0.4264889629', '0.3899327661', '0.3713645392', '0.3637856710']\n",
      "min error: ['-2.2421050072', '-0.0565645769', '-0.0211066939', '-0.0065419623', '-0.0023701789', '-0.0008802932', '-0.0003329584', '-0.0001276971']\n",
      "max error: ['-0.0000000000', '0.2046341300', '0.0000001014', '0.0023239641', '0.0000002027', '0.0000290302', '0.0000002027', '0.0000002027']\n",
      "avg error: ['-0.1268061548', '-0.0159643888', '-0.0051151579', '-0.0013074875', '-0.0004034074', '-0.0001252042', '-0.0000410711', '-0.0000138216']\n",
      "rms error: ['0.2415725738', '0.0314594284', '0.0071354313', '0.0021066375', '0.0006820845', '0.0002315285', '0.0000811751', '0.0000291589']\n",
      "\n",
      "gaussian data mu= 0.625 Taylor expansion point= 1.0\n",
      "eff coeff: ['0.0000000000', '1.0000000000', '0.5000000000', '0.3333333333', '0.2500000000', '0.2000000000', '0.1666666667', '0.1428571429']\n",
      "min error: ['-0.2786524892', '-0.0983156040', '-0.0382032804', '-0.0156611707', '-0.0066442918', '-0.0028872448', '-0.0012770572', '-0.0005726162']\n",
      "max error: ['-0.0019544237', '-0.0000051160', '-0.0000000000', '-0.0000000000', '0.0000001173', '0.0000001173', '0.0000001173', '0.0000002232']\n",
      "avg error: ['-0.1748628914', '-0.0453481488', '-0.0137198409', '-0.0045435773', '-0.0016008441', '-0.0005904907', '-0.0002256975', '-0.0000887614']\n",
      "rms error: ['0.1880253851', '0.0524029322', '0.0170729514', '0.0060916855', '0.0023078758', '0.0009123302', '0.0003722488', '0.0001556402']\n",
      "\n"
     ]
    },
    {
     "data": {
      "image/png": "[encoded data removed]",
      "text/plain": [
       "<Figure size 432x288 with 1 Axes>"
      ]
     },
     "metadata": {
      "needs_background": "light"
     },
     "output_type": "display_data"
    },
    {
     "name": "stdout",
     "output_type": "stream",
     "text": [
      "gaussian data mu= 0.75 Taylor expansion point= 0.5\n",
      "eff coeff: ['0.6931471806', '2.0000000000', '2.0000000000', '2.6666666667', '4.0000000000', '6.4000000000', '10.6666666667', '18.2857142857']\n",
      "min error: ['-77.4047012329', '-0.0000000000', '-34.8291854858', '-0.0000000000', '-22.0618782043', '-0.0000000000', '-15.9861488342', '-0.0000001074']\n",
      "max error: ['-0.0000000000', '48.3568382263', '-0.0000000000', '27.0729103088', '0.0000000910', '18.5638923645', '0.0000000988', '14.0089540482']\n",
      "avg error: ['-0.8680804968', '0.4340385199', '-0.2625709176', '0.1777454168', '-0.1295750290', '0.0995030701', '-0.0793852955', '0.0651971847']\n",
      "rms error: ['3.6156675816', '2.2195217609', '1.5774923563', '1.2130339146', '0.9795005918', '0.8176199198', '0.6990597844', '0.6086238027']\n",
      "\n",
      "gaussian data mu= 0.75 Taylor expansion point= 0.625\n",
      "eff coeff: ['0.4700036292', '1.6000000000', '1.2800000000', '1.3653333333', '1.6384000000', '2.0971520000', '2.7962026667', '3.8347922286']\n",
      "min error: ['-32.6171531677', '-0.0045351824', '-5.4074172974', '-0.0001109288', '-1.2396439314', '-0.0000031817', '-0.3234119117', '-0.0000001173']\n",
      "max error: ['-0.0000000000', '12.4196519852', '-0.0000000000', '2.5311989784', '0.0000000698', '0.6261376739', '0.0000001544', '0.1699087471']\n",
      "avg error: ['-0.2917219996', '0.0882989466', '-0.0326480307', '0.0134885404', '-0.0059912703', '0.0027957344', '-0.0013521051', '0.0006717006']\n",
      "rms error: ['1.5014480352', '0.5616381168', '0.2412315607', '0.1116648614', '0.0541653261', '0.0271277707', '0.0139058353', '0.0072549484']\n",
      "\n",
      "gaussian data mu= 0.75 Taylor expansion point= 0.75\n",
      "eff coeff: ['0.2876820725', '1.3333333333', '0.8888888889', '0.7901234568', '0.7901234568', '0.8427983539', '0.9364426155', '1.0702201319']\n",
      "min error: ['-11.3331508636', '-0.0239143595', '-0.5875919461', '-0.0016505175', '-0.0415202901', '-0.0001332866', '-0.0033212234', '-0.0000115228']\n",
      "max error: ['-0.0000000000', '2.4211645126', '0.0000001017', '0.1528442204', '0.0000001160', '0.0116262455', '0.0000001666', '0.0009703707']\n",
      "avg error: ['-0.0826342702', '0.0114300773', '-0.0029284032', '0.0005922790', '-0.0001691538', '0.0000396958', '-0.0000118346', '0.0000030589']\n",
      "rms error: ['0.5115349293', '0.1072372869', '0.0256459098', '0.0065898602', '0.0017713740', '0.0004913404', '0.0001392363', '0.0000403216']\n",
      "\n",
      "gaussian data mu= 0.75 Taylor expansion point= 0.875\n",
      "eff coeff: ['0.1335313926', '1.1428571429', '0.6530612245', '0.4975704568', '0.4264889629', '0.3899327661', '0.3713645392', '0.3637856710']\n",
      "min error: ['-2.2421050072', '-0.0565645769', '-0.0211066939', '-0.0065419623', '-0.0023701789', '-0.0008802932', '-0.0003329584', '-0.0001276971']\n",
      "max error: ['-0.0000000000', '0.2046341300', '0.0000001014', '0.0023239641', '0.0000002027', '0.0000290302', '0.0000002027', '0.0000002027']\n",
      "avg error: ['-0.0581345670', '-0.0072914562', '-0.0017336514', '-0.0003935253', '-0.0001075627', '-0.0000306443', '-0.0000093740', '-0.0000029853']\n",
      "rms error: ['0.1171991006', '0.0157746337', '0.0034535110', '0.0009700548', '0.0003032348', '0.0001005715', '0.0000347172', '0.0000123386']\n",
      "\n",
      "gaussian data mu= 0.75 Taylor expansion point= 1.0\n",
      "eff coeff: ['0.0000000000', '1.0000000000', '0.5000000000', '0.3333333333', '0.2500000000', '0.2000000000', '0.1666666667', '0.1428571429']\n",
      "min error: ['-0.2786524892', '-0.0983156040', '-0.0382032804', '-0.0156611707', '-0.0066442918', '-0.0028872448', '-0.0012770572', '-0.0005726162']\n",
      "max error: ['-0.0019544237', '-0.0000051160', '-0.0000000000', '-0.0000000000', '0.0000001173', '0.0000001173', '0.0000001173', '0.0000002232']\n",
      "avg error: ['-0.1332794875', '-0.0267870612', '-0.0065853321', '-0.0018417105', '-0.0005649086', '-0.0001858800', '-0.0000646352', '-0.0000235000']\n",
      "rms error: ['0.1439348459', '0.0331571661', '0.0095185135', '0.0031170724', '0.0011132126', '0.0004222715', '0.0001673174', '0.0000684934']\n",
      "\n"
     ]
    },
    {
     "data": {
      "image/png": "[encoded data removed]",
      "text/plain": [
       "<Figure size 432x288 with 1 Axes>"
      ]
     },
     "metadata": {
      "needs_background": "light"
     },
     "output_type": "display_data"
    },
    {
     "name": "stdout",
     "output_type": "stream",
     "text": [
      "gaussian data mu= 0.875 Taylor expansion point= 0.5\n",
      "eff coeff: ['0.6931471806', '2.0000000000', '2.0000000000', '2.6666666667', '4.0000000000', '6.4000000000', '10.6666666667', '18.2857142857']\n",
      "min error: ['-77.4047012329', '-0.0000000000', '-34.8291854858', '-0.0000000000', '-22.0618782043', '-0.0000000000', '-15.9861488342', '-0.0000001074']\n",
      "max error: ['-0.0000000000', '48.3568382263', '-0.0000000000', '27.0729103088', '0.0000000910', '18.5638923645', '0.0000000988', '14.0089540482']\n",
      "avg error: ['-2.9818193913', '1.6953305006', '-1.1262787580', '0.8163514733', '-0.6257952452', '0.4988533556', '-0.4093270600', '0.3434191346']\n",
      "rms error: ['8.5047330856', '5.2480568886', '3.7399160862', '2.8799874783', '2.3273851871', '1.9435968399', '1.6621645689', '1.4473097324']\n",
      "\n",
      "gaussian data mu= 0.875 Taylor expansion point= 0.625\n",
      "eff coeff: ['0.4700036292', '1.6000000000', '1.2800000000', '1.3653333333', '1.6384000000', '2.0971520000', '2.7962026667', '3.8347922286']\n",
      "min error: ['-32.6171531677', '-0.0045351824', '-5.4074172974', '-0.0001109288', '-1.2396439314', '-0.0000031817', '-0.3234119117', '-0.0000001173']\n",
      "max error: ['-0.0000000000', '12.4196519852', '-0.0000000000', '2.5311989784', '0.0000000698', '0.6261376739', '0.0000001544', '0.1699087471']\n",
      "avg error: ['-1.1581288576', '0.3946509361', '-0.1572590470', '0.0682814047', '-0.0313634090', '0.0149792796', '-0.0073641567', '0.0037014552']\n",
      "rms error: ['3.5493905544', '1.3322670460', '0.5730806589', '0.2654547393', '0.1288014948', '0.0645146444', '0.0330707096', '0.0172529183']\n",
      "\n",
      "gaussian data mu= 0.875 Taylor expansion point= 0.75\n",
      "eff coeff: ['0.2876820725', '1.3333333333', '0.8888888889', '0.7901234568', '0.7901234568', '0.8427983539', '0.9364426155', '1.0702201319']\n",
      "min error: ['-11.3331508636', '-0.0239143595', '-0.5875919461', '-0.0016505175', '-0.0415202901', '-0.0001332866', '-0.0033212234', '-0.0000115228']\n",
      "max error: ['-0.0000000000', '2.4211645126', '0.0000001017', '0.1528442204', '0.0000001160', '0.0116262455', '0.0000001666', '0.0009703707']\n",
      "avg error: ['-0.3570984006', '0.0641173944', '-0.0148896659', '0.0034042650', '-0.0009113201', '0.0002292923', '-0.0000655144', '0.0000174704']\n",
      "rms error: ['1.2137391567', '0.2548656464', '0.0609806888', '0.0156706832', '0.0042120977', '0.0011682290', '0.0003310145', '0.0000958544']\n",
      "\n",
      "gaussian data mu= 0.875 Taylor expansion point= 0.875\n",
      "eff coeff: ['0.1335313926', '1.1428571429', '0.6530612245', '0.4975704568', '0.4264889629', '0.3899327661', '0.3713645392', '0.3637856710']\n",
      "min error: ['-2.2421050072', '-0.0565645769', '-0.0211066939', '-0.0065419623', '-0.0023701789', '-0.0008802932', '-0.0003329584', '-0.0001276971']\n",
      "max error: ['-0.0000000000', '0.2046341300', '0.0000001014', '0.0023239641', '0.0000002027', '0.0000290302', '0.0000002027', '0.0000002027']\n",
      "avg error: ['-0.0805835575', '-0.0016565975', '-0.0019313244', '-0.0004246467', '-0.0001547842', '-0.0000505537', '-0.0000179323', '-0.0000064260']\n",
      "rms error: ['0.2388423830', '0.0253961626', '0.0048996592', '0.0014586989', '0.0004925822', '0.0001735861', '0.0000627543', '0.0000231167']\n",
      "\n",
      "gaussian data mu= 0.875 Taylor expansion point= 1.0\n",
      "eff coeff: ['0.0000000000', '1.0000000000', '0.5000000000', '0.3333333333', '0.2500000000', '0.2000000000', '0.1666666667', '0.1428571429']\n",
      "min error: ['-0.2786524892', '-0.0983156040', '-0.0382032804', '-0.0156611707', '-0.0066442918', '-0.0028872448', '-0.0012770572', '-0.0005726162']\n",
      "max error: ['-0.0019544237', '-0.0000051160', '-0.0000000000', '-0.0000000000', '0.0000001173', '0.0000001173', '0.0000001173', '0.0000002232']\n",
      "avg error: ['-0.0946577564', '-0.0176191535', '-0.0046429392', '-0.0014910104', '-0.0005368705', '-0.0002070750', '-0.0000834451', '-0.0000346430']\n",
      "rms error: ['0.1169069186', '0.0300619751', '0.0101526659', '0.0038251323', '0.0015245463', '0.0006293421', '0.0002662872', '0.0001147885']\n",
      "\n"
     ]
    }
   ],
   "source": [
    "point_search(func=\"log\", uniform=False, fxp=False, intwidth=7, fracwidth=8, \n",
    "             valid=True, rounding_coeff=\"round\", rounding_var=\"round\", keepwidth=True)"
   ]
  },
  {
   "cell_type": "markdown",
   "metadata": {},
   "source": [
    "### fxp uniform"
   ]
  },
  {
   "cell_type": "code",
   "execution_count": 13,
   "metadata": {
    "scrolled": true
   },
   "outputs": [
    {
     "data": {
      "image/png": "[encoded data removed]",
      "text/plain": [
       "<Figure size 432x288 with 1 Axes>"
      ]
     },
     "metadata": {
      "needs_background": "light"
     },
     "output_type": "display_data"
    },
    {
     "name": "stdout",
     "output_type": "stream",
     "text": [
      "gaussian data mu= 0.5 Taylor expansion point= 0.5\n",
      "eff coeff: ['0.6931471806', '2.0000000000', '2.0000000000', '2.6666666667', '4.0000000000', '6.4000000000', '10.6666666667', '18.2857142857']\n",
      "min error: ['-77.8495101929', '-0.0027473923', '-34.9335479736', '-0.0033870686', '-21.9589576721', '-0.0049951603', '-15.9706840515', '-0.0064094882']\n",
      "max error: ['-0.0025116347', '47.9042358398', '0.0032875452', '26.9452762604', '0.0037608473', '17.9628658295', '0.0046279477', '13.9706840515']\n",
      "avg error: ['-2.4584391117', '1.4066325426', '-0.9535070062', '0.7011620402', '-0.5437804461', '0.4358546138', '-0.3734998405', '0.3121258318']\n",
      "rms error: ['8.6232299805', '5.2731285095', '3.8006248474', '2.9170060158', '2.3558871746', '1.9278312922', '1.7048779726', '1.4747148752']\n",
      "\n",
      "gaussian data mu= 0.5 Taylor expansion point= 0.625\n",
      "eff coeff: ['0.4700036292', '1.6000000000', '1.2800000000', '1.3653333333', '1.6384000000', '2.0971520000', '2.7962026667']\n",
      "min error: ['-32.9374580383', '-0.0049756025', '-4.9921822548', '-0.0071597705', '-1.0000000000', '-0.0236250553', '-0.0295916833']\n",
      "max error: ['0.0037608473', '11.9745931625', '0.0054189702', '1.9941366911', '0.0116302520', '0.9960911274', '0.0289397147']\n",
      "avg error: ['-0.9648859501', '0.3297346830', '-0.1340341717', '0.0552940443', '-0.0261096582', '0.0179018024', '-0.0011693141']\n",
      "rms error: ['3.6142888069', '1.3160923719', '0.5503379107', '0.2212418616', '0.1119104400', '0.0990891531', '0.0085441638']\n",
      "\n",
      "gaussian data mu= 0.5 Taylor expansion point= 0.75\n",
      "eff coeff: ['0.2876820725', '1.3333333333', '0.8888888889', '0.7901234568']\n",
      "min error: ['-10.9804553986', '-0.0253824908', '-1.0000000000', '-0.0295916833']\n",
      "max error: ['0.0047984002', '2.9921822548', '0.0130670872', '0.0289397147']\n",
      "avg error: ['-0.3151414394', '0.0595420301', '-0.0180816595', '-0.0016116183']\n",
      "rms error: ['1.2067784071', '0.2980045974', '0.1043549627', '0.0085009672']\n",
      "\n",
      "gaussian data mu= 0.5 Taylor expansion point= 0.875\n",
      "eff coeff: ['0.1335313926', '1.1428571429', '0.6530612245', '0.4975704568', '0.4264889629', '0.3899327661', '0.3713645392']\n",
      "min error: ['-1.9980456829', '-0.0588669106', '-0.0315861516', '-0.0315861516', '-0.0315861516', '-0.0315861516', '-0.0315861516']\n",
      "max error: ['0.0117039112', '0.0351022035', '0.0232646391', '0.0232646391', '0.0232646391', '0.0232646391', '0.0232646391']\n",
      "avg error: ['-0.1064236984', '-0.0136693455', '-0.0052828821', '-0.0030755682', '-0.0024460650', '-0.0022371688', '-0.0020332537']\n",
      "rms error: ['0.2350869477', '0.0225312021', '0.0105103217', '0.0087832594', '0.0085933506', '0.0085873902', '0.0085819736']\n",
      "\n",
      "gaussian data mu= 0.5 Taylor expansion point= 1.0\n",
      "eff coeff: ['0.0000000000', '1.0000000000', '0.5000000000', '0.3333333333', '0.2500000000', '0.2000000000', '0.1666666667', '0.1428571429']\n",
      "min error: ['-0.2786524892', '-0.0983156040', '-0.0419603288', '-0.0315861516', '-0.0315861516', '-0.0315861516', '-0.0315861516', '-0.0315861516']\n",
      "max error: ['-0.0019544237', '0.0232646391', '0.0232646391', '0.0232646391', '0.0232646391', '0.0232646391', '0.0232646391', '0.0232646391']\n",
      "avg error: ['-0.1350037754', '-0.0331767090', '-0.0112631405', '-0.0048296452', '-0.0027298813', '-0.0021801228', '-0.0019357437', '-0.0016980083']\n",
      "rms error: ['0.1569691151', '0.0438680500', '0.0165608153', '0.0101293661', '0.0088164005', '0.0086313086', '0.0085982913', '0.0085899588']\n",
      "\n"
     ]
    }
   ],
   "source": [
    "point_search(func=\"log\", uniform=True, fxp=True, intwidth=7, fracwidth=8, \n",
    "             valid=True, rounding_coeff=\"round\", rounding_var=\"round\", keepwidth=True)"
   ]
  },
  {
   "cell_type": "markdown",
   "metadata": {},
   "source": [
    "### flp uniform"
   ]
  },
  {
   "cell_type": "code",
   "execution_count": 14,
   "metadata": {
    "scrolled": true
   },
   "outputs": [
    {
     "data": {
      "image/png": "[encoded data removed]",
      "text/plain": [
       "<Figure size 432x288 with 1 Axes>"
      ]
     },
     "metadata": {
      "needs_background": "light"
     },
     "output_type": "display_data"
    },
    {
     "name": "stdout",
     "output_type": "stream",
     "text": [
      "gaussian data mu= 0.5 Taylor expansion point= 0.5\n",
      "eff coeff: ['0.6931471806', '2.0000000000', '2.0000000000', '2.6666666667', '4.0000000000', '6.4000000000', '10.6666666667', '18.2857142857']\n",
      "min error: ['-77.4047012329', '-0.0000000000', '-34.8291854858', '-0.0000000000', '-22.0618782043', '-0.0000000000', '-15.9861488342', '-0.0000001074']\n",
      "max error: ['-0.0000000000', '48.3568382263', '-0.0000000000', '27.0729103088', '0.0000000910', '18.5638923645', '0.0000000988', '14.0089540482']\n",
      "avg error: ['-2.4074909687', '1.3876957893', '-0.9368224144', '0.6897271872', '-0.5363476276', '0.4330596030', '-0.3593965769', '0.3045720458']\n",
      "rms error: ['8.3410520554', '5.1605830193', '3.6850912571', '2.8423378468', '2.2999329567', '1.9227133989', '1.6457600594', '1.4340975285']\n",
      "\n",
      "gaussian data mu= 0.5 Taylor expansion point= 0.625\n",
      "eff coeff: ['0.4700036292', '1.6000000000', '1.2800000000', '1.3653333333', '1.6384000000', '2.0971520000', '2.7962026667', '3.8347922286']\n",
      "min error: ['-32.6171531677', '-0.0045351824', '-5.4074172974', '-0.0001109288', '-1.2396439314', '-0.0000031817', '-0.3234119117', '-0.0000001173']\n",
      "max error: ['-0.0000000000', '12.4196519852', '-0.0000000000', '2.5311989784', '0.0000000698', '0.6261376739', '0.0000001544', '0.1699087471']\n",
      "avg error: ['-0.9448828697', '0.3291389942', '-0.1340611875', '0.0592647642', '-0.0276401658', '0.0133709665', '-0.0066451719', '0.0033711779']\n",
      "rms error: ['3.4886002541', '1.3130874634', '0.5659703612', '0.2625602782', '0.1275484711', '0.0639477894', '0.0328055955', '0.0171256494']\n",
      "\n",
      "gaussian data mu= 0.5 Taylor expansion point= 0.75\n",
      "eff coeff: ['0.2876820725', '1.3333333333', '0.8888888889', '0.7901234568', '0.7901234568', '0.8427983539', '0.9364426155', '1.0702201319']\n",
      "min error: ['-11.3331508636', '-0.0239143595', '-0.5875919461', '-0.0016505175', '-0.0415202901', '-0.0001332866', '-0.0033212234', '-0.0000115228']\n",
      "max error: ['-0.0000000000', '2.4211645126', '0.0000001017', '0.1528442204', '0.0000001160', '0.0116262455', '0.0000001666', '0.0009703707']\n",
      "avg error: ['-0.3130280972', '0.0537881590', '-0.0135677075', '0.0030046287', '-0.0008502039', '0.0002085071', '-0.0000620844', '0.0000161885']\n",
      "rms error: ['1.1971392632', '0.2520384490', '0.0604110956', '0.0155441202', '0.0041820905', '0.0011607632', '0.0003290974', '0.0000953390']\n",
      "\n",
      "gaussian data mu= 0.5 Taylor expansion point= 0.875\n",
      "eff coeff: ['0.1335313926', '1.1428571429', '0.6530612245', '0.4975704568', '0.4264889629', '0.3899327661', '0.3713645392', '0.3637856710']\n",
      "min error: ['-2.2421050072', '-0.0565645769', '-0.0211066939', '-0.0065419623', '-0.0023701789', '-0.0008802932', '-0.0003329584', '-0.0001276971']\n",
      "max error: ['-0.0000000000', '0.2046341300', '0.0000001014', '0.0023239641', '0.0000002027', '0.0000290302', '0.0000002027', '0.0000002027']\n",
      "avg error: ['-0.1063514575', '-0.0086470805', '-0.0035757800', '-0.0008799902', '-0.0002863010', '-0.0000907394', '-0.0000306624', '-0.0000105826']\n",
      "rms error: ['0.2448682487', '0.0290343128', '0.0062298216', '0.0018543900', '0.0006117130', '0.0002111541', '0.0000750838', '0.0000272932']\n",
      "\n",
      "gaussian data mu= 0.5 Taylor expansion point= 1.0\n",
      "eff coeff: ['0.0000000000', '1.0000000000', '0.5000000000', '0.3333333333', '0.2500000000', '0.2000000000', '0.1666666667', '0.1428571429']\n",
      "min error: ['-0.2786524892', '-0.0983156040', '-0.0382032804', '-0.0156611707', '-0.0066442918', '-0.0028872448', '-0.0012770572', '-0.0005726162']\n",
      "max error: ['-0.0019544237', '-0.0000051160', '-0.0000000000', '-0.0000000000', '0.0000001173', '0.0000001173', '0.0000001173', '0.0000002232']\n",
      "avg error: ['-0.1346024871', '-0.0315235555', '-0.0092199277', '-0.0030416346', '-0.0010825238', '-0.0004059598', '-0.0001581839', '-0.0000634719']\n",
      "rms error: ['0.1566681415', '0.0429014154', '0.0141772367', '0.0051611369', '0.0019941523', '0.0008023609', '0.0003324804', '0.0001408937']\n",
      "\n"
     ]
    }
   ],
   "source": [
    "point_search(func=\"log\", uniform=True, fxp=False, intwidth=7, fracwidth=8, \n",
    "             valid=True, rounding_coeff=\"round\", rounding_var=\"round\", keepwidth=True)"
   ]
  },
  {
   "cell_type": "code",
   "execution_count": null,
   "metadata": {},
   "outputs": [],
   "source": []
  }
 ],
 "metadata": {
  "kernelspec": {
   "display_name": "Python 3",
   "language": "python",
   "name": "python3"
  },
  "language_info": {
   "codemirror_mode": {
    "name": "ipython",
    "version": 3
   },
   "file_extension": ".py",
   "mimetype": "text/x-python",
   "name": "python",
   "nbconvert_exporter": "python",
   "pygments_lexer": "ipython3",
   "version": "3.6.8"
  }
 },
 "nbformat": 4,
 "nbformat_minor": 2
}
