{
 "cells": [
  {
   "cell_type": "code",
   "execution_count": 1,
   "metadata": {},
   "outputs": [],
   "source": [
    "%load_ext autoreload\n",
    "%autoreload 2"
   ]
  },
  {
   "cell_type": "code",
   "execution_count": 1,
   "metadata": {},
   "outputs": [],
   "source": [
    "import torch\n",
    "from RAVEN.pe.mac_taylor_utils import *\n",
    "import matplotlib.pyplot as plt"
   ]
  },
  {
   "cell_type": "markdown",
   "metadata": {},
   "source": [
    "# test MAC_Taylor"
   ]
  },
  {
   "cell_type": "code",
   "execution_count": 2,
   "metadata": {},
   "outputs": [
    {
     "name": "stdout",
     "output_type": "stream",
     "text": [
      "[1.0, 1.0, 0.5, 0.16666666666666666, 0.041666666666666664, 0.008333333333333333, 0.001388888888888889, 0.0001984126984126984]\n",
      "min error rate: tensor(-0.0118)\n",
      "max error rate: tensor(-0.0001)\n",
      "avg error rate: tensor(-0.0053)\n",
      "rms error rate: tensor(0.0056)\n"
     ]
    }
   ],
   "source": [
    "device = torch.device(\"cuda:0\" if torch.cuda.is_available() else \"cpu\")\n",
    "\n",
    "a = torch.arange(0, 1, 0.001).to(device)\n",
    "\n",
    "precise = torch.exp(a).to(device)\n",
    "\n",
    "point = 0.5\n",
    "scale = torch.exp(torch.tensor([point])).to(device)\n",
    "var = a - point\n",
    "\n",
    "coeff = [1/1, 1/1, 1/2, 1/6, 1/24, 1/120, 1/720, 1/5040, 1/40320, 1/362880]\n",
    "\n",
    "coeff = coeff[0:8]\n",
    "print(coeff)\n",
    "\n",
    "approximate = MAC_Taylor(scale, \n",
    "                         coeff, \n",
    "                         var, \n",
    "                         fxp=True, \n",
    "                         intwidth=7, \n",
    "                         fracwidth=8, \n",
    "                         rounding_coeff=\"round\", \n",
    "                         rounding_var=\"floor\", \n",
    "                         keepwidth=True)\n",
    "\n",
    "error = (approximate - precise) / precise\n",
    "print(\"min error rate:\", error.min())\n",
    "print(\"max error rate:\", error.max())\n",
    "print(\"avg error rate:\", error.mean())\n",
    "print(\"rms error rate:\", error.mul(error).mean().sqrt())"
   ]
  },
  {
   "cell_type": "markdown",
   "metadata": {},
   "source": [
    "# point search test"
   ]
  },
  {
   "cell_type": "code",
   "execution_count": 37,
   "metadata": {},
   "outputs": [],
   "source": [
    "intwidth = 7\n",
    "fracwidth = 24"
   ]
  },
  {
   "cell_type": "markdown",
   "metadata": {},
   "source": [
    "## test exp"
   ]
  },
  {
   "cell_type": "markdown",
   "metadata": {},
   "source": [
    "### fxp guassian"
   ]
  },
  {
   "cell_type": "code",
   "execution_count": 38,
   "metadata": {
    "scrolled": true
   },
   "outputs": [
    {
     "data": {
      "image/png": "[encoded data removed]",
      "text/plain": [
       "<Figure size 432x288 with 1 Axes>"
      ]
     },
     "metadata": {
      "needs_background": "light"
     },
     "output_type": "display_data"
    },
    {
     "name": "stdout",
     "output_type": "stream",
     "text": [
      "gaussian data mu= 0.25 Taylor expansion point= 0.0\n",
      "eff coeff: ['1.0000000000', '1.0000000000', '0.5000000000', '0.1666666667', '0.0416666667', '0.0083333333', '0.0013888889', '0.0001984127']\n",
      "min error: ['-0.2642347515', '-0.0802981108', '-0.0189870223', '-0.0036595582', '-0.0005941578', '-0.0000832496', '-0.0000103514', '-0.0000012326']\n",
      "max error: ['0.0000000000', '0.0000000000', '0.0000000000', '0.0000001174', '0.0000001174', '0.0000001174', '0.0000001174', '0.0000001174']\n",
      "avg error: ['-0.0619192868', '-0.0121287014', '-0.0021346649', '-0.0003359756', '-0.0000471100', '-0.0000058940', '-0.0000006606', '-0.0000000661']\n",
      "rms error: ['0.0927540138', '0.0233805329', '0.0049557816', '0.0008840127', '0.0001348769', '0.0000179124', '0.0000021019', '0.0000002224']\n",
      "\n",
      "gaussian data mu= 0.25 Taylor expansion point= 0.25\n",
      "eff coeff: ['1.0000000000', '1.0000000000', '0.5000000000', '0.1666666667', '0.0416666667', '0.0083333333', '0.0013888889', '0.0001984127']\n",
      "min error: ['-0.1733523458', '-0.0405030102', '-0.0072914874', '-0.0010645547', '-0.0001305302', '-0.0000138651', '-0.0000014049', '-0.0000002679']\n",
      "max error: ['0.0000000929', '0.0031448540', '0.0000000958', '0.0000100136', '0.0000001650', '0.0000001675', '0.0000001675', '0.0000001675']\n",
      "avg error: ['-0.0269816276', '-0.0037403668', '-0.0005987387', '-0.0000740190', '-0.0000081754', '-0.0000007729', '-0.0000000549', '0.0000000070']\n",
      "rms error: ['0.0511877872', '0.0103665041', '0.0017019938', '0.0002309459', '0.0000265963', '0.0000026544', '0.0000002353', '0.0000000505']\n",
      "\n",
      "gaussian data mu= 0.25 Taylor expansion point= 0.5\n",
      "eff coeff: ['1.0000000000', '1.0000000000', '0.5000000000', '0.1666666667', '0.0416666667', '0.0083333333', '0.0013888889', '0.0001984127']\n",
      "min error: ['-0.1756377220', '-0.0143863270', '-0.0038975398', '-0.0001720984', '-0.0000334961', '-0.0000011437', '-0.0000003573', '-0.0000002337']\n",
      "max error: ['0.0000000723', '0.0304504018', '0.0000000731', '0.0003958932', '0.0000000842', '0.0000025020', '0.0000001190', '0.0000001192']\n",
      "avg error: ['-0.0478730127', '0.0040342323', '-0.0006023498', '0.0000318154', '-0.0000035836', '0.0000001041', '-0.0000000435', '-0.0000000310']\n",
      "rms error: ['0.0650952384', '0.0093005775', '0.0010322643', '0.0000937037', '0.0000072162', '0.0000004735', '0.0000000704', '0.0000000580']\n",
      "\n",
      "gaussian data mu= 0.25 Taylor expansion point= 0.75\n",
      "eff coeff: ['1.0000000000', '1.0000000000', '0.5000000000', '0.1666666667', '0.0416666667', '0.0083333333', '0.0013888889', '0.0001984127']\n",
      "min error: ['-0.4707467556', '-0.0021610190', '-0.0241949670', '-0.0000065853', '-0.0004720005', '-0.0000001126', '-0.0000050050', '-0.0000001126']\n",
      "max error: ['0.0000001126', '0.1246549934', '0.0000001163', '0.0037144348', '0.0000001294', '0.0000513679', '0.0000001910', '0.0000005960']\n",
      "avg error: ['-0.1591254622', '0.0312768258', '-0.0048203068', '0.0006057697', '-0.0000648014', '0.0000060878', '-0.0000004599', '0.0000000778']\n",
      "rms error: ['0.2022080719', '0.0446205325', '0.0075362660', '0.0010344641', '0.0001197443', '0.0000120194', '0.0000010447', '0.0000001213']\n",
      "\n",
      "gaussian data mu= 0.25 Taylor expansion point= 1.0\n",
      "eff coeff: ['1.0000000000', '1.0000000000', '0.5000000000', '0.1666666667', '0.0416666667', '0.0083333333', '0.0013888889', '0.0001984127']\n",
      "min error: ['-0.9999945164', '-0.0000000883', '-0.0939050764', '-0.0000000958', '-0.0032964281', '-0.0000001192', '-0.0000609137', '-0.0000001689']\n",
      "max error: ['0.0000000000', '0.3591381311', '0.0000000895', '0.0193553772', '0.0000001011', '0.0004788628', '0.0000001191', '0.0000070309']\n",
      "avg error: ['-0.4103835821', '0.1155204847', '-0.0245747883', '0.0042323102', '-0.0006149146', '0.0000774220', '-0.0000086609', '0.0000008261']\n",
      "rms error: ['0.4878799915', '0.1483954936', '0.0340332836', '0.0062971646', '0.0009789295', '0.0001313621', '0.0000155503', '0.0000016167']\n",
      "\n"
     ]
    },
    {
     "data": {
      "image/png": "[encoded data removed]",
      "text/plain": [
       "<Figure size 432x288 with 1 Axes>"
      ]
     },
     "metadata": {
      "needs_background": "light"
     },
     "output_type": "display_data"
    },
    {
     "name": "stdout",
     "output_type": "stream",
     "text": [
      "gaussian data mu= 0.5 Taylor expansion point= 0.0\n",
      "eff coeff: ['1.0000000000', '1.0000000000', '0.5000000000', '0.1666666667', '0.0416666667', '0.0083333333', '0.0013888889', '0.0001984127']\n",
      "min error: ['-0.2642362714', '-0.0802990049', '-0.0189873837', '-0.0036597184', '-0.0005941506', '-0.0000833249', '-0.0000103498', '-0.0000012308']\n",
      "max error: ['0.0000000000', '0.0000000000', '0.0000000000', '0.0000001168', '0.0000001168', '0.0000001168', '0.0000001168', '0.0000001168']\n",
      "avg error: ['-0.0963398069', '-0.0186138228', '-0.0029583685', '-0.0004030594', '-0.0000483256', '-0.0000051890', '-0.0000005042', '-0.0000000436']\n",
      "rms error: ['0.1119525209', '0.0245983899', '0.0045023644', '0.0007085576', '0.0000978043', '0.0000120061', '0.0000013244', '0.0000001365']\n",
      "\n",
      "gaussian data mu= 0.5 Taylor expansion point= 0.25\n",
      "eff coeff: ['1.0000000000', '1.0000000000', '0.5000000000', '0.1666666667', '0.0416666667', '0.0083333333', '0.0013888889', '0.0001984127']\n",
      "min error: ['-0.1733539104', '-0.0405038074', '-0.0072917207', '-0.0010645417', '-0.0001306009', '-0.0000137756', '-0.0000014037', '-0.0000001892']\n",
      "max error: ['0.0000000928', '0.0031447310', '0.0000000956', '0.0000101297', '0.0000001679', '0.0000001679', '0.0000001679', '0.0000001679']\n",
      "avg error: ['-0.0381382629', '-0.0051482422', '-0.0006116111', '-0.0000623786', '-0.0000056861', '-0.0000004556', '-0.0000000227', '0.0000000098']\n",
      "rms error: ['0.0531244613', '0.0089149568', '0.0012620445', '0.0001538141', '0.0000163880', '0.0000015434', '0.0000001355', '0.0000000476']\n",
      "\n",
      "gaussian data mu= 0.5 Taylor expansion point= 0.5\n",
      "eff coeff: ['1.0000000000', '1.0000000000', '0.5000000000', '0.1666666667', '0.0416666667', '0.0083333333', '0.0013888889', '0.0001984127']\n",
      "min error: ['-0.1756367385', '-0.0143867070', '-0.0038974159', '-0.0001721756', '-0.0000334381', '-0.0000010577', '-0.0000002384', '-0.0000002354']\n",
      "max error: ['0.0000000723', '0.0304501262', '0.0000000737', '0.0003958928', '0.0000000842', '0.0000025026', '0.0000001192', '0.0000001192']\n",
      "avg error: ['-0.0197739713', '0.0005047756', '-0.0001726872', '0.0000040869', '-0.0000008832', '-0.0000000127', '-0.0000000332', '-0.0000000305']\n",
      "rms error: ['0.0335923918', '0.0044005970', '0.0004674015', '0.0000414176', '0.0000031467', '0.0000002108', '0.0000000574', '0.0000000545']\n",
      "\n",
      "gaussian data mu= 0.5 Taylor expansion point= 0.75\n",
      "eff coeff: ['1.0000000000', '1.0000000000', '0.5000000000', '0.1666666667', '0.0416666667', '0.0083333333', '0.0013888889', '0.0001984127']\n",
      "min error: ['-0.4707448781', '-0.0021611855', '-0.0241948776', '-0.0000066660', '-0.0004720077', '-0.0000001126', '-0.0000048869', '-0.0000001126']\n",
      "max error: ['0.0000001126', '0.1246544868', '0.0000001166', '0.0037143112', '0.0000001305', '0.0000513776', '0.0000001965', '0.0000005959']\n",
      "avg error: ['-0.0685715154', '0.0109156910', '-0.0014406927', '0.0001611953', '-0.0000157453', '0.0000014164', '-0.0000000666', '0.0000000490']\n",
      "rms error: ['0.1084933057', '0.0217159074', '0.0034664960', '0.0004598938', '0.0000521135', '0.0000051634', '0.0000004465', '0.0000000763']\n",
      "\n",
      "gaussian data mu= 0.5 Taylor expansion point= 1.0\n",
      "eff coeff: ['1.0000000000', '1.0000000000', '0.5000000000', '0.1666666667', '0.0416666667', '0.0083333333', '0.0013888889', '0.0001984127']\n",
      "min error: ['-0.9999912381', '-0.0000000882', '-0.0939046666', '-0.0000000960', '-0.0032967818', '-0.0000001191', '-0.0000606757', '-0.0000001642']\n",
      "max error: ['0.0000000000', '0.3591364920', '0.0000000879', '0.0193552356', '0.0000000987', '0.0004786238', '0.0000001192', '0.0000069132']\n",
      "avg error: ['-0.2241639644', '0.0515646301', '-0.0093370751', '0.0014112442', '-0.0001843200', '0.0000212362', '-0.0000022344', '0.0000001759']\n",
      "rms error: ['0.2921104729', '0.0793283433', '0.0168892518', '0.0029722897', '0.0004464443', '0.0000584856', '0.0000068096', '0.0000006991']\n",
      "\n"
     ]
    },
    {
     "data": {
      "image/png": "[encoded data removed]",
      "text/plain": [
       "<Figure size 432x288 with 1 Axes>"
      ]
     },
     "metadata": {
      "needs_background": "light"
     },
     "output_type": "display_data"
    },
    {
     "name": "stdout",
     "output_type": "stream",
     "text": [
      "gaussian data mu= 0.75 Taylor expansion point= 0.0\n",
      "eff coeff: ['1.0000000000', '1.0000000000', '0.5000000000', '0.1666666667', '0.0416666667', '0.0083333333', '0.0013888889', '0.0001984127']\n",
      "min error: ['-0.2642320395', '-0.0802968591', '-0.0189866368', '-0.0036594975', '-0.0005940945', '-0.0000833286', '-0.0000103511', '-0.0000012360']\n",
      "max error: ['0.0000000000', '0.0000000000', '0.0000000000', '0.0000001165', '0.0000001165', '0.0000001165', '0.0000001165', '0.0000001165']\n",
      "avg error: ['-0.1450343579', '-0.0344134569', '-0.0065213572', '-0.0010312943', '-0.0001402287', '-0.0000167442', '-0.0000017821', '-0.0000001703']\n",
      "rms error: ['0.1616804749', '0.0408058539', '0.0082689570', '0.0014006807', '0.0002038154', '0.0000259823', '0.0000029443', '0.0000003028']\n",
      "\n",
      "gaussian data mu= 0.75 Taylor expansion point= 0.25\n",
      "eff coeff: ['1.0000000000', '1.0000000000', '0.5000000000', '0.1666666667', '0.0416666667', '0.0083333333', '0.0013888889', '0.0001984127']\n",
      "min error: ['-0.1733497679', '-0.0405022576', '-0.0072912779', '-0.0010645540', '-0.0001305293', '-0.0000138642', '-0.0000014047', '-0.0000002699']\n",
      "max error: ['0.0000000000', '0.0031447336', '0.0000000952', '0.0000100136', '0.0000001622', '0.0000001662', '0.0000001662', '0.0000001662']\n",
      "avg error: ['-0.0764952675', '-0.0128251025', '-0.0018169633', '-0.0002121882', '-0.0000215512', '-0.0000019131', '-0.0000001416', '0.0000000010']\n",
      "rms error: ['0.0898381695', '0.0170654207', '0.0026145952', '0.0003350850', '0.0000368675', '0.0000035454', '0.0000003013', '0.0000000517']\n",
      "\n",
      "gaussian data mu= 0.75 Taylor expansion point= 0.5\n",
      "eff coeff: ['1.0000000000', '1.0000000000', '0.5000000000', '0.1666666667', '0.0416666667', '0.0083333333', '0.0013888889', '0.0001984127']\n",
      "min error: ['-0.1756374240', '-0.0143858194', '-0.0038974788', '-0.0001721831', '-0.0000334955', '-0.0000011436', '-0.0000003575', '-0.0000002370']\n",
      "max error: ['0.0000000723', '0.0304502714', '0.0000000733', '0.0003960123', '0.0000000830', '0.0000025031', '0.0000001192', '0.0000001192']\n",
      "avg error: ['-0.0379929952', '-0.0009187092', '-0.0004719215', '-0.0000013315', '-0.0000028660', '-0.0000000182', '-0.0000000406', '-0.0000000305']\n",
      "rms error: ['0.0538227670', '0.0077718096', '0.0008764716', '0.0000807920', '0.0000063043', '0.0000004261', '0.0000000679', '0.0000000578']\n",
      "\n",
      "gaussian data mu= 0.75 Taylor expansion point= 0.75\n",
      "eff coeff: ['1.0000000000', '1.0000000000', '0.5000000000', '0.1666666667', '0.0416666667', '0.0083333333', '0.0013888889', '0.0001984127']\n",
      "min error: ['-0.4707461596', '-0.0021608595', '-0.0241949577', '-0.0000066668', '-0.0004720677', '-0.0000001125', '-0.0000050056', '-0.0000001125']\n",
      "max error: ['0.0000001127', '0.1246548295', '0.0000001168', '0.0037143142', '0.0000002072', '0.0000513781', '0.0000002072', '0.0000005959']\n",
      "avg error: ['-0.0521188416', '0.0099555282', '-0.0016839555', '0.0002281548', '-0.0000263094', '0.0000026682', '-0.0000001892', '0.0000000594']\n",
      "rms error: ['0.1211956888', '0.0288649313', '0.0051821591', '0.0007456422', '0.0000895598', '0.0000092540', '0.0000008287', '0.0000001000']\n",
      "\n",
      "gaussian data mu= 0.75 Taylor expansion point= 1.0\n",
      "eff coeff: ['1.0000000000', '1.0000000000', '0.5000000000', '0.1666666667', '0.0416666667', '0.0083333333', '0.0013888889', '0.0001984127']\n",
      "min error: ['-0.9999935031', '-0.0000000883', '-0.0939050466', '-0.0000000962', '-0.0032966551', '-0.0000001192', '-0.0000607950', '-0.0000001648']\n",
      "max error: ['0.0000000000', '0.3591376245', '0.0000000896', '0.0193553697', '0.0000001019', '0.0004788626', '0.0000001192', '0.0000070289']\n",
      "avg error: ['-0.1518745869', '0.0386548601', '-0.0081480695', '0.0014484588', '-0.0002208263', '0.0000292934', '-0.0000034731', '0.0000003297']\n",
      "rms error: ['0.2835059464', '0.0903747380', '0.0218579415', '0.0042379871', '0.0006851994', '0.0000950152', '0.0000115563', '0.0000012336']\n",
      "\n"
     ]
    }
   ],
   "source": [
    "point_search(func=\"exp\", uniform=False, fxp=True, intwidth=intwidth, fracwidth=fracwidth, \n",
    "             valid=True, rounding_coeff=\"round\", rounding_var=\"round\", keepwidth=True)"
   ]
  },
  {
   "cell_type": "markdown",
   "metadata": {},
   "source": [
    "### flp guassian"
   ]
  },
  {
   "cell_type": "code",
   "execution_count": 5,
   "metadata": {
    "scrolled": true
   },
   "outputs": [
    {
     "data": {
      "image/png": "[encoded data removed]",
      "text/plain": [
       "<Figure size 432x288 with 1 Axes>"
      ]
     },
     "metadata": {
      "needs_background": "light"
     },
     "output_type": "display_data"
    },
    {
     "name": "stdout",
     "output_type": "stream",
     "text": [
      "gaussian data mu= 0.25 Taylor expansion point= 0.0\n",
      "eff coeff: ['1.0000000000', '1.0000000000', '0.5000000000', '0.1666666667', '0.0416666667', '0.0083333333', '0.0013888889', '0.0001984127']\n",
      "min error: ['-0.2642410994', '-0.0803013667', '-0.0189880971', '-0.0036597580', '-0.0005940550', '-0.0000831484', '-0.0000101743', '-0.0000010691']\n",
      "max error: ['0.0000000000', '0.0000000000', '0.0000000000', '0.0000001151', '0.0000001151', '0.0000001151', '0.0000001151', '0.0000001452']\n",
      "avg error: ['-0.0617044233', '-0.0120160226', '-0.0021056982', '-0.0003305330', '-0.0000462740', '-0.0000057848', '-0.0000006519', '-0.0000000704']\n",
      "rms error: ['0.0921736285', '0.0231786687', '0.0049082562', '0.0008750202', '0.0001334319', '0.0000177094', '0.0000020746', '0.0000002198']\n",
      "\n",
      "gaussian data mu= 0.25 Taylor expansion point= 0.25\n",
      "eff coeff: ['1.0000000000', '1.0000000000', '0.5000000000', '0.1666666667', '0.0416666667', '0.0083333333', '0.0013888889', '0.0001984127']\n",
      "min error: ['-0.1733584702', '-0.0405053794', '-0.0072921510', '-0.0010646154', '-0.0001305991', '-0.0000137704', '-0.0000012424', '-0.0000001853']\n",
      "max error: ['0.0000000000', '0.0031448603', '0.0000000921', '0.0000100136', '0.0000001081', '0.0000001527', '0.0000001527', '0.0000001527']\n",
      "avg error: ['-0.0265702009', '-0.0036815656', '-0.0005876838', '-0.0000726186', '-0.0000080163', '-0.0000007630', '-0.0000000607', '-0.0000000010']\n",
      "rms error: ['0.0507162698', '0.0102646975', '0.0016842320', '0.0002283857', '0.0000262821', '0.0000026203', '0.0000002351', '0.0000000606']\n",
      "\n",
      "gaussian data mu= 0.25 Taylor expansion point= 0.5\n",
      "eff coeff: ['1.0000000000', '1.0000000000', '0.5000000000', '0.1666666667', '0.0416666667', '0.0083333333', '0.0013888889', '0.0001984127']\n",
      "min error: ['-0.1756393909', '-0.0143876579', '-0.0038975477', '-0.0001720856', '-0.0000333190', '-0.0000009648', '-0.0000002375', '-0.0000002188']\n",
      "max error: ['0.0000000000', '0.0304508209', '0.0000000000', '0.0003960133', '0.0000000842', '0.0000023842', '0.0000001113', '0.0000001192']\n",
      "avg error: ['-0.0471705385', '0.0039558783', '-0.0005887012', '0.0000309392', '-0.0000034876', '0.0000000983', '-0.0000000436', '-0.0000000341']\n",
      "rms error: ['0.0643301606', '0.0091704922', '0.0010164562', '0.0000921928', '0.0000070885', '0.0000004645', '0.0000000820', '0.0000000721']\n",
      "\n",
      "gaussian data mu= 0.25 Taylor expansion point= 0.75\n",
      "eff coeff: ['1.0000000000', '1.0000000000', '0.5000000000', '0.1666666667', '0.0416666667', '0.0083333333', '0.0013888889', '0.0001984127']\n",
      "min error: ['-0.4707499743', '-0.0021614202', '-0.0241952538', '-0.0000065782', '-0.0004720092', '-0.0000000663', '-0.0000048280', '-0.0000001028']\n",
      "max error: ['0.0000000000', '0.1246563196', '0.0000001139', '0.0037144423', '0.0000001312', '0.0000512600', '0.0000001853', '0.0000004750']\n",
      "avg error: ['-0.1580000222', '0.0309227593', '-0.0047471006', '0.0005946206', '-0.0000634353', '0.0000059479', '-0.0000004495', '0.0000000726']\n",
      "rms error: ['0.2005539984', '0.0441260450', '0.0074379081', '0.0010195598', '0.0001179056', '0.0000118271', '0.0000010235', '0.0000001274']\n",
      "\n",
      "gaussian data mu= 0.25 Taylor expansion point= 1.0\n",
      "eff coeff: ['1.0000000000', '1.0000000000', '0.5000000000', '0.1666666667', '0.0416666667', '0.0083333333', '0.0013888889', '0.0001984127']\n",
      "min error: ['-1.0000000000', '0.0000000000', '-0.0939061642', '-0.0000000919', '-0.0032967329', '-0.0000001148', '-0.0000607371', '-0.0000001990']\n",
      "max error: ['0.0000000000', '0.3591408730', '0.0000000000', '0.0193555355', '0.0000001021', '0.0004786253', '0.0000001171', '0.0000066757']\n",
      "avg error: ['-0.4086515903', '0.1146683320', '-0.0243190229', '0.0041763154', '-0.0006052203', '0.0000760144', '-0.0000084850', '0.0000008038']\n",
      "rms error: ['0.4849982858', '0.1471218169', '0.0336703248', '0.0062199421', '0.0009657382', '0.0001294572', '0.0000153011', '0.0000015999']\n",
      "\n"
     ]
    },
    {
     "data": {
      "image/png": "[encoded data removed]",
      "text/plain": [
       "<Figure size 432x288 with 1 Axes>"
      ]
     },
     "metadata": {
      "needs_background": "light"
     },
     "output_type": "display_data"
    },
    {
     "name": "stdout",
     "output_type": "stream",
     "text": [
      "gaussian data mu= 0.5 Taylor expansion point= 0.0\n",
      "eff coeff: ['1.0000000000', '1.0000000000', '0.5000000000', '0.1666666667', '0.0416666667', '0.0083333333', '0.0013888889', '0.0001984127']\n",
      "min error: ['-0.2642410994', '-0.0803013667', '-0.0189880971', '-0.0036597580', '-0.0005940550', '-0.0000831484', '-0.0000101743', '-0.0000010691']\n",
      "max error: ['0.0000000000', '0.0000000000', '0.0000000000', '0.0000001151', '0.0000001151', '0.0000001151', '0.0000001151', '0.0000001452']\n",
      "avg error: ['-0.0961392000', '-0.0185434502', '-0.0029427567', '-0.0004004631', '-0.0000479765', '-0.0000051510', '-0.0000005048', '-0.0000000503']\n",
      "rms error: ['0.1116800383', '0.0245118439', '0.0044842409', '0.0007056722', '0.0000974278', '0.0000119626', '0.0000013185', '0.0000001426']\n",
      "\n",
      "gaussian data mu= 0.5 Taylor expansion point= 0.25\n",
      "eff coeff: ['1.0000000000', '1.0000000000', '0.5000000000', '0.1666666667', '0.0416666667', '0.0083333333', '0.0013888889', '0.0001984127']\n",
      "min error: ['-0.1733584702', '-0.0405053794', '-0.0072921510', '-0.0010646154', '-0.0001305991', '-0.0000137704', '-0.0000012424', '-0.0000001853']\n",
      "max error: ['0.0000000000', '0.0031448603', '0.0000000921', '0.0000100136', '0.0000001081', '0.0000001527', '0.0000001527', '0.0000001527']\n",
      "avg error: ['-0.0379446298', '-0.0051142462', '-0.0006067812', '-0.0000618568', '-0.0000056378', '-0.0000004548', '-0.0000000294', '0.0000000006']\n",
      "rms error: ['0.0529180244', '0.0088766860', '0.0012569559', '0.0001532888', '0.0000163440', '0.0000015407', '0.0000001401', '0.0000000591']\n",
      "\n",
      "gaussian data mu= 0.5 Taylor expansion point= 0.5\n",
      "eff coeff: ['1.0000000000', '1.0000000000', '0.5000000000', '0.1666666667', '0.0416666667', '0.0083333333', '0.0013888889', '0.0001984127']\n",
      "min error: ['-0.1756393909', '-0.0143876579', '-0.0038975477', '-0.0001720856', '-0.0000333190', '-0.0000009648', '-0.0000002375', '-0.0000002188']\n",
      "max error: ['0.0000000000', '0.0304508209', '0.0000000000', '0.0003960133', '0.0000000842', '0.0000023842', '0.0000001113', '0.0000001192']\n",
      "avg error: ['-0.0196070746', '0.0004964653', '-0.0001704717', '0.0000039779', '-0.0000008745', '-0.0000000189', '-0.0000000390', '-0.0000000373']\n",
      "rms error: ['0.0333622470', '0.0043670470', '0.0004640369', '0.0000411674', '0.0000031299', '0.0000002134', '0.0000000709', '0.0000000689']\n",
      "\n",
      "gaussian data mu= 0.5 Taylor expansion point= 0.75\n",
      "eff coeff: ['1.0000000000', '1.0000000000', '0.5000000000', '0.1666666667', '0.0416666667', '0.0083333333', '0.0013888889', '0.0001984127']\n",
      "min error: ['-0.4707499743', '-0.0021614202', '-0.0241952538', '-0.0000065782', '-0.0004720092', '-0.0000000663', '-0.0000048280', '-0.0000001028']\n",
      "max error: ['0.0000000000', '0.1246563196', '0.0000001139', '0.0037144423', '0.0000001312', '0.0000512600', '0.0000001853', '0.0000004750']\n",
      "avg error: ['-0.0684624538', '0.0108645968', '-0.0014295761', '0.0001595221', '-0.0000155459', '0.0000014003', '-0.0000000617', '0.0000000502']\n",
      "rms error: ['0.1080292836', '0.0215720143', '0.0034390169', '0.0004560400', '0.0000516865', '0.0000051244', '0.0000004437', '0.0000000847']\n",
      "\n",
      "gaussian data mu= 0.5 Taylor expansion point= 1.0\n",
      "eff coeff: ['1.0000000000', '1.0000000000', '0.5000000000', '0.1666666667', '0.0416666667', '0.0083333333', '0.0013888889', '0.0001984127']\n",
      "min error: ['-1.0000000000', '0.0000000000', '-0.0939061642', '-0.0000000919', '-0.0032967329', '-0.0000001148', '-0.0000607371', '-0.0000001990']\n",
      "max error: ['0.0000000000', '0.3591408730', '0.0000000000', '0.0193555355', '0.0000001021', '0.0004786253', '0.0000001171', '0.0000066757']\n",
      "avg error: ['-0.2241594791', '0.0514808930', '-0.0093034524', '0.0014031997', '-0.0001828921', '0.0000210277', '-0.0000022104', '0.0000001679']\n",
      "rms error: ['0.2914505303', '0.0789807588', '0.0167864636', '0.0029507221', '0.0004429119', '0.0000580026', '0.0000067501', '0.0000006985']\n",
      "\n"
     ]
    },
    {
     "data": {
      "image/png": "[encoded data removed]",
      "text/plain": [
       "<Figure size 432x288 with 1 Axes>"
      ]
     },
     "metadata": {
      "needs_background": "light"
     },
     "output_type": "display_data"
    },
    {
     "name": "stdout",
     "output_type": "stream",
     "text": [
      "gaussian data mu= 0.75 Taylor expansion point= 0.0\n",
      "eff coeff: ['1.0000000000', '1.0000000000', '0.5000000000', '0.1666666667', '0.0416666667', '0.0083333333', '0.0013888889', '0.0001984127']\n",
      "min error: ['-0.2642410994', '-0.0803013667', '-0.0189880971', '-0.0036597580', '-0.0005940550', '-0.0000831484', '-0.0000101743', '-0.0000010691']\n",
      "max error: ['0.0000000000', '0.0000000000', '0.0000000000', '0.0000001151', '0.0000001151', '0.0000001151', '0.0000001151', '0.0000001452']\n",
      "avg error: ['-0.1452626586', '-0.0344515853', '-0.0065235561', '-0.0010306210', '-0.0001399751', '-0.0000166905', '-0.0000017716', '-0.0000001659']\n",
      "rms error: ['0.1617374122', '0.0407819077', '0.0082545299', '0.0013965917', '0.0002029912', '0.0000258463', '0.0000029199', '0.0000002959']\n",
      "\n",
      "gaussian data mu= 0.75 Taylor expansion point= 0.25\n",
      "eff coeff: ['1.0000000000', '1.0000000000', '0.5000000000', '0.1666666667', '0.0416666667', '0.0083333333', '0.0013888889', '0.0001984127']\n",
      "min error: ['-0.1733584702', '-0.0405053794', '-0.0072921510', '-0.0010646154', '-0.0001305991', '-0.0000137704', '-0.0000012424', '-0.0000001853']\n",
      "max error: ['0.0000000000', '0.0031448603', '0.0000000921', '0.0000100136', '0.0000001081', '0.0000001527', '0.0000001527', '0.0000001527']\n",
      "avg error: ['-0.0765589178', '-0.0128294900', '-0.0018143177', '-0.0002115398', '-0.0000214464', '-0.0000019008', '-0.0000001423', '-0.0000000037']\n",
      "rms error: ['0.0897931010', '0.0170296282', '0.0026050238', '0.0003334184', '0.0000366432', '0.0000035196', '0.0000002998', '0.0000000626']\n",
      "\n",
      "gaussian data mu= 0.75 Taylor expansion point= 0.5\n",
      "eff coeff: ['1.0000000000', '1.0000000000', '0.5000000000', '0.1666666667', '0.0416666667', '0.0083333333', '0.0013888889', '0.0001984127']\n",
      "min error: ['-0.1756393909', '-0.0143876579', '-0.0038975477', '-0.0001720856', '-0.0000333190', '-0.0000009648', '-0.0000002375', '-0.0000002188']\n",
      "max error: ['0.0000000000', '0.0304508209', '0.0000000000', '0.0003960133', '0.0000000842', '0.0000023842', '0.0000001113', '0.0000001192']\n",
      "avg error: ['-0.0377804749', '-0.0009406581', '-0.0004666042', '-0.0000014988', '-0.0000028217', '-0.0000000218', '-0.0000000446', '-0.0000000374']\n",
      "rms error: ['0.0534882732', '0.0077100503', '0.0008684323', '0.0000799736', '0.0000062311', '0.0000004203', '0.0000000828', '0.0000000754']\n",
      "\n",
      "gaussian data mu= 0.75 Taylor expansion point= 0.75\n",
      "eff coeff: ['1.0000000000', '1.0000000000', '0.5000000000', '0.1666666667', '0.0416666667', '0.0083333333', '0.0013888889', '0.0001984127']\n",
      "min error: ['-0.4707499743', '-0.0021614202', '-0.0241952538', '-0.0000065782', '-0.0004720092', '-0.0000000663', '-0.0000048280', '-0.0000001028']\n",
      "max error: ['0.0000000000', '0.1246563196', '0.0000001139', '0.0037144423', '0.0000001312', '0.0000512600', '0.0000001853', '0.0000004750']\n",
      "avg error: ['-0.0514677204', '0.0098118065', '-0.0016576061', '0.0002243991', '-0.0000258532', '0.0000026254', '-0.0000001801', '0.0000000631']\n",
      "rms error: ['0.1202250421', '0.0286131948', '0.0051343064', '0.0007383929', '0.0000886444', '0.0000091542', '0.0000008162', '0.0000001051']\n",
      "\n",
      "gaussian data mu= 0.75 Taylor expansion point= 1.0\n",
      "eff coeff: ['1.0000000000', '1.0000000000', '0.5000000000', '0.1666666667', '0.0416666667', '0.0083333333', '0.0013888889', '0.0001984127']\n",
      "min error: ['-1.0000000000', '0.0000000000', '-0.0939061642', '-0.0000000919', '-0.0032967329', '-0.0000001148', '-0.0000607371', '-0.0000001990']\n",
      "max error: ['0.0000000000', '0.3591408730', '0.0000000000', '0.0193555355', '0.0000001021', '0.0004786253', '0.0000001171', '0.0000066757']\n",
      "avg error: ['-0.1505532861', '0.0382006429', '-0.0080369255', '0.0014269125', '-0.0002173455', '0.0000288133', '-0.0000034066', '0.0000003283']\n",
      "rms error: ['0.2814817727', '0.0896426588', '0.0216687694', '0.0041995253', '0.0006787260', '0.0000940760', '0.0000114281', '0.0000012302']\n",
      "\n"
     ]
    }
   ],
   "source": [
    "point_search(func=\"exp\", uniform=False, fxp=False, intwidth=intwidth, fracwidth=fracwidth, \n",
    "             valid=True, rounding_coeff=\"round\", rounding_var=\"round\", keepwidth=True)"
   ]
  },
  {
   "cell_type": "markdown",
   "metadata": {},
   "source": [
    "### fxp uniform"
   ]
  },
  {
   "cell_type": "code",
   "execution_count": 39,
   "metadata": {
    "scrolled": true
   },
   "outputs": [
    {
     "data": {
      "image/png": "[encoded data removed]",
      "text/plain": [
       "<Figure size 432x288 with 1 Axes>"
      ]
     },
     "metadata": {
      "needs_background": "light"
     },
     "output_type": "display_data"
    },
    {
     "name": "stdout",
     "output_type": "stream",
     "text": [
      "gaussian data mu= 0.5 Taylor expansion point= 0.0\n",
      "eff coeff: ['1.0000000000', '1.0000000000', '0.5000000000', '0.1666666667', '0.0416666667', '0.0083333333', '0.0013888889', '0.0001984127']\n",
      "min error: ['-0.2642347515', '-0.0802981853', '-0.0189870205', '-0.0036595094', '-0.0005941594', '-0.0000833262', '-0.0000103527', '-0.0000012333']\n",
      "max error: ['0.0000000000', '0.0000000000', '0.0000000000', '0.0000001181', '0.0000001181', '0.0000001181', '0.0000001181', '0.0000001181']\n",
      "avg error: ['-0.1034491807', '-0.0232669041', '-0.0043324907', '-0.0006860960', '-0.0000943419', '-0.0000114478', '-0.0000012406', '-0.0000001205']\n",
      "rms error: ['0.1318127513', '0.0333394371', '0.0068612061', '0.0011838431', '0.0001753698', '0.0000227220', '0.0000026125', '0.0000002718']\n",
      "\n",
      "gaussian data mu= 0.5 Taylor expansion point= 0.25\n",
      "eff coeff: ['1.0000000000', '1.0000000000', '0.5000000000', '0.1666666667', '0.0416666667', '0.0083333333', '0.0013888889', '0.0001984127']\n",
      "min error: ['-0.1733524203', '-0.0405030958', '-0.0072914870', '-0.0010645564', '-0.0001306047', '-0.0000138624', '-0.0000014055', '-0.0000002715']\n",
      "max error: ['0.0000000928', '0.0031445972', '0.0000000958', '0.0000100135', '0.0000001669', '0.0000001675', '0.0000001675', '0.0000001675']\n",
      "avg error: ['-0.0517702885', '-0.0082778512', '-0.0012145299', '-0.0001447073', '-0.0000151269', '-0.0000013754', '-0.0000001017', '0.0000000036']\n",
      "rms error: ['0.0732565969', '0.0142267374', '0.0022355921', '0.0002930155', '0.0000328549', '0.0000032107', '0.0000002780', '0.0000000512']\n",
      "\n",
      "gaussian data mu= 0.5 Taylor expansion point= 0.5\n",
      "eff coeff: ['1.0000000000', '1.0000000000', '0.5000000000', '0.1666666667', '0.0416666667', '0.0083333333', '0.0013888889', '0.0001984127']\n",
      "min error: ['-0.1756328791', '-0.0143863261', '-0.0038973382', '-0.0001721781', '-0.0000334964', '-0.0000011423', '-0.0000003569', '-0.0000002322']\n",
      "max error: ['0.0000000000', '0.0304491501', '0.0000000738', '0.0003958909', '0.0000000841', '0.0000025027', '0.0000001192', '0.0000001192']\n",
      "avg error: ['-0.0430603810', '0.0015850662', '-0.0005494605', '0.0000156859', '-0.0000033424', '0.0000000452', '-0.0000000427', '-0.0000000310']\n",
      "rms error: ['0.0604308136', '0.0087280544', '0.0009791506', '0.0000896988', '0.0000069589', '0.0000004628', '0.0000000697', '0.0000000579']\n",
      "\n",
      "gaussian data mu= 0.5 Taylor expansion point= 0.75\n",
      "eff coeff: ['1.0000000000', '1.0000000000', '0.5000000000', '0.1666666667', '0.0416666667', '0.0083333333', '0.0013888889', '0.0001984127']\n",
      "min error: ['-0.4707375169', '-0.0021610188', '-0.0241941102', '-0.0000065831', '-0.0004721247', '-0.0000001126', '-0.0000050050', '-0.0000001126']\n",
      "max error: ['0.0000001126', '0.1246516407', '0.0000001166', '0.0037141745', '0.0000001956', '0.0000513777', '0.0000002036', '0.0000005960']\n",
      "avg error: ['-0.1058967412', '0.0207060147', '-0.0032829863', '0.0004230831', '-0.0000464653', '0.0000044852', '-0.0000003355', '0.0000000697']\n",
      "rms error: ['0.1676442772', '0.0379897729', '0.0065666535', '0.0009186112', '0.0001079913', '0.0000109754', '0.0000009668', '0.0000001130']\n",
      "\n",
      "gaussian data mu= 0.5 Taylor expansion point= 1.0\n",
      "eff coeff: ['1.0000000000', '1.0000000000', '0.5000000000', '0.1666666667', '0.0416666667', '0.0083333333', '0.0013888889', '0.0001984127']\n",
      "min error: ['-0.9999786019', '-0.0000000883', '-0.0939025655', '-0.0000000962', '-0.0032964090', '-0.0000001192', '-0.0000609044', '-0.0000001680']\n",
      "max error: ['0.0000000000', '0.3591301739', '0.0000000890', '0.0193549059', '0.0000001017', '0.0004788600', '0.0000001191', '0.0000071511']\n",
      "avg error: ['-0.2816242874', '0.0773089975', '-0.0164423902', '0.0028627650', '-0.0004226048', '0.0000541585', '-0.0000061798', '0.0000005911']\n",
      "rms error: ['0.4002935290', '0.1236888990', '0.0288999900', '0.0054412563', '0.0008589632', '0.0001168115', '0.0000139858', '0.0000014696']\n",
      "\n"
     ]
    }
   ],
   "source": [
    "point_search(func=\"exp\", uniform=True, fxp=True, intwidth=intwidth, fracwidth=fracwidth, \n",
    "             valid=True, rounding_coeff=\"round\", rounding_var=\"round\", keepwidth=True)"
   ]
  },
  {
   "cell_type": "markdown",
   "metadata": {},
   "source": [
    "### flp uniform"
   ]
  },
  {
   "cell_type": "code",
   "execution_count": 7,
   "metadata": {
    "scrolled": true
   },
   "outputs": [
    {
     "data": {
      "image/png": "[encoded data removed]",
      "text/plain": [
       "<Figure size 432x288 with 1 Axes>"
      ]
     },
     "metadata": {
      "needs_background": "light"
     },
     "output_type": "display_data"
    },
    {
     "name": "stdout",
     "output_type": "stream",
     "text": [
      "gaussian data mu= 0.5 Taylor expansion point= 0.0\n",
      "eff coeff: ['1.0000000000', '1.0000000000', '0.5000000000', '0.1666666667', '0.0416666667', '0.0083333333', '0.0013888889', '0.0001984127']\n",
      "min error: ['-0.2642410994', '-0.0803013667', '-0.0189880971', '-0.0036597580', '-0.0005940550', '-0.0000831484', '-0.0000101743', '-0.0000010691']\n",
      "max error: ['0.0000000000', '0.0000000000', '0.0000000000', '0.0000001151', '0.0000001151', '0.0000001151', '0.0000001151', '0.0000001452']\n",
      "avg error: ['-0.1032798216', '-0.0232699420', '-0.0043405378', '-0.0006883879', '-0.0000947734', '-0.0000115114', '-0.0000012498', '-0.0000001229']\n",
      "rms error: ['0.1318960637', '0.0334064402', '0.0068819886', '0.0011883909', '0.0001761623', '0.0000228351', '0.0000026225', '0.0000002708']\n",
      "\n",
      "gaussian data mu= 0.5 Taylor expansion point= 0.25\n",
      "eff coeff: ['1.0000000000', '1.0000000000', '0.5000000000', '0.1666666667', '0.0416666667', '0.0083333333', '0.0013888889', '0.0001984127']\n",
      "min error: ['-0.1733584702', '-0.0405053794', '-0.0072921510', '-0.0010646154', '-0.0001305991', '-0.0000137704', '-0.0000012424', '-0.0000001853']\n",
      "max error: ['0.0000000000', '0.0031448603', '0.0000000921', '0.0000100136', '0.0000001081', '0.0000001527', '0.0000001527', '0.0000001527']\n",
      "avg error: ['-0.0518553033', '-0.0082983244', '-0.0012202385', '-0.0001455642', '-0.0000152349', '-0.0000013894', '-0.0000001071', '-0.0000000029']\n",
      "rms error: ['0.0734154433', '0.0142741641', '0.0022451959', '0.0002945346', '0.0000330505', '0.0000032311', '0.0000002818', '0.0000000626']\n",
      "\n",
      "gaussian data mu= 0.5 Taylor expansion point= 0.5\n",
      "eff coeff: ['1.0000000000', '1.0000000000', '0.5000000000', '0.1666666667', '0.0416666667', '0.0083333333', '0.0013888889', '0.0001984127']\n",
      "min error: ['-0.1756393909', '-0.0143876579', '-0.0038975477', '-0.0001720856', '-0.0000333190', '-0.0000009648', '-0.0000002375', '-0.0000002188']\n",
      "max error: ['0.0000000000', '0.0304508209', '0.0000000000', '0.0003960133', '0.0000000842', '0.0000023842', '0.0000001113', '0.0000001192']\n",
      "avg error: ['-0.0435579009', '0.0016346050', '-0.0005576657', '0.0000161364', '-0.0000033959', '0.0000000450', '-0.0000000457', '-0.0000000366']\n",
      "rms error: ['0.0609103069', '0.0088032028', '0.0009878683', '0.0000905140', '0.0000070178', '0.0000004657', '0.0000000838', '0.0000000742']\n",
      "\n",
      "gaussian data mu= 0.5 Taylor expansion point= 0.75\n",
      "eff coeff: ['1.0000000000', '1.0000000000', '0.5000000000', '0.1666666667', '0.0416666667', '0.0083333333', '0.0013888889', '0.0001984127']\n",
      "min error: ['-0.4707499743', '-0.0021614202', '-0.0241952538', '-0.0000065782', '-0.0004720092', '-0.0000000663', '-0.0000048280', '-0.0000001028']\n",
      "max error: ['0.0000000000', '0.1246563196', '0.0000001139', '0.0037144423', '0.0000001312', '0.0000512600', '0.0000001853', '0.0000004750']\n",
      "avg error: ['-0.1070341989', '0.0209916756', '-0.0033345751', '0.0004302712', '-0.0000472934', '0.0000045692', '-0.0000003409', '0.0000000699']\n",
      "rms error: ['0.1689928323', '0.0383313298', '0.0066281739', '0.0009273294', '0.0001090175', '0.0000110797', '0.0000009718', '0.0000001198']\n",
      "\n",
      "gaussian data mu= 0.5 Taylor expansion point= 1.0\n",
      "eff coeff: ['1.0000000000', '1.0000000000', '0.5000000000', '0.1666666667', '0.0416666667', '0.0083333333', '0.0013888889', '0.0001984127']\n",
      "min error: ['-1.0000000000', '0.0000000000', '-0.0939061642', '-0.0000000919', '-0.0032967329', '-0.0000001148', '-0.0000607371', '-0.0000001990']\n",
      "max error: ['0.0000000000', '0.3591408730', '0.0000000000', '0.0193555355', '0.0000001021', '0.0004786253', '0.0000001171', '0.0000066757']\n",
      "avg error: ['-0.2837255895', '0.0781209096', '-0.0166526493', '0.0029042254', '-0.0004292617', '0.0000550582', '-0.0000062814', '0.0000006034']\n",
      "rms error: ['0.4030027688', '0.1246916577', '0.0291548502', '0.0054912716', '0.0008670252', '0.0001179080', '0.0000141048', '0.0000014943']\n",
      "\n"
     ]
    }
   ],
   "source": [
    "point_search(func=\"exp\", uniform=True, fxp=False, intwidth=intwidth, fracwidth=fracwidth, \n",
    "             valid=True, rounding_coeff=\"round\", rounding_var=\"round\", keepwidth=True)"
   ]
  },
  {
   "cell_type": "markdown",
   "metadata": {},
   "source": [
    "## test div"
   ]
  },
  {
   "cell_type": "markdown",
   "metadata": {},
   "source": [
    "### fxp guassian"
   ]
  },
  {
   "cell_type": "code",
   "execution_count": 40,
   "metadata": {
    "scrolled": true
   },
   "outputs": [
    {
     "data": {
      "image/png": "[encoded data removed]",
      "text/plain": [
       "<Figure size 432x288 with 1 Axes>"
      ]
     },
     "metadata": {
      "needs_background": "light"
     },
     "output_type": "display_data"
    },
    {
     "name": "stdout",
     "output_type": "stream",
     "text": [
      "gaussian data mu= 0.625 Taylor expansion point= 1.0\n",
      "eff coeff: ['1.0000000000', '1.0000000000', '1.0000000000', '1.0000000000', '1.0000000000', '1.0000000000', '1.0000000000', '1.0000000000']\n",
      "min error: ['-0.2499996424', '-0.1249997318', '-0.0624998063', '-0.0312499031', '-0.0156249516', '-0.0078125056', '-0.0039062528', '-0.0019531264']\n",
      "max error: ['0.0000000000', '0.0000000000', '0.0000000000', '0.0000000000', '0.0000000000', '0.0000000000', '0.0000000000', '0.0000001058']\n",
      "avg error: ['-0.1190912798', '-0.0463044010', '-0.0186193790', '-0.0076849097', '-0.0032397748', '-0.0013900328', '-0.0006052774', '-0.0002668930']\n",
      "rms error: ['0.1364528388', '0.0569190197', '0.0246023778', '0.0109067867', '0.0049265968', '0.0022572600', '0.0010457650', '0.0004887856']\n",
      "\n"
     ]
    },
    {
     "data": {
      "image/png": "[encoded data removed]",
      "text/plain": [
       "<Figure size 432x288 with 1 Axes>"
      ]
     },
     "metadata": {
      "needs_background": "light"
     },
     "output_type": "display_data"
    },
    {
     "name": "stdout",
     "output_type": "stream",
     "text": [
      "gaussian data mu= 0.75 Taylor expansion point= 1.0\n",
      "eff coeff: ['1.0000000000', '1.0000000000', '1.0000000000', '1.0000000000', '1.0000000000', '1.0000000000', '1.0000000000', '1.0000000000']\n",
      "min error: ['-0.2499458790', '-0.1249594018', '-0.0624729060', '-0.0312330555', '-0.0156148290', '-0.0078065502', '-0.0039028577', '-0.0019511904']\n",
      "max error: ['0.0000000000', '0.0000000000', '0.0000000000', '0.0000000000', '0.0000000000', '0.0000000000', '0.0000000000', '0.0000001059']\n",
      "avg error: ['-0.0721732453', '-0.0228768475', '-0.0077802720', '-0.0027976411', '-0.0010524640', '-0.0004109096', '-0.0001654442', '-0.0000683464']\n",
      "rms error: ['0.0882058591', '0.0324417092', '0.0128625091', '0.0053711673', '0.0023266743', '0.0010348801', '0.0004693508', '0.0002159985']\n",
      "\n"
     ]
    },
    {
     "data": {
      "image/png": "[encoded data removed]",
      "text/plain": [
       "<Figure size 432x288 with 1 Axes>"
      ]
     },
     "metadata": {
      "needs_background": "light"
     },
     "output_type": "display_data"
    },
    {
     "name": "stdout",
     "output_type": "stream",
     "text": [
      "gaussian data mu= 0.875 Taylor expansion point= 1.0\n",
      "eff coeff: ['1.0000000000', '1.0000000000', '1.0000000000', '1.0000000000', '1.0000000000', '1.0000000000', '1.0000000000', '1.0000000000']\n",
      "min error: ['-0.2499911785', '-0.1249933839', '-0.0624956191', '-0.0312472135', '-0.0156233683', '-0.0078115650', '-0.0039057229', '-0.0019528018']\n",
      "max error: ['0.0000000000', '0.0000000000', '0.0000000000', '0.0000000000', '0.0000000000', '0.0000000000', '0.0000000000', '0.0000001059']\n",
      "avg error: ['-0.0469253287', '-0.0157218762', '-0.0060799262', '-0.0025524956', '-0.0011228292', '-0.0005076357', '-0.0002334135', '-0.0001085217']\n",
      "rms error: ['0.0779738873', '0.0335086621', '0.0152778402', '0.0071306094', '0.0033674892', '0.0016019259', '0.0007659766', '0.0003677173']\n",
      "\n"
     ]
    }
   ],
   "source": [
    "point_search(func=\"div\", uniform=False, fxp=True, intwidth=intwidth, fracwidth=fracwidth, \n",
    "             valid=True, rounding_coeff=\"round\", rounding_var=\"round\", keepwidth=True)"
   ]
  },
  {
   "cell_type": "markdown",
   "metadata": {},
   "source": [
    "### flp guassian"
   ]
  },
  {
   "cell_type": "code",
   "execution_count": 9,
   "metadata": {
    "scrolled": true
   },
   "outputs": [
    {
     "data": {
      "image/png": "[encoded data removed]",
      "text/plain": [
       "<Figure size 432x288 with 1 Axes>"
      ]
     },
     "metadata": {
      "needs_background": "light"
     },
     "output_type": "display_data"
    },
    {
     "name": "stdout",
     "output_type": "stream",
     "text": [
      "gaussian data mu= 0.625 Taylor expansion point= 1.0\n",
      "eff coeff: ['1.0000000000', '1.0000000000', '1.0000000000', '1.0000000000', '1.0000000000', '1.0000000000', '1.0000000000', '1.0000000000']\n",
      "min error: ['-0.2500000000', '-0.1250000000', '-0.0625000000', '-0.0312500000', '-0.0156250000', '-0.0078125000', '-0.0039062500', '-0.0019531250']\n",
      "max error: ['0.0000000000', '0.0000000000', '0.0000000000', '0.0000001159', '0.0000001159', '0.0000001159', '0.0000001159', '0.0000001159']\n",
      "avg error: ['-0.1187942475', '-0.0461726598', '-0.0185660087', '-0.0076646674', '-0.0032326023', '-0.0013877435', '-0.0006046839', '-0.0002668310']\n",
      "rms error: ['0.1362569630', '0.0568560250', '0.0245903414', '0.0109099094', '0.0049322345', '0.0022618673', '0.0010488506', '0.0004906699']\n",
      "\n"
     ]
    },
    {
     "data": {
      "image/png": "[encoded data removed]",
      "text/plain": [
       "<Figure size 432x288 with 1 Axes>"
      ]
     },
     "metadata": {
      "needs_background": "light"
     },
     "output_type": "display_data"
    },
    {
     "name": "stdout",
     "output_type": "stream",
     "text": [
      "gaussian data mu= 0.75 Taylor expansion point= 1.0\n",
      "eff coeff: ['1.0000000000', '1.0000000000', '1.0000000000', '1.0000000000', '1.0000000000', '1.0000000000', '1.0000000000', '1.0000000000']\n",
      "min error: ['-0.2500000000', '-0.1250000000', '-0.0625000000', '-0.0312500000', '-0.0156250000', '-0.0078125000', '-0.0039062500', '-0.0019531250']\n",
      "max error: ['0.0000000000', '0.0000000000', '0.0000000000', '0.0000001159', '0.0000001159', '0.0000001159', '0.0000001159', '0.0000001159']\n",
      "avg error: ['-0.0719374493', '-0.0227639657', '-0.0077289362', '-0.0027748246', '-0.0010424457', '-0.0004065325', '-0.0001635235', '-0.0000675014']\n",
      "rms error: ['0.0879143551', '0.0322869755', '0.0127877789', '0.0053362721', '0.0023105056', '0.0010273616', '0.0004658390', '0.0002143567']\n",
      "\n"
     ]
    },
    {
     "data": {
      "image/png": "[encoded data removed]",
      "text/plain": [
       "<Figure size 432x288 with 1 Axes>"
      ]
     },
     "metadata": {
      "needs_background": "light"
     },
     "output_type": "display_data"
    },
    {
     "name": "stdout",
     "output_type": "stream",
     "text": [
      "gaussian data mu= 0.875 Taylor expansion point= 1.0\n",
      "eff coeff: ['1.0000000000', '1.0000000000', '1.0000000000', '1.0000000000', '1.0000000000', '1.0000000000', '1.0000000000', '1.0000000000']\n",
      "min error: ['-0.2500000000', '-0.1250000000', '-0.0625000000', '-0.0312500000', '-0.0156250000', '-0.0078125000', '-0.0039062500', '-0.0019531250']\n",
      "max error: ['0.0000000000', '0.0000000000', '0.0000000000', '0.0000001159', '0.0000001159', '0.0000001159', '0.0000001159', '0.0000001159']\n",
      "avg error: ['-0.0469829924', '-0.0157558993', '-0.0060989410', '-0.0025630340', '-0.0011285889', '-0.0005107230', '-0.0002350368', '-0.0001093672']\n",
      "rms error: ['0.0780957341', '0.0335944593', '0.0153307766', '0.0071607246', '0.0033838642', '0.0016105927', '0.0007704844', '0.0003700361']\n",
      "\n"
     ]
    }
   ],
   "source": [
    "point_search(func=\"div\", uniform=False, fxp=False, intwidth=intwidth, fracwidth=fracwidth, \n",
    "             valid=True, rounding_coeff=\"round\", rounding_var=\"round\", keepwidth=True)"
   ]
  },
  {
   "cell_type": "markdown",
   "metadata": {},
   "source": [
    "### fxp uniform"
   ]
  },
  {
   "cell_type": "code",
   "execution_count": 41,
   "metadata": {
    "scrolled": true
   },
   "outputs": [
    {
     "data": {
      "image/png": "[encoded data removed]",
      "text/plain": [
       "<Figure size 432x288 with 1 Axes>"
      ]
     },
     "metadata": {
      "needs_background": "light"
     },
     "output_type": "display_data"
    },
    {
     "name": "stdout",
     "output_type": "stream",
     "text": [
      "gaussian data mu= 0.5 Taylor expansion point= 1.0\n",
      "eff coeff: ['1.0000000000', '1.0000000000', '1.0000000000', '1.0000000000', '1.0000000000', '1.0000000000', '1.0000000000', '1.0000000000']\n",
      "min error: ['-0.2499910593', '-0.1249932945', '-0.0624955148', '-0.0312472209', '-0.0156233720', '-0.0078115668', '-0.0039057238', '-0.0019528023']\n",
      "max error: ['0.0000000000', '0.0000000000', '0.0000000000', '0.0000000000', '0.0000000000', '0.0000000000', '0.0000000000', '0.0000001060']\n",
      "avg error: ['-0.0830337629', '-0.0311226733', '-0.0124441441', '-0.0051830774', '-0.0022204656', '-0.0009710827', '-0.0004314310', '-0.0001940734']\n",
      "rms error: ['0.1115533262', '0.0471218303', '0.0207708888', '0.0093906289', '0.0043176655', '0.0020091892', '0.0009434154', '0.0004460919']\n",
      "\n"
     ]
    }
   ],
   "source": [
    "point_search(func=\"div\", uniform=True, fxp=True, intwidth=intwidth, fracwidth=fracwidth, \n",
    "             valid=True, rounding_coeff=\"round\", rounding_var=\"round\", keepwidth=True)"
   ]
  },
  {
   "cell_type": "markdown",
   "metadata": {},
   "source": [
    "### flp uniform"
   ]
  },
  {
   "cell_type": "code",
   "execution_count": 11,
   "metadata": {
    "scrolled": true
   },
   "outputs": [
    {
     "data": {
      "image/png": "[encoded data removed]",
      "text/plain": [
       "<Figure size 432x288 with 1 Axes>"
      ]
     },
     "metadata": {
      "needs_background": "light"
     },
     "output_type": "display_data"
    },
    {
     "name": "stdout",
     "output_type": "stream",
     "text": [
      "gaussian data mu= 0.5 Taylor expansion point= 1.0\n",
      "eff coeff: ['1.0000000000', '1.0000000000', '1.0000000000', '1.0000000000', '1.0000000000', '1.0000000000', '1.0000000000', '1.0000000000']\n",
      "min error: ['-0.2500000000', '-0.1250000000', '-0.0625000000', '-0.0312500000', '-0.0156250000', '-0.0078125000', '-0.0039062500', '-0.0019531250']\n",
      "max error: ['0.0000000000', '0.0000000000', '0.0000000000', '0.0000001159', '0.0000001159', '0.0000001159', '0.0000001159', '0.0000001159']\n",
      "avg error: ['-0.0835939571', '-0.0313719139', '-0.0125570949', '-0.0052354163', '-0.0022451247', '-0.0009828135', '-0.0004370438', '-0.0001967706']\n",
      "rms error: ['0.1120583639', '0.0473827720', '0.0209055375', '0.0094594769', '0.0043525966', '0.0020268362', '0.0009523164', '0.0004505817']\n",
      "\n"
     ]
    }
   ],
   "source": [
    "point_search(func=\"div\", uniform=True, fxp=False, intwidth=intwidth, fracwidth=fracwidth, \n",
    "             valid=True, rounding_coeff=\"round\", rounding_var=\"round\", keepwidth=True)"
   ]
  },
  {
   "cell_type": "markdown",
   "metadata": {},
   "source": [
    "## test log"
   ]
  },
  {
   "cell_type": "markdown",
   "metadata": {},
   "source": [
    "### fxp guassian"
   ]
  },
  {
   "cell_type": "code",
   "execution_count": 42,
   "metadata": {},
   "outputs": [
    {
     "data": {
      "image/png": "[encoded data removed]",
      "text/plain": [
       "<Figure size 432x288 with 1 Axes>"
      ]
     },
     "metadata": {
      "needs_background": "light"
     },
     "output_type": "display_data"
    },
    {
     "name": "stdout",
     "output_type": "stream",
     "text": [
      "gaussian data mu= 0.625 Taylor expansion point= 0.5\n",
      "eff coeff: ['0.6931471806', '2.0000000000', '2.0000000000', '2.6666666667', '4.0000000000', '6.4000000000', '10.6666666667', '18.2857142857']\n",
      "min error: ['-91929.8437500000', '-0.0000000000', '-41997.7500000000', '-0.0000000000', '-27018.1152343750', '-0.0000000964', '-19884.9492187500', '-0.0000001098']\n",
      "max error: ['-0.0000000000', '57864.4726562500', '0.0000000871', '32898.4257812500', '0.0000000928', '22911.9960937500', '0.0000001050', '17562.1308593750']\n",
      "avg error: ['-6.2969470024', '3.8898663521', '-2.7871150970', '2.1614005566', '-1.7600390911', '1.4813567400', '-1.2768644094', '1.1205775738']\n",
      "rms error: ['363.6664733887', '228.9020996094', '166.1326293945', '130.1352539062', '106.8725891113', '90.6287078857', '78.6536102295', '69.4644851685']\n",
      "\n",
      "gaussian data mu= 0.625 Taylor expansion point= 0.625\n",
      "eff coeff: ['0.4700036292', '1.6000000000', '1.2800000000', '1.3653333333', '1.6384000000', '2.0971520000', '2.7962026667', '3.8347922286']\n",
      "min error: ['-38945.3632812500', '-0.0045346455', '-6589.7387695312', '-0.0001109313', '-1542.3188476562', '-0.0000031864', '-410.8564453125', '-0.0000001731']\n",
      "max error: ['0.0000001268', '14980.3671875000', '0.0000001300', '3116.7089843750', '0.0000001432', '787.1772460938', '0.0000001652', '218.1067657471']\n",
      "avg error: ['-2.6221177578', '0.9912171364', '-0.4310185015', '0.2017657161', '-0.0989482254', '0.0500858650', '-0.0259435941', '0.0136749679']\n",
      "rms error: ['154.0621948242', '59.2585449219', '26.0666198730', '12.3282709122', '6.1005668640', '3.1135294437', '1.6250256300', '0.8626286983']\n",
      "\n",
      "gaussian data mu= 0.625 Taylor expansion point= 0.75\n",
      "eff coeff: ['0.2876820725', '1.3333333333', '0.8888888889', '0.7901234568', '0.7901234568', '0.8427983539', '0.9364426155', '1.0702201319']\n",
      "min error: ['-13676.4414062500', '-0.0239131525', '-731.3916015625', '-0.0016503818', '-53.3213386536', '-0.0001332986', '-4.3928513527', '-0.0000116950']\n",
      "max error: ['0.0000001036', '2967.1376953125', '0.0000002175', '193.2496643066', '0.0000002384', '15.1606864929', '0.0000003169', '1.3035675287']\n",
      "avg error: ['-0.9322598577', '0.1878793091', '-0.0477485806', '0.0120375985', '-0.0033834525', '0.0009295219', '-0.0002732815', '0.0000786460']\n",
      "rms error: ['54.1004753113', '11.7367668152', '2.8929650784', '0.7643375397', '0.2108960301', '0.0599608198', '0.0173957236', '0.0051528811']\n",
      "\n",
      "gaussian data mu= 0.625 Taylor expansion point= 0.875\n",
      "eff coeff: ['0.1335313926', '1.1428571429', '0.6530612245', '0.4975704568', '0.4264889629', '0.3899327661', '0.3713645392', '0.3637856710']\n",
      "min error: ['-2793.7810058594', '-0.0565628037', '-27.9999542236', '-0.0065416256', '-0.3750010729', '-0.0008802266', '-0.0117671899', '-0.0001406714']\n",
      "max error: ['0.0000002231', '263.1245422363', '0.0000002426', '3.1785643101', '0.0000003922', '0.0357125215', '0.0000337366', '0.0001759498']\n",
      "avg error: ['-0.2669611275', '-0.0023930043', '-0.0064200945', '-0.0011107541', '-0.0004091534', '-0.0001182538', '-0.0000395382', '-0.0000131849']\n",
      "rms error: ['11.0510377884', '1.0409529209', '0.1109613031', '0.0127361892', '0.0016244679', '0.0002775720', '0.0000863736', '0.0000279230']\n",
      "\n",
      "gaussian data mu= 0.625 Taylor expansion point= 1.0\n",
      "eff coeff: ['0.0000000000', '1.0000000000', '0.5000000000', '0.3333333333', '0.2500000000', '0.2000000000', '0.1666666667', '0.1428571429']\n",
      "min error: ['-0.2786493301', '-0.0983134806', '-0.0382021070', '-0.0156605337', '-0.0066439565', '-0.0028871999', '-0.0012770823', '-0.0005727134']\n",
      "max error: ['-0.0000017030', '0.0001017920', '0.0001017920', '0.0001017920', '0.0001017920', '0.0001017920', '0.0001017920', '0.0001017920']\n",
      "avg error: ['-0.1737888306', '-0.0448839553', '-0.0135207921', '-0.0044583152', '-0.0015640446', '-0.0005744652', '-0.0002186583', '-0.0000856473']\n",
      "rms error: ['0.1870426387', '0.0518972576', '0.0168337896', '0.0059804264', '0.0022561520', '0.0008881913', '0.0003609325', '0.0001503171']\n",
      "\n"
     ]
    },
    {
     "data": {
      "image/png": "[encoded data removed]",
      "text/plain": [
       "<Figure size 432x288 with 1 Axes>"
      ]
     },
     "metadata": {
      "needs_background": "light"
     },
     "output_type": "display_data"
    },
    {
     "name": "stdout",
     "output_type": "stream",
     "text": [
      "gaussian data mu= 0.75 Taylor expansion point= 0.5\n",
      "eff coeff: ['0.6931471806', '2.0000000000', '2.0000000000', '2.6666666667', '4.0000000000', '6.4000000000', '10.6666666667', '18.2857142857']\n",
      "min error: ['-90317.0234375000', '-0.0000000000', '-41260.9140625000', '-0.0000000000', '-26544.0957031250', '-0.0000000961', '-19536.0722656250', '-0.0000001094']\n",
      "max error: ['-0.0000000000', '56849.2890625000', '0.0000000871', '32321.2441406250', '0.0000000921', '22510.0156250000', '0.0000001050', '17253.9882812500']\n",
      "avg error: ['-2.2465460300', '1.3001899719', '-0.8902928829', '0.6688733101', '-0.5325165391', '0.4409216940', '-0.3754836619', '0.3265425265']\n",
      "rms error: ['292.1458740234', '183.8875427246', '133.4638214111', '104.5467071533', '85.8594131470', '72.8104324341', '63.1906776428', '55.8088607788']\n",
      "\n",
      "gaussian data mu= 0.75 Taylor expansion point= 0.625\n",
      "eff coeff: ['0.4700036292', '1.6000000000', '1.2800000000', '1.3653333333', '1.6384000000', '2.0971520000', '2.7962026667', '3.8347922286']\n",
      "min error: ['-38262.0937500000', '-0.0045339628', '-6474.1118164062', '-0.0001108466', '-1515.2781982422', '-0.0000031851', '-403.6484375000', '-0.0000001724']\n",
      "max error: ['0.0000001268', '14717.5371093750', '0.0000001299', '3062.0476074219', '0.0000001423', '773.3496093750', '0.0000001660', '214.2628021240']\n",
      "avg error: ['-0.8748081326', '0.3121472001', '-0.1309655160', '0.0599357560', '-0.0289543439', '0.0145060793', '-0.0074600079', '0.0039119045']\n",
      "rms error: ['123.7646713257', '47.6057815552', '20.9412002563', '9.9044485092', '4.9012627602', '2.5014352798', '1.3056104183', '0.6930356026']\n",
      "\n",
      "gaussian data mu= 0.75 Taylor expansion point= 0.75\n",
      "eff coeff: ['0.2876820725', '1.3333333333', '0.8888888889', '0.7901234568', '0.7901234568', '0.8427983539', '0.9364426155', '1.0702201319']\n",
      "min error: ['-13436.4863281250', '-0.0239113979', '-718.5426635742', '-0.0016502303', '-52.4034194946', '-0.0001332911', '-4.3333277702', '-0.0000116143']\n",
      "max error: ['0.0000001036', '2915.1003417969', '0.0000002184', '189.8417816162', '0.0000002384', '14.8947095871', '0.0000003267', '1.2806980610']\n",
      "avg error: ['-0.2864836454', '0.0557152964', '-0.0138029037', '0.0034679580', '-0.0009608483', '0.0002648643', '-0.0000771631', '0.0000223912']\n",
      "rms error: ['43.4620323181', '9.4291629791', '2.3241734505', '0.6140487194', '0.1694987118', '0.0481749438', '0.0140137887', '0.0041423989']\n",
      "\n",
      "gaussian data mu= 0.75 Taylor expansion point= 0.875\n",
      "eff coeff: ['0.1335313926', '1.1428571429', '0.6530612245', '0.4975704568', '0.4264889629', '0.3899327661', '0.3713645392', '0.3637856710']\n",
      "min error: ['-2744.7673339844', '-0.0565602444', '-27.5087280273', '-0.0065410691', '-0.3684221208', '-0.0008801515', '-0.0006687404', '-0.0001332987']\n",
      "max error: ['0.0000002231', '258.5083312988', '0.0000002448', '3.1403439045', '0.0000003881', '0.0526298173', '0.0000173369', '0.0001578439']\n",
      "avg error: ['-0.0987452045', '-0.0031606220', '-0.0020905598', '-0.0003297270', '-0.0001081305', '-0.0000283239', '-0.0000088738', '-0.0000028030']\n",
      "rms error: ['8.8783397675', '0.8362427354', '0.0890362635', '0.0101977801', '0.0012269195', '0.0001938894', '0.0000332213', '0.0000117664']\n",
      "\n",
      "gaussian data mu= 0.75 Taylor expansion point= 1.0\n",
      "eff coeff: ['0.0000000000', '1.0000000000', '0.5000000000', '0.3333333333', '0.2500000000', '0.2000000000', '0.1666666667', '0.1428571429']\n",
      "min error: ['-0.2786448598', '-0.0983103812', '-0.0382003821', '-0.0156596452', '-0.0066434885', '-0.0028868280', '-0.0012769292', '-0.0005726359']\n",
      "max error: ['-0.0000016731', '0.0001067658', '0.0001067658', '0.0001067658', '0.0001067658', '0.0001067658', '0.0001067658', '0.0001067658']\n",
      "avg error: ['-0.1320931464', '-0.0263540410', '-0.0064358586', '-0.0017890075', '-0.0005457099', '-0.0001786516', '-0.0000618334', '-0.0000223826']\n",
      "rms error: ['0.1427501589', '0.0326716341', '0.0093286950', '0.0030409119', '0.0010815803', '0.0004087092', '0.0001613500', '0.0000658143']\n",
      "\n"
     ]
    },
    {
     "data": {
      "image/png": "[encoded data removed]",
      "text/plain": [
       "<Figure size 432x288 with 1 Axes>"
      ]
     },
     "metadata": {
      "needs_background": "light"
     },
     "output_type": "display_data"
    },
    {
     "name": "stdout",
     "output_type": "stream",
     "text": [
      "gaussian data mu= 0.875 Taylor expansion point= 0.5\n",
      "eff coeff: ['0.6931471806', '2.0000000000', '2.0000000000', '2.6666666667', '4.0000000000', '6.4000000000', '10.6666666667', '18.2857142857']\n",
      "min error: ['-28599.6035156250', '-0.0000000000', '-13065.2304687500', '-0.0000000000', '-8404.9160156250', '-0.0000000962', '-6185.7167968750', '-0.0000001093']\n",
      "max error: ['-0.0000000000', '18001.5253906250', '0.0000000870', '10234.3339843750', '0.0000000928', '7127.4619140625', '0.0000001028', '5463.0595703125']\n",
      "avg error: ['-6.0155401230', '3.6031174660', '-2.5095064640', '1.8987257481', '-1.5137387514', '1.2510437965', '-1.0614495277', '0.9187666178']\n",
      "rms error: ['138.1082000732', '86.9171066284', '63.0743103027', '49.4011611938', '40.5653152466', '34.3955726624', '29.8473033905', '26.3572444916']\n",
      "\n",
      "gaussian data mu= 0.875 Taylor expansion point= 0.625\n",
      "eff coeff: ['0.4700036292', '1.6000000000', '1.2800000000', '1.3653333333', '1.6384000000', '2.0971520000', '2.7962026667', '3.8347922286']\n",
      "min error: ['-12115.8798828125', '-0.0045348820', '-2049.9833984375', '-0.0001109299', '-479.7863159180', '-0.0000031858', '-127.7993164062', '-0.0000001734']\n",
      "max error: ['0.0000001268', '4660.2919921875', '0.0000001297', '969.5503540039', '0.0000001424', '244.8653564453', '0.0000001666', '67.8440780640']\n",
      "avg error: ['-2.4425148964', '0.8880558014', '-0.3739768863', '0.1706339270', '-0.0819413066', '0.0407573394', '-0.0208005365', '0.0108249709']\n",
      "rms error: ['58.5015869141', '22.4980792999', '9.8947868347', '4.6790246964', '2.3150451183', '1.1813286543', '0.6164677143', '0.3272036612']\n",
      "\n",
      "gaussian data mu= 0.875 Taylor expansion point= 0.75\n",
      "eff coeff: ['0.2876820725', '1.3333333333', '0.8888888889', '0.7901234568', '0.7901234568', '0.8427983539', '0.9364426155', '1.0702201319']\n",
      "min error: ['-4254.6440429688', '-0.0239135586', '-227.5154571533', '-0.0016504474', '-16.5888061523', '-0.0001332990', '-1.3666647673', '-0.0000116958']\n",
      "max error: ['0.0000001036', '923.0283813477', '0.0000002180', '60.1107864380', '0.0000002384', '4.7166361809', '0.0000003192', '0.4055480361']\n",
      "avg error: ['-0.8072923422', '0.1616810858', '-0.0388539806', '0.0097322408', '-0.0026513902', '0.0007239458', '-0.0002086288', '0.0000598009']\n",
      "rms error: ['20.5395393372', '4.4548292160', '1.0977915525', '0.2899671793', '0.0800059736', '0.0227381848', '0.0065921894', '0.0019537343']\n",
      "\n",
      "gaussian data mu= 0.875 Taylor expansion point= 0.875\n",
      "eff coeff: ['0.1335313926', '1.1428571429', '0.6530612245', '0.4975704568', '0.4264889629', '0.3899327661', '0.3713645392', '0.3637856710']\n",
      "min error: ['-869.0731201172', '-0.0565634035', '-8.7110700607', '-0.0065417672', '-0.1166713834', '-0.0008802157', '-0.0009605503', '-0.0001541455']\n",
      "max error: ['0.0000002233', '81.8440017700', '0.0000002444', '0.9888782501', '0.0000003860', '0.0111057116', '0.0000256269', '0.0001574123']\n",
      "avg error: ['-0.1715938598', '0.0070787794', '-0.0027940990', '-0.0003039169', '-0.0001604197', '-0.0000466525', '-0.0000170746', '-0.0000060797']\n",
      "rms error: ['4.1936964989', '0.3949855566', '0.0422183536', '0.0049669491', '0.0007397467', '0.0001747994', '0.0000598319', '0.0000219737']\n",
      "\n",
      "gaussian data mu= 0.875 Taylor expansion point= 1.0\n",
      "eff coeff: ['0.0000000000', '1.0000000000', '0.5000000000', '0.3333333333', '0.2500000000', '0.2000000000', '0.1666666667', '0.1428571429']\n",
      "min error: ['-0.2786503434', '-0.0983141437', '-0.0382025316', '-0.0156607181', '-0.0066440976', '-0.0028871866', '-0.0012771555', '-0.0005727077']\n",
      "max error: ['-0.0000053405', '0.0001117123', '0.0001117123', '0.0001117123', '0.0001117123', '0.0001117123', '0.0001117123', '0.0001117123']\n",
      "avg error: ['-0.0935587659', '-0.0173095260', '-0.0045367037', '-0.0014492078', '-0.0005191126', '-0.0001992143', '-0.0000798929', '-0.0000330202']\n",
      "rms error: ['0.1158626452', '0.0296288915', '0.0099531822', '0.0037308845', '0.0014796940', '0.0006079262', '0.0002560419', '0.0001098901']\n",
      "\n"
     ]
    }
   ],
   "source": [
    "point_search(func=\"log\", uniform=False, fxp=True, intwidth=intwidth, fracwidth=fracwidth, \n",
    "             valid=True, rounding_coeff=\"round\", rounding_var=\"round\", keepwidth=True)"
   ]
  },
  {
   "cell_type": "markdown",
   "metadata": {},
   "source": [
    "### flp guassian"
   ]
  },
  {
   "cell_type": "code",
   "execution_count": 13,
   "metadata": {},
   "outputs": [
    {
     "data": {
      "image/png": "[encoded data removed]",
      "text/plain": [
       "<Figure size 432x288 with 1 Axes>"
      ]
     },
     "metadata": {
      "needs_background": "light"
     },
     "output_type": "display_data"
    },
    {
     "name": "stdout",
     "output_type": "stream",
     "text": [
      "gaussian data mu= 0.625 Taylor expansion point= 0.5\n",
      "eff coeff: ['0.6931471806', '2.0000000000', '2.0000000000', '2.6666666667', '4.0000000000', '6.4000000000', '10.6666666667', '18.2857142857']\n",
      "min error: ['-77.4047012329', '-0.0000000000', '-34.8291854858', '-0.0000000000', '-22.0618782043', '-0.0000000000', '-15.9861488342', '-0.0000001074']\n",
      "max error: ['-0.0000000000', '48.3568382263', '-0.0000000000', '27.0729103088', '0.0000000910', '18.5638923645', '0.0000000988', '14.0089540482']\n",
      "avg error: ['-1.6925644875', '0.9925007224', '-0.6846835017', '0.5148153901', '-0.4080315232', '0.3350591362', '-0.2822289169', '0.2423352748']\n",
      "rms error: ['7.9678211212', '4.9462628365', '3.5417876244', '2.7380793095', '2.2198917866', '1.8589351177', '1.5935235023', '1.3904045820']\n",
      "\n",
      "gaussian data mu= 0.625 Taylor expansion point= 0.625\n",
      "eff coeff: ['0.4700036292', '1.6000000000', '1.2800000000', '1.3653333333', '1.6384000000', '2.0971520000', '2.7962026667', '3.8347922286']\n",
      "min error: ['-32.6171531677', '-0.0045351824', '-5.4074172974', '-0.0001109288', '-1.2396439314', '-0.0000031817', '-0.3234119117', '-0.0000001173']\n",
      "max error: ['-0.0000000000', '12.4196519852', '-0.0000000000', '2.5311989784', '0.0000000698', '0.6261376739', '0.0000001544', '0.1699087471']\n",
      "avg error: ['-0.6722353101', '0.2412831485', '-0.1012238935', '0.0458209440', '-0.0218001902', '0.0107235592', '-0.0054059764', '0.0027765022']\n",
      "rms error: ['3.3414943218', '1.2624169588', '0.5457237363', '0.2537702322', '0.1235238388', '0.0620353892', '0.0318715498', '0.0166597273']\n",
      "\n",
      "gaussian data mu= 0.625 Taylor expansion point= 0.75\n",
      "eff coeff: ['0.2876820725', '1.3333333333', '0.8888888889', '0.7901234568', '0.7901234568', '0.8427983539', '0.9364426155', '1.0702201319']\n",
      "min error: ['-11.3331508636', '-0.0239143595', '-0.5875919461', '-0.0016505175', '-0.0415202901', '-0.0001332866', '-0.0033212234', '-0.0000115228']\n",
      "max error: ['-0.0000000000', '2.4211645126', '0.0000001017', '0.1528442204', '0.0000001160', '0.0116262455', '0.0000001666', '0.0009703707']\n",
      "avg error: ['-0.2482657284', '0.0392529555', '-0.0111985710', '0.0023664613', '-0.0007213034', '0.0001715801', '-0.0000537478', '0.0000137087']\n",
      "rms error: ['1.1518979073', '0.2434730083', '0.0585327819', '0.0150967147', '0.0040696678', '0.0011314300', '0.0003212289', '0.0000931787']\n",
      "\n",
      "gaussian data mu= 0.625 Taylor expansion point= 0.875\n",
      "eff coeff: ['0.1335313926', '1.1428571429', '0.6530612245', '0.4975704568', '0.4264889629', '0.3899327661', '0.3713645392', '0.3637856710']\n",
      "min error: ['-2.2421050072', '-0.0565645769', '-0.0211066939', '-0.0065419623', '-0.0023701789', '-0.0008802932', '-0.0003329584', '-0.0001276971']\n",
      "max error: ['-0.0000000000', '0.2046341300', '0.0000001014', '0.0023239641', '0.0000002027', '0.0000290302', '0.0000002027', '0.0000002027']\n",
      "avg error: ['-0.1280818731', '-0.0158579629', '-0.0051306556', '-0.0013076486', '-0.0004041163', '-0.0001254095', '-0.0000411625', '-0.0000138578']\n",
      "rms error: ['0.2461652160', '0.0317604654', '0.0071551069', '0.0021100012', '0.0006833181', '0.0002320426', '0.0000813918', '0.0000292502']\n",
      "\n",
      "gaussian data mu= 0.625 Taylor expansion point= 1.0\n",
      "eff coeff: ['0.0000000000', '1.0000000000', '0.5000000000', '0.3333333333', '0.2500000000', '0.2000000000', '0.1666666667', '0.1428571429']\n",
      "min error: ['-0.2786524892', '-0.0983156040', '-0.0382032804', '-0.0156611707', '-0.0066442918', '-0.0028872448', '-0.0012770572', '-0.0005726162']\n",
      "max error: ['-0.0019544237', '-0.0000051160', '-0.0000000000', '-0.0000000000', '0.0000001173', '0.0000001173', '0.0000001173', '0.0000002232']\n",
      "avg error: ['-0.1747645140', '-0.0453421585', '-0.0137232589', '-0.0045461035', '-0.0016021583', '-0.0005911228', '-0.0002259959', '-0.0000889019']\n",
      "rms error: ['0.1880144924', '0.0524182059', '0.0170824174', '0.0060966685', '0.0023104213', '0.0009136137', '0.0003728904', '0.0001559594']\n",
      "\n"
     ]
    },
    {
     "data": {
      "image/png": "[encoded data removed]",
      "text/plain": [
       "<Figure size 432x288 with 1 Axes>"
      ]
     },
     "metadata": {
      "needs_background": "light"
     },
     "output_type": "display_data"
    },
    {
     "name": "stdout",
     "output_type": "stream",
     "text": [
      "gaussian data mu= 0.75 Taylor expansion point= 0.5\n",
      "eff coeff: ['0.6931471806', '2.0000000000', '2.0000000000', '2.6666666667', '4.0000000000', '6.4000000000', '10.6666666667', '18.2857142857']\n",
      "min error: ['-77.4047012329', '-0.0000000000', '-34.8291854858', '-0.0000000000', '-22.0618782043', '-0.0000000000', '-15.9861488342', '-0.0000001074']\n",
      "max error: ['-0.0000000000', '48.3568382263', '-0.0000000000', '27.0729103088', '0.0000000910', '18.5638923645', '0.0000000988', '14.0089540482']\n",
      "avg error: ['-0.8621091247', '0.4307563305', '-0.2604929805', '0.1763121933', '-0.1285244673', '0.0986966416', '-0.0787431002', '0.0646705106']\n",
      "rms error: ['3.6111457348', '2.2170584202', '1.5759402514', '1.2119811773', '0.9787576795', '0.8170865774', '0.6986770630', '0.6083543301']\n",
      "\n",
      "gaussian data mu= 0.75 Taylor expansion point= 0.625\n",
      "eff coeff: ['0.4700036292', '1.6000000000', '1.2800000000', '1.3653333333', '1.6384000000', '2.0971520000', '2.7962026667', '3.8347922286']\n",
      "min error: ['-32.6171531677', '-0.0045351824', '-5.4074172974', '-0.0001109288', '-1.2396439314', '-0.0000031817', '-0.3234119117', '-0.0000001173']\n",
      "max error: ['-0.0000000000', '12.4196519852', '-0.0000000000', '2.5311989784', '0.0000000698', '0.6261376739', '0.0000001544', '0.1699087471']\n",
      "avg error: ['-0.2894486189', '0.0875762776', '-0.0323811956', '0.0133788893', '-0.0059429244', '0.0027732302', '-0.0013412056', '0.0006662589']\n",
      "rms error: ['1.4997353554', '0.5610924363', '0.2410333455', '0.1115889028', '0.0541360192', '0.0271168705', '0.0139021957', '0.0072540683']\n",
      "\n",
      "gaussian data mu= 0.75 Taylor expansion point= 0.75\n",
      "eff coeff: ['0.2876820725', '1.3333333333', '0.8888888889', '0.7901234568', '0.7901234568', '0.8427983539', '0.9364426155', '1.0702201319']\n",
      "min error: ['-11.3331508636', '-0.0239143595', '-0.5875919461', '-0.0016505175', '-0.0415202901', '-0.0001332866', '-0.0033212234', '-0.0000115228']\n",
      "max error: ['-0.0000000000', '2.4211645126', '0.0000001017', '0.1528442204', '0.0000001160', '0.0116262455', '0.0000001666', '0.0009703707']\n",
      "avg error: ['-0.0820988342', '0.0113148885', '-0.0029093835', '0.0005865801', '-0.0001680360', '0.0000393039', '-0.0000117545', '0.0000030277']\n",
      "rms error: ['0.5110547543', '0.1071594432', '0.0256326068', '0.0065878262', '0.0017712051', '0.0004913982', '0.0001392824', '0.0000403430']\n",
      "\n",
      "gaussian data mu= 0.75 Taylor expansion point= 0.875\n",
      "eff coeff: ['0.1335313926', '1.1428571429', '0.6530612245', '0.4975704568', '0.4264889629', '0.3899327661', '0.3713645392', '0.3637856710']\n",
      "min error: ['-2.2421050072', '-0.0565645769', '-0.0211066939', '-0.0065419623', '-0.0023701789', '-0.0008802932', '-0.0003329584', '-0.0001276971']\n",
      "max error: ['-0.0000000000', '0.2046341300', '0.0000001014', '0.0023239641', '0.0000002027', '0.0000290302', '0.0000002027', '0.0000002027']\n",
      "avg error: ['-0.0583217666', '-0.0073486161', '-0.0017454770', '-0.0003970717', '-0.0001086455', '-0.0000310127', '-0.0000095050', '-0.0000030339']\n",
      "rms error: ['0.1172810420', '0.0158249121', '0.0034741124', '0.0009782794', '0.0003065780', '0.0001019446', '0.0000352827', '0.0000125712']\n",
      "\n",
      "gaussian data mu= 0.75 Taylor expansion point= 1.0\n",
      "eff coeff: ['0.0000000000', '1.0000000000', '0.5000000000', '0.3333333333', '0.2500000000', '0.2000000000', '0.1666666667', '0.1428571429']\n",
      "min error: ['-0.2786524892', '-0.0983156040', '-0.0382032804', '-0.0156611707', '-0.0066442918', '-0.0028872448', '-0.0012770572', '-0.0005726162']\n",
      "max error: ['-0.0019544237', '-0.0000051160', '-0.0000000000', '-0.0000000000', '0.0000001173', '0.0000001173', '0.0000001173', '0.0000002232']\n",
      "avg error: ['-0.1336202025', '-0.0269014258', '-0.0066215247', '-0.0018536923', '-0.0005691290', '-0.0001874583', '-0.0000652569', '-0.0000237555']\n",
      "rms error: ['0.1442447752', '0.0332662314', '0.0095595745', '0.0031343640', '0.0011210508', '0.0004259663', '0.0001690921', '0.0000693526']\n",
      "\n"
     ]
    },
    {
     "data": {
      "image/png": "[encoded data removed]",
      "text/plain": [
       "<Figure size 432x288 with 1 Axes>"
      ]
     },
     "metadata": {
      "needs_background": "light"
     },
     "output_type": "display_data"
    },
    {
     "name": "stdout",
     "output_type": "stream",
     "text": [
      "gaussian data mu= 0.875 Taylor expansion point= 0.5\n",
      "eff coeff: ['0.6931471806', '2.0000000000', '2.0000000000', '2.6666666667', '4.0000000000', '6.4000000000', '10.6666666667', '18.2857142857']\n",
      "min error: ['-77.4047012329', '-0.0000000000', '-34.8291854858', '-0.0000000000', '-22.0618782043', '-0.0000000000', '-15.9861488342', '-0.0000001074']\n",
      "max error: ['-0.0000000000', '48.3568382263', '-0.0000000000', '27.0729103088', '0.0000000910', '18.5638923645', '0.0000000988', '14.0089540482']\n",
      "avg error: ['-2.9648792744', '1.6846946478', '-1.1185613871', '0.8103033304', '-0.6208257675', '0.4946392179', '-0.4056717455', '0.3401950002']\n",
      "rms error: ['8.4148511887', '5.1910929680', '3.6983721256', '2.8473358154', '2.3005132675', '1.9207814932', '1.6423541307', '1.4298154116']\n",
      "\n",
      "gaussian data mu= 0.875 Taylor expansion point= 0.625\n",
      "eff coeff: ['0.4700036292', '1.6000000000', '1.2800000000', '1.3653333333', '1.6384000000', '2.0971520000', '2.7962026667', '3.8347922286']\n",
      "min error: ['-32.6171531677', '-0.0045351824', '-5.4074172974', '-0.0001109288', '-1.2396439314', '-0.0000031817', '-0.3234119117', '-0.0000001173']\n",
      "max error: ['-0.0000000000', '12.4196519852', '-0.0000000000', '2.5311989784', '0.0000000698', '0.6261376739', '0.0000001544', '0.1699087471']\n",
      "avg error: ['-1.1509927511', '0.3918987215', '-0.1560472995', '0.0677077845', '-0.0310796220', '0.0148346778', '-0.0072889137', '0.0036616907']\n",
      "rms error: ['3.5110900402', '1.3174357414', '0.5665302873', '0.2623501122', '0.1272640675', '0.0637302324', '0.0326617733', '0.0170362014']\n",
      "\n",
      "gaussian data mu= 0.875 Taylor expansion point= 0.75\n",
      "eff coeff: ['0.2876820725', '1.3333333333', '0.8888888889', '0.7901234568', '0.7901234568', '0.8427983539', '0.9364426155', '1.0702201319']\n",
      "min error: ['-11.3331508636', '-0.0239143595', '-0.5875919461', '-0.0016505175', '-0.0415202901', '-0.0001332866', '-0.0033212234', '-0.0000115228']\n",
      "max error: ['-0.0000000000', '2.4211645126', '0.0000001017', '0.1528442204', '0.0000001160', '0.0116262455', '0.0000001666', '0.0009703707']\n",
      "avg error: ['-0.3546331227', '0.0635613427', '-0.0147569729', '0.0033682305', '-0.0009016720', '0.0002265228', '-0.0000647310', '0.0000172386']\n",
      "rms error: ['1.2001816034', '0.2519094646', '0.0602510199', '0.0154780736', '0.0041590864', '0.0011532024', '0.0003266761', '0.0000945706']\n",
      "\n",
      "gaussian data mu= 0.875 Taylor expansion point= 0.875\n",
      "eff coeff: ['0.1335313926', '1.1428571429', '0.6530612245', '0.4975704568', '0.4264889629', '0.3899327661', '0.3713645392', '0.3637856710']\n",
      "min error: ['-2.2421050072', '-0.0565645769', '-0.0211066939', '-0.0065419623', '-0.0023701789', '-0.0008802932', '-0.0003329584', '-0.0001276971']\n",
      "max error: ['-0.0000000000', '0.2046341300', '0.0000001014', '0.0023239641', '0.0000002027', '0.0000290302', '0.0000002027', '0.0000002027']\n",
      "avg error: ['-0.0801258907', '-0.0017269664', '-0.0019335236', '-0.0004276333', '-0.0001555306', '-0.0000508294', '-0.0000180194', '-0.0000064548']\n",
      "rms error: ['0.2361587733', '0.0252060518', '0.0048982333', '0.0014612821', '0.0004933478', '0.0001737603', '0.0000627807', '0.0000231134']\n",
      "\n",
      "gaussian data mu= 0.875 Taylor expansion point= 1.0\n",
      "eff coeff: ['0.0000000000', '1.0000000000', '0.5000000000', '0.3333333333', '0.2500000000', '0.2000000000', '0.1666666667', '0.1428571429']\n",
      "min error: ['-0.2786524892', '-0.0983156040', '-0.0382032804', '-0.0156611707', '-0.0066442918', '-0.0028872448', '-0.0012770572', '-0.0005726162']\n",
      "max error: ['-0.0019544237', '-0.0000051160', '-0.0000000000', '-0.0000000000', '0.0000001173', '0.0000001173', '0.0000001173', '0.0000002232']\n",
      "avg error: ['-0.0947105139', '-0.0176488645', '-0.0046565612', '-0.0014968526', '-0.0005393288', '-0.0002081023', '-0.0000838729', '-0.0000348204']\n",
      "rms error: ['0.1170081943', '0.0301217474', '0.0101779019', '0.0038348481', '0.0015281204', '0.0006306099', '0.0002667181', '0.0001149254']\n",
      "\n"
     ]
    }
   ],
   "source": [
    "point_search(func=\"log\", uniform=False, fxp=False, intwidth=intwidth, fracwidth=fracwidth, \n",
    "             valid=True, rounding_coeff=\"round\", rounding_var=\"round\", keepwidth=True)"
   ]
  },
  {
   "cell_type": "markdown",
   "metadata": {},
   "source": [
    "### fxp uniform"
   ]
  },
  {
   "cell_type": "code",
   "execution_count": 43,
   "metadata": {
    "scrolled": true
   },
   "outputs": [
    {
     "data": {
      "image/png": "[encoded data removed]",
      "text/plain": [
       "<Figure size 432x288 with 1 Axes>"
      ]
     },
     "metadata": {
      "needs_background": "light"
     },
     "output_type": "display_data"
    },
    {
     "name": "stdout",
     "output_type": "stream",
     "text": [
      "gaussian data mu= 0.5 Taylor expansion point= 0.5\n",
      "eff coeff: ['0.6931471806', '2.0000000000', '2.0000000000', '2.6666666667', '4.0000000000', '6.4000000000', '10.6666666667', '18.2857142857']\n",
      "min error: ['-47666.7695312500', '-0.0000000000', '-21776.0957031250', '-0.0000000000', '-14008.8896484375', '-0.0000000972', '-10310.2255859375', '-0.0000001093']\n",
      "max error: ['-0.0000000000', '30003.2734375000', '0.0000000871', '17057.9257812500', '0.0000000927', '11879.7949218750', '0.0000001036', '9105.7851562500']\n",
      "avg error: ['-5.7438282967', '3.4866561890', '-2.4594268799', '1.8817888498', '-1.5147922039', '1.2623326778', '-1.0786914825', '0.9394657612']\n",
      "rms error: ['192.7798156738', '121.3341979980', '88.0570602417', '68.9732742310', '56.6408081055', '48.0293273926', '41.6809997559', '36.8095550537']\n",
      "\n",
      "gaussian data mu= 0.5 Taylor expansion point= 0.625\n",
      "eff coeff: ['0.4700036292', '1.6000000000', '1.2800000000', '1.3653333333', '1.6384000000', '2.0971520000', '2.7962026667', '3.8347922286']\n",
      "min error: ['-20193.5644531250', '-0.0045350338', '-3416.7944335938', '-0.0001109294', '-799.6918334961', '-0.0000031863', '-213.0178222656', '-0.0000001730']\n",
      "max error: ['0.0000001268', '7767.4101562500', '0.0000001300', '1616.0133056641', '0.0000001426', '408.1468200684', '0.0000001660', '113.0737075806']\n",
      "avg error: ['-2.3576831818', '0.8722574711', '-0.3727890253', '0.1720926315', '-0.0834309757', '0.0418228917', '-0.0214830711', '0.0112412963']\n",
      "rms error: ['81.6650466919', '31.4093589783', '13.8153696060', '6.5335721970', '3.2328999043', '1.6498583555', '0.8610229492', '0.4570250511']\n",
      "\n",
      "gaussian data mu= 0.5 Taylor expansion point= 0.75\n",
      "eff coeff: ['0.2876820725', '1.3333333333', '0.8888888889', '0.7901234568', '0.7901234568', '0.8427983539', '0.9364426155', '1.0702201319']\n",
      "min error: ['-7091.3100585938', '-0.0239139665', '-379.2209777832', '-0.0016505260', '-27.6480598450', '-0.0001332938', '-2.2777736187', '-0.0000116954']\n",
      "max error: ['0.0000001036', '1538.4580078125', '0.0000002180', '100.1848602295', '0.0000002384', '7.8703413010', '0.0000003154', '0.6759204865']\n",
      "avg error: ['-0.8085334301', '0.1613176018', '-0.0400029607', '0.0099924998', '-0.0027727319', '0.0007555808', '-0.0002203613', '0.0000630094']\n",
      "rms error: ['28.6752548218', '6.2202715874', '1.5330564976', '0.4049746692', '0.1117460579', '0.0317928679', '0.0092073623', '0.0027294783']\n",
      "\n",
      "gaussian data mu= 0.5 Taylor expansion point= 0.875\n",
      "eff coeff: ['0.1335313926', '1.1428571429', '0.6530612245', '0.4975704568', '0.4264889629', '0.3899327661', '0.3713645392', '0.3637856710']\n",
      "min error: ['-1448.5509033203', '-0.0565640107', '-14.5184745789', '-0.0065418240', '-0.2037062943', '-0.0008802977', '-0.0007545770', '-0.0001508409']\n",
      "max error: ['0.0000002233', '136.4254760742', '0.0000002443', '1.6481395960', '0.0000003880', '0.0185152087', '0.0000320779', '0.0001342215']\n",
      "avg error: ['-0.2068622708', '0.0010201467', '-0.0045247176', '-0.0007439544', '-0.0002917310', '-0.0000860777', '-0.0000295825', '-0.0000101382']\n",
      "rms error: ['5.8565368652', '0.5517482162', '0.0589508824', '0.0068980320', '0.0010040939', '0.0002176202', '0.0000721143', '0.0000261372']\n",
      "\n",
      "gaussian data mu= 0.5 Taylor expansion point= 1.0\n",
      "eff coeff: ['0.0000000000', '1.0000000000', '0.5000000000', '0.3333333333', '0.2500000000', '0.2000000000', '0.1666666667', '0.1428571429']\n",
      "min error: ['-0.2786513269', '-0.0983148217', '-0.0382028744', '-0.0156609938', '-0.0066441540', '-0.0028871736', '-0.0012771498', '-0.0005727052']\n",
      "max error: ['-0.0000032495', '0.0001216982', '0.0001216982', '0.0001216982', '0.0001216982', '0.0001216982', '0.0001216982', '0.0001216982']\n",
      "avg error: ['-0.1337836087', '-0.0312326364', '-0.0091036111', '-0.0029924160', '-0.0010609314', '-0.0003962774', '-0.0001537833', '-0.0000614537']\n",
      "rms error: ['0.1559314281', '0.0425440446', '0.0140021872', '0.0050754631', '0.0019523978', '0.0007820755', '0.0003226481', '0.0001361412']\n",
      "\n"
     ]
    }
   ],
   "source": [
    "point_search(func=\"log\", uniform=True, fxp=True, intwidth=intwidth, fracwidth=fracwidth, \n",
    "             valid=True, rounding_coeff=\"round\", rounding_var=\"round\", keepwidth=True)"
   ]
  },
  {
   "cell_type": "markdown",
   "metadata": {},
   "source": [
    "### flp uniform"
   ]
  },
  {
   "cell_type": "code",
   "execution_count": 15,
   "metadata": {
    "scrolled": true
   },
   "outputs": [
    {
     "data": {
      "image/png": "[encoded data removed]",
      "text/plain": [
       "<Figure size 432x288 with 1 Axes>"
      ]
     },
     "metadata": {
      "needs_background": "light"
     },
     "output_type": "display_data"
    },
    {
     "name": "stdout",
     "output_type": "stream",
     "text": [
      "gaussian data mu= 0.5 Taylor expansion point= 0.5\n",
      "eff coeff: ['0.6931471806', '2.0000000000', '2.0000000000', '2.6666666667', '4.0000000000', '6.4000000000', '10.6666666667', '18.2857142857']\n",
      "min error: ['-77.4047012329', '-0.0000000000', '-34.8291854858', '-0.0000000000', '-22.0618782043', '-0.0000000000', '-15.9861488342', '-0.0000001074']\n",
      "max error: ['-0.0000000000', '48.3568382263', '-0.0000000000', '27.0729103088', '0.0000000910', '18.5638923645', '0.0000000988', '14.0089540482']\n",
      "avg error: ['-2.3772952557', '1.3691551685', '-0.9236523509', '0.6796138883', '-0.5282008052', '0.4262821376', '-0.3536258936', '0.2995716631']\n",
      "rms error: ['8.2214040756', '5.0852541924', '3.6304581165', '2.7995970249', '2.2648909092', '1.8930553198', '1.6200741529', '1.4114631414']\n",
      "\n",
      "gaussian data mu= 0.5 Taylor expansion point= 0.625\n",
      "eff coeff: ['0.4700036292', '1.6000000000', '1.2800000000', '1.3653333333', '1.6384000000', '2.0971520000', '2.7962026667', '3.8347922286']\n",
      "min error: ['-32.6171531677', '-0.0045351824', '-5.4074172974', '-0.0001109288', '-1.2396439314', '-0.0000031817', '-0.3234119117', '-0.0000001173']\n",
      "max error: ['-0.0000000000', '12.4196519852', '-0.0000000000', '2.5311989784', '0.0000000698', '0.6261376739', '0.0000001544', '0.1699087471']\n",
      "avg error: ['-0.9324026704', '0.3244504035', '-0.1320512444', '0.0583376139', '-0.0271929689', '0.0131484987', '-0.0065319655', '0.0033125496']\n",
      "rms error: ['3.4378814697', '1.2935950756', '0.5574121475', '0.2585224807', '0.1255559623', '0.0629339144', '0.0322781242', '0.0168465432']\n",
      "\n",
      "gaussian data mu= 0.5 Taylor expansion point= 0.75\n",
      "eff coeff: ['0.2876820725', '1.3333333333', '0.8888888889', '0.7901234568', '0.7901234568', '0.8427983539', '0.9364426155', '1.0702201319']\n",
      "min error: ['-11.3331508636', '-0.0239143595', '-0.5875919461', '-0.0016505175', '-0.0415202901', '-0.0001332866', '-0.0033212234', '-0.0000115228']\n",
      "max error: ['-0.0000000000', '2.4211645126', '0.0000001017', '0.1528442204', '0.0000001160', '0.0116262455', '0.0000001666', '0.0009703707']\n",
      "avg error: ['-0.3089648783', '0.0528575145', '-0.0133633073', '0.0029492455', '-0.0008362852', '0.0002045064', '-0.0000610057', '0.0000158683']\n",
      "rms error: ['1.1793489456', '0.2481907010', '0.0594664775', '0.0152956676', '0.0041138707', '0.0011414528', '0.0003235293', '0.0000936898']\n",
      "\n",
      "gaussian data mu= 0.5 Taylor expansion point= 0.875\n",
      "eff coeff: ['0.1335313926', '1.1428571429', '0.6530612245', '0.4975704568', '0.4264889629', '0.3899327661', '0.3713645392', '0.3637856710']\n",
      "min error: ['-2.2421050072', '-0.0565645769', '-0.0211066939', '-0.0065419623', '-0.0023701789', '-0.0008802932', '-0.0003329584', '-0.0001276971']\n",
      "max error: ['-0.0000000000', '0.2046341300', '0.0000001014', '0.0023239641', '0.0000002027', '0.0000290302', '0.0000002027', '0.0000002027']\n",
      "avg error: ['-0.1058820188', '-0.0088191861', '-0.0035997697', '-0.0008901887', '-0.0002891945', '-0.0000917071', '-0.0000309760', '-0.0000106877']\n",
      "rms error: ['0.2416145802', '0.0288731568', '0.0062469053', '0.0018627964', '0.0006143553', '0.0002119515', '0.0000753225', '0.0000273640']\n",
      "\n",
      "gaussian data mu= 0.5 Taylor expansion point= 1.0\n",
      "eff coeff: ['0.0000000000', '1.0000000000', '0.5000000000', '0.3333333333', '0.2500000000', '0.2000000000', '0.1666666667', '0.1428571429']\n",
      "min error: ['-0.2786524892', '-0.0983156040', '-0.0382032804', '-0.0156611707', '-0.0066442918', '-0.0028872448', '-0.0012770572', '-0.0005726162']\n",
      "max error: ['-0.0019544237', '-0.0000051160', '-0.0000000000', '-0.0000000000', '0.0000001173', '0.0000001173', '0.0000001173', '0.0000002232']\n",
      "avg error: ['-0.1350166351', '-0.0316908993', '-0.0092856614', '-0.0030673989', '-0.0010926677', '-0.0004099871', '-0.0001597988', '-0.0000641260']\n",
      "rms error: ['0.1570893228', '0.0430845208', '0.0142476335', '0.0051876241', '0.0020041557', '0.0008061671', '0.0003339374', '0.0001414531']\n",
      "\n"
     ]
    }
   ],
   "source": [
    "point_search(func=\"log\", uniform=True, fxp=False, intwidth=intwidth, fracwidth=fracwidth, \n",
    "             valid=True, rounding_coeff=\"round\", rounding_var=\"round\", keepwidth=True)"
   ]
  },
  {
   "cell_type": "code",
   "execution_count": null,
   "metadata": {},
   "outputs": [],
   "source": []
  }
 ],
 "metadata": {
  "kernelspec": {
   "display_name": "Python 3",
   "language": "python",
   "name": "python3"
  },
  "language_info": {
   "codemirror_mode": {
    "name": "ipython",
    "version": 3
   },
   "file_extension": ".py",
   "mimetype": "text/x-python",
   "name": "python",
   "nbconvert_exporter": "python",
   "pygments_lexer": "ipython3",
   "version": "3.6.8"
  }
 },
 "nbformat": 4,
 "nbformat_minor": 2
}
