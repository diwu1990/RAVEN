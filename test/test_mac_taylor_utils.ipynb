{
 "cells": [
  {
   "cell_type": "code",
   "execution_count": 1,
   "metadata": {},
   "outputs": [],
   "source": [
    "%load_ext autoreload\n",
    "%autoreload 2"
   ]
  },
  {
   "cell_type": "code",
   "execution_count": 1,
   "metadata": {},
   "outputs": [],
   "source": [
    "import torch\n",
    "from RAVEN.pe.mac_taylor_utils import *\n",
    "import matplotlib.pyplot as plt"
   ]
  },
  {
   "cell_type": "markdown",
   "metadata": {},
   "source": [
    "# test MAC_Taylor"
   ]
  },
  {
   "cell_type": "code",
   "execution_count": 3,
   "metadata": {},
   "outputs": [
    {
     "name": "stdout",
     "output_type": "stream",
     "text": [
      "[1.0, 1.0, 0.5, 0.16666666666666666, 0.041666666666666664, 0.008333333333333333, 0.001388888888888889, 0.0001984126984126984]\n",
      "min error rate: tensor(-0.0118, device='cuda:0')\n",
      "max error rate: tensor(-0.0001, device='cuda:0')\n",
      "avg error rate: tensor(-0.0053, device='cuda:0')\n",
      "rms error rate: tensor(0.0056, device='cuda:0')\n"
     ]
    }
   ],
   "source": [
    "a = torch.arange(0, 1, 0.001).cuda()\n",
    "\n",
    "precise = torch.exp(a).cuda()\n",
    "\n",
    "point = 0.5\n",
    "scale = torch.exp(torch.tensor([point])).cuda()\n",
    "var = a - point\n",
    "\n",
    "coeff = [1/1, 1/1, 1/2, 1/6, 1/24, 1/120, 1/720, 1/5040, 1/40320, 1/362880]\n",
    "\n",
    "coeff = coeff[0:8]\n",
    "print(coeff)\n",
    "\n",
    "approximate = MAC_Taylor(scale, \n",
    "                         coeff, \n",
    "                         var, \n",
    "                         fxp=True, \n",
    "                         intwidth=7, \n",
    "                         fracwidth=8, \n",
    "                         rounding_coeff=\"round\", \n",
    "                         rounding_var=\"floor\", \n",
    "                         keepwidth=True)\n",
    "\n",
    "error = (approximate - precise) / precise\n",
    "print(\"min error rate:\", error.min())\n",
    "print(\"max error rate:\", error.max())\n",
    "print(\"avg error rate:\", error.mean())\n",
    "print(\"rms error rate:\", error.mul(error).mean().sqrt())"
   ]
  },
  {
   "cell_type": "markdown",
   "metadata": {},
   "source": [
    "# point search test"
   ]
  },
  {
   "cell_type": "markdown",
   "metadata": {},
   "source": [
    "1. test exp with gaussian input"
   ]
  },
  {
   "cell_type": "code",
   "execution_count": 12,
   "metadata": {
    "scrolled": true
   },
   "outputs": [
    {
     "data": {
      "image/png": "[encoded data removed]",
      "text/plain": [
       "<Figure size 432x288 with 1 Axes>"
      ]
     },
     "metadata": {
      "needs_background": "light"
     },
     "output_type": "display_data"
    },
    {
     "name": "stdout",
     "output_type": "stream",
     "text": [
      "gaussian data mu= 0.25 Taylor expansion point= 0.0\n",
      "eff coeff: ['1.0000000', '1.0000000', '0.5000000']\n",
      "min error: ['-0.2412641', '-0.0944120', '-0.0454613']\n",
      "max error: ['0.0000000', '0.0000000', '0.0000000']\n",
      "avg error: ['-0.0554060', '-0.0253011', '-0.0205005']\n",
      "rms error: ['0.0862493', '0.0344736', '0.0248096']\n",
      "\n",
      "gaussian data mu= 0.25 Taylor expansion point= 0.1\n",
      "eff coeff: ['1.0000000', '1.0000000', '0.5000000']\n",
      "min error: ['-0.2657395', '-0.1433627', '-0.1250000']\n",
      "max error: ['-0.0623470', '-0.0623470', '-0.0623470']\n",
      "avg error: ['-0.1114978', '-0.0945900', '-0.0909877']\n",
      "rms error: ['0.1238782', '0.0976343', '0.0932528']\n",
      "\n",
      "gaussian data mu= 0.25 Taylor expansion point= 0.2\n",
      "eff coeff: ['1.0000000', '1.0000000', '0.5000000']\n",
      "min error: ['-0.2183837', '-0.1453258', '-0.1453258']\n",
      "max error: ['-0.0751740', '-0.0751740', '-0.0751740']\n",
      "avg error: ['-0.1191153', '-0.1094214', '-0.1082497']\n",
      "rms error: ['0.1245937', '0.1111455', '0.1097546']\n",
      "\n",
      "gaussian data mu= 0.25 Taylor expansion point= 0.3\n",
      "eff coeff: ['1.0000000', '1.0000000']\n",
      "min error: ['-0.1678381', '-0.1250000']\n",
      "max error: ['-0.0397545', '-0.0397545']\n",
      "avg error: ['-0.0844988', '-0.0749420']\n",
      "rms error: ['0.0916295', '0.0787602']\n",
      "\n",
      "gaussian data mu= 0.25 Taylor expansion point= 0.4\n",
      "eff coeff: ['1.0000000', '1.0000000']\n",
      "min error: ['-0.2500000', '-0.1726591']\n",
      "max error: ['-0.0718803', '-0.0718803']\n",
      "avg error: ['-0.1323194', '-0.1131678']\n",
      "rms error: ['0.1401402', '0.1162356']\n",
      "\n",
      "gaussian data mu= 0.25 Taylor expansion point= 0.5\n",
      "eff coeff: ['1.0000000', '1.0000000']\n",
      "min error: ['-0.1875000', '-0.1191566']\n",
      "max error: ['-0.0143876', '0.0000000']\n",
      "avg error: ['-0.0894986', '-0.0560093']\n",
      "rms error: ['0.1032448', '0.0639258']\n",
      "\n",
      "gaussian data mu= 0.25 Taylor expansion point= 0.6\n",
      "eff coeff: ['1.0000000', '1.0000000']\n",
      "min error: ['-0.3750000', '-0.1312065']\n",
      "max error: ['-0.0298387', '0.0000000']\n",
      "avg error: ['-0.1542958', '-0.0640437']\n",
      "rms error: ['0.1806439', '0.0736020']\n",
      "\n",
      "gaussian data mu= 0.25 Taylor expansion point= 0.7\n",
      "eff coeff: ['1.0000000', '1.0000000']\n",
      "min error: ['-0.5000000', '-0.1122333']\n",
      "max error: ['-0.0552669', '0.0568397']\n",
      "avg error: ['-0.2257760', '-0.0443219']\n",
      "rms error: ['0.2605835', '0.0630749']\n",
      "\n",
      "gaussian data mu= 0.25 Taylor expansion point= 0.8\n",
      "eff coeff: ['1.0000000', '1.0000000']\n",
      "min error: ['-0.6250000', '-0.0979329']\n",
      "max error: ['-0.0293029', '0.0625000']\n",
      "avg error: ['-0.2789834', '-0.0299459']\n",
      "rms error: ['0.3283195', '0.0566407']\n",
      "\n",
      "gaussian data mu= 0.25 Taylor expansion point= 0.9\n",
      "eff coeff: ['1.0000000', '1.0000000']\n",
      "min error: ['-0.8750000', '-0.1302002']\n",
      "max error: ['-0.0454613', '0.1875000']\n",
      "avg error: ['-0.4186751', '-0.0017980']\n",
      "rms error: ['0.4818074', '0.0798057']\n",
      "\n",
      "gaussian data mu= 0.25 Taylor expansion point= 1.0\n",
      "eff coeff: ['1.0000000', '1.0000000', '0.5000000', '0.1666667', '0.0416667']\n",
      "min error: ['-1.0000000', '-0.0886177', '-0.2367269', '-0.0979329', '-0.1238490']\n",
      "max error: ['-0.0209860', '0.3125000', '-0.0209860', '0.1582772', '0.0000000']\n",
      "avg error: ['-0.4780505', '0.0772049', '-0.1135570', '0.0018160', '-0.0537142']\n",
      "rms error: ['0.5548375', '0.1305871', '0.1293986', '0.0793900', '0.0660247']\n",
      "\n"
     ]
    },
    {
     "data": {
      "image/png": "[encoded data removed]",
      "text/plain": [
       "<Figure size 432x288 with 1 Axes>"
      ]
     },
     "metadata": {
      "needs_background": "light"
     },
     "output_type": "display_data"
    },
    {
     "name": "stdout",
     "output_type": "stream",
     "text": [
      "gaussian data mu= 0.5 Taylor expansion point= 0.0\n",
      "eff coeff: ['1.0000000', '1.0000000', '0.5000000']\n",
      "min error: ['-0.2412641', '-0.0944120', '-0.0454613']\n",
      "max error: ['0.0000000', '0.0000000', '0.0000000']\n",
      "avg error: ['-0.0877819', '-0.0316361', '-0.0254155']\n",
      "rms error: ['0.1036471', '0.0370016', '0.0276448']\n",
      "\n",
      "gaussian data mu= 0.5 Taylor expansion point= 0.1\n",
      "eff coeff: ['1.0000000', '1.0000000', '0.5000000']\n",
      "min error: ['-0.2657395', '-0.1433627', '-0.1250000']\n",
      "max error: ['-0.0623470', '-0.0623470', '-0.0623470']\n",
      "avg error: ['-0.1293956', '-0.0998330', '-0.0979733']\n",
      "rms error: ['0.1374020', '0.1014214', '0.0992355']\n",
      "\n",
      "gaussian data mu= 0.5 Taylor expansion point= 0.2\n",
      "eff coeff: ['1.0000000', '1.0000000', '0.5000000']\n",
      "min error: ['-0.2183837', '-0.1453258', '-0.1453258']\n",
      "max error: ['-0.0751740', '-0.0751740', '-0.0751740']\n",
      "avg error: ['-0.1248836', '-0.1117022', '-0.1114061']\n",
      "rms error: ['0.1289188', '0.1133939', '0.1130509']\n",
      "\n",
      "gaussian data mu= 0.5 Taylor expansion point= 0.3\n",
      "eff coeff: ['1.0000000', '1.0000000']\n",
      "min error: ['-0.1678381', '-0.1250000']\n",
      "max error: ['-0.0397545', '-0.0397545']\n",
      "avg error: ['-0.0832062', '-0.0725081']\n",
      "rms error: ['0.0879975', '0.0747859']\n",
      "\n",
      "gaussian data mu= 0.5 Taylor expansion point= 0.4\n",
      "eff coeff: ['1.0000000', '1.0000000']\n",
      "min error: ['-0.2500000', '-0.1726591']\n",
      "max error: ['-0.0718803', '-0.0718803']\n",
      "avg error: ['-0.1072619', '-0.1017541']\n",
      "rms error: ['0.1111272', '0.1037419']\n",
      "\n",
      "gaussian data mu= 0.5 Taylor expansion point= 0.5\n",
      "eff coeff: ['1.0000000', '1.0000000']\n",
      "min error: ['-0.1875000', '-0.1191566']\n",
      "max error: ['-0.0143876', '0.0000000']\n",
      "avg error: ['-0.0527997', '-0.0453833']\n",
      "rms error: ['0.0633069', '0.0511019']\n",
      "\n",
      "gaussian data mu= 0.5 Taylor expansion point= 0.6\n",
      "eff coeff: ['1.0000000', '1.0000000']\n",
      "min error: ['-0.3750000', '-0.1312065']\n",
      "max error: ['-0.0298387', '0.0000000']\n",
      "avg error: ['-0.0879229', '-0.0646744']\n",
      "rms error: ['0.1075910', '0.0713369']\n",
      "\n",
      "gaussian data mu= 0.5 Taylor expansion point= 0.7\n",
      "eff coeff: ['1.0000000', '1.0000000']\n",
      "min error: ['-0.5000000', '-0.1122333']\n",
      "max error: ['-0.0552669', '0.0568397']\n",
      "avg error: ['-0.1318015', '-0.0669952']\n",
      "rms error: ['0.1592044', '0.0735333']\n",
      "\n",
      "gaussian data mu= 0.5 Taylor expansion point= 0.8\n",
      "eff coeff: ['1.0000000', '1.0000000']\n",
      "min error: ['-0.6250000', '-0.0979329']\n",
      "max error: ['-0.0293029', '0.0625000']\n",
      "avg error: ['-0.1565736', '-0.0560372']\n",
      "rms error: ['0.1973713', '0.0654967']\n",
      "\n",
      "gaussian data mu= 0.5 Taylor expansion point= 0.9\n",
      "eff coeff: ['1.0000000', '1.0000000']\n",
      "min error: ['-0.8750000', '-0.1302002']\n",
      "max error: ['-0.0454613', '0.1875000']\n",
      "avg error: ['-0.2529330', '-0.0568706']\n",
      "rms error: ['0.3034595', '0.0798751']\n",
      "\n",
      "gaussian data mu= 0.5 Taylor expansion point= 1.0\n",
      "eff coeff: ['1.0000000', '1.0000000', '0.5000000', '0.1666667']\n",
      "min error: ['-1.0000000', '-0.0886177', '-0.2367269', '-0.0979329']\n",
      "max error: ['-0.0209860', '0.3125000', '-0.0209860', '0.1582772']\n",
      "avg error: ['-0.2805035', '0.0023863', '-0.0856662', '-0.0369716']\n",
      "rms error: ['0.3459683', '0.0766329', '0.0979406', '0.0640771']\n",
      "\n"
     ]
    },
    {
     "data": {
      "image/png": "[encoded data removed]",
      "text/plain": [
       "<Figure size 432x288 with 1 Axes>"
      ]
     },
     "metadata": {
      "needs_background": "light"
     },
     "output_type": "display_data"
    },
    {
     "name": "stdout",
     "output_type": "stream",
     "text": [
      "gaussian data mu= 0.75 Taylor expansion point= 0.0\n",
      "eff coeff: ['1.0000000', '1.0000000', '0.5000000']\n",
      "min error: ['-0.2412641', '-0.0944120', '-0.0454613']\n",
      "max error: ['0.0000000', '0.0000000', '0.0000000']\n",
      "avg error: ['-0.1356792', '-0.0466677', '-0.0271325']\n",
      "rms error: ['0.1521659', '0.0538776', '0.0293829']\n",
      "\n",
      "gaussian data mu= 0.75 Taylor expansion point= 0.1\n",
      "eff coeff: ['1.0000000', '1.0000000', '0.5000000']\n",
      "min error: ['-0.2657395', '-0.1433627', '-0.1250000']\n",
      "max error: ['-0.0623470', '-0.0623470', '-0.0623470']\n",
      "avg error: ['-0.1752806', '-0.1136313', '-0.1046881']\n",
      "rms error: ['0.1831162', '0.1150827', '0.1056192']\n",
      "\n",
      "gaussian data mu= 0.75 Taylor expansion point= 0.2\n",
      "eff coeff: ['1.0000000', '1.0000000', '0.5000000']\n",
      "min error: ['-0.2183837', '-0.1453258', '-0.1453258']\n",
      "max error: ['-0.0751740', '-0.0751740', '-0.0751740']\n",
      "avg error: ['-0.1566984', '-0.1178479', '-0.1161337']\n",
      "rms error: ['0.1612618', '0.1188377', '0.1169309']\n",
      "\n",
      "gaussian data mu= 0.75 Taylor expansion point= 0.3\n",
      "eff coeff: ['1.0000000', '1.0000000']\n",
      "min error: ['-0.1678381', '-0.1250000']\n",
      "max error: ['-0.0397545', '-0.0397545']\n",
      "avg error: ['-0.1128546', '-0.0781382']\n",
      "rms error: ['0.1177639', '0.0805039']\n",
      "\n",
      "gaussian data mu= 0.75 Taylor expansion point= 0.4\n",
      "eff coeff: ['1.0000000', '1.0000000']\n",
      "min error: ['-0.2500000', '-0.1726591']\n",
      "max error: ['-0.0718803', '-0.0718803']\n",
      "avg error: ['-0.1263871', '-0.1050771']\n",
      "rms error: ['0.1318337', '0.1064555']\n",
      "\n",
      "gaussian data mu= 0.75 Taylor expansion point= 0.5\n",
      "eff coeff: ['1.0000000', '1.0000000']\n",
      "min error: ['-0.1875000', '-0.1191566']\n",
      "max error: ['-0.0143876', '0.0000000']\n",
      "avg error: ['-0.0647583', '-0.0434669']\n",
      "rms error: ['0.0769898', '0.0471900']\n",
      "\n",
      "gaussian data mu= 0.75 Taylor expansion point= 0.6\n",
      "eff coeff: ['1.0000000', '1.0000000']\n",
      "min error: ['-0.3750000', '-0.1312065']\n",
      "max error: ['-0.0298387', '0.0000000']\n",
      "avg error: ['-0.0832255', '-0.0534140']\n",
      "rms error: ['0.1165720', '0.0576743']\n",
      "\n",
      "gaussian data mu= 0.75 Taylor expansion point= 0.7\n",
      "eff coeff: ['1.0000000', '1.0000000']\n",
      "min error: ['-0.5000000', '-0.1122333']\n",
      "max error: ['-0.0552669', '0.0568397']\n",
      "avg error: ['-0.1102373', '-0.0586050']\n",
      "rms error: ['0.1584148', '0.0656041']\n",
      "\n",
      "gaussian data mu= 0.75 Taylor expansion point= 0.8\n",
      "eff coeff: ['1.0000000', '1.0000000']\n",
      "min error: ['-0.6250000', '-0.0979329']\n",
      "max error: ['-0.0293029', '0.0625000']\n",
      "avg error: ['-0.1193153', '-0.0459602']\n",
      "rms error: ['0.1937675', '0.0572165']\n",
      "\n",
      "gaussian data mu= 0.75 Taylor expansion point= 0.9\n",
      "eff coeff: ['1.0000000', '1.0000000', '0.5000000', '0.1666667']\n",
      "min error: ['-0.8750000', '-0.1302002', '-0.2500000', '-0.1312065']\n",
      "max error: ['-0.0454613', '0.1875000', '-0.0454613', '0.1155530']\n",
      "avg error: ['-0.1882075', '-0.0558971', '-0.0975951', '-0.0663178']\n",
      "rms error: ['0.2845088', '0.0897671', '0.1083384', '0.0836367']\n",
      "\n",
      "gaussian data mu= 0.75 Taylor expansion point= 1.0\n",
      "eff coeff: ['1.0000000', '1.0000000', '0.5000000', '0.1666667', '0.0416667']\n",
      "min error: ['-1.0000000', '-0.0886177', '-0.2367269', '-0.0979329', '-0.1238490']\n",
      "max error: ['-0.0209860', '0.3125000', '-0.0209860', '0.1582772', '0.0000000']\n",
      "avg error: ['-0.1973784', '-0.0133386', '-0.0725780', '-0.0354065', '-0.0491856']\n",
      "rms error: ['0.3213414', '0.0967740', '0.0876312', '0.0641838', '0.0563288']\n",
      "\n"
     ]
    }
   ],
   "source": [
    "point_search(func=\"exp\", uniform=False, fxp=True, intwidth=7, fracwidth=4, valid=True, rounding_coeff=\"round\", rounding_var=\"floor\")"
   ]
  },
  {
   "cell_type": "markdown",
   "metadata": {},
   "source": [
    "2. test div with gaussian input"
   ]
  },
  {
   "cell_type": "code",
   "execution_count": 5,
   "metadata": {
    "scrolled": true
   },
   "outputs": [
    {
     "data": {
      "image/png": "[encoded data removed]",
      "text/plain": [
       "<Figure size 432x288 with 1 Axes>"
      ]
     },
     "metadata": {
      "needs_background": "light"
     },
     "output_type": "display_data"
    },
    {
     "name": "stdout",
     "output_type": "stream",
     "text": [
      "gaussian data mu= 0.625 Taylor expansion point= 1.0\n",
      "eff coeff: ['1.0000000', '1.0000000', '1.0000000', '1.0000000', '1.0000000', '1.0000000', '1.0000000', '1.0000000']\n",
      "min error: ['-0.2500000', '-0.1250000', '-0.0625000', '-0.0315552', '-0.0165405', '-0.0090332', '-0.0055847', '-0.0038604']\n",
      "max error: ['-0.0000153', '-0.0000153', '-0.0000153', '-0.0000153', '-0.0000153', '-0.0000153', '-0.0000153', '-0.0000153']\n",
      "avg error: ['-0.1205657', '-0.0482213', '-0.0206489', '-0.0095050', '-0.0052561', '-0.0033791', '-0.0026553', '-0.0024007']\n",
      "rms error: ['0.1380374', '0.0586730', '0.0263249', '0.0124365', '0.0065646', '0.0038994', '0.0028877', '0.0025561']\n",
      "\n"
     ]
    },
    {
     "data": {
      "image/png": "[encoded data removed]",
      "text/plain": [
       "<Figure size 432x288 with 1 Axes>"
      ]
     },
     "metadata": {
      "needs_background": "light"
     },
     "output_type": "display_data"
    },
    {
     "name": "stdout",
     "output_type": "stream",
     "text": [
      "gaussian data mu= 0.75 Taylor expansion point= 1.0\n",
      "eff coeff: ['1.0000000', '1.0000000', '1.0000000', '1.0000000', '1.0000000', '1.0000000', '1.0000000', '1.0000000']\n",
      "min error: ['-0.2500000', '-0.1250000', '-0.0625000', '-0.0315552', '-0.0165405', '-0.0090332', '-0.0055847', '-0.0038604']\n",
      "max error: ['-0.0000153', '-0.0000153', '-0.0000153', '-0.0000153', '-0.0000153', '-0.0000153', '-0.0000153', '-0.0000153']\n",
      "avg error: ['-0.0728982', '-0.0244896', '-0.0096235', '-0.0045778', '-0.0031184', '-0.0025809', '-0.0024219', '-0.0023768']\n",
      "rms error: ['0.0889522', '0.0336540', '0.0141535', '0.0065662', '0.0038455', '0.0028628', '0.0026039', '0.0025419']\n",
      "\n"
     ]
    },
    {
     "data": {
      "image/png": "[encoded data removed]",
      "text/plain": [
       "<Figure size 432x288 with 1 Axes>"
      ]
     },
     "metadata": {
      "needs_background": "light"
     },
     "output_type": "display_data"
    },
    {
     "name": "stdout",
     "output_type": "stream",
     "text": [
      "gaussian data mu= 0.875 Taylor expansion point= 1.0\n",
      "eff coeff: ['1.0000000', '1.0000000', '1.0000000', '1.0000000', '1.0000000', '1.0000000', '1.0000000', '1.0000000']\n",
      "min error: ['-0.2500000', '-0.1250000', '-0.0625000', '-0.0315552', '-0.0165405', '-0.0090332', '-0.0055847', '-0.0038604']\n",
      "max error: ['-0.0000153', '-0.0000153', '-0.0000153', '-0.0000153', '-0.0000153', '-0.0000153', '-0.0000153', '-0.0000153']\n",
      "avg error: ['-0.0481103', '-0.0175984', '-0.0079888', '-0.0044687', '-0.0031404', '-0.0025276', '-0.0022487', '-0.0021098']\n",
      "rms error: ['0.0795632', '0.0348236', '0.0163953', '0.0082150', '0.0046281', '0.0030903', '0.0025386', '0.0023387']\n",
      "\n"
     ]
    }
   ],
   "source": [
    "point_search(func=\"div\", uniform=False, fxp=True, intwidth=7, fracwidth=8, valid=True, rounding_coeff=\"round\", rounding_var=\"floor\")"
   ]
  },
  {
   "cell_type": "markdown",
   "metadata": {},
   "source": [
    "3. test log with gaussian input"
   ]
  },
  {
   "cell_type": "code",
   "execution_count": 2,
   "metadata": {
    "scrolled": false
   },
   "outputs": [
    {
     "data": {
      "image/png": "[encoded data removed]",
      "text/plain": [
       "<Figure size 432x288 with 1 Axes>"
      ]
     },
     "metadata": {
      "needs_background": "light"
     },
     "output_type": "display_data"
    },
    {
     "name": "stdout",
     "output_type": "stream",
     "text": [
      "gaussian data mu= 0.625 Taylor expansion point= 0.5\n",
      "eff coeff: ['0.6931472', '2.0000000', '2.0000000', '2.6666667', '4.0000000', '6.4000000', '10.6666667', '18.2857143']\n",
      "min error: ['-77.8495102', '-0.0057910', '-34.9335480', '-0.0075944', '-21.9589577', '-0.0087799', '-15.9706841', '-0.0116934']\n",
      "max error: ['-0.0025116', '47.9042358', '-0.0001034', '26.9452763', '0.0000033', '17.9628658', '0.0008181', '13.9706841']\n",
      "avg error: ['-1.6842862', '0.9634159', '-0.6862090', '0.4993668', '-0.4076913', '0.3158146', '-0.2872894', '0.2301488']\n",
      "rms error: ['7.9225206', '4.8400154', '3.5206745', '2.6892583', '2.1873512', '1.7770164', '1.5820357', '1.3647244']\n",
      "\n",
      "gaussian data mu= 0.625 Taylor expansion point= 0.55\n",
      "eff coeff: ['0.5978370', '1.8181818', '1.6528926', '2.0035061', '2.7320538', '3.9738965', '6.0210553', '9.3834627']\n",
      "min error: ['-56.8905525', '-0.0162468', '-18.9648209', '-0.0216972', '-8.9843645', '-0.0346371', '-4.9921823', '-0.0537138']\n",
      "max error: ['-0.0097406', '27.9433212', '-0.0092478', '9.9785013', '-0.0092478', '3.9902277', '-0.0092478', '1.9941367']\n",
      "avg error: ['-1.2192730', '0.5373797', '-0.3707878', '0.1643420', '-0.1735407', '0.0499252', '-0.1017016', '0.0084617']\n",
      "rms error: ['5.8020682', '2.8121042', '1.8873534', '0.9818174', '0.8814064', '0.3907120', '0.4865647', '0.1778841']\n",
      "\n",
      "gaussian data mu= 0.625 Taylor expansion point= 0.6\n",
      "eff coeff: ['0.5108256', '1.6666667', '1.3888889', '1.5432099', '1.9290123', '2.5720165']\n",
      "min error: ['-40.9218216', '-0.0157961', '-8.9843645', '-0.0255457', '-2.9960914', '-0.0496642']\n",
      "max error: ['-0.0084488', '15.9667749', '-0.0075130', '2.9921823', '-0.0075130', '-0.0019544']\n",
      "avg error: ['-0.8524532', '0.2938646', '-0.1854360', '0.0434448', '-0.0705001', '-0.0138903']\n",
      "rms error: ['4.1481700', '1.5947434', '0.9104832', '0.3040300', '0.3060277', '0.0152839']\n",
      "\n",
      "gaussian data mu= 0.625 Taylor expansion point= 0.65\n",
      "eff coeff: ['0.4307829', '1.5384615', '1.1834320', '1.2137764', '1.4005112', '1.7237061']\n",
      "min error: ['-27.9472313', '-0.0157248', '-4.9921823', '-0.0395920', '-1.0000000', '-0.3372473']\n",
      "max error: ['-0.0075944', '8.9804564', '-0.0053013', '0.9960911', '-0.0053013', '-0.0019544']\n",
      "avg error: ['-0.5785915', '0.1520964', '-0.0958599', '0.0044986', '-0.0344212', '-0.0150047']\n",
      "rms error: ['2.8395658', '0.8815140', '0.4804439', '0.1002357', '0.1256248', '0.0333014']\n",
      "\n",
      "gaussian data mu= 0.625 Taylor expansion point= 0.7\n",
      "eff coeff: ['0.3566749', '1.4285714', '1.0204082', '0.9718173']\n",
      "min error: ['-18.9648209', '-0.0204933', '-1.9980457', '-0.0436121']\n",
      "max error: ['-0.0038896', '3.9902277', '-0.0032174', '-0.0019544']\n",
      "avg error: ['-0.3901971', '0.0672686', '-0.0468644', '-0.0087178']\n",
      "rms error: ['1.9042212', '0.4055527', '0.2049481', '0.0105078']\n",
      "\n",
      "gaussian data mu= 0.625 Taylor expansion point= 0.75\n",
      "eff coeff: ['0.2876821', '1.3333333', '0.8888889', '0.7901235']\n",
      "min error: ['-11.9785013', '-0.0269398', '-1.0000000', '-0.0395920']\n",
      "max error: ['-0.0042876', '1.9941367', '0.0009243', '0.0040374']\n",
      "avg error: ['-0.2584685', '0.0262319', '-0.0260417', '-0.0064202']\n",
      "rms error: ['1.1898375', '0.2020881', '0.1036360', '0.0085892']\n",
      "\n",
      "gaussian data mu= 0.625 Taylor expansion point= 0.8\n",
      "eff coeff: ['0.2231436', '1.2500000']\n",
      "min error: ['-7.9863186', '-0.0577753']\n",
      "max error: ['-0.0189280', '-0.0019544']\n",
      "avg error: ['-0.2158479', '-0.0265205']\n",
      "rms error: ['0.8115213', '0.0279530']\n",
      "\n",
      "gaussian data mu= 0.625 Taylor expansion point= 0.85\n",
      "eff coeff: ['0.1625189', '1.1764706', '0.6920415', '0.5427777', '0.4789215', '0.4507496', '0.4419114', '0.4456249']\n",
      "min error: ['-4.9921823', '-1.0000000', '-1.0000000', '-1.0000000', '-1.0000000', '-1.0000000', '-1.0000000', '-1.0000000']\n",
      "max error: ['-0.0178682', '-0.0131153', '-0.0109030', '-0.0108804', '-0.0087686', '-0.0085119', '-0.0075130', '-0.0075130']\n",
      "avg error: ['-0.1718399', '-0.0494073', '-0.0384159', '-0.0360733', '-0.0355247', '-0.0352725', '-0.0351624', '-0.0351159']\n",
      "rms error: ['0.4903584', '0.1086180', '0.1057577', '0.1053673', '0.1052969', '0.1052672', '0.1052560', '0.1052508']\n",
      "\n",
      "gaussian data mu= 0.625 Taylor expansion point= 0.9\n",
      "eff coeff: ['0.1053605', '1.1111111', '0.6172840', '0.4572474', '0.3810395', '0.3387018', '0.3136127', '0.2986788']\n",
      "min error: ['-1.9980457', '-1.0000000', '-1.0000000', '-1.0000000', '-1.0000000', '-1.0000000', '-1.0000000', '-1.0000000']\n",
      "max error: ['-0.0186661', '-0.0113093', '-0.0094685', '-0.0079252', '-0.0075130', '-0.0057910', '-0.0057910', '-0.0057910']\n",
      "avg error: ['-0.1525510', '-0.0547871', '-0.0383595', '-0.0336768', '-0.0328613', '-0.0322789', '-0.0321685', '-0.0320553']\n",
      "rms error: ['0.2408556', '0.1106067', '0.1056009', '0.1048322', '0.1047335', '0.1046724', '0.1046617', '0.1046512']\n",
      "\n",
      "gaussian data mu= 0.625 Taylor expansion point= 0.95\n",
      "eff coeff: ['0.0512933', '1.0526316', '0.5540166', '0.3887836', '0.3069344', '0.2584711', '0.2267290']\n",
      "min error: ['-1.0000000', '-1.0000000', '-1.0000000', '-1.0000000', '-1.0000000', '-1.0000000', '-1.0000000']\n",
      "max error: ['-0.0216417', '-0.0093252', '-0.0057859', '-0.0049952', '-0.0048923', '-0.0043799', '-0.0043353']\n",
      "avg error: ['-0.1651751', '-0.0610943', '-0.0373903', '-0.0312003', '-0.0292074', '-0.0286044', '-0.0283508']\n",
      "rms error: ['0.1898750', '0.1131303', '0.1048089', '0.1037194', '0.1034877', '0.1034318', '0.1034109']\n",
      "\n",
      "gaussian data mu= 0.625 Taylor expansion point= 1.0\n",
      "eff coeff: ['0.0000000', '1.0000000', '0.5000000', '0.3333333', '0.2500000', '0.2000000', '0.1666667', '0.1428571']\n",
      "min error: ['-0.2786525', '-0.0994762', '-0.0436121', '-0.0436121', '-0.0436121', '-0.0436121', '-0.0436121', '-0.0436121']\n",
      "max error: ['-0.0019544', '-0.0019544', '-0.0019544', '-0.0015854', '-0.0015854', '-0.0015854', '-0.0015854', '-0.0015854']\n",
      "avg error: ['-0.1748400', '-0.0519682', '-0.0217382', '-0.0126173', '-0.0098315', '-0.0086762', '-0.0083661', '-0.0082727']\n",
      "rms error: ['0.1880701', '0.0570234', '0.0235543', '0.0139048', '0.0113241', '0.0104517', '0.0102450', '0.0101808']\n",
      "\n"
     ]
    },
    {
     "data": {
      "image/png": "[encoded data removed]",
      "text/plain": [
       "<Figure size 432x288 with 1 Axes>"
      ]
     },
     "metadata": {
      "needs_background": "light"
     },
     "output_type": "display_data"
    },
    {
     "name": "stdout",
     "output_type": "stream",
     "text": [
      "gaussian data mu= 0.75 Taylor expansion point= 0.5\n",
      "eff coeff: ['0.6931472', '2.0000000', '2.0000000', '2.6666667', '4.0000000', '6.4000000', '10.6666667', '18.2857143']\n",
      "min error: ['-77.8495102', '-0.0057910', '-34.9335480', '-0.0075944', '-21.9589577', '-0.0087799', '-15.9706841', '-0.0116934']\n",
      "max error: ['-0.0025116', '47.9042358', '-0.0001034', '26.9452763', '0.0000033', '17.9628658', '0.0008181', '13.9706841']\n",
      "avg error: ['-0.9015426', '0.4381427', '-0.2827331', '0.1799358', '-0.1432516', '0.0974938', '-0.0929057', '0.0620622']\n",
      "rms error: ['3.8979495', '2.3592863', '1.7084804', '1.2988646', '1.0550379', '0.8546371', '0.7605998', '0.6541688']\n",
      "\n",
      "gaussian data mu= 0.75 Taylor expansion point= 0.55\n",
      "eff coeff: ['0.5978370', '1.8181818', '1.6528926', '2.0035061', '2.7320538', '3.9738965', '6.0210553', '9.3834627']\n",
      "min error: ['-56.8905525', '-0.0162468', '-18.9648209', '-0.0216972', '-8.9843645', '-0.0346371', '-4.9921823', '-0.0537138']\n",
      "max error: ['-0.0097406', '27.9433212', '-0.0092478', '9.9785013', '-0.0092478', '3.9902277', '-0.0092478', '1.9941367']\n",
      "avg error: ['-0.6289996', '0.2222892', '-0.1561430', '0.0436430', '-0.0712487', '-0.0019351', '-0.0467505', '-0.0154789']\n",
      "rms error: ['2.8481183', '1.3667159', '0.9151251', '0.4729826', '0.4258903', '0.1874336', '0.2359630', '0.0880265']\n",
      "\n",
      "gaussian data mu= 0.75 Taylor expansion point= 0.6\n",
      "eff coeff: ['0.5108256', '1.6666667', '1.3888889', '1.5432099', '1.9290123', '2.5720165']\n",
      "min error: ['-40.9218216', '-0.0157961', '-8.9843645', '-0.0255457', '-2.9960914', '-0.0496642']\n",
      "max error: ['-0.0084488', '15.9667749', '-0.0075130', '2.9921823', '-0.0075130', '-0.0019544']\n",
      "avg error: ['-0.4130272', '0.1090070', '-0.0781347', '0.0010337', '-0.0359040', '-0.0182814']\n",
      "rms error: ['2.0302627', '0.7729545', '0.4412406', '0.1464729', '0.1495387', '0.0200480']\n",
      "\n",
      "gaussian data mu= 0.75 Taylor expansion point= 0.65\n",
      "eff coeff: ['0.4307829', '1.5384615', '1.1834320', '1.2137764', '1.4005112', '1.7237061']\n",
      "min error: ['-27.9472313', '-0.0157248', '-4.9921823', '-0.0395920', '-1.0000000', '-0.3372473']\n",
      "max error: ['-0.0075944', '8.9804564', '-0.0053013', '0.9960911', '-0.0053013', '-0.0019544']\n",
      "avg error: ['-0.2604767', '0.0474373', '-0.0420964', '-0.0102480', '-0.0213997', '-0.0161300']\n",
      "rms error: ['1.3847734', '0.4257703', '0.2328990', '0.0499185', '0.0619451', '0.0230424']\n",
      "\n",
      "gaussian data mu= 0.75 Taylor expansion point= 0.7\n",
      "eff coeff: ['0.3566749', '1.4285714', '1.0204082', '0.9718173']\n",
      "min error: ['-18.9648209', '-0.0204933', '-1.9980457', '-0.0436121']\n",
      "max error: ['-0.0038896', '3.9902277', '-0.0032174', '-0.0019544']\n",
      "avg error: ['-0.1601405', '0.0162965', '-0.0226904', '-0.0108376']\n",
      "rms error: ['0.9260085', '0.1956819', '0.0998528', '0.0129498']\n",
      "\n",
      "gaussian data mu= 0.75 Taylor expansion point= 0.75\n",
      "eff coeff: ['0.2876821', '1.3333333', '0.8888889', '0.7901235']\n",
      "min error: ['-11.9785013', '-0.0269398', '-1.0000000', '-0.0395920']\n",
      "max error: ['-0.0042876', '1.9941367', '0.0009243', '0.0040374']\n",
      "avg error: ['-0.0958529', '0.0026503', '-0.0130631', '-0.0079115']\n",
      "rms error: ['0.5761530', '0.0970048', '0.0510047', '0.0103623']\n",
      "\n",
      "gaussian data mu= 0.75 Taylor expansion point= 0.8\n",
      "eff coeff: ['0.2231436', '1.2500000']\n",
      "min error: ['-7.9863186', '-0.0577753']\n",
      "max error: ['-0.0189280', '-0.0019544']\n",
      "avg error: ['-0.0899378', '-0.0263738']\n",
      "rms error: ['0.3936017', '0.0277692']\n",
      "\n",
      "gaussian data mu= 0.75 Taylor expansion point= 0.85\n",
      "eff coeff: ['0.1625189', '1.1764706', '0.6920415', '0.5427777', '0.4789215', '0.4507496', '0.4419114', '0.4456249']\n",
      "min error: ['-4.9921823', '-1.0000000', '-1.0000000', '-1.0000000', '-1.0000000', '-1.0000000', '-1.0000000', '-1.0000000']\n",
      "max error: ['-0.0178682', '-0.0131153', '-0.0109030', '-0.0108804', '-0.0087686', '-0.0085119', '-0.0075130', '-0.0075130']\n",
      "avg error: ['-0.0795905', '-0.0311178', '-0.0267201', '-0.0261630', '-0.0259814', '-0.0259276', '-0.0259070', '-0.0258980']\n",
      "rms error: ['0.2406709', '0.0575316', '0.0557558', '0.0555841', '0.0555404', '0.0555284', '0.0555244', '0.0555225']\n",
      "\n",
      "gaussian data mu= 0.75 Taylor expansion point= 0.9\n",
      "eff coeff: ['0.1053605', '1.1111111', '0.6172840', '0.4572474', '0.3810395', '0.3387018', '0.3136127', '0.2986788']\n",
      "min error: ['-1.9980457', '-1.0000000', '-1.0000000', '-1.0000000', '-1.0000000', '-1.0000000', '-1.0000000', '-1.0000000']\n",
      "max error: ['-0.0186661', '-0.0113093', '-0.0094685', '-0.0079252', '-0.0075130', '-0.0057910', '-0.0057910', '-0.0057910']\n",
      "avg error: ['-0.0871466', '-0.0322196', '-0.0244522', '-0.0226224', '-0.0223099', '-0.0221173', '-0.0220972', '-0.0220577']\n",
      "rms error: ['0.1320020', '0.0582040', '0.0545569', '0.0540245', '0.0539521', '0.0539113', '0.0539075', '0.0539005']\n",
      "\n",
      "gaussian data mu= 0.75 Taylor expansion point= 0.95\n",
      "eff coeff: ['0.0512933', '1.0526316', '0.5540166', '0.3887836', '0.3069344', '0.2584711', '0.2267290']\n",
      "min error: ['-1.0000000', '-1.0000000', '-1.0000000', '-1.0000000', '-1.0000000', '-1.0000000', '-1.0000000']\n",
      "max error: ['-0.0216417', '-0.0093252', '-0.0057859', '-0.0049952', '-0.0048923', '-0.0043799', '-0.0043353']\n",
      "avg error: ['-0.1110445', '-0.0348632', '-0.0214338', '-0.0185971', '-0.0179375', '-0.0177898', '-0.0177262']\n",
      "rms error: ['0.1271732', '0.0595867', '0.0527164', '0.0518770', '0.0517330', '0.0517062', '0.0516953']\n",
      "\n",
      "gaussian data mu= 0.75 Taylor expansion point= 1.0\n",
      "eff coeff: ['0.0000000', '1.0000000', '0.5000000', '0.3333333', '0.2500000', '0.2000000', '0.1666667', '0.1428571']\n",
      "min error: ['-0.2786525', '-0.0994762', '-0.0436121', '-0.0436121', '-0.0436121', '-0.0436121', '-0.0436121', '-0.0436121']\n",
      "max error: ['-0.0019544', '-0.0019544', '-0.0019544', '-0.0015854', '-0.0015854', '-0.0015854', '-0.0015854', '-0.0015854']\n",
      "avg error: ['-0.1333610', '-0.0355028', '-0.0171364', '-0.0120542', '-0.0107000', '-0.0102854', '-0.0102230', '-0.0102025']\n",
      "rms error: ['0.1440310', '0.0394686', '0.0186803', '0.0138842', '0.0127466', '0.0124777', '0.0124427', '0.0124312']\n",
      "\n"
     ]
    },
    {
     "data": {
      "image/png": "[encoded data removed]",
      "text/plain": [
       "<Figure size 432x288 with 1 Axes>"
      ]
     },
     "metadata": {
      "needs_background": "light"
     },
     "output_type": "display_data"
    },
    {
     "name": "stdout",
     "output_type": "stream",
     "text": [
      "gaussian data mu= 0.875 Taylor expansion point= 0.5\n",
      "eff coeff: ['0.6931472', '2.0000000', '2.0000000', '2.6666667', '4.0000000', '6.4000000', '10.6666667', '18.2857143']\n",
      "min error: ['-77.8495102', '-0.0057910', '-34.9335480', '-0.0075944', '-21.9589577', '-0.0087799', '-15.9706841', '-0.0116934']\n",
      "max error: ['-0.0025116', '47.9042358', '-0.0001034', '26.9452763', '0.0000033', '17.9628658', '0.0008181', '13.9706841']\n",
      "avg error: ['-3.0109851', '1.6743062', '-1.1493869', '0.8078020', '-0.6399664', '0.4822444', '-0.4292818', '0.3302896']\n",
      "rms error: ['8.6176291', '5.2327704', '3.7940831', '2.8837965', '2.3428433', '1.8965026', '1.6879301', '1.4480587']\n",
      "\n",
      "gaussian data mu= 0.875 Taylor expansion point= 0.55\n",
      "eff coeff: ['0.5978370', '1.8181818', '1.6528926', '2.0035061', '2.7320538', '3.9738965', '6.0210553', '9.3834627']\n",
      "min error: ['-56.8905525', '-0.0162468', '-18.9648209', '-0.0216972', '-8.9843645', '-0.0346371', '-4.9921823', '-0.0537138']\n",
      "max error: ['-0.0097406', '27.9433212', '-0.0092478', '9.9785013', '-0.0092478', '3.9902277', '-0.0092478', '1.9941367']\n",
      "avg error: ['-2.1682093', '0.9301577', '-0.6068275', '0.2632793', '-0.2644135', '0.0695215', '-0.1504735', '0.0050192']\n",
      "rms error: ['6.3052516', '3.0337312', '2.0284393', '1.0489239', '0.9423326', '0.4131858', '0.5202655', '0.1873088']\n",
      "\n",
      "gaussian data mu= 0.875 Taylor expansion point= 0.6\n",
      "eff coeff: ['0.5108256', '1.6666667', '1.3888889', '1.5432099', '1.9290123', '2.5720165']\n",
      "min error: ['-40.9218216', '-0.0157961', '-8.9843645', '-0.0255457', '-2.9960914', '-0.0496642']\n",
      "max error: ['-0.0084488', '15.9667749', '-0.0075130', '2.9921823', '-0.0075130', '-0.0019544']\n",
      "avg error: ['-1.5013361', '0.5001125', '-0.2960959', '0.0661355', '-0.1092432', '-0.0226346']\n",
      "rms error: ['4.4989624', '1.7159241', '0.9804053', '0.3255118', '0.3307887', '0.0250895']\n",
      "\n",
      "gaussian data mu= 0.875 Taylor expansion point= 0.65\n",
      "eff coeff: ['0.4307829', '1.5384615', '1.1834320', '1.2137764', '1.4005112', '1.7237061']\n",
      "min error: ['-27.9472313', '-0.0157248', '-4.9921823', '-0.0395920', '-1.0000000', '-0.3372473']\n",
      "max error: ['-0.0075944', '8.9804564', '-0.0053013', '0.9960911', '-0.0053013', '-0.0019544']\n",
      "avg error: ['-0.9955216', '0.2515140', '-0.1476101', '0.0025977', '-0.0525179', '-0.0252842']\n",
      "rms error: ['3.0734963', '0.9434889', '0.5136167', '0.1069764', '0.1372518', '0.0432127']\n",
      "\n",
      "gaussian data mu= 0.875 Taylor expansion point= 0.7\n",
      "eff coeff: ['0.3566749', '1.4285714', '1.0204082', '0.9718173']\n",
      "min error: ['-18.9648209', '-0.0204933', '-1.9980457', '-0.0436121']\n",
      "max error: ['-0.0038896', '3.9902277', '-0.0032174', '-0.0019544']\n",
      "avg error: ['-0.6396945', '0.1116942', '-0.0713914', '-0.0151474']\n",
      "rms error: ['2.0551212', '0.4356989', '0.2215973', '0.0183094']\n",
      "\n",
      "gaussian data mu= 0.875 Taylor expansion point= 0.75\n",
      "eff coeff: ['0.2876821', '1.3333333', '0.8888889', '0.7901235']\n",
      "min error: ['-11.9785013', '-0.0269398', '-1.0000000', '-0.0395920']\n",
      "max error: ['-0.0042876', '1.9941367', '0.0009243', '0.0040374']\n",
      "avg error: ['-0.3765372', '0.0434443', '-0.0383943', '-0.0117418']\n",
      "rms error: ['1.2776853', '0.2156022', '0.1128615', '0.0153945']\n",
      "\n",
      "gaussian data mu= 0.875 Taylor expansion point= 0.8\n",
      "eff coeff: ['0.2231436', '1.2500000']\n",
      "min error: ['-7.9863186', '-0.0577753']\n",
      "max error: ['-0.0189280', '-0.0019544']\n",
      "avg error: ['-0.2734775', '-0.0309745']\n",
      "rms error: ['0.8703483', '0.0331198']\n",
      "\n",
      "gaussian data mu= 0.875 Taylor expansion point= 0.85\n",
      "eff coeff: ['0.1625189', '1.1764706', '0.6920415', '0.5427777', '0.4789215', '0.4507496', '0.4419114', '0.4456249']\n",
      "min error: ['-4.9921823', '-1.0000000', '-1.0000000', '-1.0000000', '-1.0000000', '-1.0000000', '-1.0000000', '-1.0000000']\n",
      "max error: ['-0.0178682', '-0.0131153', '-0.0109030', '-0.0108804', '-0.0087686', '-0.0085119', '-0.0075130', '-0.0075130']\n",
      "avg error: ['-0.1672516', '-0.0579720', '-0.0555221', '-0.0547005', '-0.0545738', '-0.0544574', '-0.0543946', '-0.0543594']\n",
      "rms error: ['0.5160632', '0.1178947', '0.1173967', '0.1172667', '0.1172519', '0.1172398', '0.1172340', '0.1172305']\n",
      "\n",
      "gaussian data mu= 0.875 Taylor expansion point= 0.9\n",
      "eff coeff: ['0.1053605', '1.1111111', '0.6172840', '0.4572474', '0.3810395', '0.3387018', '0.3136127', '0.2986788']\n",
      "min error: ['-1.9980457', '-1.0000000', '-1.0000000', '-1.0000000', '-1.0000000', '-1.0000000', '-1.0000000', '-1.0000000']\n",
      "max error: ['-0.0186661', '-0.0113093', '-0.0094685', '-0.0079252', '-0.0075130', '-0.0057910', '-0.0057910', '-0.0057910']\n",
      "avg error: ['-0.1085586', '-0.0565471', '-0.0516210', '-0.0501921', '-0.0498908', '-0.0497232', '-0.0496603', '-0.0496488']\n",
      "rms error: ['0.2321843', '0.1175547', '0.1160260', '0.1157882', '0.1157542', '0.1157383', '0.1157326', '0.1157316']\n",
      "\n",
      "gaussian data mu= 0.875 Taylor expansion point= 0.95\n",
      "eff coeff: ['0.0512933', '1.0526316', '0.5540166', '0.3887836', '0.3069344', '0.2584711', '0.2267290']\n",
      "min error: ['-1.0000000', '-1.0000000', '-1.0000000', '-1.0000000', '-1.0000000', '-1.0000000', '-1.0000000']\n",
      "max error: ['-0.0216417', '-0.0093252', '-0.0057859', '-0.0049952', '-0.0048923', '-0.0043799', '-0.0043353']\n",
      "avg error: ['-0.1011698', '-0.0523679', '-0.0441418', '-0.0422670', '-0.0416483', '-0.0414475', '-0.0413822']\n",
      "rms error: ['0.1476145', '0.1155579', '0.1128255', '0.1124865', '0.1124139', '0.1123953', '0.1123908']\n",
      "\n",
      "gaussian data mu= 0.875 Taylor expansion point= 1.0\n",
      "eff coeff: ['0.0000000', '1.0000000', '0.5000000', '0.3333333', '0.2500000', '0.2000000', '0.1666667', '0.1428571']\n",
      "min error: ['-0.2786525', '-0.0994762', '-0.0436121', '-0.0436121', '-0.0436121', '-0.0436121', '-0.0436121', '-0.0436121']\n",
      "max error: ['-0.0019544', '-0.0019544', '-0.0019544', '-0.0015854', '-0.0015854', '-0.0015854', '-0.0015854', '-0.0015854']\n",
      "avg error: ['-0.0948699', '-0.0311477', '-0.0197888', '-0.0163709', '-0.0150112', '-0.0147130', '-0.0145640', '-0.0145479']\n",
      "rms error: ['0.1171346', '0.0377510', '0.0224261', '0.0191472', '0.0181628', '0.0180170', '0.0179629', '0.0179567']\n",
      "\n"
     ]
    }
   ],
   "source": [
    "point_search(func=\"log\", uniform=False, fxp=True, intwidth=7, fracwidth=8, valid=True, rounding_coeff=\"round\", rounding_var=\"floor\")"
   ]
  },
  {
   "cell_type": "markdown",
   "metadata": {},
   "source": [
    "4. test exp with uniform input"
   ]
  },
  {
   "cell_type": "code",
   "execution_count": 7,
   "metadata": {
    "scrolled": true
   },
   "outputs": [
    {
     "data": {
      "image/png": "[encoded data removed]",
      "text/plain": [
       "<Figure size 432x288 with 1 Axes>"
      ]
     },
     "metadata": {
      "needs_background": "light"
     },
     "output_type": "display_data"
    },
    {
     "name": "stdout",
     "output_type": "stream",
     "text": [
      "gaussian data mu= 0.5 Taylor expansion point= 0.0\n",
      "eff coeff: ['1.0000000', '1.0000000', '0.5000000', '0.1666667', '0.0416667']\n",
      "min error: ['-0.2628040', '-0.0810297', '-0.0209493', '-0.0070026', '-0.0056889']\n",
      "max error: ['0.0000000', '0.0000000', '0.0000000', '0.0000000', '0.0000000']\n",
      "avg error: ['-0.1026920', '-0.0243777', '-0.0060919', '-0.0027039', '-0.0024147']\n",
      "rms error: ['0.1310674', '0.0339142', '0.0080836', '0.0030783', '0.0026777']\n",
      "\n",
      "gaussian data mu= 0.5 Taylor expansion point= 0.1\n",
      "eff coeff: ['1.0000000', '1.0000000', '0.5000000', '0.1666667', '0.0416667']\n",
      "min error: ['-0.2296230', '-0.0694885', '-0.0209493', '-0.0117177', '-0.0117177']\n",
      "max error: ['-0.0048213', '-0.0048213', '-0.0048213', '-0.0048213', '-0.0048213']\n",
      "avg error: ['-0.0837377', '-0.0232202', '-0.0104796', '-0.0083480', '-0.0081888']\n",
      "rms error: ['0.1092406', '0.0292356', '0.0110539', '0.0084496', '0.0082775']\n",
      "\n",
      "gaussian data mu= 0.5 Taylor expansion point= 0.2\n",
      "eff coeff: ['1.0000000', '1.0000000', '0.5000000', '0.1666667', '0.0416667']\n",
      "min error: ['-0.1935567', '-0.0536193', '-0.0176495', '-0.0123851', '-0.0123851']\n",
      "max error: ['-0.0052853', '-0.0041680', '-0.0052853', '-0.0052853', '-0.0052853']\n",
      "avg error: ['-0.0645964', '-0.0181575', '-0.0098223', '-0.0085759', '-0.0085117']\n",
      "rms error: ['0.0863428', '0.0223135', '0.0101299', '0.0086765', '0.0086088']\n",
      "\n",
      "gaussian data mu= 0.5 Taylor expansion point= 0.3\n",
      "eff coeff: ['1.0000000', '1.0000000', '0.5000000', '0.1666667', '0.0416667']\n",
      "min error: ['-0.1574903', '-0.0383289', '-0.0119774', '-0.0094907', '-0.0094907']\n",
      "max error: ['-0.0024113', '0.0000000', '-0.0024113', '-0.0024113', '-0.0024113']\n",
      "avg error: ['-0.0490211', '-0.0112222', '-0.0063090', '-0.0055997', '-0.0055886']\n",
      "rms error: ['0.0659243', '0.0145403', '0.0065703', '0.0057547', '0.0057431']\n",
      "\n",
      "gaussian data mu= 0.5 Taylor expansion point= 0.4\n",
      "eff coeff: ['1.0000000', '1.0000000', '0.5000000', '0.1666667']\n",
      "min error: ['-0.1243093', '-0.0290692', '-0.0137355', '-0.0125657']\n",
      "max error: ['-0.0047107', '0.0077213', '-0.0045428', '-0.0045428']\n",
      "avg error: ['-0.0455092', '-0.0097749', '-0.0083449', '-0.0078241']\n",
      "rms error: ['0.0572808', '0.0119740', '0.0085169', '0.0079645']\n",
      "\n",
      "gaussian data mu= 0.5 Taylor expansion point= 0.5\n",
      "eff coeff: ['1.0000000', '1.0000000', '0.5000000', '0.1666667']\n",
      "min error: ['-0.1757812', '-0.0161103', '-0.0117188', '-0.0083503']\n",
      "max error: ['-0.0001721', '0.0273438', '-0.0001721', '0.0012819']\n",
      "avg error: ['-0.0447571', '-0.0014289', '-0.0038022', '-0.0032568']\n",
      "rms error: ['0.0620726', '0.0083780', '0.0042566', '0.0036219']\n",
      "\n",
      "gaussian data mu= 0.5 Taylor expansion point= 0.6\n",
      "eff coeff: ['1.0000000', '1.0000000', '0.5000000', '0.1666667']\n",
      "min error: ['-0.2773438', '-0.0142095', '-0.0193718', '-0.0110704']\n",
      "max error: ['-0.0025511', '0.0544667', '-0.0025021', '-0.0012466']\n",
      "avg error: ['-0.0622713', '0.0016656', '-0.0068552', '-0.0054948']\n",
      "rms error: ['0.0937664', '0.0142749', '0.0075625', '0.0057407']\n",
      "\n",
      "gaussian data mu= 0.5 Taylor expansion point= 0.7\n",
      "eff coeff: ['1.0000000', '1.0000000', '0.5000000', '0.1666667']\n",
      "min error: ['-0.4062500', '-0.0117823', '-0.0311358', '-0.0122216']\n",
      "max error: ['-0.0041270', '0.0898438', '-0.0041270', '0.0039062']\n",
      "avg error: ['-0.0930863', '0.0082259', '-0.0100378', '-0.0068963']\n",
      "rms error: ['0.1436527', '0.0257994', '0.0115431', '0.0071670']\n",
      "\n",
      "gaussian data mu= 0.5 Taylor expansion point= 0.8\n",
      "eff coeff: ['1.0000000', '1.0000000', '0.5000000', '0.1666667']\n",
      "min error: ['-0.5585938', '-0.0071799', '-0.0465406', '-0.0094396']\n",
      "max error: ['-0.0020761', '0.1523438', '-0.0020761', '0.0077213']\n",
      "avg error: ['-0.1355376', '0.0231515', '-0.0106009', '-0.0042036']\n",
      "rms error: ['0.2077495', '0.0469835', '0.0142194', '0.0048723']\n",
      "\n",
      "gaussian data mu= 0.5 Taylor expansion point= 0.9\n",
      "eff coeff: ['1.0000000', '1.0000000', '0.5000000', '0.1666667']\n",
      "min error: ['-0.7617188', '-0.0089143', '-0.0739370', '-0.0105719']\n",
      "max error: ['-0.0033842', '0.2343750', '-0.0033842', '0.0156250']\n",
      "avg error: ['-0.2025121', '0.0421679', '-0.0167653', '-0.0044280']\n",
      "rms error: ['0.2970984', '0.0772361', '0.0232634', '0.0058888']\n",
      "\n",
      "gaussian data mu= 0.5 Taylor expansion point= 1.0\n",
      "eff coeff: ['1.0000000', '1.0000000', '0.5000000', '0.1666667', '0.0416667']\n",
      "min error: ['-1.0000000', '-0.0063562', '-0.1050652', '-0.0083179', '-0.0197017']\n",
      "max error: ['-0.0015933', '0.3554688', '-0.0015933', '0.0309764', '0.0070939']\n",
      "avg error: ['-0.2867914', '0.0737979', '-0.0225820', '-0.0004354', '-0.0053234']\n",
      "rms error: ['0.4055153', '0.1220892', '0.0345159', '0.0067355', '0.0064640']\n",
      "\n"
     ]
    }
   ],
   "source": [
    "point_search(func=\"exp\", uniform=True, fxp=True, intwidth=7, fracwidth=8, valid=True, rounding_coeff=\"round\", rounding_var=\"floor\")"
   ]
  },
  {
   "cell_type": "markdown",
   "metadata": {},
   "source": [
    "5. test div with uniform input"
   ]
  },
  {
   "cell_type": "code",
   "execution_count": 8,
   "metadata": {
    "scrolled": true
   },
   "outputs": [
    {
     "data": {
      "image/png": "[encoded data removed]",
      "text/plain": [
       "<Figure size 432x288 with 1 Axes>"
      ]
     },
     "metadata": {
      "needs_background": "light"
     },
     "output_type": "display_data"
    },
    {
     "name": "stdout",
     "output_type": "stream",
     "text": [
      "gaussian data mu= 0.5 Taylor expansion point= 1.0\n",
      "eff coeff: ['1.0000000', '1.0000000', '1.0000000', '1.0000000', '1.0000000', '1.0000000', '1.0000000', '1.0000000']\n",
      "min error: ['-0.2500000', '-0.1250000', '-0.0625000', '-0.0315552', '-0.0165405', '-0.0090332', '-0.0055847', '-0.0038604']\n",
      "max error: ['-0.0000153', '-0.0000153', '-0.0000153', '-0.0000153', '-0.0000153', '-0.0000153', '-0.0000153', '-0.0000153']\n",
      "avg error: ['-0.0845489', '-0.0330588', '-0.0144093', '-0.0070365', '-0.0042240', '-0.0029697', '-0.0024575', '-0.0022492']\n",
      "rms error: ['0.1131051', '0.0485819', '0.0221476', '0.0106690', '0.0057466', '0.0035516', '0.0027316', '0.0024480']\n",
      "\n"
     ]
    }
   ],
   "source": [
    "point_search(func=\"div\", uniform=True, fxp=True, intwidth=7, fracwidth=8, valid=True, rounding_coeff=\"round\", rounding_var=\"floor\")"
   ]
  },
  {
   "cell_type": "markdown",
   "metadata": {},
   "source": [
    "6. test log with uniform input"
   ]
  },
  {
   "cell_type": "code",
   "execution_count": 9,
   "metadata": {
    "scrolled": true
   },
   "outputs": [
    {
     "data": {
      "image/png": "[encoded data removed]",
      "text/plain": [
       "<Figure size 432x288 with 1 Axes>"
      ]
     },
     "metadata": {
      "needs_background": "light"
     },
     "output_type": "display_data"
    },
    {
     "name": "stdout",
     "output_type": "stream",
     "text": [
      "gaussian data mu= 0.5 Taylor expansion point= 0.5\n",
      "eff coeff: ['0.6931472', '2.0000000', '2.0000000', '2.6666667', '4.0000000', '6.4000000', '10.6666667', '18.2857143']\n",
      "min error: ['-77.8495102', '-0.0057910', '-34.9335480', '-0.0075944', '-21.9589577', '-0.0087799', '-15.9706841', '-0.0116934']\n",
      "max error: ['-0.0025116', '47.9042358', '-0.0001034', '26.9452763', '0.0000033', '17.9628658', '0.0008181', '13.9706841']\n",
      "avg error: ['-2.4568667', '1.3858631', '-0.9669906', '0.6909208', '-0.5542439', '0.4235945', '-0.3803546', '0.2989674']\n",
      "rms error: ['8.5900126', '5.2326059', '3.8006773', '2.8960631', '2.3539183', '1.9090085', '1.6996061', '1.4622828']\n",
      "\n",
      "gaussian data mu= 0.5 Taylor expansion point= 0.625\n",
      "eff coeff: ['0.4700036', '1.6000000', '1.2800000', '1.3653333', '1.6384000', '2.0971520']\n",
      "min error: ['-32.9374580', '-0.0092478', '-5.9902282', '-0.0152654', '-1.0000000', '-0.0375863']\n",
      "max error: ['-0.0012017', '11.9745932', '0.0000033', '1.9941367', '0.0013022', '0.0084284']\n",
      "avg error: ['-0.9819378', '0.3183900', '-0.1541953', '0.0433404', '-0.0415904', '-0.0074818']\n",
      "rms error: ['3.6278224', '1.3004841', '0.6416290', '0.2171502', '0.1454601', '0.0111785']\n",
      "\n",
      "gaussian data mu= 0.5 Taylor expansion point= 0.75\n",
      "eff coeff: ['0.2876821', '1.3333333', '0.8888889', '0.7901235']\n",
      "min error: ['-11.9785013', '-0.0269398', '-1.0000000', '-0.0395920']\n",
      "max error: ['-0.0042876', '1.9941367', '0.0009243', '0.0040374']\n",
      "avg error: ['-0.3339425', '0.0376141', '-0.0337319', '-0.0090574']\n",
      "rms error: ['1.2818323', '0.2170257', '0.1124270', '0.0124192']\n",
      "\n",
      "gaussian data mu= 0.5 Taylor expansion point= 0.875\n",
      "eff coeff: ['0.1335314', '1.1428571', '0.6530612', '0.4975705', '0.4264890', '0.3899328', '0.3713645']\n",
      "min error: ['-2.9960914', '-0.0603921', '-0.0416006', '-0.0416006', '-0.0416006', '-0.0416006', '-0.0416006']\n",
      "max error: ['-0.0013232', '-0.0001400', '-0.0001400', '-0.0001400', '-0.0001400', '-0.0001400', '-0.0001400']\n",
      "avg error: ['-0.1309929', '-0.0224982', '-0.0135518', '-0.0111964', '-0.0105262', '-0.0102946', '-0.0102473']\n",
      "rms error: ['0.3318489', '0.0268440', '0.0158291', '0.0138969', '0.0135472', '0.0134490', '0.0134268']\n",
      "\n",
      "gaussian data mu= 0.5 Taylor expansion point= 1.0\n",
      "eff coeff: ['0.0000000', '1.0000000', '0.5000000', '0.3333333', '0.2500000', '0.2000000', '0.1666667', '0.1428571']\n",
      "min error: ['-0.2786525', '-0.0994762', '-0.0436121', '-0.0436121', '-0.0436121', '-0.0436121', '-0.0436121', '-0.0436121']\n",
      "max error: ['-0.0019544', '-0.0019544', '-0.0019544', '-0.0015854', '-0.0015854', '-0.0015854', '-0.0015854', '-0.0015854']\n",
      "avg error: ['-0.1346302', '-0.0414891', '-0.0207456', '-0.0144611', '-0.0123601', '-0.0116580', '-0.0114156', '-0.0113599']\n",
      "rms error: ['0.1566989', '0.0484275', '0.0230155', '0.0166788', '0.0150358', '0.0146388', '0.0145269', '0.0144999']\n",
      "\n"
     ]
    }
   ],
   "source": [
    "point_search(func=\"log\", uniform=True, fxp=True, intwidth=7, fracwidth=8, valid=True, rounding_coeff=\"round\", rounding_var=\"floor\")"
   ]
  },
  {
   "cell_type": "markdown",
   "metadata": {},
   "source": [
    "7. test floating point exp"
   ]
  },
  {
   "cell_type": "code",
   "execution_count": 10,
   "metadata": {
    "scrolled": false
   },
   "outputs": [
    {
     "data": {
      "image/png": "[encoded data removed]",
      "text/plain": [
       "<Figure size 432x288 with 1 Axes>"
      ]
     },
     "metadata": {
      "needs_background": "light"
     },
     "output_type": "display_data"
    },
    {
     "name": "stdout",
     "output_type": "stream",
     "text": [
      "gaussian data mu= 0.5 Taylor expansion point= 0.0\n",
      "eff coeff: ['1.0000000', '1.0000000', '0.5000000', '0.1666667', '0.0416667', '0.0083333', '0.0013889', '0.0001984']\n",
      "min error: ['-0.2628040', '-0.0795842', '-0.0187495', '-0.0036002', '-0.0005822', '-0.0000812', '-0.0000099', '-0.0000011']\n",
      "max error: ['0.0000000', '0.0000000', '0.0000000', '0.0000001', '0.0000001', '0.0000001', '0.0000002', '0.0000002']\n",
      "avg error: ['-0.1030458', '-0.0231591', '-0.0043082', '-0.0006814', '-0.0000935', '-0.0000113', '-0.0000012', '-0.0000001']\n",
      "rms error: ['0.1314733', '0.0332134', '0.0068238', '0.0011751', '0.0001737', '0.0000225', '0.0000026', '0.0000003']\n",
      "\n",
      "gaussian data mu= 0.5 Taylor expansion point= 0.1\n",
      "eff coeff: ['1.0000000', '1.0000000', '0.5000000', '0.1666667', '0.0416667', '0.0083333', '0.0013889', '0.0001984']\n",
      "min error: ['-0.2260886', '-0.0622151', '-0.0132665', '-0.0023009', '-0.0003357', '-0.0000422', '-0.0000046', '-0.0000005']\n",
      "max error: ['-0.0000013', '0.0001796', '0.0000001', '0.0000001', '0.0000001', '0.0000002', '0.0000002', '0.0000002']\n",
      "avg error: ['-0.0787186', '-0.0160523', '-0.0027082', '-0.0003875', '-0.0000480', '-0.0000052', '-0.0000005', '-0.0000000']\n",
      "rms error: ['0.1061656', '0.0244085', '0.0045459', '0.0007080', '0.0000945', '0.0000110', '0.0000011', '0.0000001']\n",
      "\n",
      "gaussian data mu= 0.5 Taylor expansion point= 0.2\n",
      "eff coeff: ['1.0000000', '1.0000000', '0.5000000', '0.1666667', '0.0416667', '0.0083333', '0.0013889', '0.0001984']\n",
      "min error: ['-0.1898044', '-0.0468626', '-0.0089308', '-0.0013815', '-0.0001795', '-0.0000201', '-0.0000019', '-0.0000003']\n",
      "max error: ['-0.0000002', '0.0015503', '0.0000001', '0.0000031', '0.0000001', '0.0000002', '0.0000002', '0.0000002']\n",
      "avg error: ['-0.0591955', '-0.0105185', '-0.0016033', '-0.0002045', '-0.0000227', '-0.0000022', '-0.0000002', '-0.0000000']\n",
      "rms error: ['0.0832706', '0.0171819', '0.0028641', '0.0003984', '0.0000474', '0.0000049', '0.0000005', '0.0000001']\n",
      "\n",
      "gaussian data mu= 0.5 Taylor expansion point= 0.3\n",
      "eff coeff: ['1.0000000', '1.0000000', '0.5000000', '0.1666667', '0.0416667', '0.0083333', '0.0013889', '0.0001984']\n",
      "min error: ['-0.1544481', '-0.0336680', '-0.0056432', '-0.0007661', '-0.0000873', '-0.0000085', '-0.0000006', '-0.0000001']\n",
      "max error: ['-0.0000002', '0.0056449', '0.0000002', '0.0000261', '0.0000003', '0.0000003', '0.0000003', '0.0000003']\n",
      "avg error: ['-0.0457560', '-0.0061534', '-0.0008993', '-0.0000969', '-0.0000095', '-0.0000007', '0.0000000', '0.0000001']\n",
      "rms error: ['0.0640177', '0.0115047', '0.0016829', '0.0002056', '0.0000215', '0.0000019', '0.0000002', '0.0000001']\n",
      "\n",
      "gaussian data mu= 0.5 Taylor expansion point= 0.4\n",
      "eff coeff: ['1.0000000', '1.0000000', '0.5000000', '0.1666667', '0.0416667', '0.0083333', '0.0013889', '0.0001984']\n",
      "min error: ['-0.1206167', '-0.0227310', '-0.0032814', '-0.0003829', '-0.0000373', '-0.0000030', '-0.0000003', '-0.0000001']\n",
      "max error: ['-0.0000011', '0.0144409', '0.0000001', '0.0001193', '0.0000002', '0.0000006', '0.0000002', '0.0000002']\n",
      "avg error: ['-0.0398958', '-0.0023651', '-0.0005445', '-0.0000338', '-0.0000039', '-0.0000002', '0.0000000', '0.0000000']\n",
      "rms error: ['0.0532273', '0.0078595', '0.0009501', '0.0000973', '0.0000086', '0.0000007', '0.0000001', '0.0000001']\n",
      "\n",
      "gaussian data mu= 0.5 Taylor expansion point= 0.5\n",
      "eff coeff: ['1.0000000', '1.0000000', '0.5000000', '0.1666667', '0.0416667', '0.0083333', '0.0013889', '0.0001984']\n",
      "min error: ['-0.1756394', '-0.0140932', '-0.0038975', '-0.0001659', '-0.0000333', '-0.0000009', '-0.0000002', '-0.0000002']\n",
      "max error: ['0.0000000', '0.0304508', '0.0000000', '0.0003960', '0.0000001', '0.0000024', '0.0000001', '0.0000002']\n",
      "avg error: ['-0.0433580', '0.0016710', '-0.0005553', '0.0000168', '-0.0000034', '0.0000000', '-0.0000000', '-0.0000000']\n",
      "rms error: ['0.0608834', '0.0088226', '0.0009930', '0.0000913', '0.0000071', '0.0000005', '0.0000001', '0.0000001']\n",
      "\n",
      "gaussian data mu= 0.5 Taylor expansion point= 0.6\n",
      "eff coeff: ['1.0000000', '1.0000000', '0.5000000', '0.1666667', '0.0416667', '0.0083333', '0.0013889', '0.0001984']\n",
      "min error: ['-0.2711525', '-0.0077184', '-0.0087674', '-0.0000585', '-0.0001087', '-0.0000003', '-0.0000008', '-0.0000002']\n",
      "max error: ['-0.0000012', '0.0568290', '0.0000001', '0.0010720', '0.0000002', '0.0000093', '0.0000002', '0.0000002']\n",
      "avg error: ['-0.0581678', '0.0070634', '-0.0010506', '0.0000975', '-0.0000091', '0.0000007', '-0.0000000', '0.0000000']\n",
      "rms error: ['0.0904108', '0.0160314', '0.0021963', '0.0002448', '0.0000230', '0.0000019', '0.0000001', '0.0000001']\n",
      "\n",
      "gaussian data mu= 0.5 Taylor expansion point= 0.7\n",
      "eff coeff: ['1.0000000', '1.0000000', '0.5000000', '0.1666667', '0.0416667', '0.0083333', '0.0013889', '0.0001984']\n",
      "min error: ['-0.3958741', '-0.0034707', '-0.0176243', '-0.0000148', '-0.0002988', '-0.0000002', '-0.0000026', '-0.0000002']\n",
      "max error: ['-0.0000004', '0.0974952', '0.0000001', '0.0025216', '0.0000001', '0.0000303', '0.0000002', '0.0000004']\n",
      "avg error: ['-0.0866742', '0.0152666', '-0.0022961', '0.0002744', '-0.0000283', '0.0000025', '-0.0000002', '0.0000000']\n",
      "rms error: ['0.1383915', '0.0291934', '0.0047102', '0.0006156', '0.0000677', '0.0000064', '0.0000005', '0.0000001']\n",
      "\n",
      "gaussian data mu= 0.5 Taylor expansion point= 0.8\n",
      "eff coeff: ['1.0000000', '1.0000000', '0.5000000', '0.1666667', '0.0416667', '0.0083333', '0.0013889', '0.0001984']\n",
      "min error: ['-0.5548918', '-0.0010855', '-0.0326316', '-0.0000019', '-0.0007263', '-0.0000001', '-0.0000086', '-0.0000002']\n",
      "max error: ['-0.0000003', '0.1572812', '0.0000001', '0.0053509', '0.0000002', '0.0000840', '0.0000002', '0.0000007']\n",
      "avg error: ['-0.1315942', '0.0281538', '-0.0047590', '0.0006587', '-0.0000775', '0.0000079', '-0.0000007', '0.0000000']\n",
      "rms error: ['0.2045877', '0.0498334', '0.0092393', '0.0013850', '0.0001744', '0.0000189', '0.0000018', '0.0000002']\n",
      "\n",
      "gaussian data mu= 0.5 Taylor expansion point= 0.9\n",
      "eff coeff: ['1.0000000', '1.0000000', '0.5000000', '0.1666667', '0.0416667', '0.0083333', '0.0013889', '0.0001984']\n",
      "min error: ['-0.7540396', '-0.0001375', '-0.0567422', '-0.0000002', '-0.0016059', '-0.0000002', '-0.0000238', '-0.0000002']\n",
      "max error: ['-0.0000013', '0.2420995', '0.0000001', '0.0104972', '0.0000002', '0.0002096', '0.0000002', '0.0000024']\n",
      "avg error: ['-0.1960649', '0.0481021', '-0.0091781', '0.0014357', '-0.0001906', '0.0000220', '-0.0000022', '0.0000002']\n",
      "rms error: ['0.2915361', '0.0805821', '0.0168952', '0.0028592', '0.0004061', '0.0000497', '0.0000053', '0.0000005']\n",
      "\n",
      "gaussian data mu= 0.5 Taylor expansion point= 1.0\n",
      "eff coeff: ['1.0000000', '1.0000000', '0.5000000', '0.1666667', '0.0416667', '0.0083333', '0.0013889', '0.0001984']\n",
      "min error: ['-1.0000000', '0.0000000', '-0.0939062', '-0.0000001', '-0.0032967', '-0.0000002', '-0.0000607', '-0.0000002']\n",
      "max error: ['-0.0000076', '0.3591409', '0.0000001', '0.0193555', '0.0000001', '0.0004786', '0.0000001', '0.0000067']\n",
      "avg error: ['-0.2837020', '0.0780927', '-0.0166503', '0.0029056', '-0.0004299', '0.0000552', '-0.0000063', '0.0000006']\n",
      "rms error: ['0.4030478', '0.1248301', '0.0292309', '0.0055155', '0.0008726', '0.0001189', '0.0000143', '0.0000015']\n",
      "\n"
     ]
    }
   ],
   "source": [
    "point_search(func=\"exp\", uniform=True, fxp=False, intwidth=7, fracwidth=8, valid=True, rounding_coeff=\"round\", rounding_var=\"floor\")"
   ]
  },
  {
   "cell_type": "code",
   "execution_count": null,
   "metadata": {},
   "outputs": [],
   "source": []
  }
 ],
 "metadata": {
  "kernelspec": {
   "display_name": "Python 3",
   "language": "python",
   "name": "python3"
  },
  "language_info": {
   "codemirror_mode": {
    "name": "ipython",
    "version": 3
   },
   "file_extension": ".py",
   "mimetype": "text/x-python",
   "name": "python",
   "nbconvert_exporter": "python",
   "pygments_lexer": "ipython3",
   "version": "3.7.3"
  }
 },
 "nbformat": 4,
 "nbformat_minor": 2
}
