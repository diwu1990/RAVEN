{
 "cells": [
  {
   "cell_type": "code",
   "execution_count": 1,
   "metadata": {},
   "outputs": [],
   "source": [
    "%load_ext autoreload\n",
    "%autoreload 2"
   ]
  },
  {
   "cell_type": "code",
   "execution_count": 1,
   "metadata": {},
   "outputs": [],
   "source": [
    "import torch\n",
    "from RAVEN.pe.mac_taylor_utils import *\n",
    "import matplotlib.pyplot as plt"
   ]
  },
  {
   "cell_type": "markdown",
   "metadata": {},
   "source": [
    "# test MAC_Taylor"
   ]
  },
  {
   "cell_type": "code",
   "execution_count": 2,
   "metadata": {},
   "outputs": [
    {
     "name": "stdout",
     "output_type": "stream",
     "text": [
      "[1.0, 1.0, 0.5, 0.16666666666666666, 0.041666666666666664, 0.008333333333333333, 0.001388888888888889, 0.0001984126984126984]\n",
      "min error rate: tensor(-0.0118, device='cuda:0')\n",
      "max error rate: tensor(-0.0001, device='cuda:0')\n",
      "avg error rate: tensor(-0.0053, device='cuda:0')\n",
      "rms error rate: tensor(0.0056, device='cuda:0')\n"
     ]
    }
   ],
   "source": [
    "a = torch.arange(0, 1, 0.001).cuda()\n",
    "\n",
    "precise = torch.exp(a).cuda()\n",
    "\n",
    "point = 0.5\n",
    "scale = torch.exp(torch.tensor([point])).cuda()\n",
    "var = a - point\n",
    "\n",
    "coeff = [1/1, 1/1, 1/2, 1/6, 1/24, 1/120, 1/720, 1/5040, 1/40320, 1/362880]\n",
    "\n",
    "coeff = coeff[0:8]\n",
    "print(coeff)\n",
    "\n",
    "approximate = MAC_Taylor(scale, \n",
    "                         coeff, \n",
    "                         var, \n",
    "                         fxp=True, \n",
    "                         intwidth=7, \n",
    "                         fracwidth=8, \n",
    "                         rounding_coeff=\"round\", \n",
    "                         rounding_var=\"floor\", \n",
    "                         keepwidth=True)\n",
    "\n",
    "error = (approximate - precise) / precise\n",
    "print(\"min error rate:\", error.min())\n",
    "print(\"max error rate:\", error.max())\n",
    "print(\"avg error rate:\", error.mean())\n",
    "print(\"rms error rate:\", error.mul(error).mean().sqrt())"
   ]
  },
  {
   "cell_type": "markdown",
   "metadata": {},
   "source": [
    "# point search test"
   ]
  },
  {
   "cell_type": "markdown",
   "metadata": {},
   "source": [
    "## test exp"
   ]
  },
  {
   "cell_type": "markdown",
   "metadata": {},
   "source": [
    "### fxp guassian"
   ]
  },
  {
   "cell_type": "code",
   "execution_count": 10,
   "metadata": {
    "scrolled": true
   },
   "outputs": [
    {
     "data": {
      "image/png": "[encoded data removed]",
      "text/plain": [
       "<Figure size 432x288 with 1 Axes>"
      ]
     },
     "metadata": {
      "needs_background": "light"
     },
     "output_type": "display_data"
    },
    {
     "name": "stdout",
     "output_type": "stream",
     "text": [
      "gaussian data mu= 0.25 Taylor expansion point= 0.0\n",
      "eff coeff: ['1.0000000000', '1.0000000000', '0.5000000000', '0.1666666667', '0.0416666667']\n",
      "min error: ['-0.2642410994', '-0.0803013667', '-0.0191092025', '-0.0045126127', '-0.0021743155']\n",
      "max error: ['0.0000000000', '0.0015456392', '0.0017781437', '0.0018073127', '0.0022234549']\n",
      "avg error: ['-0.0617252998', '-0.0120686144', '-0.0021046840', '-0.0002893918', '-0.0000747293']\n",
      "rms error: ['0.0921729431', '0.0231769383', '0.0048856153', '0.0011578299', '0.0009167876']\n",
      "\n",
      "gaussian data mu= 0.25 Taylor expansion point= 0.25\n",
      "eff coeff: ['1.0000000000', '1.0000000000', '0.5000000000', '0.1666666667', '0.0416666667']\n",
      "min error: ['-0.1722712368', '-0.0400645547', '-0.0070128846', '-0.0025743698', '-0.0025743698']\n",
      "max error: ['0.0021472657', '0.0077213040', '0.0043279962', '0.0045673698', '0.0043279962']\n",
      "avg error: ['-0.0257483199', '-0.0029178776', '0.0001817673', '0.0007444426', '0.0007301119']\n",
      "rms error: ['0.0502973571', '0.0100758886', '0.0019781822', '0.0015302235', '0.0015022522']\n",
      "\n",
      "gaussian data mu= 0.25 Taylor expansion point= 0.05\n",
      "eff coeff: ['1.0000000000', '1.0000000000', '0.5000000000', '0.1666666667', '0.0416666667']\n",
      "min error: ['-0.2469967455', '-0.0723737627', '-0.0170720890', '-0.0055758553', '-0.0043245442']\n",
      "max error: ['-0.0001207646', '0.0017781437', '0.0017781437', '0.0017781437', '0.0017781437']\n",
      "avg error: ['-0.0525280163', '-0.0109945452', '-0.0029159295', '-0.0015043261', '-0.0013665220']\n",
      "rms error: ['0.0828076079', '0.0206155442', '0.0047564390', '0.0020098265', '0.0018486290']\n",
      "\n",
      "gaussian data mu= 0.25 Taylor expansion point= 0.75\n",
      "eff coeff: ['1.0000000000', '1.0000000000', '0.5000000000', '0.1666666667', '0.0416666667']\n",
      "min error: ['-0.4687500000', '-0.0031161634', '-0.0308862794', '-0.0045926557', '-0.0070723402']\n",
      "max error: ['0.0008437737', '0.1283960938', '0.0030051256', '0.0091350963', '0.0074730604']\n",
      "avg error: ['-0.1580019146', '0.0309139621', '-0.0051329238', '0.0009789326', '0.0001785902']\n",
      "rms error: ['0.2007149905', '0.0442109518', '0.0083226487', '0.0025473924', '0.0023489303']\n",
      "\n",
      "gaussian data mu= 0.25 Taylor expansion point= 1.0\n",
      "eff coeff: ['1.0000000000', '1.0000000000', '0.5000000000', '0.1666666667', '0.0416666667']\n",
      "min error: ['-1.0000000000', '-0.0026294682', '-0.1046783775', '-0.0032642395', '-0.0082565499']\n",
      "max error: ['0.0007751551', '0.3593750000', '0.0036533310', '0.0272295475', '0.0152619928']\n",
      "avg error: ['-0.4086599946', '0.1149908528', '-0.0252829213', '0.0051013157', '0.0000310956']\n",
      "rms error: ['0.4852639139', '0.1476933062', '0.0349657424', '0.0080322744', '0.0034664646']\n",
      "\n"
     ]
    },
    {
     "data": {
      "image/png": "[encoded data removed]",
      "text/plain": [
       "<Figure size 432x288 with 1 Axes>"
      ]
     },
     "metadata": {
      "needs_background": "light"
     },
     "output_type": "display_data"
    },
    {
     "name": "stdout",
     "output_type": "stream",
     "text": [
      "gaussian data mu= 0.5 Taylor expansion point= 0.0\n",
      "eff coeff: ['1.0000000000', '1.0000000000', '0.5000000000', '0.1666666667', '0.0416666667']\n",
      "min error: ['-0.2642410994', '-0.0803013667', '-0.0191092025', '-0.0045126127', '-0.0021743155']\n",
      "max error: ['0.0000000000', '0.0015456392', '0.0017781437', '0.0018073127', '0.0022234549']\n",
      "avg error: ['-0.0965018272', '-0.0186770242', '-0.0028548327', '-0.0002862531', '-0.0000608347']\n",
      "rms error: ['0.1120038256', '0.0246139932', '0.0044350452', '0.0010196869', '0.0008641513']\n",
      "\n",
      "gaussian data mu= 0.5 Taylor expansion point= 0.25\n",
      "eff coeff: ['1.0000000000', '1.0000000000', '0.5000000000', '0.1666666667', '0.0416666667']\n",
      "min error: ['-0.1722712368', '-0.0400645547', '-0.0070128846', '-0.0025743698', '-0.0025743698']\n",
      "max error: ['0.0021472657', '0.0077213040', '0.0043279962', '0.0045673698', '0.0043279962']\n",
      "avg error: ['-0.0372522511', '-0.0043114135', '0.0002326346', '0.0008337407', '0.0008460309']\n",
      "rms error: ['0.0525005013', '0.0085477028', '0.0015981167', '0.0014435555', '0.0014434730']\n",
      "\n",
      "gaussian data mu= 0.5 Taylor expansion point= 0.05\n",
      "eff coeff: ['1.0000000000', '1.0000000000', '0.5000000000', '0.1666666667', '0.0416666667']\n",
      "min error: ['-0.2469967455', '-0.0723737627', '-0.0170720890', '-0.0055758553', '-0.0043245442']\n",
      "max error: ['-0.0001207646', '0.0017781437', '0.0017781437', '0.0017781437', '0.0017781437']\n",
      "avg error: ['-0.0835695118', '-0.0162207950', '-0.0034058944', '-0.0014434273', '-0.0012889043']\n",
      "rms error: ['0.0992498770', '0.0214751232', '0.0044596209', '0.0018599870', '0.0017148714']\n",
      "\n",
      "gaussian data mu= 0.5 Taylor expansion point= 0.75\n",
      "eff coeff: ['1.0000000000', '1.0000000000', '0.5000000000', '0.1666666667', '0.0416666667']\n",
      "min error: ['-0.4687500000', '-0.0031161634', '-0.0308862794', '-0.0045926557', '-0.0070723402']\n",
      "max error: ['0.0008437737', '0.1283960938', '0.0030051256', '0.0091350963', '0.0074730604']\n",
      "avg error: ['-0.0678531006', '0.0107204420', '-0.0015215225', '0.0003728068', '0.0001404708']\n",
      "rms error: ['0.1072549224', '0.0214383546', '0.0041031027', '0.0018557600', '0.0017852206']\n",
      "\n",
      "gaussian data mu= 0.5 Taylor expansion point= 1.0\n",
      "eff coeff: ['1.0000000000', '1.0000000000', '0.5000000000', '0.1666666667', '0.0416666667']\n",
      "min error: ['-1.0000000000', '-0.0026294682', '-0.1046783775', '-0.0032642395', '-0.0082565499']\n",
      "max error: ['0.0007751551', '0.3593750000', '0.0036533310', '0.0272295475', '0.0152619928']\n",
      "avg error: ['-0.2227860093', '0.0511803925', '-0.0096347639', '0.0020167446', '0.0002220227']\n",
      "rms error: ['0.2899082005', '0.0786596090', '0.0174352955', '0.0042809779', '0.0026472781']\n",
      "\n"
     ]
    },
    {
     "data": {
      "image/png": "[encoded data removed]",
      "text/plain": [
       "<Figure size 432x288 with 1 Axes>"
      ]
     },
     "metadata": {
      "needs_background": "light"
     },
     "output_type": "display_data"
    },
    {
     "name": "stdout",
     "output_type": "stream",
     "text": [
      "gaussian data mu= 0.75 Taylor expansion point= 0.0\n",
      "eff coeff: ['1.0000000000', '1.0000000000', '0.5000000000', '0.1666666667', '0.0416666667']\n",
      "min error: ['-0.2642410994', '-0.0803013667', '-0.0191092025', '-0.0045126127', '-0.0021743155']\n",
      "max error: ['0.0000000000', '0.0015456392', '0.0017781437', '0.0018073127', '0.0022234549']\n",
      "avg error: ['-0.1447844058', '-0.0343208238', '-0.0063293176', '-0.0008547304', '-0.0002532891']\n",
      "rms error: ['0.1613637656', '0.0406447612', '0.0080797914', '0.0014264910', '0.0008958472']\n",
      "\n",
      "gaussian data mu= 0.75 Taylor expansion point= 0.25\n",
      "eff coeff: ['1.0000000000', '1.0000000000', '0.5000000000', '0.1666666667']\n",
      "min error: ['-0.1722712368', '-0.0400645547', '-0.0070128846', '-0.0025743698']\n",
      "max error: ['0.0021472657', '0.0077213040', '0.0043279962', '0.0045673698']\n",
      "avg error: ['-0.0754571930', '-0.0119676050', '-0.0008633268', '0.0007842805']\n",
      "rms error: ['0.0888840333', '0.0164695513', '0.0022823154', '0.0013761234']\n",
      "\n",
      "gaussian data mu= 0.75 Taylor expansion point= 0.05\n",
      "eff coeff: ['1.0000000000', '1.0000000000', '0.5000000000', '0.1666666667', '0.0416666667']\n",
      "min error: ['-0.2469967455', '-0.0723737627', '-0.0170720890', '-0.0055758553', '-0.0043245442']\n",
      "max error: ['-0.0001207646', '0.0017781437', '0.0017781437', '0.0017781437', '0.0017781437']\n",
      "avg error: ['-0.1303440779', '-0.0302054193', '-0.0062772948', '-0.0018997419', '-0.0014807830']\n",
      "rms error: ['0.1466048956', '0.0358746685', '0.0075725531', '0.0022532961', '0.0018293923']\n",
      "\n",
      "gaussian data mu= 0.75 Taylor expansion point= 0.75\n",
      "eff coeff: ['1.0000000000', '1.0000000000', '0.5000000000', '0.1666666667', '0.0416666667']\n",
      "min error: ['-0.4687500000', '-0.0031161634', '-0.0308862794', '-0.0045926557', '-0.0070723402']\n",
      "max error: ['0.0008437737', '0.1283960938', '0.0030051256', '0.0091350963', '0.0074730604']\n",
      "avg error: ['-0.0520573631', '0.0099619236', '-0.0018257782', '0.0002832096', '-0.0000177584']\n",
      "rms error: ['0.1213816479', '0.0290606376', '0.0057837358', '0.0017890190', '0.0016673569']\n",
      "\n",
      "gaussian data mu= 0.75 Taylor expansion point= 1.0\n",
      "eff coeff: ['1.0000000000', '1.0000000000', '0.5000000000', '0.1666666667', '0.0416666667']\n",
      "min error: ['-1.0000000000', '-0.0026294682', '-0.1046783775', '-0.0032642395', '-0.0082565499']\n",
      "max error: ['0.0007751551', '0.3593750000', '0.0036533310', '0.0272295475', '0.0152619928']\n",
      "avg error: ['-0.1519889086', '0.0388622396', '-0.0083595477', '0.0020083969', '0.0003250230']\n",
      "rms error: ['0.2838695943', '0.0908583030', '0.0226992294', '0.0054658316', '0.0024841530']\n",
      "\n"
     ]
    }
   ],
   "source": [
    "point_search(func=\"exp\", uniform=False, fxp=True, intwidth=7, fracwidth=8, \n",
    "             valid=True, rounding_coeff=\"round\", rounding_var=\"round\", keepwidth=True)"
   ]
  },
  {
   "cell_type": "markdown",
   "metadata": {},
   "source": [
    "### flp guassian"
   ]
  },
  {
   "cell_type": "code",
   "execution_count": 11,
   "metadata": {
    "scrolled": true
   },
   "outputs": [
    {
     "data": {
      "image/png": "[encoded data removed]",
      "text/plain": [
       "<Figure size 432x288 with 1 Axes>"
      ]
     },
     "metadata": {
      "needs_background": "light"
     },
     "output_type": "display_data"
    },
    {
     "name": "stdout",
     "output_type": "stream",
     "text": [
      "gaussian data mu= 0.25 Taylor expansion point= 0.0\n",
      "eff coeff: ['1.0000000000', '1.0000000000', '0.5000000000', '0.1666666667', '0.0416666667', '0.0083333333', '0.0013888889', '0.0001984127']\n",
      "min error: ['-0.2642410994', '-0.0803013667', '-0.0189880971', '-0.0036597580', '-0.0005940550', '-0.0000831484', '-0.0000101743', '-0.0000010691']\n",
      "max error: ['0.0000000000', '0.0000000000', '0.0000000000', '0.0000001151', '0.0000001151', '0.0000001151', '0.0000001738', '0.0000001738']\n",
      "avg error: ['-0.0618219338', '-0.0120556187', '-0.0021146152', '-0.0003322152', '-0.0000465535', '-0.0000058265', '-0.0000006582', '-0.0000000721']\n",
      "rms error: ['0.0923542902', '0.0232422706', '0.0049263933', '0.0008790937', '0.0001341659', '0.0000178184', '0.0000020878', '0.0000002241']\n",
      "\n",
      "gaussian data mu= 0.25 Taylor expansion point= 0.25\n",
      "eff coeff: ['1.0000000000', '1.0000000000', '0.5000000000', '0.1666666667', '0.0416666667', '0.0083333333', '0.0013888889', '0.0001984127']\n",
      "min error: ['-0.1733584702', '-0.0405053794', '-0.0072921510', '-0.0010646154', '-0.0001305991', '-0.0000137704', '-0.0000012424', '-0.0000002683']\n",
      "max error: ['0.0000000928', '0.0031448603', '0.0000000928', '0.0000100136', '0.0000001793', '0.0000001793', '0.0000001793', '0.0000001793']\n",
      "avg error: ['-0.0267098341', '-0.0036961224', '-0.0005910190', '-0.0000731197', '-0.0000080844', '-0.0000007714', '-0.0000000626', '-0.0000000022']\n",
      "rms error: ['0.0508512519', '0.0103047155', '0.0016929532', '0.0002297994', '0.0000264640', '0.0000026389', '0.0000002377', '0.0000000684']\n",
      "\n",
      "gaussian data mu= 0.25 Taylor expansion point= 0.05\n",
      "eff coeff: ['1.0000000000', '1.0000000000', '0.5000000000', '0.1666666667', '0.0416666667', '0.0083333333', '0.0013888889', '0.0001984127']\n",
      "min error: ['-0.2458549440', '-0.0713380948', '-0.0160743073', '-0.0029492250', '-0.0004553867', '-0.0000606071', '-0.0000070167', '-0.0000008018']\n",
      "max error: ['-0.0000003399', '0.0000215769', '0.0000001138', '0.0000001138', '0.0000002055', '0.0000002055', '0.0000002055', '0.0000002055']\n",
      "avg error: ['-0.0516038761', '-0.0097694946', '-0.0016647244', '-0.0002526419', '-0.0000339896', '-0.0000040566', '-0.0000004228', '-0.0000000298']\n",
      "rms error: ['0.0824478790', '0.0200895388', '0.0040817386', '0.0006947230', '0.0001009140', '0.0000127464', '0.0000014219', '0.0000001601']\n",
      "\n",
      "gaussian data mu= 0.25 Taylor expansion point= 0.75\n",
      "eff coeff: ['1.0000000000', '1.0000000000', '0.5000000000', '0.1666666667', '0.0416666667', '0.0083333333', '0.0013888889', '0.0001984127']\n",
      "min error: ['-0.4707499743', '-0.0021614202', '-0.0241952538', '-0.0000065782', '-0.0004720092', '-0.0000001058', '-0.0000048280', '-0.0000001664']\n",
      "max error: ['0.0000000000', '0.1246563196', '0.0000001157', '0.0037144423', '0.0000002051', '0.0000512600', '0.0000002051', '0.0000004750']\n",
      "avg error: ['-0.1581933796', '0.0310047306', '-0.0047678612', '0.0005981509', '-0.0000639035', '0.0000059975', '-0.0000004550', '0.0000000723']\n",
      "rms error: ['0.2010463923', '0.0442990065', '0.0074747112', '0.0010252718', '0.0001186161', '0.0000118980', '0.0000010331', '0.0000001295']\n",
      "\n",
      "gaussian data mu= 0.25 Taylor expansion point= 1.0\n",
      "eff coeff: ['1.0000000000', '1.0000000000', '0.5000000000', '0.1666666667', '0.0416666667', '0.0083333333', '0.0013888889', '0.0001984127']\n",
      "min error: ['-1.0000000000', '0.0000000000', '-0.0939061642', '-0.0000000941', '-0.0032967329', '-0.0000002261', '-0.0000607371', '-0.0000002261']\n",
      "max error: ['0.0000000000', '0.3591408730', '0.0000000881', '0.0193555355', '0.0000000994', '0.0004786253', '0.0000001157', '0.0000066757']\n",
      "avg error: ['-0.4088760912', '0.1148330644', '-0.0243794695', '0.0041914461', '-0.0006081003', '0.0000764570', '-0.0000085452', '0.0000008091']\n",
      "rms error: ['0.4857383668', '0.1475181729', '0.0337954834', '0.0062481295', '0.0009707093', '0.0001301769', '0.0000153947', '0.0000016065']\n",
      "\n"
     ]
    },
    {
     "data": {
      "image/png": "[encoded data removed]",
      "text/plain": [
       "<Figure size 432x288 with 1 Axes>"
      ]
     },
     "metadata": {
      "needs_background": "light"
     },
     "output_type": "display_data"
    },
    {
     "name": "stdout",
     "output_type": "stream",
     "text": [
      "gaussian data mu= 0.5 Taylor expansion point= 0.0\n",
      "eff coeff: ['1.0000000000', '1.0000000000', '0.5000000000', '0.1666666667', '0.0416666667', '0.0083333333', '0.0013888889', '0.0001984127']\n",
      "min error: ['-0.2642410994', '-0.0803013667', '-0.0189880971', '-0.0036597580', '-0.0005940550', '-0.0000831484', '-0.0000101743', '-0.0000010691']\n",
      "max error: ['0.0000000000', '0.0000000000', '0.0000000000', '0.0000001151', '0.0000001151', '0.0000001151', '0.0000001738', '0.0000001738']\n",
      "avg error: ['-0.0961902738', '-0.0185636263', '-0.0029471277', '-0.0004011242', '-0.0000480514', '-0.0000051583', '-0.0000005070', '-0.0000000523']\n",
      "rms error: ['0.1117588356', '0.0245324858', '0.0044862214', '0.0007053068', '0.0000972418', '0.0000119209', '0.0000013136', '0.0000001474']\n",
      "\n",
      "gaussian data mu= 0.5 Taylor expansion point= 0.25\n",
      "eff coeff: ['1.0000000000', '1.0000000000', '0.5000000000', '0.1666666667', '0.0416666667', '0.0083333333', '0.0013888889', '0.0001984127']\n",
      "min error: ['-0.1733584702', '-0.0405053794', '-0.0072921510', '-0.0010646154', '-0.0001305991', '-0.0000137704', '-0.0000012424', '-0.0000002683']\n",
      "max error: ['0.0000000928', '0.0031448603', '0.0000000928', '0.0000100136', '0.0000001793', '0.0000001793', '0.0000001793', '0.0000001793']\n",
      "avg error: ['-0.0380139537', '-0.0051233280', '-0.0006079963', '-0.0000619406', '-0.0000056406', '-0.0000004562', '-0.0000000314', '-0.0000000014']\n",
      "rms error: ['0.0529749431', '0.0088799149', '0.0012553235', '0.0001527445', '0.0000162454', '0.0000015281', '0.0000001418', '0.0000000661']\n",
      "\n",
      "gaussian data mu= 0.5 Taylor expansion point= 0.05\n",
      "eff coeff: ['1.0000000000', '1.0000000000', '0.5000000000', '0.1666666667', '0.0416666667', '0.0083333333', '0.0013888889', '0.0001984127']\n",
      "min error: ['-0.2458549440', '-0.0713380948', '-0.0160743073', '-0.0029492250', '-0.0004553867', '-0.0000606071', '-0.0000070167', '-0.0000008018']\n",
      "max error: ['-0.0000003399', '0.0000215769', '0.0000001138', '0.0000001138', '0.0000002055', '0.0000002055', '0.0000002055', '0.0000002055']\n",
      "avg error: ['-0.0823592395', '-0.0149390390', '-0.0022407703', '-0.0002891594', '-0.0000329100', '-0.0000033594', '-0.0000003068', '-0.0000000232']\n",
      "rms error: ['0.0983041897', '0.0205302108', '0.0035815588', '0.0005376354', '0.0000707689', '0.0000082805', '0.0000008709', '0.0000001115']\n",
      "\n",
      "gaussian data mu= 0.5 Taylor expansion point= 0.75\n",
      "eff coeff: ['1.0000000000', '1.0000000000', '0.5000000000', '0.1666666667', '0.0416666667', '0.0083333333', '0.0013888889', '0.0001984127']\n",
      "min error: ['-0.4707499743', '-0.0021614202', '-0.0241952538', '-0.0000065782', '-0.0004720092', '-0.0000001058', '-0.0000048280', '-0.0000001664']\n",
      "max error: ['0.0000000000', '0.1246563196', '0.0000001157', '0.0037144423', '0.0000002051', '0.0000512600', '0.0000002051', '0.0000004750']\n",
      "avg error: ['-0.0685898885', '0.0109101264', '-0.0014389527', '0.0001609684', '-0.0000157250', '0.0000014165', '-0.0000000651', '0.0000000484']\n",
      "rms error: ['0.1084253713', '0.0217029769', '0.0034657468', '0.0004599856', '0.0000521448', '0.0000051664', '0.0000004490', '0.0000000885']\n",
      "\n",
      "gaussian data mu= 0.5 Taylor expansion point= 1.0\n",
      "eff coeff: ['1.0000000000', '1.0000000000', '0.5000000000', '0.1666666667', '0.0416666667', '0.0083333333', '0.0013888889', '0.0001984127']\n",
      "min error: ['-1.0000000000', '0.0000000000', '-0.0939061642', '-0.0000000941', '-0.0032967329', '-0.0000002261', '-0.0000607371', '-0.0000002261']\n",
      "max error: ['0.0000000000', '0.3591408730', '0.0000000881', '0.0193555355', '0.0000000994', '0.0004786253', '0.0000001157', '0.0000066757']\n",
      "avg error: ['-0.2243309319', '0.0515812971', '-0.0093352832', '0.0014103208', '-0.0001841422', '0.0000212064', '-0.0000022349', '0.0000001687']\n",
      "rms error: ['0.2920554876', '0.0792871639', '0.0168802049', '0.0029712622', '0.0004464207', '0.0000584913', '0.0000068100', '0.0000007031']\n",
      "\n"
     ]
    },
    {
     "data": {
      "image/png": "[encoded data removed]",
      "text/plain": [
       "<Figure size 432x288 with 1 Axes>"
      ]
     },
     "metadata": {
      "needs_background": "light"
     },
     "output_type": "display_data"
    },
    {
     "name": "stdout",
     "output_type": "stream",
     "text": [
      "gaussian data mu= 0.75 Taylor expansion point= 0.0\n",
      "eff coeff: ['1.0000000000', '1.0000000000', '0.5000000000', '0.1666666667', '0.0416666667', '0.0083333333', '0.0013888889', '0.0001984127']\n",
      "min error: ['-0.2642410994', '-0.0803013667', '-0.0189880971', '-0.0036597580', '-0.0005940550', '-0.0000831484', '-0.0000101743', '-0.0000010691']\n",
      "max error: ['0.0000000000', '0.0000000000', '0.0000000000', '0.0000001151', '0.0000001151', '0.0000001151', '0.0000001738', '0.0000001738']\n",
      "avg error: ['-0.1449695826', '-0.0343626030', '-0.0065034805', '-0.0010269994', '-0.0001394336', '-0.0000166245', '-0.0000017682', '-0.0000001695']\n",
      "rms error: ['0.1615024060', '0.0407057032', '0.0082365824', '0.0013932951', '0.0002025021', '0.0000257874', '0.0000029156', '0.0000002977']\n",
      "\n",
      "gaussian data mu= 0.75 Taylor expansion point= 0.25\n",
      "eff coeff: ['1.0000000000', '1.0000000000', '0.5000000000', '0.1666666667', '0.0416666667', '0.0083333333', '0.0013888889', '0.0001984127']\n",
      "min error: ['-0.1733584702', '-0.0405053794', '-0.0072921510', '-0.0010646154', '-0.0001305991', '-0.0000137704', '-0.0000012424', '-0.0000002683']\n",
      "max error: ['0.0000000928', '0.0031448603', '0.0000000928', '0.0000100136', '0.0000001793', '0.0000001793', '0.0000001793', '0.0000001793']\n",
      "avg error: ['-0.0763737634', '-0.0127854003', '-0.0018073283', '-0.0002106178', '-0.0000213509', '-0.0000018960', '-0.0000001461', '-0.0000000079']\n",
      "rms error: ['0.0896274745', '0.0169906635', '0.0025985627', '0.0003326059', '0.0000365637', '0.0000035143', '0.0000003019', '0.0000000713']\n",
      "\n",
      "gaussian data mu= 0.75 Taylor expansion point= 0.05\n",
      "eff coeff: ['1.0000000000', '1.0000000000', '0.5000000000', '0.1666666667', '0.0416666667', '0.0083333333', '0.0013888889', '0.0001984127']\n",
      "min error: ['-0.2458549440', '-0.0713380948', '-0.0160743073', '-0.0029492250', '-0.0004553867', '-0.0000606071', '-0.0000070167', '-0.0000008018']\n",
      "max error: ['-0.0000003399', '0.0000215769', '0.0000001138', '0.0000001138', '0.0000002055', '0.0000002055', '0.0000002055', '0.0000002055']\n",
      "avg error: ['-0.1296647489', '-0.0290834028', '-0.0052114590', '-0.0007799129', '-0.0001004290', '-0.0000113658', '-0.0000011436', '-0.0000000986']\n",
      "rms error: ['0.1460440606', '0.0349950604', '0.0067350063', '0.0010838470', '0.0001498664', '0.0000181568', '0.0000019530', '0.0000002005']\n",
      "\n",
      "gaussian data mu= 0.75 Taylor expansion point= 0.75\n",
      "eff coeff: ['1.0000000000', '1.0000000000', '0.5000000000', '0.1666666667', '0.0416666667', '0.0083333333', '0.0013888889', '0.0001984127']\n",
      "min error: ['-0.4707499743', '-0.0021614202', '-0.0241952538', '-0.0000065782', '-0.0004720092', '-0.0000001058', '-0.0000048280', '-0.0000001664']\n",
      "max error: ['0.0000000000', '0.1246563196', '0.0000001157', '0.0037144423', '0.0000002051', '0.0000512600', '0.0000002051', '0.0000004750']\n",
      "avg error: ['-0.0517921485', '0.0098892311', '-0.0016704848', '0.0002261600', '-0.0000260618', '0.0000026419', '-0.0000001863', '0.0000000589']\n",
      "rms error: ['0.1206931695', '0.0287268665', '0.0051558912', '0.0007418182', '0.0000891115', '0.0000092068', '0.0000008238', '0.0000001055']\n",
      "\n",
      "gaussian data mu= 0.75 Taylor expansion point= 1.0\n",
      "eff coeff: ['1.0000000000', '1.0000000000', '0.5000000000', '0.1666666667', '0.0416666667', '0.0083333333', '0.0013888889', '0.0001984127']\n",
      "min error: ['-1.0000000000', '0.0000000000', '-0.0939061642', '-0.0000000941', '-0.0032967329', '-0.0000002261', '-0.0000607371', '-0.0000002261']\n",
      "max error: ['0.0000000000', '0.3591408730', '0.0000000881', '0.0193555355', '0.0000000994', '0.0004786253', '0.0000001157', '0.0000066757']\n",
      "avg error: ['-0.1513739824', '0.0384547338', '-0.0080955429', '0.0014377579', '-0.0002190343', '0.0000290349', '-0.0000034382', '0.0000003265']\n",
      "rms error: ['0.2825258374', '0.0899921432', '0.0217553619', '0.0042170058', '0.0006817381', '0.0000945252', '0.0000114909', '0.0000012348']\n",
      "\n"
     ]
    }
   ],
   "source": [
    "point_search(func=\"exp\", uniform=False, fxp=False, intwidth=7, fracwidth=8, \n",
    "             valid=True, rounding_coeff=\"round\", rounding_var=\"round\", keepwidth=True)"
   ]
  },
  {
   "cell_type": "markdown",
   "metadata": {},
   "source": [
    "### fxp uniform"
   ]
  },
  {
   "cell_type": "code",
   "execution_count": 12,
   "metadata": {
    "scrolled": true
   },
   "outputs": [
    {
     "data": {
      "image/png": "[encoded data removed]",
      "text/plain": [
       "<Figure size 432x288 with 1 Axes>"
      ]
     },
     "metadata": {
      "needs_background": "light"
     },
     "output_type": "display_data"
    },
    {
     "name": "stdout",
     "output_type": "stream",
     "text": [
      "gaussian data mu= 0.5 Taylor expansion point= 0.0\n",
      "eff coeff: ['1.0000000000', '1.0000000000', '0.5000000000', '0.1666666667', '0.0416666667']\n",
      "min error: ['-0.2642410994', '-0.0803013667', '-0.0191092025', '-0.0045126127', '-0.0021743155']\n",
      "max error: ['0.0000000000', '0.0015456392', '0.0017781437', '0.0018073127', '0.0022234549']\n",
      "avg error: ['-0.1038941741', '-0.0234594624', '-0.0042889416', '-0.0005907608', '-0.0001647398']\n",
      "rms error: ['0.1323457360', '0.0335102119', '0.0068030851', '0.0013194098', '0.0009079344']\n",
      "\n",
      "gaussian data mu= 0.5 Taylor expansion point= 0.25\n",
      "eff coeff: ['1.0000000000', '1.0000000000', '0.5000000000', '0.1666666667', '0.0416666667']\n",
      "min error: ['-0.1722712368', '-0.0400645547', '-0.0070128846', '-0.0025743698', '-0.0025743698']\n",
      "max error: ['0.0021472657', '0.0077213040', '0.0043279962', '0.0045673698', '0.0043279962']\n",
      "avg error: ['-0.0513130687', '-0.0075847977', '-0.0003723363', '0.0007615584', '0.0007969904']\n",
      "rms error: ['0.0731197819', '0.0139412554', '0.0021860315', '0.0014614577', '0.0014608731']\n",
      "\n",
      "gaussian data mu= 0.5 Taylor expansion point= 0.05\n",
      "eff coeff: ['1.0000000000', '1.0000000000', '0.5000000000', '0.1666666667', '0.0416666667']\n",
      "min error: ['-0.2469967455', '-0.0723737627', '-0.0170720890', '-0.0055758553', '-0.0043245442']\n",
      "max error: ['-0.0001207646', '0.0017781437', '0.0017781437', '0.0017781437', '0.0017781437']\n",
      "avg error: ['-0.0920872614', '-0.0208410639', '-0.0046513588', '-0.0017084226', '-0.0014234741']\n",
      "rms error: ['0.1199906170', '0.0296522379', '0.0064266981', '0.0021431542', '0.0018399952']\n",
      "\n",
      "gaussian data mu= 0.5 Taylor expansion point= 0.75\n",
      "eff coeff: ['1.0000000000', '1.0000000000', '0.5000000000', '0.1666666667', '0.0416666667']\n",
      "min error: ['-0.4687500000', '-0.0031161634', '-0.0308862794', '-0.0045926557', '-0.0070723402']\n",
      "max error: ['0.0008437737', '0.1283960938', '0.0030051256', '0.0091350963', '0.0074730604']\n",
      "avg error: ['-0.1058232188', '0.0206962787', '-0.0035438139', '0.0006446863', '0.0000851383']\n",
      "rms error: ['0.1678038239', '0.0381100178', '0.0073409905', '0.0022168984', '0.0020400630']\n",
      "\n",
      "gaussian data mu= 0.5 Taylor expansion point= 1.0\n",
      "eff coeff: ['1.0000000000', '1.0000000000', '0.5000000000', '0.1666666667', '0.0416666667']\n",
      "min error: ['-1.0000000000', '-0.0026294682', '-0.1046783775', '-0.0032642395', '-0.0082565499']\n",
      "max error: ['0.0007751551', '0.3593750000', '0.0036533310', '0.0272295475', '0.0152619928']\n",
      "avg error: ['-0.2811127007', '0.0774763972', '-0.0170336831', '0.0036313513', '0.0002078786']\n",
      "rms error: ['0.4004854858', '0.1241970658', '0.0300063621', '0.0070274072', '0.0030573157']\n",
      "\n"
     ]
    }
   ],
   "source": [
    "point_search(func=\"exp\", uniform=True, fxp=True, intwidth=7, fracwidth=8, \n",
    "             valid=True, rounding_coeff=\"round\", rounding_var=\"round\", keepwidth=True)"
   ]
  },
  {
   "cell_type": "markdown",
   "metadata": {},
   "source": [
    "### flp uniform"
   ]
  },
  {
   "cell_type": "code",
   "execution_count": 13,
   "metadata": {
    "scrolled": true
   },
   "outputs": [
    {
     "data": {
      "image/png": "[encoded data removed]",
      "text/plain": [
       "<Figure size 432x288 with 1 Axes>"
      ]
     },
     "metadata": {
      "needs_background": "light"
     },
     "output_type": "display_data"
    },
    {
     "name": "stdout",
     "output_type": "stream",
     "text": [
      "gaussian data mu= 0.5 Taylor expansion point= 0.0\n",
      "eff coeff: ['1.0000000000', '1.0000000000', '0.5000000000', '0.1666666667', '0.0416666667', '0.0083333333', '0.0013888889', '0.0001984127']\n",
      "min error: ['-0.2642410994', '-0.0803013667', '-0.0189880971', '-0.0036597580', '-0.0005940550', '-0.0000831484', '-0.0000101743', '-0.0000010691']\n",
      "max error: ['0.0000000000', '0.0000000000', '0.0000000000', '0.0000001151', '0.0000001151', '0.0000001151', '0.0000001738', '0.0000001738']\n",
      "avg error: ['-0.1032595858', '-0.0232319664', '-0.0043276493', '-0.0006855101', '-0.0000942709', '-0.0000114398', '-0.0000012428', '-0.0000001243']\n",
      "rms error: ['0.1317313761', '0.0333269201', '0.0068582641', '0.0011830202', '0.0001751779', '0.0000226838', '0.0000026022', '0.0000002700']\n",
      "\n",
      "gaussian data mu= 0.5 Taylor expansion point= 0.25\n",
      "eff coeff: ['1.0000000000', '1.0000000000', '0.5000000000', '0.1666666667', '0.0416666667', '0.0083333333', '0.0013888889', '0.0001984127']\n",
      "min error: ['-0.1733584702', '-0.0405053794', '-0.0072921510', '-0.0010646154', '-0.0001305991', '-0.0000137704', '-0.0000012424', '-0.0000002683']\n",
      "max error: ['0.0000000928', '0.0031448603', '0.0000000928', '0.0000100136', '0.0000001793', '0.0000001793', '0.0000001793', '0.0000001793']\n",
      "avg error: ['-0.0517196357', '-0.0082697375', '-0.0012139304', '-0.0001446192', '-0.0000151155', '-0.0000013785', '-0.0000001082', '-0.0000000049']\n",
      "rms error: ['0.0732396320', '0.0142211653', '0.0022336659', '0.0002926054', '0.0000327904', '0.0000032016', '0.0000002798', '0.0000000706']\n",
      "\n",
      "gaussian data mu= 0.5 Taylor expansion point= 0.05\n",
      "eff coeff: ['1.0000000000', '1.0000000000', '0.5000000000', '0.1666666667', '0.0416666667', '0.0083333333', '0.0013888889', '0.0001984127']\n",
      "min error: ['-0.2458549440', '-0.0713380948', '-0.0160743073', '-0.0029492250', '-0.0004553867', '-0.0000606071', '-0.0000070167', '-0.0000008018']\n",
      "max error: ['-0.0000003399', '0.0000215769', '0.0000001138', '0.0000001138', '0.0000002055', '0.0000002055', '0.0000002055', '0.0000002055']\n",
      "avg error: ['-0.0905489028', '-0.0194561929', '-0.0034562908', '-0.0005215378', '-0.0000682656', '-0.0000078764', '-0.0000008045', '-0.0000000668']\n",
      "rms error: ['0.1187995896', '0.0287166741', '0.0056349486', '0.0009257745', '0.0001304759', '0.0000160754', '0.0000017552', '0.0000001855']\n",
      "\n",
      "gaussian data mu= 0.5 Taylor expansion point= 0.75\n",
      "eff coeff: ['1.0000000000', '1.0000000000', '0.5000000000', '0.1666666667', '0.0416666667', '0.0083333333', '0.0013888889', '0.0001984127']\n",
      "min error: ['-0.4707499743', '-0.0021614202', '-0.0241952538', '-0.0000065782', '-0.0004720092', '-0.0000001058', '-0.0000048280', '-0.0000001664']\n",
      "max error: ['0.0000000000', '0.1246563196', '0.0000001157', '0.0037144423', '0.0000002051', '0.0000512600', '0.0000002051', '0.0000004750']\n",
      "avg error: ['-0.1064490005', '0.0208365675', '-0.0033047274', '0.0004259795', '-0.0000467870', '0.0000045156', '-0.0000003386', '0.0000000674']\n",
      "rms error: ['0.1682044566', '0.0381199531', '0.0065882565', '0.0009213738', '0.0001082789', '0.0000109976', '0.0000009671', '0.0000001205']\n",
      "\n",
      "gaussian data mu= 0.5 Taylor expansion point= 1.0\n",
      "eff coeff: ['1.0000000000', '1.0000000000', '0.5000000000', '0.1666666667', '0.0416666667', '0.0083333333', '0.0013888889', '0.0001984127']\n",
      "min error: ['-1.0000000000', '0.0000000000', '-0.0939061642', '-0.0000000941', '-0.0032967329', '-0.0000002261', '-0.0000607371', '-0.0000002261']\n",
      "max error: ['0.0000000000', '0.3591408730', '0.0000000881', '0.0193555355', '0.0000000994', '0.0004786253', '0.0000001157', '0.0000066757']\n",
      "avg error: ['-0.2827415466', '0.0777049288', '-0.0165386293', '0.0028808045', '-0.0004253860', '0.0000545152', '-0.0000062196', '0.0000005933']\n",
      "rms error: ['0.4015040994', '0.1240997836', '0.0289977305', '0.0054592607', '0.0008616778', '0.0001171414', '0.0000140128', '0.0000014805']\n",
      "\n"
     ]
    }
   ],
   "source": [
    "point_search(func=\"exp\", uniform=True, fxp=False, intwidth=7, fracwidth=8, \n",
    "             valid=True, rounding_coeff=\"round\", rounding_var=\"round\", keepwidth=True)"
   ]
  },
  {
   "cell_type": "markdown",
   "metadata": {},
   "source": [
    "## test div"
   ]
  },
  {
   "cell_type": "markdown",
   "metadata": {},
   "source": [
    "### fxp guassian"
   ]
  },
  {
   "cell_type": "code",
   "execution_count": 14,
   "metadata": {
    "scrolled": true
   },
   "outputs": [
    {
     "data": {
      "image/png": "[encoded data removed]",
      "text/plain": [
       "<Figure size 432x288 with 1 Axes>"
      ]
     },
     "metadata": {
      "needs_background": "light"
     },
     "output_type": "display_data"
    },
    {
     "name": "stdout",
     "output_type": "stream",
     "text": [
      "gaussian data mu= 0.625 Taylor expansion point= 1.0\n",
      "eff coeff: ['1.0000000000', '1.0000000000', '1.0000000000', '1.0000000000', '1.0000000000', '1.0000000000', '1.0000000000', '1.0000000000']\n",
      "min error: ['-0.2500000000', '-0.1250000000', '-0.0625000000', '-0.0312500000', '-0.0156250000', '-0.0078125000', '-0.0039062500', '-0.0019531697']\n",
      "max error: ['0.0000000000', '0.0015259349', '0.0015259349', '0.0015259349', '0.0015259349', '0.0015259349', '0.0015259349', '0.0015259349']\n",
      "avg error: ['-0.1190959513', '-0.0462686010', '-0.0185992531', '-0.0077553159', '-0.0033143449', '-0.0014929539', '-0.0008868615', '-0.0006858776']\n",
      "rms error: ['0.1365857869', '0.0570377260', '0.0246918295', '0.0110131260', '0.0050262748', '0.0023208945', '0.0013319288', '0.0010382441']\n",
      "\n"
     ]
    },
    {
     "data": {
      "image/png": "[encoded data removed]",
      "text/plain": [
       "<Figure size 432x288 with 1 Axes>"
      ]
     },
     "metadata": {
      "needs_background": "light"
     },
     "output_type": "display_data"
    },
    {
     "name": "stdout",
     "output_type": "stream",
     "text": [
      "gaussian data mu= 0.75 Taylor expansion point= 1.0\n",
      "eff coeff: ['1.0000000000', '1.0000000000', '1.0000000000', '1.0000000000', '1.0000000000', '1.0000000000', '1.0000000000', '1.0000000000']\n",
      "min error: ['-0.2500000000', '-0.1250000000', '-0.0625000000', '-0.0312500000', '-0.0156250000', '-0.0078125000', '-0.0039062500', '-0.0019531697']\n",
      "max error: ['0.0000000000', '0.0015259349', '0.0015259349', '0.0015259349', '0.0015259349', '0.0015259349', '0.0015259349', '0.0015259349']\n",
      "avg error: ['-0.0721220374', '-0.0226284117', '-0.0076910239', '-0.0028331433', '-0.0011857324', '-0.0006773758', '-0.0005481881', '-0.0005148674']\n",
      "rms error: ['0.0879662707', '0.0321739577', '0.0127070891', '0.0053919856', '0.0024568893', '0.0013324106', '0.0010482016', '0.0009911620']\n",
      "\n"
     ]
    },
    {
     "data": {
      "image/png": "[encoded data removed]",
      "text/plain": [
       "<Figure size 432x288 with 1 Axes>"
      ]
     },
     "metadata": {
      "needs_background": "light"
     },
     "output_type": "display_data"
    },
    {
     "name": "stdout",
     "output_type": "stream",
     "text": [
      "gaussian data mu= 0.875 Taylor expansion point= 1.0\n",
      "eff coeff: ['1.0000000000', '1.0000000000', '1.0000000000', '1.0000000000', '1.0000000000', '1.0000000000', '1.0000000000', '1.0000000000']\n",
      "min error: ['-0.2500000000', '-0.1250000000', '-0.0625000000', '-0.0312500000', '-0.0156250000', '-0.0078125000', '-0.0039062500', '-0.0019531697']\n",
      "max error: ['0.0000000000', '0.0015259349', '0.0015259349', '0.0015259349', '0.0015259349', '0.0015259349', '0.0015259349', '0.0015259349']\n",
      "avg error: ['-0.0468646660', '-0.0156168835', '-0.0061828904', '-0.0027485113', '-0.0013963152', '-0.0008134335', '-0.0005664828', '-0.0004538168']\n",
      "rms error: ['0.0779162422', '0.0334984809', '0.0153271053', '0.0072029489', '0.0034931414', '0.0018229863', '0.0012113777', '0.0010394336']\n",
      "\n"
     ]
    }
   ],
   "source": [
    "point_search(func=\"div\", uniform=False, fxp=True, intwidth=7, fracwidth=8, \n",
    "             valid=True, rounding_coeff=\"round\", rounding_var=\"round\", keepwidth=True)"
   ]
  },
  {
   "cell_type": "markdown",
   "metadata": {},
   "source": [
    "### flp guassian"
   ]
  },
  {
   "cell_type": "code",
   "execution_count": 15,
   "metadata": {
    "scrolled": true
   },
   "outputs": [
    {
     "data": {
      "image/png": "[encoded data removed]",
      "text/plain": [
       "<Figure size 432x288 with 1 Axes>"
      ]
     },
     "metadata": {
      "needs_background": "light"
     },
     "output_type": "display_data"
    },
    {
     "name": "stdout",
     "output_type": "stream",
     "text": [
      "gaussian data mu= 0.625 Taylor expansion point= 1.0\n",
      "eff coeff: ['1.0000000000', '1.0000000000', '1.0000000000', '1.0000000000', '1.0000000000', '1.0000000000', '1.0000000000', '1.0000000000']\n",
      "min error: ['-0.2500000000', '-0.1250000000', '-0.0625000000', '-0.0312500000', '-0.0156250000', '-0.0078125000', '-0.0039062500', '-0.0019531250']\n",
      "max error: ['0.0000000000', '0.0000000000', '0.0000000000', '0.0000001159', '0.0000001159', '0.0000001159', '0.0000001159', '0.0000001159']\n",
      "avg error: ['-0.1190955639', '-0.0462931916', '-0.0186146833', '-0.0076841540', '-0.0032402317', '-0.0013906159', '-0.0006056998', '-0.0002671506']\n",
      "rms error: ['0.1364356279', '0.0569230467', '0.0246109515', '0.0109133692', '0.0049305363', '0.0022593576', '0.0010468030', '0.0004892748']\n",
      "\n"
     ]
    },
    {
     "data": {
      "image/png": "[encoded data removed]",
      "text/plain": [
       "<Figure size 432x288 with 1 Axes>"
      ]
     },
     "metadata": {
      "needs_background": "light"
     },
     "output_type": "display_data"
    },
    {
     "name": "stdout",
     "output_type": "stream",
     "text": [
      "gaussian data mu= 0.75 Taylor expansion point= 1.0\n",
      "eff coeff: ['1.0000000000', '1.0000000000', '1.0000000000', '1.0000000000', '1.0000000000', '1.0000000000', '1.0000000000', '1.0000000000']\n",
      "min error: ['-0.2500000000', '-0.1250000000', '-0.0625000000', '-0.0312500000', '-0.0156250000', '-0.0078125000', '-0.0039062500', '-0.0019531250']\n",
      "max error: ['0.0000000000', '0.0000000000', '0.0000000000', '0.0000001159', '0.0000001159', '0.0000001159', '0.0000001159', '0.0000001159']\n",
      "avg error: ['-0.0721617937', '-0.0228647385', '-0.0077733775', '-0.0027944385', '-0.0010511191', '-0.0004103885', '-0.0001652514', '-0.0000682806']\n",
      "rms error: ['0.0881667510', '0.0324210040', '0.0128550688', '0.0053693946', '0.0023267178', '0.0010353101', '0.0004697429', '0.0002162762']\n",
      "\n"
     ]
    },
    {
     "data": {
      "image/png": "[encoded data removed]",
      "text/plain": [
       "<Figure size 432x288 with 1 Axes>"
      ]
     },
     "metadata": {
      "needs_background": "light"
     },
     "output_type": "display_data"
    },
    {
     "name": "stdout",
     "output_type": "stream",
     "text": [
      "gaussian data mu= 0.875 Taylor expansion point= 1.0\n",
      "eff coeff: ['1.0000000000', '1.0000000000', '1.0000000000', '1.0000000000', '1.0000000000', '1.0000000000', '1.0000000000', '1.0000000000']\n",
      "min error: ['-0.2500000000', '-0.1250000000', '-0.0625000000', '-0.0312500000', '-0.0156250000', '-0.0078125000', '-0.0039062500', '-0.0019531250']\n",
      "max error: ['0.0000000000', '0.0000000000', '0.0000000000', '0.0000001159', '0.0000001159', '0.0000001159', '0.0000001159', '0.0000001159']\n",
      "avg error: ['-0.0469941571', '-0.0157692581', '-0.0061056106', '-0.0025653949', '-0.0011290596', '-0.0005105765', '-0.0002347792', '-0.0001091525']\n",
      "rms error: ['0.0781383961', '0.0336014666', '0.0153223602', '0.0071504945', '0.0033759971', '0.0016054360', '0.0007673639', '0.0003682339']\n",
      "\n"
     ]
    }
   ],
   "source": [
    "point_search(func=\"div\", uniform=False, fxp=False, intwidth=7, fracwidth=8, \n",
    "             valid=True, rounding_coeff=\"round\", rounding_var=\"round\", keepwidth=True)"
   ]
  },
  {
   "cell_type": "markdown",
   "metadata": {},
   "source": [
    "### fxp uniform"
   ]
  },
  {
   "cell_type": "code",
   "execution_count": 16,
   "metadata": {
    "scrolled": true
   },
   "outputs": [
    {
     "data": {
      "image/png": "[encoded data removed]",
      "text/plain": [
       "<Figure size 432x288 with 1 Axes>"
      ]
     },
     "metadata": {
      "needs_background": "light"
     },
     "output_type": "display_data"
    },
    {
     "name": "stdout",
     "output_type": "stream",
     "text": [
      "gaussian data mu= 0.5 Taylor expansion point= 1.0\n",
      "eff coeff: ['1.0000000000', '1.0000000000', '1.0000000000', '1.0000000000', '1.0000000000', '1.0000000000', '1.0000000000', '1.0000000000']\n",
      "min error: ['-0.2500000000', '-0.1250000000', '-0.0625000000', '-0.0312500000', '-0.0156250000', '-0.0078125000', '-0.0039062500', '-0.0019531697']\n",
      "max error: ['0.0000000000', '0.0015259349', '0.0015259349', '0.0015259349', '0.0015259349', '0.0015259349', '0.0015259349', '0.0015259349']\n",
      "avg error: ['-0.0835480615', '-0.0313116014', '-0.0126060275', '-0.0053623961', '-0.0024135290', '-0.0011858188', '-0.0007378915', '-0.0005708217']\n",
      "rms error: ['0.1121142358', '0.0474280566', '0.0209588613', '0.0095308376', '0.0044424473', '0.0021389129', '0.0012858092', '0.0010360981']\n",
      "\n"
     ]
    }
   ],
   "source": [
    "point_search(func=\"div\", uniform=True, fxp=True, intwidth=7, fracwidth=8, \n",
    "             valid=True, rounding_coeff=\"round\", rounding_var=\"round\", keepwidth=True)"
   ]
  },
  {
   "cell_type": "markdown",
   "metadata": {},
   "source": [
    "### flp uniform"
   ]
  },
  {
   "cell_type": "code",
   "execution_count": 17,
   "metadata": {
    "scrolled": true
   },
   "outputs": [
    {
     "data": {
      "image/png": "[encoded data removed]",
      "text/plain": [
       "<Figure size 432x288 with 1 Axes>"
      ]
     },
     "metadata": {
      "needs_background": "light"
     },
     "output_type": "display_data"
    },
    {
     "name": "stdout",
     "output_type": "stream",
     "text": [
      "gaussian data mu= 0.5 Taylor expansion point= 1.0\n",
      "eff coeff: ['1.0000000000', '1.0000000000', '1.0000000000', '1.0000000000', '1.0000000000', '1.0000000000', '1.0000000000', '1.0000000000']\n",
      "min error: ['-0.2500000000', '-0.1250000000', '-0.0625000000', '-0.0312500000', '-0.0156250000', '-0.0078125000', '-0.0039062500', '-0.0019531250']\n",
      "max error: ['0.0000000000', '0.0000000000', '0.0000000000', '0.0000001159', '0.0000001159', '0.0000001159', '0.0000001159', '0.0000001159']\n",
      "avg error: ['-0.0834862292', '-0.0313099213', '-0.0125242546', '-0.0052182372', '-0.0022362052', '-0.0009782468', '-0.0004347326', '-0.0001956151']\n",
      "rms error: ['0.1119118109', '0.0472885333', '0.0208501853', '0.0094291177', '0.0043366458', '0.0020186650', '0.0009481860', '0.0004485098']\n",
      "\n"
     ]
    }
   ],
   "source": [
    "point_search(func=\"div\", uniform=True, fxp=False, intwidth=7, fracwidth=8, \n",
    "             valid=True, rounding_coeff=\"round\", rounding_var=\"round\", keepwidth=True)"
   ]
  },
  {
   "cell_type": "markdown",
   "metadata": {},
   "source": [
    "## test log"
   ]
  },
  {
   "cell_type": "markdown",
   "metadata": {},
   "source": [
    "### fxp guassian"
   ]
  },
  {
   "cell_type": "code",
   "execution_count": 18,
   "metadata": {},
   "outputs": [
    {
     "data": {
      "image/png": "[encoded data removed]",
      "text/plain": [
       "<Figure size 432x288 with 1 Axes>"
      ]
     },
     "metadata": {
      "needs_background": "light"
     },
     "output_type": "display_data"
    },
    {
     "name": "stdout",
     "output_type": "stream",
     "text": [
      "gaussian data mu= 0.625 Taylor expansion point= 0.5\n",
      "eff coeff: ['0.6931471806', '2.0000000000', '2.0000000000', '2.6666666667', '4.0000000000', '6.4000000000', '10.6666666667', '18.2857142857']\n",
      "min error: ['-77.8495101929', '-0.0027473923', '-34.9335479736', '-0.0033870686', '-21.9589576721', '-0.0049951603', '-15.9706840515', '-0.0064094882']\n",
      "max error: ['-0.0025116347', '47.9042358398', '0.0032875452', '26.9452762604', '0.0037608473', '17.9628658295', '0.0046279477', '13.9706840515']\n",
      "avg error: ['-1.6572943926', '0.9599785805', '-0.6632390618', '0.4971259236', '-0.3912841380', '0.3177279234', '-0.2758736312', '0.2325671613']\n",
      "rms error: ['7.7233786583', '4.7325949669', '3.4171669483', '2.6264462471', '2.1225304604', '1.7379183769', '1.5382376909', '1.3307505846']\n",
      "\n",
      "gaussian data mu= 0.625 Taylor expansion point= 0.625\n",
      "eff coeff: ['0.4700036292', '1.6000000000', '1.2800000000', '1.3653333333', '1.6384000000', '2.0971520000', '2.7962026667']\n",
      "min error: ['-32.9374580383', '-0.0049756025', '-4.9921822548', '-0.0071597705', '-1.0000000000', '-0.0236250553', '-0.0295916833']\n",
      "max error: ['0.0037608473', '11.9745931625', '0.0054189702', '1.9941366911', '0.0116302520', '0.9960911274', '0.0289397147']\n",
      "avg error: ['-0.6555604339', '0.2294041365', '-0.0951976702', '0.0389744192', '-0.0191943254', '0.0131373694', '-0.0007668280']\n",
      "rms error: ['3.2429823875', '1.1838798523', '0.4952053428', '0.1986467689', '0.1005420238', '0.0887441859', '0.0058113914']\n",
      "\n",
      "gaussian data mu= 0.625 Taylor expansion point= 0.75\n",
      "eff coeff: ['0.2876820725', '1.3333333333', '0.8888888889', '0.7901234568']\n",
      "min error: ['-10.9804553986', '-0.0253824908', '-1.0000000000', '-0.0295916833']\n",
      "max error: ['0.0047985041', '2.9921822548', '0.0130670872', '0.0289397147']\n",
      "avg error: ['-0.2386950105', '0.0404285453', '-0.0144764362', '-0.0012907996']\n",
      "rms error: ['1.0864726305', '0.2676239908', '0.0947769135', '0.0058151851']\n",
      "\n",
      "gaussian data mu= 0.625 Taylor expansion point= 0.875\n",
      "eff coeff: ['0.1335313926', '1.1428571429', '0.6530612245', '0.4975704568', '0.4264889629', '0.3899327661', '0.3713645392']\n",
      "min error: ['-1.9980456829', '-0.0588669106', '-0.0315861516', '-0.0315861516', '-0.0315861516', '-0.0315861516', '-0.0315861516']\n",
      "max error: ['0.0117039112', '0.0351022035', '0.0232646391', '0.0232646391', '0.0232646391', '0.0232646391', '0.0232646391']\n",
      "avg error: ['-0.1248605624', '-0.0201477371', '-0.0060913339', '-0.0027278375', '-0.0018179774', '-0.0014982847', '-0.0011816544']\n",
      "rms error: ['0.2237206846', '0.0257391874', '0.0092396699', '0.0062525235', '0.0059089470', '0.0059006284', '0.0058849975']\n",
      "\n",
      "gaussian data mu= 0.625 Taylor expansion point= 1.0\n",
      "eff coeff: ['0.0000000000', '1.0000000000', '0.5000000000', '0.3333333333', '0.2500000000', '0.2000000000', '0.1666666667', '0.1428571429']\n",
      "min error: ['-0.2786524892', '-0.0983156040', '-0.0419603288', '-0.0315861516', '-0.0315861516', '-0.0315861516', '-0.0315861516', '-0.0315861516']\n",
      "max error: ['-0.0019544237', '0.0232646391', '0.0232646391', '0.0232646391', '0.0232646391', '0.0232646391', '0.0232646391', '0.0232646391']\n",
      "avg error: ['-0.1747622639', '-0.0463211425', '-0.0146669038', '-0.0057152133', '-0.0025845526', '-0.0017749978', '-0.0014574449', '-0.0011101245']\n",
      "rms error: ['0.1880566329', '0.0528523996', '0.0179948937', '0.0086239800', '0.0062842146', '0.0059455936', '0.0058835889', '0.0058651189']\n",
      "\n"
     ]
    },
    {
     "data": {
      "image/png": "[encoded data removed]",
      "text/plain": [
       "<Figure size 432x288 with 1 Axes>"
      ]
     },
     "metadata": {
      "needs_background": "light"
     },
     "output_type": "display_data"
    },
    {
     "name": "stdout",
     "output_type": "stream",
     "text": [
      "gaussian data mu= 0.75 Taylor expansion point= 0.5\n",
      "eff coeff: ['0.6931471806', '2.0000000000', '2.0000000000', '2.6666666667', '4.0000000000', '6.4000000000', '10.6666666667', '18.2857142857']\n",
      "min error: ['-77.8495101929', '-0.0027473923', '-34.9335479736', '-0.0033870686', '-21.9589576721', '-0.0049951603', '-15.9706840515', '-0.0064094882']\n",
      "max error: ['-0.0025116347', '47.9042358398', '0.0032875452', '26.9452762604', '0.0037608473', '17.9628658295', '0.0046279477', '13.9706840515']\n",
      "avg error: ['-0.8785020113', '0.4348644912', '-0.2637051046', '0.1784505844', '-0.1293254495', '0.0985989720', '-0.0813646987', '0.0657722652']\n",
      "rms error: ['3.6217820644', '2.1959671974', '1.5729293823', '1.2028847933', '0.9685332775', '0.7914220691', '0.6985453367', '0.6028506160']\n",
      "\n",
      "gaussian data mu= 0.75 Taylor expansion point= 0.625\n",
      "eff coeff: ['0.4700036292', '1.6000000000', '1.2800000000', '1.3653333333', '1.6384000000', '2.0971520000', '2.7962026667']\n",
      "min error: ['-32.9374580383', '-0.0049756025', '-4.9921822548', '-0.0071597705', '-1.0000000000', '-0.0236250553', '-0.0295916833']\n",
      "max error: ['0.0037608473', '11.9745931625', '0.0054189702', '1.9941366911', '0.0116302520', '0.9960911274', '0.0289397147']\n",
      "avg error: ['-0.2946316302', '0.0874901637', '-0.0323277637', '0.0129944049', '-0.0056911716', '0.0038337712', '-0.0002302798']\n",
      "rms error: ['1.5051693916', '0.5453934669', '0.2275591493', '0.0918252543', '0.0465265810', '0.0401472338', '0.0061756629']\n",
      "\n",
      "gaussian data mu= 0.75 Taylor expansion point= 0.75\n",
      "eff coeff: ['0.2876820725', '1.3333333333', '0.8888888889', '0.7901234568']\n",
      "min error: ['-10.9804553986', '-0.0253824908', '-1.0000000000', '-0.0295916833']\n",
      "max error: ['0.0047985041', '2.9921822548', '0.0130670872', '0.0289397147']\n",
      "avg error: ['-0.0822644383', '0.0123541960', '-0.0040731137', '-0.0005665172']\n",
      "rms error: ['0.4995139837', '0.1208823845', '0.0428066328', '0.0061166510']\n",
      "\n",
      "gaussian data mu= 0.75 Taylor expansion point= 0.875\n",
      "eff coeff: ['0.1335313926', '1.1428571429', '0.6530612245', '0.4975704568', '0.4264889629', '0.3899327661', '0.3713645392']\n",
      "min error: ['-1.9980456829', '-0.0588669106', '-0.0315861516', '-0.0315861516', '-0.0315861516', '-0.0315861516', '-0.0315861516']\n",
      "max error: ['0.0117039112', '0.0351022035', '0.0232646391', '0.0232646391', '0.0232646391', '0.0232646391', '0.0232646391']\n",
      "avg error: ['-0.0577359423', '-0.0085930768', '-0.0025445253', '-0.0015549195', '-0.0011943257', '-0.0011133975', '-0.0010089842']\n",
      "rms error: ['0.1109882221', '0.0148117524', '0.0070742522', '0.0062564304', '0.0061763837', '0.0061767213', '0.0061695720']\n",
      "\n",
      "gaussian data mu= 0.75 Taylor expansion point= 1.0\n",
      "eff coeff: ['0.0000000000', '1.0000000000', '0.5000000000', '0.3333333333', '0.2500000000', '0.2000000000', '0.1666666667', '0.1428571429']\n",
      "min error: ['-0.2786524892', '-0.0983156040', '-0.0419603288', '-0.0315861516', '-0.0315861516', '-0.0315861516', '-0.0315861516', '-0.0315861516']\n",
      "max error: ['-0.0019544237', '0.0232646391', '0.0232646391', '0.0232646391', '0.0232646391', '0.0232646391', '0.0232646391', '0.0232646391']\n",
      "avg error: ['-0.1334782839', '-0.0272718333', '-0.0073855408', '-0.0024684770', '-0.0011109521', '-0.0008743263', '-0.0006645340', '-0.0005909875']\n",
      "rms error: ['0.1441332549', '0.0338496231', '0.0113603109', '0.0070209126', '0.0062982640', '0.0062215547', '0.0061996039', '0.0061957994']\n",
      "\n"
     ]
    },
    {
     "data": {
      "image/png": "[encoded data removed]",
      "text/plain": [
       "<Figure size 432x288 with 1 Axes>"
      ]
     },
     "metadata": {
      "needs_background": "light"
     },
     "output_type": "display_data"
    },
    {
     "name": "stdout",
     "output_type": "stream",
     "text": [
      "gaussian data mu= 0.875 Taylor expansion point= 0.5\n",
      "eff coeff: ['0.6931471806', '2.0000000000', '2.0000000000', '2.6666666667', '4.0000000000', '6.4000000000', '10.6666666667', '18.2857142857']\n",
      "min error: ['-77.8495101929', '-0.0027473923', '-34.9335479736', '-0.0033870686', '-21.9589576721', '-0.0049951603', '-15.9706840515', '-0.0064094882']\n",
      "max error: ['-0.0025116347', '47.9042358398', '0.0032875452', '26.9452762604', '0.0037608473', '17.9628658295', '0.0046279477', '13.9706840515']\n",
      "avg error: ['-2.9873852730', '1.6834985018', '-1.1195416451', '0.8089808226', '-0.6174126267', '0.4888906479', '-0.4134195149', '0.3415376544']\n",
      "rms error: ['8.4923410416', '5.1781311035', '3.7190828323', '2.8495264053', '2.2959921360', '1.8783612251', '1.6586825848', '1.4311592579']\n",
      "\n",
      "gaussian data mu= 0.875 Taylor expansion point= 0.625\n",
      "eff coeff: ['0.4700036292', '1.6000000000', '1.2800000000', '1.3653333333', '1.6384000000', '2.0971520000', '2.7962026667']\n",
      "min error: ['-32.9374580383', '-0.0049756025', '-4.9921822548', '-0.0071597705', '-1.0000000000', '-0.0236250553', '-0.0295916833']\n",
      "max error: ['0.0037608473', '11.9745931625', '0.0054189702', '1.9941366911', '0.0116302520', '0.9960911274', '0.0289397147']\n",
      "avg error: ['-1.1583378315', '0.3872318566', '-0.1542781442', '0.0640058368', '-0.0290933326', '0.0198272076', '-0.0014522639']\n",
      "rms error: ['3.5489380360', '1.2895348072', '0.5388201475', '0.2172913253', '0.1099308208', '0.0964940265', '0.0106428675']\n",
      "\n",
      "gaussian data mu= 0.875 Taylor expansion point= 0.75\n",
      "eff coeff: ['0.2876820725', '1.3333333333', '0.8888888889', '0.7901234568']\n",
      "min error: ['-10.9804553986', '-0.0253824908', '-1.0000000000', '-0.0295916833']\n",
      "max error: ['0.0047985041', '2.9921822548', '0.0130670872', '0.0289397147']\n",
      "avg error: ['-0.3516265452', '0.0688160658', '-0.0188053735', '-0.0017558422']\n",
      "rms error: ['1.1814945936', '0.2882237136', '0.1009296104', '0.0105621265']\n",
      "\n",
      "gaussian data mu= 0.875 Taylor expansion point= 0.875\n",
      "eff coeff: ['0.1335313926', '1.1428571429', '0.6530612245', '0.4975704568', '0.4264889629', '0.3899327661', '0.3713645392']\n",
      "min error: ['-1.9980456829', '-0.0588669106', '-0.0315861516', '-0.0315861516', '-0.0315861516', '-0.0315861516', '-0.0315861516']\n",
      "max error: ['0.0117039112', '0.0351022035', '0.0232646391', '0.0232646391', '0.0232646391', '0.0232646391', '0.0232646391']\n",
      "avg error: ['-0.0794849470', '-0.0068426928', '-0.0042764214', '-0.0032784471', '-0.0029457370', '-0.0028523523', '-0.0027491709']\n",
      "rms error: ['0.2216016799', '0.0184111632', '0.0115952464', '0.0107681649', '0.0106652714', '0.0106615629', '0.0106605422']\n",
      "\n",
      "gaussian data mu= 0.875 Taylor expansion point= 1.0\n",
      "eff coeff: ['0.0000000000', '1.0000000000', '0.5000000000', '0.3333333333', '0.2500000000', '0.2000000000', '0.1666666667', '0.1428571429']\n",
      "min error: ['-0.2786524892', '-0.0983156040', '-0.0419603288', '-0.0315861516', '-0.0315861516', '-0.0315861516', '-0.0315861516', '-0.0315861516']\n",
      "max error: ['-0.0019544237', '0.0232646391', '0.0232646391', '0.0232646391', '0.0232646391', '0.0232646391', '0.0232646391', '0.0232646391']\n",
      "avg error: ['-0.0945702493', '-0.0195516720', '-0.0076310886', '-0.0037068794', '-0.0026914142', '-0.0024049205', '-0.0022729107', '-0.0021359029']\n",
      "rms error: ['0.1167719737', '0.0318628512', '0.0147911096', '0.0114167705', '0.0108042620', '0.0107030571', '0.0106884614', '0.0106851989']\n",
      "\n"
     ]
    }
   ],
   "source": [
    "point_search(func=\"log\", uniform=False, fxp=True, intwidth=7, fracwidth=8, \n",
    "             valid=True, rounding_coeff=\"round\", rounding_var=\"round\", keepwidth=True)"
   ]
  },
  {
   "cell_type": "markdown",
   "metadata": {},
   "source": [
    "### flp guassian"
   ]
  },
  {
   "cell_type": "code",
   "execution_count": 19,
   "metadata": {},
   "outputs": [
    {
     "data": {
      "image/png": "[encoded data removed]",
      "text/plain": [
       "<Figure size 432x288 with 1 Axes>"
      ]
     },
     "metadata": {
      "needs_background": "light"
     },
     "output_type": "display_data"
    },
    {
     "name": "stdout",
     "output_type": "stream",
     "text": [
      "gaussian data mu= 0.625 Taylor expansion point= 0.5\n",
      "eff coeff: ['0.6931471806', '2.0000000000', '2.0000000000', '2.6666666667', '4.0000000000', '6.4000000000', '10.6666666667', '18.2857142857']\n",
      "min error: ['-77.4047012329', '-0.0000000000', '-34.8291854858', '-0.0000000000', '-22.0618820190', '-0.0000000921', '-15.9861564636', '-0.0000001074']\n",
      "max error: ['-0.0000000000', '48.3568382263', '-0.0000000000', '27.0729103088', '0.0000000910', '18.5638847351', '0.0000000910', '14.0089483261']\n",
      "avg error: ['-1.6352264881', '0.9567773342', '-0.6590256095', '0.4949136674', '-0.3918406963', '0.3214503527', '-0.2705177665', '0.2320745587']\n",
      "rms error: ['7.6903781891', '4.7718362808', '3.4154145718', '2.6393060684', '2.1389856339', '1.7905286551', '1.5343499184', '1.3383280039']\n",
      "\n",
      "gaussian data mu= 0.625 Taylor expansion point= 0.625\n",
      "eff coeff: ['0.4700036292', '1.6000000000', '1.2800000000', '1.3653333333', '1.6384000000', '2.0971520000', '2.7962026667', '3.8347922286']\n",
      "min error: ['-32.6171531677', '-0.0045351824', '-5.4074172974', '-0.0001109288', '-1.2396436930', '-0.0000031817', '-0.3234115541', '-0.0000001173']\n",
      "max error: ['-0.0000000000', '12.4196519852', '-0.0000000000', '2.5311989784', '0.0000000698', '0.6261379123', '0.0000001074', '0.1699091047']\n",
      "avg error: ['-0.6480807662', '0.2321459651', '-0.0972534567', '0.0439660437', '-0.0208926015', '0.0102651780', '-0.0051691425', '0.0026519690']\n",
      "rms error: ['3.2240276337', '1.2173340321', '0.5259525776', '0.2444538325', '0.1189334020', '0.0597037561', '0.0306610018', '0.0160207469']\n",
      "\n",
      "gaussian data mu= 0.625 Taylor expansion point= 0.75\n",
      "eff coeff: ['0.2876820725', '1.3333333333', '0.8888888889', '0.7901234568', '0.7901234568', '0.8427983539', '0.9364426155', '1.0702201319']\n",
      "min error: ['-11.3331508636', '-0.0239143595', '-0.5875919461', '-0.0016505175', '-0.0415202901', '-0.0001332866', '-0.0033212234', '-0.0000115228']\n",
      "max error: ['0.0000001036', '2.4211645126', '0.0000001036', '0.1528442204', '0.0000001160', '0.0116262455', '0.0000001666', '0.0009703707']\n",
      "avg error: ['-0.2399211824', '0.0374939553', '-0.0107634226', '0.0022564598', '-0.0006903464', '0.0001632093', '-0.0000512597', '0.0000130033']\n",
      "rms error: ['1.1107549667', '0.2345871031', '0.0563558079', '0.0145257236', '0.0039134179', '0.0010873971', '0.0003085758', '0.0000894656']\n",
      "\n",
      "gaussian data mu= 0.625 Taylor expansion point= 0.875\n",
      "eff coeff: ['0.1335313926', '1.1428571429', '0.6530612245', '0.4975704568', '0.4264889629', '0.3899327661', '0.3713645392', '0.3637856710']\n",
      "min error: ['-2.2421050072', '-0.0565645769', '-0.0211066939', '-0.0065419623', '-0.0023701789', '-0.0008802932', '-0.0003329584', '-0.0001276971']\n",
      "max error: ['-0.0000000000', '0.2046341300', '0.0000001014', '0.0023239641', '0.0000002027', '0.0000290302', '0.0000002027', '0.0000002027']\n",
      "avg error: ['-0.1265343875', '-0.0160060525', '-0.0051082056', '-0.0013052664', '-0.0004019769', '-0.0001245892', '-0.0000408078', '-0.0000137152']\n",
      "rms error: ['0.2386430204', '0.0312437974', '0.0071078870', '0.0020972944', '0.0006782236', '0.0002299549', '0.0000805491', '0.0000289151']\n",
      "\n",
      "gaussian data mu= 0.625 Taylor expansion point= 1.0\n",
      "eff coeff: ['0.0000000000', '1.0000000000', '0.5000000000', '0.3333333333', '0.2500000000', '0.2000000000', '0.1666666667', '0.1428571429']\n",
      "min error: ['-0.2786524892', '-0.0983156040', '-0.0382032804', '-0.0156611707', '-0.0066442918', '-0.0028872448', '-0.0012770572', '-0.0005726162']\n",
      "max error: ['-0.0019544237', '-0.0000051160', '-0.0000000000', '-0.0000000000', '0.0000001173', '0.0000001173', '0.0000001173', '0.0000002232']\n",
      "avg error: ['-0.1749443710', '-0.0453740619', '-0.0137235271', '-0.0045421021', '-0.0015990305', '-0.0005892696', '-0.0002249997', '-0.0000883936']\n",
      "rms error: ['0.1880779266', '0.0523921438', '0.0170538649', '0.0060782679', '0.0023002124', '0.0009083184', '0.0003702438', '0.0001546654']\n",
      "\n"
     ]
    },
    {
     "data": {
      "image/png": "[encoded data removed]",
      "text/plain": [
       "<Figure size 432x288 with 1 Axes>"
      ]
     },
     "metadata": {
      "needs_background": "light"
     },
     "output_type": "display_data"
    },
    {
     "name": "stdout",
     "output_type": "stream",
     "text": [
      "gaussian data mu= 0.75 Taylor expansion point= 0.5\n",
      "eff coeff: ['0.6931471806', '2.0000000000', '2.0000000000', '2.6666666667', '4.0000000000', '6.4000000000', '10.6666666667', '18.2857142857']\n",
      "min error: ['-77.4047012329', '-0.0000000000', '-34.8291854858', '-0.0000000000', '-22.0618820190', '-0.0000000921', '-15.9861564636', '-0.0000001074']\n",
      "max error: ['-0.0000000000', '48.3568382263', '-0.0000000000', '27.0729103088', '0.0000000910', '18.5638847351', '0.0000000910', '14.0089483261']\n",
      "avg error: ['-0.8744793534', '0.4381857216', '-0.2656556666', '0.1802067161', '-0.1316185445', '0.1012451723', '-0.0808974132', '0.0665279180']\n",
      "rms error: ['3.6661996841', '2.2514238358', '1.6005822420', '1.2310163975', '0.9941526651', '0.8299320340', '0.7096400857', '0.6178712845']\n",
      "\n",
      "gaussian data mu= 0.75 Taylor expansion point= 0.625\n",
      "eff coeff: ['0.4700036292', '1.6000000000', '1.2800000000', '1.3653333333', '1.6384000000', '2.0971520000', '2.7962026667', '3.8347922286']\n",
      "min error: ['-32.6171531677', '-0.0045351824', '-5.4074172974', '-0.0001109288', '-1.2396436930', '-0.0000031817', '-0.3234115541', '-0.0000001173']\n",
      "max error: ['-0.0000000000', '12.4196519852', '-0.0000000000', '2.5311989784', '0.0000000698', '0.6261379123', '0.0000001074', '0.1699091047']\n",
      "avg error: ['-0.2944924831', '0.0894051567', '-0.0331469700', '0.0137267448', '-0.0061092661', '0.0028555517', '-0.0013829580', '0.0006878219']\n",
      "rms error: ['1.5229555368', '0.5698834062', '0.2448267341', '0.1133453473', '0.0549859218', '0.0275407396', '0.0141182598', '0.0073660980']\n",
      "\n",
      "gaussian data mu= 0.75 Taylor expansion point= 0.75\n",
      "eff coeff: ['0.2876820725', '1.3333333333', '0.8888888889', '0.7901234568', '0.7901234568', '0.8427983539', '0.9364426155', '1.0702201319']\n",
      "min error: ['-11.3331508636', '-0.0239143595', '-0.5875919461', '-0.0016505175', '-0.0415202901', '-0.0001332866', '-0.0033212234', '-0.0000115228']\n",
      "max error: ['0.0000001036', '2.4211645126', '0.0000001036', '0.1528442204', '0.0000001160', '0.0116262455', '0.0000001666', '0.0009703707']\n",
      "avg error: ['-0.0836686715', '0.0116581349', '-0.0029856758', '0.0006067562', '-0.0001732161', '0.0000407560', '-0.0000121519', '0.0000031430']\n",
      "rms error: ['0.5190723538', '0.1088478565', '0.0260350816', '0.0066904901', '0.0017985359', '0.0004988999', '0.0001413816', '0.0000409467']\n",
      "\n",
      "gaussian data mu= 0.75 Taylor expansion point= 0.875\n",
      "eff coeff: ['0.1335313926', '1.1428571429', '0.6530612245', '0.4975704568', '0.4264889629', '0.3899327661', '0.3713645392', '0.3637856710']\n",
      "min error: ['-2.2421050072', '-0.0565645769', '-0.0211066939', '-0.0065419623', '-0.0023701789', '-0.0008802932', '-0.0003329584', '-0.0001276971']\n",
      "max error: ['-0.0000000000', '0.2046341300', '0.0000001014', '0.0023239641', '0.0000002027', '0.0000290302', '0.0000002027', '0.0000002027']\n",
      "avg error: ['-0.0584149398', '-0.0072799893', '-0.0017375387', '-0.0003939839', '-0.0001078678', '-0.0000307701', '-0.0000094327', '-0.0000030115']\n",
      "rms error: ['0.1184553206', '0.0158593375', '0.0034649500', '0.0009749189', '0.0003056593', '0.0001017142', '0.0000352316', '0.0000125637']\n",
      "\n",
      "gaussian data mu= 0.75 Taylor expansion point= 1.0\n",
      "eff coeff: ['0.0000000000', '1.0000000000', '0.5000000000', '0.3333333333', '0.2500000000', '0.2000000000', '0.1666666667', '0.1428571429']\n",
      "min error: ['-0.2786524892', '-0.0983156040', '-0.0382032804', '-0.0156611707', '-0.0066442918', '-0.0028872448', '-0.0012770572', '-0.0005726162']\n",
      "max error: ['-0.0019544237', '-0.0000051160', '-0.0000000000', '-0.0000000000', '0.0000001173', '0.0000001173', '0.0000001173', '0.0000002232']\n",
      "avg error: ['-0.1333584189', '-0.0268117823', '-0.0065922434', '-0.0018438542', '-0.0005656985', '-0.0001862220', '-0.0000647987', '-0.0000235821']\n",
      "rms error: ['0.1440012902', '0.0331768133', '0.0095277652', '0.0031228999', '0.0011169182', '0.0004244910', '0.0001685751', '0.0000691768']\n",
      "\n"
     ]
    },
    {
     "data": {
      "image/png": "[encoded data removed]",
      "text/plain": [
       "<Figure size 432x288 with 1 Axes>"
      ]
     },
     "metadata": {
      "needs_background": "light"
     },
     "output_type": "display_data"
    },
    {
     "name": "stdout",
     "output_type": "stream",
     "text": [
      "gaussian data mu= 0.875 Taylor expansion point= 0.5\n",
      "eff coeff: ['0.6931471806', '2.0000000000', '2.0000000000', '2.6666666667', '4.0000000000', '6.4000000000', '10.6666666667', '18.2857142857']\n",
      "min error: ['-77.4047012329', '-0.0000000000', '-34.8291854858', '-0.0000000000', '-22.0618820190', '-0.0000000921', '-15.9861564636', '-0.0000001074']\n",
      "max error: ['-0.0000000000', '48.3568382263', '-0.0000000000', '27.0729103088', '0.0000000910', '18.5638847351', '0.0000000910', '14.0089483261']\n",
      "avg error: ['-2.9898452759', '1.7010046244', '-1.1307890415', '0.8201521635', '-0.6290941834', '0.5017806888', '-0.4119587541', '0.3458097875']\n",
      "rms error: ['8.5605077744', '5.2834129333', '3.7656707764', '2.9001805782', '2.3439462185', '1.9576067924', '1.6742703915', '1.4579406977']\n",
      "\n",
      "gaussian data mu= 0.875 Taylor expansion point= 0.625\n",
      "eff coeff: ['0.4700036292', '1.6000000000', '1.2800000000', '1.3653333333', '1.6384000000', '2.0971520000', '2.7962026667', '3.8347922286']\n",
      "min error: ['-32.6171531677', '-0.0045351824', '-5.4074172974', '-0.0001109288', '-1.2396436930', '-0.0000031817', '-0.3234115541', '-0.0000001173']\n",
      "max error: ['-0.0000000000', '12.4196519852', '-0.0000000000', '2.5311989784', '0.0000000698', '0.6261379123', '0.0000001074', '0.1699091047']\n",
      "avg error: ['-1.1618715525', '0.3962833881', '-0.1580452174', '0.0686780140', '-0.0315694101', '0.0150881968', '-0.0074225310', '0.0037330657']\n",
      "rms error: ['3.5731778145', '1.3414644003', '0.5771292448', '0.2673636079', '0.1297410876', '0.0649905652', '0.0333168469', '0.0173822548']\n",
      "\n",
      "gaussian data mu= 0.875 Taylor expansion point= 0.75\n",
      "eff coeff: ['0.2876820725', '1.3333333333', '0.8888888889', '0.7901234568', '0.7901234568', '0.8427983539', '0.9364426155', '1.0702201319']\n",
      "min error: ['-11.3331508636', '-0.0239143595', '-0.5875919461', '-0.0016505175', '-0.0415202901', '-0.0001332866', '-0.0033212234', '-0.0000115228']\n",
      "max error: ['0.0000001036', '2.4211645126', '0.0000001036', '0.1528442204', '0.0000001160', '0.0116262455', '0.0000001666', '0.0009703707']\n",
      "avg error: ['-0.3587691188', '0.0644712746', '-0.0149930660', '0.0034309931', '-0.0009193109', '0.0002315215', '-0.0000661861', '0.0000176663']\n",
      "rms error: ['1.2221590281', '0.2566902041', '0.0614268295', '0.0157871023', '0.0042437320', '0.0011770659', '0.0003335351', '0.0000965818']\n",
      "\n",
      "gaussian data mu= 0.875 Taylor expansion point= 0.875\n",
      "eff coeff: ['0.1335313926', '1.1428571429', '0.6530612245', '0.4975704568', '0.4264889629', '0.3899327661', '0.3713645392', '0.3637856710']\n",
      "min error: ['-2.2421050072', '-0.0565645769', '-0.0211066939', '-0.0065419623', '-0.0023701789', '-0.0008802932', '-0.0003329584', '-0.0001276971']\n",
      "max error: ['-0.0000000000', '0.2046341300', '0.0000001014', '0.0023239641', '0.0000002027', '0.0000290302', '0.0000002027', '0.0000002027']\n",
      "avg error: ['-0.0813266560', '-0.0016951977', '-0.0019559928', '-0.0004298293', '-0.0001565120', '-0.0000510561', '-0.0000180917', '-0.0000064757']\n",
      "rms error: ['0.2405988276', '0.0255740229', '0.0049256603', '0.0014643503', '0.0004940067', '0.0001739411', '0.0000628337', '0.0000231294']\n",
      "\n",
      "gaussian data mu= 0.875 Taylor expansion point= 1.0\n",
      "eff coeff: ['0.0000000000', '1.0000000000', '0.5000000000', '0.3333333333', '0.2500000000', '0.2000000000', '0.1666666667', '0.1428571429']\n",
      "min error: ['-0.2786524892', '-0.0983156040', '-0.0382032804', '-0.0156611707', '-0.0066442918', '-0.0028872448', '-0.0012770572', '-0.0005726162']\n",
      "max error: ['-0.0019544237', '-0.0000051160', '-0.0000000000', '-0.0000000000', '0.0000001173', '0.0000001173', '0.0000001173', '0.0000002232']\n",
      "avg error: ['-0.0951191410', '-0.0177795254', '-0.0046965671', '-0.0015095633', '-0.0005435282', '-0.0002095398', '-0.0000843795', '-0.0000350036']\n",
      "rms error: ['0.1174426153', '0.0302481614', '0.0102123329', '0.0038447692', '0.0015311978', '0.0006316327', '0.0002670780', '0.0001150573']\n",
      "\n"
     ]
    }
   ],
   "source": [
    "point_search(func=\"log\", uniform=False, fxp=False, intwidth=7, fracwidth=8, \n",
    "             valid=True, rounding_coeff=\"round\", rounding_var=\"round\", keepwidth=True)"
   ]
  },
  {
   "cell_type": "markdown",
   "metadata": {},
   "source": [
    "### fxp uniform"
   ]
  },
  {
   "cell_type": "code",
   "execution_count": 20,
   "metadata": {
    "scrolled": true
   },
   "outputs": [
    {
     "data": {
      "image/png": "[encoded data removed]",
      "text/plain": [
       "<Figure size 432x288 with 1 Axes>"
      ]
     },
     "metadata": {
      "needs_background": "light"
     },
     "output_type": "display_data"
    },
    {
     "name": "stdout",
     "output_type": "stream",
     "text": [
      "gaussian data mu= 0.5 Taylor expansion point= 0.5\n",
      "eff coeff: ['0.6931471806', '2.0000000000', '2.0000000000', '2.6666666667', '4.0000000000', '6.4000000000', '10.6666666667', '18.2857142857']\n",
      "min error: ['-77.8495101929', '-0.0027473923', '-34.9335479736', '-0.0033870686', '-21.9589576721', '-0.0049951603', '-15.9706840515', '-0.0064094882']\n",
      "max error: ['-0.0025116347', '47.9042358398', '0.0032875452', '26.9452762604', '0.0037608473', '17.9628658295', '0.0046279477', '13.9706840515']\n",
      "avg error: ['-2.4572703838', '1.4055546522', '-0.9522405863', '0.7002001405', '-0.5426028967', '0.4349840581', '-0.3725725412', '0.3110391796']\n",
      "rms error: ['8.5652942657', '5.2372608185', '3.7735195160', '2.8964235783', '2.3383033276', '1.9137775898', '1.6922663450', '1.4628964663']\n",
      "\n",
      "gaussian data mu= 0.5 Taylor expansion point= 0.625\n",
      "eff coeff: ['0.4700036292', '1.6000000000', '1.2800000000', '1.3653333333', '1.6384000000', '2.0971520000', '2.7962026667']\n",
      "min error: ['-32.9374580383', '-0.0049756025', '-4.9921822548', '-0.0071597705', '-1.0000000000', '-0.0236250553', '-0.0295916833']\n",
      "max error: ['0.0037608473', '11.9745931625', '0.0054189702', '1.9941366911', '0.0116302520', '0.9960911274', '0.0289397147']\n",
      "avg error: ['-0.9641959667', '0.3294415474', '-0.1338250637', '0.0552557595', '-0.0260798335', '0.0179441161', '-0.0011715636']\n",
      "rms error: ['3.5895740986', '1.3072578907', '0.5465432405', '0.2197669894', '0.1111782715', '0.0983963609', '0.0086150961']\n",
      "\n",
      "gaussian data mu= 0.5 Taylor expansion point= 0.75\n",
      "eff coeff: ['0.2876820725', '1.3333333333', '0.8888888889', '0.7901234568']\n",
      "min error: ['-10.9804553986', '-0.0253824908', '-1.0000000000', '-0.0295916833']\n",
      "max error: ['0.0047985041', '2.9921822548', '0.0130670872', '0.0289397147']\n",
      "avg error: ['-0.3148275018', '0.0592853986', '-0.0180818401', '-0.0016106146']\n",
      "rms error: ['1.1987140179', '0.2953151762', '0.1036423519', '0.0085723074']\n",
      "\n",
      "gaussian data mu= 0.5 Taylor expansion point= 0.875\n",
      "eff coeff: ['0.1335313926', '1.1428571429', '0.6530612245', '0.4975704568', '0.4264889629', '0.3899327661', '0.3713645392']\n",
      "min error: ['-1.9980456829', '-0.0588669106', '-0.0315861516', '-0.0315861516', '-0.0315861516', '-0.0315861516', '-0.0315861516']\n",
      "max error: ['0.0117039112', '0.0351022035', '0.0232646391', '0.0232646391', '0.0232646391', '0.0232646391', '0.0232646391']\n",
      "avg error: ['-0.1060282215', '-0.0136053609', '-0.0053048627', '-0.0031078479', '-0.0024689217', '-0.0022673698', '-0.0020562769']\n",
      "rms error: ['0.2336204946', '0.0225616731', '0.0105777150', '0.0088594547', '0.0086673265', '0.0086616557', '0.0086562065']\n",
      "\n",
      "gaussian data mu= 0.5 Taylor expansion point= 1.0\n",
      "eff coeff: ['0.0000000000', '1.0000000000', '0.5000000000', '0.3333333333', '0.2500000000', '0.2000000000', '0.1666666667', '0.1428571429']\n",
      "min error: ['-0.2786524892', '-0.0983156040', '-0.0419603288', '-0.0315861516', '-0.0315861516', '-0.0315861516', '-0.0315861516', '-0.0315861516']\n",
      "max error: ['-0.0019544237', '0.0232646391', '0.0232646391', '0.0232646391', '0.0232646391', '0.0232646391', '0.0232646391', '0.0232646391']\n",
      "avg error: ['-0.1346765757', '-0.0331007205', '-0.0112507613', '-0.0048388359', '-0.0027562927', '-0.0021915778', '-0.0019533804', '-0.0017096519']\n",
      "rms error: ['0.1567242742', '0.0438105315', '0.0165925063', '0.0101901796', '0.0088927327', '0.0087039759', '0.0086726993', '0.0086643016']\n",
      "\n"
     ]
    }
   ],
   "source": [
    "point_search(func=\"log\", uniform=True, fxp=True, intwidth=7, fracwidth=8, \n",
    "             valid=True, rounding_coeff=\"round\", rounding_var=\"round\", keepwidth=True)"
   ]
  },
  {
   "cell_type": "markdown",
   "metadata": {},
   "source": [
    "### flp uniform"
   ]
  },
  {
   "cell_type": "code",
   "execution_count": 21,
   "metadata": {
    "scrolled": true
   },
   "outputs": [
    {
     "data": {
      "image/png": "[encoded data removed]",
      "text/plain": [
       "<Figure size 432x288 with 1 Axes>"
      ]
     },
     "metadata": {
      "needs_background": "light"
     },
     "output_type": "display_data"
    },
    {
     "name": "stdout",
     "output_type": "stream",
     "text": [
      "gaussian data mu= 0.5 Taylor expansion point= 0.5\n",
      "eff coeff: ['0.6931471806', '2.0000000000', '2.0000000000', '2.6666666667', '4.0000000000', '6.4000000000', '10.6666666667', '18.2857142857']\n",
      "min error: ['-77.4047012329', '-0.0000000000', '-34.8291854858', '-0.0000000000', '-22.0618820190', '-0.0000000921', '-15.9861564636', '-0.0000001074']\n",
      "max error: ['-0.0000000000', '48.3568382263', '-0.0000000000', '27.0729103088', '0.0000000910', '18.5638847351', '0.0000000910', '14.0089483261']\n",
      "avg error: ['-2.4328656197', '1.4036039114', '-0.9483231902', '0.6987156272', '-0.5437216759', '0.4393126070', '-0.3648232818', '0.3093625009']\n",
      "rms error: ['8.4422912598', '5.2242784500', '3.7312297821', '2.8783605099', '2.3293871880', '1.9475657940', '1.6672010422', '1.4529085159']\n",
      "\n",
      "gaussian data mu= 0.5 Taylor expansion point= 0.625\n",
      "eff coeff: ['0.4700036292', '1.6000000000', '1.2800000000', '1.3653333333', '1.6384000000', '2.0971520000', '2.7962026667', '3.8347922286']\n",
      "min error: ['-32.6171531677', '-0.0045351824', '-5.4074172974', '-0.0001109288', '-1.2396436930', '-0.0000031817', '-0.3234115541', '-0.0000001173']\n",
      "max error: ['-0.0000000000', '12.4196519852', '-0.0000000000', '2.5311989784', '0.0000000698', '0.6261379123', '0.0000001074', '0.1699091047']\n",
      "avg error: ['-0.9556160569', '0.3332368731', '-0.1358578652', '0.0601145402', '-0.0280611832', '0.0135858422', '-0.0067572063', '0.0034304860']\n",
      "rms error: ['3.5315065384', '1.3295512199', '0.5731792450', '0.2659479082', '0.1292119771', '0.0647892728', '0.0332405381', '0.0173541792']\n",
      "\n",
      "gaussian data mu= 0.5 Taylor expansion point= 0.75\n",
      "eff coeff: ['0.2876820725', '1.3333333333', '0.8888888889', '0.7901234568', '0.7901234568', '0.8427983539', '0.9364426155', '1.0702201319']\n",
      "min error: ['-11.3331508636', '-0.0239143595', '-0.5875919461', '-0.0016505175', '-0.0415202901', '-0.0001332866', '-0.0033212234', '-0.0000115228']\n",
      "max error: ['0.0000001036', '2.4211645126', '0.0000001036', '0.1528442204', '0.0000001160', '0.0116262455', '0.0000001666', '0.0009703707']\n",
      "avg error: ['-0.3167831302', '0.0545859262', '-0.0137686646', '0.0030574382', '-0.0008647434', '0.0002126319', '-0.0000632603', '0.0000165350']\n",
      "rms error: ['1.2121795416', '0.2552761137', '0.0612001084', '0.0157497227', '0.0042379489', '0.0011763882', '0.0003335533', '0.0000966366']\n",
      "\n",
      "gaussian data mu= 0.5 Taylor expansion point= 0.875\n",
      "eff coeff: ['0.1335313926', '1.1428571429', '0.6530612245', '0.4975704568', '0.4264889629', '0.3899327661', '0.3713645392', '0.3637856710']\n",
      "min error: ['-2.2421050072', '-0.0565645769', '-0.0211066939', '-0.0065419623', '-0.0023701789', '-0.0008802932', '-0.0003329584', '-0.0001276971']\n",
      "max error: ['-0.0000000000', '0.2046341300', '0.0000001014', '0.0023239641', '0.0000002027', '0.0000290302', '0.0000002027', '0.0000002027']\n",
      "avg error: ['-0.1071030051', '-0.0085847899', '-0.0035885028', '-0.0008807623', '-0.0002868285', '-0.0000908265', '-0.0000306804', '-0.0000105829']\n",
      "rms error: ['0.2477221638', '0.0292425640', '0.0062416587', '0.0018543056', '0.0006111403', '0.0002108097', '0.0000749180', '0.0000272210']\n",
      "\n",
      "gaussian data mu= 0.5 Taylor expansion point= 1.0\n",
      "eff coeff: ['0.0000000000', '1.0000000000', '0.5000000000', '0.3333333333', '0.2500000000', '0.2000000000', '0.1666666667', '0.1428571429']\n",
      "min error: ['-0.2786524892', '-0.0983156040', '-0.0382032804', '-0.0156611707', '-0.0066442918', '-0.0028872448', '-0.0012770572', '-0.0005726162']\n",
      "max error: ['-0.0019544237', '-0.0000051160', '-0.0000000000', '-0.0000000000', '0.0000001173', '0.0000001173', '0.0000001173', '0.0000002232']\n",
      "avg error: ['-0.1345839649', '-0.0315269791', '-0.0092253974', '-0.0030448872', '-0.0010839952', '-0.0004065496', '-0.0001583993', '-0.0000635438']\n",
      "rms error: ['0.1566780359', '0.0429248363', '0.0141873416', '0.0051638098', '0.0019943910', '0.0008020655', '0.0003321899', '0.0001407019']\n",
      "\n"
     ]
    }
   ],
   "source": [
    "point_search(func=\"log\", uniform=True, fxp=False, intwidth=7, fracwidth=8, \n",
    "             valid=True, rounding_coeff=\"round\", rounding_var=\"round\", keepwidth=True)"
   ]
  },
  {
   "cell_type": "code",
   "execution_count": null,
   "metadata": {},
   "outputs": [],
   "source": []
  }
 ],
 "metadata": {
  "kernelspec": {
   "display_name": "Python 3",
   "language": "python",
   "name": "python3"
  },
  "language_info": {
   "codemirror_mode": {
    "name": "ipython",
    "version": 3
   },
   "file_extension": ".py",
   "mimetype": "text/x-python",
   "name": "python",
   "nbconvert_exporter": "python",
   "pygments_lexer": "ipython3",
   "version": "3.7.3"
  }
 },
 "nbformat": 4,
 "nbformat_minor": 2
}
