{
 "cells": [
  {
   "cell_type": "code",
   "execution_count": 1,
   "metadata": {},
   "outputs": [],
   "source": [
    "%load_ext autoreload\n",
    "%autoreload 2"
   ]
  },
  {
   "cell_type": "code",
   "execution_count": 1,
   "metadata": {},
   "outputs": [],
   "source": [
    "import torch\n",
    "from RAVEN.pe.mac_taylor_utils import *\n",
    "import matplotlib.pyplot as plt"
   ]
  },
  {
   "cell_type": "markdown",
   "metadata": {},
   "source": [
    "# test MAC_Taylor"
   ]
  },
  {
   "cell_type": "code",
   "execution_count": 18,
   "metadata": {
    "collapsed": true
   },
   "outputs": [
    {
     "name": "stdout",
     "output_type": "stream",
     "text": [
      "tensor([1.0000e+00, 1.0000e+00, 5.0000e-01, 1.6667e-01, 4.1667e-02, 8.3333e-03,\n",
      "        1.3889e-03, 1.9841e-04])\n",
      "min error rate: tensor(-0.0118, device='cuda:0')\n",
      "max error rate: tensor(-0.0001, device='cuda:0')\n",
      "avg error rate: tensor(-0.0053, device='cuda:0')\n",
      "rms error rate: tensor(0.0056, device='cuda:0')\n"
     ]
    }
   ],
   "source": [
    "a = torch.arange(0, 1, 0.001).cuda()\n",
    "\n",
    "precise = torch.exp(a).cuda()\n",
    "\n",
    "point = 0.5\n",
    "scale = torch.exp(torch.tensor([point])).cuda()\n",
    "var = a - point\n",
    "\n",
    "exp_coeff = torch.tensor([1/1, 1/1, 1/2, 1/6, 1/24, 1/120, 1/720, 1/5040, 1/40320, 1/362880])\n",
    "\n",
    "coeff = coeff[0:8]\n",
    "print(coeff)\n",
    "\n",
    "approximate = MAC_Taylor(scale, \n",
    "                         coeff, \n",
    "                         var, \n",
    "                         fxp=True, \n",
    "                         intwidth=7, \n",
    "                         fracwidth=8, \n",
    "                         rounding_coeff=\"round\", \n",
    "                         rounding_var=\"floor\", \n",
    "                         keepwidth=True)\n",
    "\n",
    "error = (approximate - precise) / precise\n",
    "print(\"min error rate:\", error.min())\n",
    "print(\"max error rate:\", error.max())\n",
    "print(\"avg error rate:\", error.mean())\n",
    "print(\"rms error rate:\", error.mul(error).mean().sqrt())"
   ]
  },
  {
   "cell_type": "markdown",
   "metadata": {},
   "source": [
    "# point search test"
   ]
  },
  {
   "cell_type": "markdown",
   "metadata": {},
   "source": [
    "1. test exp with gaussian input"
   ]
  },
  {
   "cell_type": "code",
   "execution_count": 4,
   "metadata": {
    "scrolled": false
   },
   "outputs": [
    {
     "data": {
      "image/png": "[encoded data removed]",
      "text/plain": [
       "<Figure size 432x288 with 1 Axes>"
      ]
     },
     "metadata": {
      "needs_background": "light"
     },
     "output_type": "display_data"
    },
    {
     "name": "stdout",
     "output_type": "stream",
     "text": [
      "gaussian data mu= 0.25 Taylor expansion point= 0.0\n",
      "eff coeff: ['1.0000000', '1.0000000', '0.5000000', '0.1666667', '0.0416667']\n",
      "min error: ['-0.2628040', '-0.0810297', '-0.0209493', '-0.0070026', '-0.0056889']\n",
      "max error: ['0.0000000', '0.0000000', '0.0000000', '0.0000000', '0.0000000']\n",
      "avg error: ['-0.0617248', '-0.0135388', '-0.0039736', '-0.0022983', '-0.0021654']\n",
      "rms error: ['0.0925480', '0.0239799', '0.0060123', '0.0026663', '0.0024400']\n",
      "\n",
      "gaussian data mu= 0.25 Taylor expansion point= 0.25\n",
      "eff coeff: ['1.0000000', '1.0000000', '0.5000000', '0.1666667', '0.0416667']\n",
      "min error: ['-0.1748022', '-0.0449633', '-0.0122595', '-0.0096411', '-0.0096411']\n",
      "max error: ['-0.0021614', '0.0000000', '-0.0021614', '-0.0021614', '-0.0021614']\n",
      "avg error: ['-0.0303950', '-0.0087089', '-0.0057880', '-0.0053276', '-0.0052967']\n",
      "rms error: ['0.0527238', '0.0128025', '0.0061379', '0.0055245', '0.0054894']\n",
      "\n",
      "gaussian data mu= 0.25 Taylor expansion point= 0.5\n",
      "eff coeff: ['1.0000000', '1.0000000', '0.5000000', '0.1666667']\n",
      "min error: ['-0.1757812', '-0.0161103', '-0.0117188', '-0.0083503']\n",
      "max error: ['-0.0001721', '0.0273438', '-0.0001721', '0.0012819']\n",
      "avg error: ['-0.0496214', '0.0006173', '-0.0040623', '-0.0034743']\n",
      "rms error: ['0.0666360', '0.0080825', '0.0045440', '0.0038944']\n",
      "\n",
      "gaussian data mu= 0.25 Taylor expansion point= 0.75\n",
      "eff coeff: ['1.0000000', '1.0000000', '0.5000000', '0.1666667']\n",
      "min error: ['-0.4726562', '-0.0074544', '-0.0389178', '-0.0096246']\n",
      "max error: ['-0.0017567', '0.1210938', '-0.0017567', '0.0063899']\n",
      "avg error: ['-0.1625643', '0.0260932', '-0.0107702', '-0.0042651']\n",
      "rms error: ['0.2052082', '0.0409364', '0.0130209', '0.0048930']\n",
      "\n",
      "gaussian data mu= 0.25 Taylor expansion point= 1.0\n",
      "eff coeff: ['1.0000000', '1.0000000', '0.5000000', '0.1666667']\n",
      "min error: ['-1.0000000', '-0.0063562', '-0.1050652', '-0.0083179']\n",
      "max error: ['-0.0015933', '0.3554688', '-0.0015933', '0.0309764']\n",
      "avg error: ['-0.4135796', '0.1110686', '-0.0314839', '0.0012281']\n",
      "rms error: ['0.4908156', '0.1449374', '0.0405486', '0.0069577']\n",
      "\n"
     ]
    },
    {
     "data": {
      "image/png": "[encoded data removed]",
      "text/plain": [
       "<Figure size 432x288 with 1 Axes>"
      ]
     },
     "metadata": {
      "needs_background": "light"
     },
     "output_type": "display_data"
    },
    {
     "name": "stdout",
     "output_type": "stream",
     "text": [
      "gaussian data mu= 0.5 Taylor expansion point= 0.0\n",
      "eff coeff: ['1.0000000', '1.0000000', '0.5000000', '0.1666667', '0.0416667']\n",
      "min error: ['-0.2628040', '-0.0810297', '-0.0209493', '-0.0070026', '-0.0056889']\n",
      "max error: ['0.0000000', '0.0000000', '0.0000000', '0.0000000', '0.0000000']\n",
      "avg error: ['-0.0956469', '-0.0197516', '-0.0048241', '-0.0024372', '-0.0023042']\n",
      "rms error: ['0.1111923', '0.0253299', '0.0059083', '0.0026796', '0.0024938']\n",
      "\n",
      "gaussian data mu= 0.5 Taylor expansion point= 0.25\n",
      "eff coeff: ['1.0000000', '1.0000000', '0.5000000', '0.1666667', '0.0416667']\n",
      "min error: ['-0.1748022', '-0.0449633', '-0.0122595', '-0.0096411', '-0.0096411']\n",
      "max error: ['-0.0021614', '0.0000000', '-0.0021614', '-0.0021614', '-0.0021614']\n",
      "avg error: ['-0.0409153', '-0.0098421', '-0.0057570', '-0.0052826', '-0.0052749']\n",
      "rms error: ['0.0547854', '0.0120930', '0.0059637', '0.0054221', '0.0054132']\n",
      "\n",
      "gaussian data mu= 0.5 Taylor expansion point= 0.5\n",
      "eff coeff: ['1.0000000', '1.0000000', '0.5000000', '0.1666667']\n",
      "min error: ['-0.1757812', '-0.0161103', '-0.0117188', '-0.0083503']\n",
      "max error: ['-0.0001721', '0.0273438', '-0.0001721', '0.0012819']\n",
      "avg error: ['-0.0210769', '-0.0024439', '-0.0032160', '-0.0030742']\n",
      "rms error: ['0.0346422', '0.0049443', '0.0035942', '0.0034187']\n",
      "\n",
      "gaussian data mu= 0.5 Taylor expansion point= 0.75\n",
      "eff coeff: ['1.0000000', '1.0000000', '0.5000000', '0.1666667']\n",
      "min error: ['-0.4726562', '-0.0074544', '-0.0389178', '-0.0096246']\n",
      "max error: ['-0.0017567', '0.1210938', '-0.0017567', '0.0063899']\n",
      "avg error: ['-0.0720229', '0.0060816', '-0.0064930', '-0.0046353']\n",
      "rms error: ['0.1110705', '0.0196244', '0.0078222', '0.0049944']\n",
      "\n",
      "gaussian data mu= 0.5 Taylor expansion point= 1.0\n",
      "eff coeff: ['1.0000000', '1.0000000', '0.5000000', '0.1666667']\n",
      "min error: ['-1.0000000', '-0.0063562', '-0.1050652', '-0.0083179']\n",
      "max error: ['-0.0015933', '0.3554688', '-0.0015933', '0.0309764']\n",
      "avg error: ['-0.2279982', '0.0473425', '-0.0149835', '-0.0024564']\n",
      "rms error: ['0.2952537', '0.0767180', '0.0216508', '0.0048659']\n",
      "\n"
     ]
    },
    {
     "data": {
      "image/png": "[encoded data removed]",
      "text/plain": [
       "<Figure size 432x288 with 1 Axes>"
      ]
     },
     "metadata": {
      "needs_background": "light"
     },
     "output_type": "display_data"
    },
    {
     "name": "stdout",
     "output_type": "stream",
     "text": [
      "gaussian data mu= 0.75 Taylor expansion point= 0.0\n",
      "eff coeff: ['1.0000000', '1.0000000', '0.5000000', '0.1666667', '0.0416667']\n",
      "min error: ['-0.2628040', '-0.0810297', '-0.0209493', '-0.0070026', '-0.0056889']\n",
      "max error: ['0.0000000', '0.0000000', '0.0000000', '0.0000000', '0.0000000']\n",
      "avg error: ['-0.1441944', '-0.0353264', '-0.0082338', '-0.0031353', '-0.0026858']\n",
      "rms error: ['0.1607749', '0.0414608', '0.0096791', '0.0034478', '0.0029053']\n",
      "\n",
      "gaussian data mu= 0.75 Taylor expansion point= 0.25\n",
      "eff coeff: ['1.0000000', '1.0000000', '0.5000000', '0.1666667', '0.0416667']\n",
      "min error: ['-0.1748022', '-0.0449633', '-0.0122595', '-0.0096411', '-0.0096411']\n",
      "max error: ['-0.0021614', '0.0000000', '-0.0021614', '-0.0021614', '-0.0021614']\n",
      "avg error: ['-0.0788692', '-0.0171783', '-0.0068996', '-0.0054134', '-0.0053677']\n",
      "rms error: ['0.0915029', '0.0202892', '0.0071799', '0.0055367', '0.0054850']\n",
      "\n",
      "gaussian data mu= 0.75 Taylor expansion point= 0.5\n",
      "eff coeff: ['1.0000000', '1.0000000', '0.5000000', '0.1666667']\n",
      "min error: ['-0.1757812', '-0.0161103', '-0.0117188', '-0.0083503']\n",
      "max error: ['-0.0001721', '0.0273438', '-0.0001721', '0.0012819']\n",
      "avg error: ['-0.0389286', '-0.0036699', '-0.0035202', '-0.0030842']\n",
      "rms error: ['0.0547688', '0.0083166', '0.0038966', '0.0033710']\n",
      "\n",
      "gaussian data mu= 0.75 Taylor expansion point= 0.75\n",
      "eff coeff: ['1.0000000', '1.0000000', '0.5000000', '0.1666667']\n",
      "min error: ['-0.4726562', '-0.0074544', '-0.0389178', '-0.0096246']\n",
      "max error: ['-0.0017567', '0.1210938', '-0.0017567', '0.0063899']\n",
      "avg error: ['-0.0551801', '0.0055472', '-0.0064186', '-0.0041868']\n",
      "rms error: ['0.1233900', '0.0274983', '0.0089493', '0.0045760']\n",
      "\n",
      "gaussian data mu= 0.75 Taylor expansion point= 1.0\n",
      "eff coeff: ['1.0000000', '1.0000000', '0.5000000', '0.1666667', '0.0416667']\n",
      "min error: ['-1.0000000', '-0.0063562', '-0.1050652', '-0.0083179', '-0.0197017']\n",
      "max error: ['-0.0015933', '0.3554688', '-0.0015933', '0.0309764', '0.0070939']\n",
      "avg error: ['-0.1553667', '0.0346639', '-0.0131582', '-0.0022845', '-0.0048311']\n",
      "rms error: ['0.2863375', '0.0891557', '0.0257829', '0.0062982', '0.0056532']\n",
      "\n"
     ]
    }
   ],
   "source": [
    "point_search(func=\"exp\", uniform=False, intwidth=7, fracwidth=8, valid=True, rounding_coeff=\"round\", rounding_var=\"floor\")"
   ]
  },
  {
   "cell_type": "markdown",
   "metadata": {},
   "source": [
    "2. test div with gaussian input"
   ]
  },
  {
   "cell_type": "code",
   "execution_count": 4,
   "metadata": {
    "scrolled": true
   },
   "outputs": [
    {
     "data": {
      "image/png": "[encoded data removed]",
      "text/plain": [
       "<Figure size 432x288 with 1 Axes>"
      ]
     },
     "metadata": {
      "needs_background": "light"
     },
     "output_type": "display_data"
    },
    {
     "name": "stdout",
     "output_type": "stream",
     "text": [
      "gaussian data mu= 0.625 Taylor expansion point= 1.0\n",
      "eff coeff: ['1.0000000', '1.0000000', '1.0000000', '1.0000000', '1.0000000', '1.0000000', '1.0000000', '1.0000000']\n",
      "min error: ['-0.2500000', '-0.1250000', '-0.0625000', '-0.0315552', '-0.0165405', '-0.0090332', '-0.0055847', '-0.0038604']\n",
      "max error: ['-0.0000153', '-0.0000153', '-0.0000153', '-0.0000153', '-0.0000153', '-0.0000153', '-0.0000153', '-0.0000153']\n",
      "avg error: ['-0.1204638', '-0.0481696', '-0.0206217', '-0.0094946', '-0.0052487', '-0.0033773', '-0.0026580', '-0.0024046']\n",
      "rms error: ['0.1379359', '0.0585920', '0.0262693', '0.0124069', '0.0065492', '0.0038959', '0.0028909', '0.0025602']\n",
      "\n"
     ]
    },
    {
     "data": {
      "image/png": "[encoded data removed]",
      "text/plain": [
       "<Figure size 432x288 with 1 Axes>"
      ]
     },
     "metadata": {
      "needs_background": "light"
     },
     "output_type": "display_data"
    },
    {
     "name": "stdout",
     "output_type": "stream",
     "text": [
      "gaussian data mu= 0.75 Taylor expansion point= 1.0\n",
      "eff coeff: ['1.0000000', '1.0000000', '1.0000000', '1.0000000', '1.0000000', '1.0000000', '1.0000000', '1.0000000']\n",
      "min error: ['-0.2500000', '-0.1250000', '-0.0625000', '-0.0315552', '-0.0165405', '-0.0090332', '-0.0055847', '-0.0038604']\n",
      "max error: ['-0.0000153', '-0.0000153', '-0.0000153', '-0.0000153', '-0.0000153', '-0.0000153', '-0.0000153', '-0.0000153']\n",
      "avg error: ['-0.0731272', '-0.0245779', '-0.0096615', '-0.0045932', '-0.0031204', '-0.0025821', '-0.0024231', '-0.0023769']\n",
      "rms error: ['0.0891250', '0.0337119', '0.0141714', '0.0065741', '0.0038471', '0.0028653', '0.0026058', '0.0025425']\n",
      "\n"
     ]
    },
    {
     "data": {
      "image/png": "[encoded data removed]",
      "text/plain": [
       "<Figure size 432x288 with 1 Axes>"
      ]
     },
     "metadata": {
      "needs_background": "light"
     },
     "output_type": "display_data"
    },
    {
     "name": "stdout",
     "output_type": "stream",
     "text": [
      "gaussian data mu= 0.875 Taylor expansion point= 1.0\n",
      "eff coeff: ['1.0000000', '1.0000000', '1.0000000', '1.0000000', '1.0000000', '1.0000000', '1.0000000', '1.0000000']\n",
      "min error: ['-0.2500000', '-0.1250000', '-0.0625000', '-0.0315552', '-0.0165405', '-0.0090332', '-0.0055847', '-0.0038604']\n",
      "max error: ['-0.0000153', '-0.0000153', '-0.0000153', '-0.0000153', '-0.0000153', '-0.0000153', '-0.0000153', '-0.0000153']\n",
      "avg error: ['-0.0479551', '-0.0175024', '-0.0079333', '-0.0044358', '-0.0031230', '-0.0025173', '-0.0022431', '-0.0021054']\n",
      "rms error: ['0.0792251', '0.0346155', '0.0162757', '0.0081475', '0.0045966', '0.0030756', '0.0025327', '0.0023348']\n",
      "\n"
     ]
    }
   ],
   "source": [
    "point_search(func=\"div\", uniform=False, intwidth=7, fracwidth=8, valid=True, rounding_coeff=\"round\", rounding_var=\"floor\")"
   ]
  },
  {
   "cell_type": "markdown",
   "metadata": {},
   "source": [
    "3. test log with gaussian input"
   ]
  },
  {
   "cell_type": "code",
   "execution_count": 5,
   "metadata": {
    "scrolled": false
   },
   "outputs": [
    {
     "data": {
      "image/png": "[encoded data removed]",
      "text/plain": [
       "<Figure size 432x288 with 1 Axes>"
      ]
     },
     "metadata": {
      "needs_background": "light"
     },
     "output_type": "display_data"
    },
    {
     "name": "stdout",
     "output_type": "stream",
     "text": [
      "gaussian data mu= 0.625 Taylor expansion point= 0.5\n",
      "eff coeff: ['0.6931472', '2.0000000', '2.0000000', '2.6666667', '4.0000000', '6.4000001', '10.6666670', '18.2857151']\n",
      "min error: ['-77.8495102', '-0.0057910', '-34.9335480', '-0.0075944', '-21.9589577', '-0.0087799', '-15.9706841', '-0.0116934']\n",
      "max error: ['-0.0025116', '47.9042358', '-0.0001034', '26.9452763', '0.0000033', '17.9628658', '0.0008181', '13.9706841']\n",
      "avg error: ['-1.6746775', '0.9570833', '-0.6813630', '0.4954815', '-0.4045033', '0.3131373', '-0.2848893', '0.2279322']\n",
      "rms error: ['7.8661103', '4.8050518', '3.4951677', '2.6693552', '2.1712222', '1.7637650', '1.5704827', '1.3541871']\n",
      "\n",
      "gaussian data mu= 0.625 Taylor expansion point= 0.625\n",
      "eff coeff: ['0.4700036', '1.6000000', '1.2800000', '1.3653333', '1.6384000', '2.0971520']\n",
      "min error: ['-32.9374580', '-0.0092478', '-5.9902282', '-0.0152654', '-1.0000000', '-0.0375863']\n",
      "max error: ['-0.0012017', '11.9745932', '0.0000033', '1.9941367', '0.0013022', '0.0084284']\n",
      "avg error: ['-0.6759393', '0.2237135', '-0.1125986', '0.0319767', '-0.0303908', '-0.0053830']\n",
      "rms error: ['3.3277080', '1.1968156', '0.5917097', '0.2004634', '0.1319914', '0.0077937']\n",
      "\n",
      "gaussian data mu= 0.625 Taylor expansion point= 0.75\n",
      "eff coeff: ['0.2876821', '1.3333334', '0.8888889', '0.7901235']\n",
      "min error: ['-11.9785013', '-0.0269398', '-1.0000000', '-0.0395920']\n",
      "max error: ['-0.0042876', '1.9941367', '0.0009243', '0.0040374']\n",
      "avg error: ['-0.2566759', '0.0258893', '-0.0259166', '-0.0064503']\n",
      "rms error: ['1.1814364', '0.2005680', '0.1029179', '0.0086223']\n",
      "\n",
      "gaussian data mu= 0.625 Taylor expansion point= 0.875\n",
      "eff coeff: ['0.1335314', '1.1428572', '0.6530612', '0.4975705', '0.4264890', '0.3899328', '0.3713645']\n",
      "min error: ['-2.9960914', '-0.0603921', '-0.0416006', '-0.0416006', '-0.0416006', '-0.0416006', '-0.0416006']\n",
      "max error: ['-0.0013232', '-0.0001400', '-0.0001400', '-0.0001400', '-0.0001400', '-0.0001400', '-0.0001400']\n",
      "avg error: ['-0.1442831', '-0.0260950', '-0.0123160', '-0.0087870', '-0.0076861', '-0.0074083', '-0.0073584']\n",
      "rms error: ['0.3147201', '0.0295570', '0.0137502', '0.0103612', '0.0095885', '0.0094200', '0.0093865']\n",
      "\n",
      "gaussian data mu= 0.625 Taylor expansion point= 1.0\n",
      "eff coeff: ['0.0000000', '1.0000000', '0.5000000', '0.3333333', '0.2500000', '0.2000000', '0.1666667', '0.1428571']\n",
      "min error: ['-0.2786525', '-0.0994762', '-0.0436121', '-0.0436121', '-0.0436121', '-0.0436121', '-0.0436121', '-0.0436121']\n",
      "max error: ['-0.0019544', '-0.0019544', '-0.0019544', '-0.0015854', '-0.0015854', '-0.0015854', '-0.0015854', '-0.0015854']\n",
      "avg error: ['-0.1744475', '-0.0517983', '-0.0217039', '-0.0126222', '-0.0098463', '-0.0087107', '-0.0084016', '-0.0083100']\n",
      "rms error: ['0.1877058', '0.0568571', '0.0235203', '0.0139244', '0.0113614', '0.0105078', '0.0103030', '0.0102404']\n",
      "\n"
     ]
    },
    {
     "data": {
      "image/png": "[encoded data removed]",
      "text/plain": [
       "<Figure size 432x288 with 1 Axes>"
      ]
     },
     "metadata": {
      "needs_background": "light"
     },
     "output_type": "display_data"
    },
    {
     "name": "stdout",
     "output_type": "stream",
     "text": [
      "gaussian data mu= 0.75 Taylor expansion point= 0.5\n",
      "eff coeff: ['0.6931472', '2.0000000', '2.0000000', '2.6666667', '4.0000000', '6.4000001', '10.6666670', '18.2857151']\n",
      "min error: ['-77.8495102', '-0.0057910', '-34.9335480', '-0.0075944', '-21.9589577', '-0.0087799', '-15.9706841', '-0.0116934']\n",
      "max error: ['-0.0025116', '47.9042358', '-0.0001034', '26.9452763', '0.0000033', '17.9628658', '0.0008181', '13.9706841']\n",
      "avg error: ['-0.8892978', '0.4302543', '-0.2768264', '0.1752971', '-0.1393671', '0.0942601', '-0.0900551', '0.0594353']\n",
      "rms error: ['3.7270665', '2.2518861', '1.6292427', '1.2368959', '1.0042453', '0.8126053', '0.7232103', '0.6206295']\n",
      "\n",
      "gaussian data mu= 0.75 Taylor expansion point= 0.625\n",
      "eff coeff: ['0.4700036', '1.6000000', '1.2800000', '1.3653333', '1.6384000', '2.0971520']\n",
      "min error: ['-32.9374580', '-0.0092478', '-5.9902282', '-0.0152654', '-1.0000000', '-0.0375863']\n",
      "max error: ['-0.0012017', '11.9745932', '0.0000033', '1.9941367', '0.0013022', '0.0084284']\n",
      "avg error: ['-0.3080820', '0.0819479', '-0.0426016', '0.0055321', '-0.0143770', '-0.0062848']\n",
      "rms error: ['1.5638524', '0.5565574', '0.2738739', '0.0924706', '0.0626144', '0.0089974']\n",
      "\n",
      "gaussian data mu= 0.75 Taylor expansion point= 0.75\n",
      "eff coeff: ['0.2876821', '1.3333334', '0.8888889', '0.7901235']\n",
      "min error: ['-11.9785013', '-0.0269398', '-1.0000000', '-0.0395920']\n",
      "max error: ['-0.0042876', '1.9941367', '0.0009243', '0.0040374']\n",
      "avg error: ['-0.0937148', '0.0023163', '-0.0129167', '-0.0079169']\n",
      "rms error: ['0.5486324', '0.0924257', '0.0489033', '0.0103690']\n",
      "\n",
      "gaussian data mu= 0.75 Taylor expansion point= 0.875\n",
      "eff coeff: ['0.1335314', '1.1428572', '0.6530612', '0.4975705', '0.4264890', '0.3899328', '0.3713645']\n",
      "min error: ['-2.9960914', '-0.0603921', '-0.0416006', '-0.0416006', '-0.0416006', '-0.0416006', '-0.0416006']\n",
      "max error: ['-0.0013232', '-0.0001400', '-0.0001400', '-0.0001400', '-0.0001400', '-0.0001400', '-0.0001400']\n",
      "avg error: ['-0.0687296', '-0.0169748', '-0.0109850', '-0.0096261', '-0.0092668', '-0.0092141', '-0.0092053']\n",
      "rms error: ['0.1522760', '0.0198064', '0.0127932', '0.0116989', '0.0114912', '0.0114645', '0.0114596']\n",
      "\n",
      "gaussian data mu= 0.75 Taylor expansion point= 1.0\n",
      "eff coeff: ['0.0000000', '1.0000000', '0.5000000', '0.3333333', '0.2500000', '0.2000000', '0.1666667', '0.1428571']\n",
      "min error: ['-0.2786525', '-0.0994762', '-0.0436121', '-0.0436121', '-0.0436121', '-0.0436121', '-0.0436121', '-0.0436121']\n",
      "max error: ['-0.0019544', '-0.0019544', '-0.0019544', '-0.0015854', '-0.0015854', '-0.0015854', '-0.0015854', '-0.0015854']\n",
      "avg error: ['-0.1331669', '-0.0354758', '-0.0171653', '-0.0120972', '-0.0107107', '-0.0102868', '-0.0102242', '-0.0102008']\n",
      "rms error: ['0.1438429', '0.0394243', '0.0187025', '0.0139293', '0.0127618', '0.0124869', '0.0124516', '0.0124385']\n",
      "\n"
     ]
    },
    {
     "data": {
      "image/png": "[encoded data removed]",
      "text/plain": [
       "<Figure size 432x288 with 1 Axes>"
      ]
     },
     "metadata": {
      "needs_background": "light"
     },
     "output_type": "display_data"
    },
    {
     "name": "stdout",
     "output_type": "stream",
     "text": [
      "gaussian data mu= 0.875 Taylor expansion point= 0.5\n",
      "eff coeff: ['0.6931472', '2.0000000', '2.0000000', '2.6666667', '4.0000000', '6.4000001', '10.6666670', '18.2857151']\n",
      "min error: ['-77.8495102', '-0.0057910', '-34.9335480', '-0.0075944', '-21.9589577', '-0.0087799', '-15.9706841', '-0.0116934']\n",
      "max error: ['-0.0025116', '47.9042358', '-0.0001034', '26.9452763', '0.0000033', '17.9628658', '0.0008181', '13.9706841']\n",
      "avg error: ['-3.0037425', '1.6689788', '-1.1449934', '0.8041432', '-0.6365415', '0.4792898', '-0.4265704', '0.3279014']\n",
      "rms error: ['8.5294619', '5.1773748', '3.7531970', '2.8517060', '2.3160770', '1.8742814', '1.6681215', '1.4306811']\n",
      "\n",
      "gaussian data mu= 0.875 Taylor expansion point= 0.625\n",
      "eff coeff: ['0.4700036', '1.6000000', '1.2800000', '1.3653333', '1.6384000', '2.0971520']\n",
      "min error: ['-32.9374580', '-0.0092478', '-5.9902282', '-0.0152654', '-1.0000000', '-0.0375863']\n",
      "max error: ['-0.0012017', '11.9745932', '0.0000033', '1.9941367', '0.0013022', '0.0084284']\n",
      "avg error: ['-1.1868320', '0.3764624', '-0.1778147', '0.0483033', '-0.0486335', '-0.0096719']\n",
      "rms error: ['3.5953014', '1.2834917', '0.6314894', '0.2135943', '0.1464035', '0.0138508']\n",
      "\n",
      "gaussian data mu= 0.875 Taylor expansion point= 0.75\n",
      "eff coeff: ['0.2876821', '1.3333334', '0.8888889', '0.7901235']\n",
      "min error: ['-11.9785013', '-0.0269398', '-1.0000000', '-0.0395920']\n",
      "max error: ['-0.0042876', '1.9941367', '0.0009243', '0.0040374']\n",
      "avg error: ['-0.3745033', '0.0430101', '-0.0382074', '-0.0117652']\n",
      "rms error: ['1.2623745', '0.2132000', '0.1117281', '0.0154026']\n",
      "\n",
      "gaussian data mu= 0.875 Taylor expansion point= 0.875\n",
      "eff coeff: ['0.1335314', '1.1428572', '0.6530612', '0.4975705', '0.4264890', '0.3899328', '0.3713645']\n",
      "min error: ['-2.9960914', '-0.0603921', '-0.0416006', '-0.0416006', '-0.0416006', '-0.0416006', '-0.0416006']\n",
      "max error: ['-0.0013232', '-0.0001400', '-0.0001400', '-0.0001400', '-0.0001400', '-0.0001400', '-0.0001400']\n",
      "avg error: ['-0.1076294', '-0.0187083', '-0.0147622', '-0.0136370', '-0.0134031', '-0.0132416', '-0.0132104']\n",
      "rms error: ['0.3194552', '0.0233170', '0.0176649', '0.0167911', '0.0166826', '0.0166275', '0.0166157']\n",
      "\n",
      "gaussian data mu= 0.875 Taylor expansion point= 1.0\n",
      "eff coeff: ['0.0000000', '1.0000000', '0.5000000', '0.3333333', '0.2500000', '0.2000000', '0.1666667', '0.1428571']\n",
      "min error: ['-0.2786525', '-0.0994762', '-0.0436121', '-0.0436121', '-0.0436121', '-0.0436121', '-0.0436121', '-0.0436121']\n",
      "max error: ['-0.0019544', '-0.0019544', '-0.0019544', '-0.0015854', '-0.0015854', '-0.0015854', '-0.0015854', '-0.0015854']\n",
      "avg error: ['-0.0943021', '-0.0310158', '-0.0197850', '-0.0163973', '-0.0150404', '-0.0147475', '-0.0146026', '-0.0145854']\n",
      "rms error: ['0.1164826', '0.0375780', '0.0224154', '0.0191798', '0.0182007', '0.0180580', '0.0180058', '0.0179991']\n",
      "\n"
     ]
    }
   ],
   "source": [
    "point_search(func=\"log\", uniform=False, intwidth=7, fracwidth=8, valid=True, rounding_coeff=\"round\", rounding_var=\"floor\")"
   ]
  },
  {
   "cell_type": "markdown",
   "metadata": {},
   "source": [
    "4. test exp with uniform input"
   ]
  },
  {
   "cell_type": "code",
   "execution_count": 6,
   "metadata": {},
   "outputs": [
    {
     "data": {
      "image/png": "[encoded data removed]",
      "text/plain": [
       "<Figure size 432x288 with 1 Axes>"
      ]
     },
     "metadata": {
      "needs_background": "light"
     },
     "output_type": "display_data"
    },
    {
     "name": "stdout",
     "output_type": "stream",
     "text": [
      "gaussian data mu= 0.5 Taylor expansion point= 0.0\n",
      "eff coeff: ['1.0000000', '1.0000000', '0.5000000', '0.1666667', '0.0416667']\n",
      "min error: ['-0.2628040', '-0.0810297', '-0.0209493', '-0.0070026', '-0.0056889']\n",
      "max error: ['0.0000000', '0.0000000', '0.0000000', '0.0000000', '0.0000000']\n",
      "avg error: ['-0.1030228', '-0.0245048', '-0.0061206', '-0.0027101', '-0.0024163']\n",
      "rms error: ['0.1315194', '0.0340862', '0.0081240', '0.0030872', '0.0026802']\n",
      "\n",
      "gaussian data mu= 0.5 Taylor expansion point= 0.25\n",
      "eff coeff: ['1.0000000', '1.0000000', '0.5000000', '0.1666667', '0.0416667']\n",
      "min error: ['-0.1748022', '-0.0449633', '-0.0122595', '-0.0096411', '-0.0096411']\n",
      "max error: ['-0.0021614', '0.0000000', '-0.0021614', '-0.0021614', '-0.0021614']\n",
      "avg error: ['-0.0549396', '-0.0130038', '-0.0063681', '-0.0053880', '-0.0053456']\n",
      "rms error: ['0.0751378', '0.0171340', '0.0067090', '0.0055477', '0.0054998']\n",
      "\n",
      "gaussian data mu= 0.5 Taylor expansion point= 0.5\n",
      "eff coeff: ['1.0000000', '1.0000000', '0.5000000', '0.1666667']\n",
      "min error: ['-0.1757812', '-0.0161103', '-0.0117188', '-0.0083503']\n",
      "max error: ['-0.0001721', '0.0273438', '-0.0001721', '0.0012819']\n",
      "avg error: ['-0.0449608', '-0.0014492', '-0.0038063', '-0.0032668']\n",
      "rms error: ['0.0622187', '0.0084070', '0.0042596', '0.0036339']\n",
      "\n",
      "gaussian data mu= 0.5 Taylor expansion point= 0.75\n",
      "eff coeff: ['1.0000000', '1.0000000', '0.5000000', '0.1666667']\n",
      "min error: ['-0.4726562', '-0.0074544', '-0.0389178', '-0.0096246']\n",
      "max error: ['-0.0017567', '0.1210938', '-0.0017567', '0.0063899']\n",
      "avg error: ['-0.1101185', '0.0161560', '-0.0086835', '-0.0042028']\n",
      "rms error: ['0.1715629', '0.0356180', '0.0113359', '0.0047301']\n",
      "\n",
      "gaussian data mu= 0.5 Taylor expansion point= 1.0\n",
      "eff coeff: ['1.0000000', '1.0000000', '0.5000000', '0.1666667', '0.0416667']\n",
      "min error: ['-1.0000000', '-0.0063562', '-0.1050652', '-0.0083179', '-0.0197017']\n",
      "max error: ['-0.0015933', '0.3554688', '-0.0015933', '0.0309764', '0.0070939']\n",
      "avg error: ['-0.2865521', '0.0737802', '-0.0225810', '-0.0004435', '-0.0053136']\n",
      "rms error: ['0.4055863', '0.1221400', '0.0345257', '0.0067660', '0.0064431']\n",
      "\n"
     ]
    }
   ],
   "source": [
    "point_search(func=\"exp\", uniform=True, intwidth=7, fracwidth=8, valid=True, rounding_coeff=\"round\", rounding_var=\"floor\")"
   ]
  },
  {
   "cell_type": "markdown",
   "metadata": {},
   "source": [
    "5. test div with uniform input"
   ]
  },
  {
   "cell_type": "code",
   "execution_count": 7,
   "metadata": {
    "scrolled": true
   },
   "outputs": [
    {
     "data": {
      "image/png": "[encoded data removed]",
      "text/plain": [
       "<Figure size 432x288 with 1 Axes>"
      ]
     },
     "metadata": {
      "needs_background": "light"
     },
     "output_type": "display_data"
    },
    {
     "name": "stdout",
     "output_type": "stream",
     "text": [
      "gaussian data mu= 0.5 Taylor expansion point= 1.0\n",
      "eff coeff: ['1.0000000', '1.0000000', '1.0000000', '1.0000000', '1.0000000', '1.0000000', '1.0000000', '1.0000000']\n",
      "min error: ['-0.2500000', '-0.1250000', '-0.0625000', '-0.0315552', '-0.0165405', '-0.0090332', '-0.0055847', '-0.0038604']\n",
      "max error: ['-0.0000153', '-0.0000153', '-0.0000153', '-0.0000153', '-0.0000153', '-0.0000153', '-0.0000153', '-0.0000153']\n",
      "avg error: ['-0.0844169', '-0.0330011', '-0.0143894', '-0.0070298', '-0.0042211', '-0.0029646', '-0.0024520', '-0.0022443']\n",
      "rms error: ['0.1130153', '0.0485700', '0.0221592', '0.0106816', '0.0057487', '0.0035478', '0.0027256', '0.0024423']\n",
      "\n"
     ]
    }
   ],
   "source": [
    "point_search(func=\"div\", uniform=True, intwidth=7, fracwidth=8, valid=True, rounding_coeff=\"round\", rounding_var=\"floor\")"
   ]
  },
  {
   "cell_type": "markdown",
   "metadata": {},
   "source": [
    "6. test log with uniform input"
   ]
  },
  {
   "cell_type": "code",
   "execution_count": 8,
   "metadata": {},
   "outputs": [
    {
     "data": {
      "image/png": "[encoded data removed]",
      "text/plain": [
       "<Figure size 432x288 with 1 Axes>"
      ]
     },
     "metadata": {
      "needs_background": "light"
     },
     "output_type": "display_data"
    },
    {
     "name": "stdout",
     "output_type": "stream",
     "text": [
      "gaussian data mu= 0.5 Taylor expansion point= 0.5\n",
      "eff coeff: ['0.6931472', '2.0000000', '2.0000000', '2.6666667', '4.0000000', '6.4000001', '10.6666670', '18.2857151']\n",
      "min error: ['-77.8495102', '-0.0057910', '-34.9335480', '-0.0075944', '-21.9589577', '-0.0087799', '-15.9706841', '-0.0116934']\n",
      "max error: ['-0.0025116', '47.9042358', '-0.0001034', '26.9452763', '0.0000033', '17.9628658', '0.0008181', '13.9706841']\n",
      "avg error: ['-2.4712453', '1.3944913', '-0.9730573', '0.6954322', '-0.5580778', '0.4265853', '-0.3828984', '0.3008312']\n",
      "rms error: ['8.5909224', '5.2325363', '3.8000793', '2.8953531', '2.3536570', '1.9085678', '1.6988963', '1.4612676']\n",
      "\n",
      "gaussian data mu= 0.5 Taylor expansion point= 0.625\n",
      "eff coeff: ['0.4700036', '1.6000000', '1.2800000', '1.3653333', '1.6384000', '2.0971520']\n",
      "min error: ['-32.9374580', '-0.0092478', '-5.9902282', '-0.0152654', '-1.0000000', '-0.0375863']\n",
      "max error: ['-0.0012017', '11.9745932', '0.0000033', '1.9941367', '0.0013022', '0.0084284']\n",
      "avg error: ['-0.9881005', '0.3204912', '-0.1551631', '0.0437272', '-0.0417119', '-0.0074603']\n",
      "rms error: ['3.6282165', '1.3003833', '0.6414563', '0.2171717', '0.1450054', '0.0111342']\n",
      "\n",
      "gaussian data mu= 0.5 Taylor expansion point= 0.75\n",
      "eff coeff: ['0.2876821', '1.3333334', '0.8888889', '0.7901235']\n",
      "min error: ['-11.9785013', '-0.0269398', '-1.0000000', '-0.0395920']\n",
      "max error: ['-0.0042876', '1.9941367', '0.0009243', '0.0040374']\n",
      "avg error: ['-0.3360220', '0.0379990', '-0.0339955', '-0.0090411']\n",
      "rms error: ['1.2818047', '0.2170394', '0.1125234', '0.0123935']\n",
      "\n",
      "gaussian data mu= 0.5 Taylor expansion point= 0.875\n",
      "eff coeff: ['0.1335314', '1.1428572', '0.6530612', '0.4975705', '0.4264890', '0.3899328', '0.3713645']\n",
      "min error: ['-2.9960914', '-0.0603921', '-0.0416006', '-0.0416006', '-0.0416006', '-0.0416006', '-0.0416006']\n",
      "max error: ['-0.0013232', '-0.0001400', '-0.0001400', '-0.0001400', '-0.0001400', '-0.0001400', '-0.0001400']\n",
      "avg error: ['-0.1311669', '-0.0224472', '-0.0135295', '-0.0111571', '-0.0105008', '-0.0102630', '-0.0102184']\n",
      "rms error: ['0.3313681', '0.0268023', '0.0158015', '0.0138567', '0.0135134', '0.0134123', '0.0133913']\n",
      "\n",
      "gaussian data mu= 0.5 Taylor expansion point= 1.0\n",
      "eff coeff: ['0.0000000', '1.0000000', '0.5000000', '0.3333333', '0.2500000', '0.2000000', '0.1666667', '0.1428571']\n",
      "min error: ['-0.2786525', '-0.0994762', '-0.0436121', '-0.0436121', '-0.0436121', '-0.0436121', '-0.0436121', '-0.0436121']\n",
      "max error: ['-0.0019544', '-0.0019544', '-0.0019544', '-0.0015854', '-0.0015854', '-0.0015854', '-0.0015854', '-0.0015854']\n",
      "avg error: ['-0.1344459', '-0.0414303', '-0.0207216', '-0.0144538', '-0.0123604', '-0.0116547', '-0.0114147', '-0.0113616']\n",
      "rms error: ['0.1565664', '0.0483816', '0.0230025', '0.0166648', '0.0150288', '0.0146297', '0.0145186', '0.0144929']\n",
      "\n"
     ]
    }
   ],
   "source": [
    "point_search(func=\"log\", uniform=True, intwidth=7, fracwidth=8, valid=True, rounding_coeff=\"round\", rounding_var=\"floor\")"
   ]
  },
  {
   "cell_type": "code",
   "execution_count": null,
   "metadata": {},
   "outputs": [],
   "source": []
  }
 ],
 "metadata": {
  "kernelspec": {
   "display_name": "Python 3",
   "language": "python",
   "name": "python3"
  },
  "language_info": {
   "codemirror_mode": {
    "name": "ipython",
    "version": 3
   },
   "file_extension": ".py",
   "mimetype": "text/x-python",
   "name": "python",
   "nbconvert_exporter": "python",
   "pygments_lexer": "ipython3",
   "version": "3.7.3"
  }
 },
 "nbformat": 4,
 "nbformat_minor": 2
}
