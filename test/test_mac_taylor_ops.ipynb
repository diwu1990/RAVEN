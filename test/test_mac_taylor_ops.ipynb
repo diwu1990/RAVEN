{
 "cells": [
  {
   "cell_type": "code",
   "execution_count": 1,
   "metadata": {},
   "outputs": [],
   "source": [
    "%load_ext autoreload\n",
    "%autoreload 2"
   ]
  },
  {
   "cell_type": "code",
   "execution_count": 1,
   "metadata": {},
   "outputs": [],
   "source": [
    "import torch\n",
    "from RAVEN.pe.mac_taylor_ops import *\n",
    "import time"
   ]
  },
  {
   "cell_type": "markdown",
   "metadata": {},
   "source": [
    "# test exp operator"
   ]
  },
  {
   "cell_type": "code",
   "execution_count": 2,
   "metadata": {},
   "outputs": [
    {
     "name": "stdout",
     "output_type": "stream",
     "text": [
      "--- 0.0030002593994140625 seconds ---\n",
      "--- 0.0 seconds ---\n",
      "min error rate: tensor(-0.0061, device='cuda:0')\n",
      "max error rate: tensor(0.0032, device='cuda:0')\n",
      "avg error rate: tensor(-0.0006, device='cuda:0')\n",
      "rms error rate: tensor(0.0017, device='cuda:0')\n"
     ]
    }
   ],
   "source": [
    "a = torch.arange(0, 1, 0.001)\n",
    "a = a.cuda()\n",
    "\n",
    "start_time = time.time()\n",
    "approximate = MACexp.apply(a, 5, 7, 8, True)\n",
    "print(\"--- %s seconds ---\" % (time.time() - start_time))\n",
    "\n",
    "start_time = time.time()\n",
    "precise = torch.exp(a)\n",
    "print(\"--- %s seconds ---\" % (time.time() - start_time))\n",
    "\n",
    "error = (approximate - precise) / precise\n",
    "print(\"min error rate:\", error.min())\n",
    "print(\"max error rate:\", error.max())\n",
    "print(\"avg error rate:\", error.mean())\n",
    "print(\"rms error rate:\", error.mul(error).mean().sqrt())\n"
   ]
  },
  {
   "cell_type": "markdown",
   "metadata": {},
   "source": [
    "# reference result using MAC_Taylor kernel"
   ]
  },
  {
   "cell_type": "code",
   "execution_count": 3,
   "metadata": {},
   "outputs": [
    {
     "name": "stdout",
     "output_type": "stream",
     "text": [
      "[1.0, 1.0, 0.5, 0.16666666666666666, 0.041666666666666664]\n",
      "min error rate: tensor(-0.0061, device='cuda:0')\n",
      "max error rate: tensor(0.0032, device='cuda:0')\n",
      "avg error rate: tensor(-0.0006, device='cuda:0')\n",
      "rms error rate: tensor(0.0017, device='cuda:0')\n"
     ]
    }
   ],
   "source": [
    "a = torch.arange(0, 1, 0.001)\n",
    "a = a.cuda()\n",
    "\n",
    "precise = torch.exp(a)\n",
    "\n",
    "point = 0.\n",
    "scale = torch.exp(torch.tensor([point])).cuda()\n",
    "var = a - point\n",
    "\n",
    "coeff = [1/1, 1/1, 1/2, 1/6, 1/24, 1/120, 1/720, 1/5040, 1/40320, 1/362880]\n",
    "\n",
    "coeff = coeff[0:5]\n",
    "print(coeff)\n",
    "\n",
    "approximate = MAC_Taylor(scale, \n",
    "                         coeff, \n",
    "                         var, \n",
    "                         fxp=True, \n",
    "                         intwidth=7, \n",
    "                         fracwidth=8, \n",
    "                         rounding_coeff=\"round\", \n",
    "                         rounding_var=\"round\", \n",
    "                         keepwidth=False)\n",
    "\n",
    "error = (approximate - precise) / precise\n",
    "print(\"min error rate:\", error.min())\n",
    "print(\"max error rate:\", error.max())\n",
    "print(\"avg error rate:\", error.mean())\n",
    "print(\"rms error rate:\", error.mul(error).mean().sqrt())"
   ]
  },
  {
   "cell_type": "markdown",
   "metadata": {},
   "source": [
    "# test exp op grad"
   ]
  },
  {
   "cell_type": "code",
   "execution_count": 16,
   "metadata": {},
   "outputs": [
    {
     "name": "stdout",
     "output_type": "stream",
     "text": [
      "tensor([1.6484, 2.0117], device='cuda:0', grad_fn=<MACexpBackward>)\n",
      "tensor([1.6484, 2.0117], device='cuda:0')\n",
      "tensor([1.6487, 2.0138], grad_fn=<ExpBackward>)\n",
      "tensor([1.6487, 2.0138])\n"
     ]
    }
   ],
   "source": [
    "a = torch.tensor([0.5, 0.7]).cuda()\n",
    "a.requires_grad_()\n",
    "\n",
    "approximate = MACexp.apply(a, 5, 7, 8, True, \"round\", True, True, True)\n",
    "print(approximate)\n",
    "approximate.sum().backward()\n",
    "print(a.grad)\n",
    "\n",
    "a = torch.tensor([0.5, 0.7])\n",
    "a.requires_grad_()\n",
    "\n",
    "precise = torch.exp(a)\n",
    "precise.sum().backward()\n",
    "a.grad\n",
    "print(precise)\n",
    "print(a.grad)\n"
   ]
  },
  {
   "cell_type": "markdown",
   "metadata": {},
   "source": [
    "# test left most one"
   ]
  },
  {
   "cell_type": "code",
   "execution_count": 14,
   "metadata": {},
   "outputs": [
    {
     "name": "stdout",
     "output_type": "stream",
     "text": [
      "tensor([0.9961, 0.9900])\n",
      "tensor([127.5000,   0.9900])\n"
     ]
    }
   ],
   "source": [
    "a = torch.tensor([127.5, 0.99])\n",
    "b = torch.log2(a).floor()\n",
    "print(a >> (b+1))\n",
    "print(a)"
   ]
  },
  {
   "cell_type": "markdown",
   "metadata": {},
   "source": [
    "# test div grad"
   ]
  },
  {
   "cell_type": "code",
   "execution_count": 17,
   "metadata": {},
   "outputs": [
    {
     "name": "stdout",
     "output_type": "stream",
     "text": [
      "tensor([0.2500], device='cuda:0', grad_fn=<DivBackward0>)\n",
      "tensor([0.5000], device='cuda:0')\n",
      "tensor([-0.1250], device='cuda:0')\n"
     ]
    }
   ],
   "source": [
    "a = torch.tensor([0.5]).cuda()\n",
    "b = torch.tensor([2.]).cuda()\n",
    "a.requires_grad_()\n",
    "b.requires_grad_()\n",
    "\n",
    "c = torch.div(a, b)\n",
    "print(c)\n",
    "c.backward()\n",
    "print(a.grad)\n",
    "print(b.grad)"
   ]
  },
  {
   "cell_type": "markdown",
   "metadata": {},
   "source": [
    "# test MACdiv"
   ]
  },
  {
   "cell_type": "code",
   "execution_count": 10,
   "metadata": {},
   "outputs": [
    {
     "name": "stdout",
     "output_type": "stream",
     "text": [
      "tensor([1.9519, 8.1235], device='cuda:0')\n",
      "tensor([-122.3909, -404.0622], device='cuda:0')\n",
      "--- 0.008000850677490234 seconds ---\n",
      "tensor([1.9519, 8.1235], device='cuda:0')\n",
      "tensor([-122.3909, -404.0622], device='cuda:0')\n",
      "--- 0.0050008296966552734 seconds ---\n",
      "min error rate: tensor(-0.0133, device='cuda:0', grad_fn=<MinBackward1>)\n",
      "max error rate: tensor(0.0002, device='cuda:0', grad_fn=<MaxBackward1>)\n",
      "avg error rate: tensor(-0.0066, device='cuda:0', grad_fn=<MeanBackward0>)\n",
      "rms error rate: tensor(0.0094, device='cuda:0', grad_fn=<SqrtBackward>)\n"
     ]
    }
   ],
   "source": [
    "num = 100000\n",
    "y = torch.rand(num).mul(32).cuda()\n",
    "x = torch.rand(num).mul(64).cuda()\n",
    "\n",
    "y = torch.tensor([1.]).cuda()\n",
    "x = torch.arange(0.5, 1., 0.001).cuda()\n",
    "\n",
    "y = torch.tensor([32.12341, 6.123]).cuda()\n",
    "x = torch.tensor([0.5123141, 0.1231]).cuda()\n",
    "\n",
    "y.requires_grad_()\n",
    "x.requires_grad_()\n",
    "\n",
    "# print(y, x)\n",
    "\n",
    "start_time = time.time()\n",
    "approximate = MACdiv.apply(y, x, 6, 7, 8, True)\n",
    "approximate.sum().backward()\n",
    "print(y.grad)\n",
    "print(x.grad)\n",
    "print(\"--- %s seconds ---\" % (time.time() - start_time))\n",
    "\n",
    "y = torch.tensor([32.12341, 6.123]).cuda()\n",
    "x = torch.tensor([0.5123141, 0.1231]).cuda()\n",
    "\n",
    "y.requires_grad_()\n",
    "x.requires_grad_()\n",
    "\n",
    "start_time = time.time()\n",
    "precise = torch.div(y, x)\n",
    "precise.sum().backward()\n",
    "print(y.grad)\n",
    "print(x.grad)\n",
    "print(\"--- %s seconds ---\" % (time.time() - start_time))\n",
    "\n",
    "error = (approximate - precise) / precise\n",
    "print(\"min error rate:\", error.min())\n",
    "print(\"max error rate:\", error.max())\n",
    "print(\"avg error rate:\", error.mean())\n",
    "print(\"rms error rate:\", error.mul(error).mean().sqrt())\n"
   ]
  },
  {
   "cell_type": "markdown",
   "metadata": {},
   "source": [
    "# test MAClog"
   ]
  },
  {
   "cell_type": "code",
   "execution_count": 18,
   "metadata": {},
   "outputs": [
    {
     "name": "stdout",
     "output_type": "stream",
     "text": [
      "tensor([1.9519, 0.0233], device='cuda:0')\n",
      "--- 0.00499272346496582 seconds ---\n",
      "tensor([1.9519, 0.0233], device='cuda:0')\n",
      "--- 0.003998994827270508 seconds ---\n",
      "min error rate: tensor(-2.6468e-05, device='cuda:0', grad_fn=<MinBackward1>)\n",
      "max error rate: tensor(0., device='cuda:0', grad_fn=<MaxBackward1>)\n",
      "avg error rate: tensor(-1.3234e-05, device='cuda:0', grad_fn=<MeanBackward0>)\n",
      "rms error rate: tensor(1.8716e-05, device='cuda:0', grad_fn=<SqrtBackward>)\n"
     ]
    }
   ],
   "source": [
    "num = 100000\n",
    "x = torch.rand(num).mul(64).cuda()\n",
    "\n",
    "x = torch.arange(0.5, 1., 0.001)\n",
    "# x = x.cuda()\n",
    "\n",
    "x = torch.tensor([0.5123141, 43]).cuda()\n",
    "\n",
    "x.requires_grad_()\n",
    "\n",
    "start_time = time.time()\n",
    "approximate = MAClog.apply(x, 8, 7, 8, False)\n",
    "approximate.sum().backward()\n",
    "print(x.grad)\n",
    "print(\"--- %s seconds ---\" % (time.time() - start_time))\n",
    "\n",
    "x = torch.tensor([0.5123141, 43]).cuda()\n",
    "\n",
    "x.requires_grad_()\n",
    "\n",
    "start_time = time.time()\n",
    "precise = torch.log(x)\n",
    "precise.sum().backward()\n",
    "print(x.grad)\n",
    "print(\"--- %s seconds ---\" % (time.time() - start_time))\n",
    "\n",
    "error = (approximate - precise) / precise\n",
    "print(\"min error rate:\", error.min())\n",
    "print(\"max error rate:\", error.max())\n",
    "print(\"avg error rate:\", error.mean())\n",
    "print(\"rms error rate:\", error.mul(error).mean().sqrt())\n"
   ]
  },
  {
   "cell_type": "markdown",
   "metadata": {},
   "source": [
    "# test MACsigmoid"
   ]
  },
  {
   "cell_type": "code",
   "execution_count": 3,
   "metadata": {},
   "outputs": [
    {
     "name": "stdout",
     "output_type": "stream",
     "text": [
      "tensor([2.3471e-01, 2.1151e-19], device='cuda:0')\n",
      "--- 0.009000062942504883 seconds ---\n",
      "tensor([0.2343, 0.0000], device='cuda:0')\n",
      "--- 0.003000497817993164 seconds ---\n",
      "min error rate: tensor(-0.0039, device='cuda:0', grad_fn=<MinBackward1>)\n",
      "max error rate: tensor(-0.0006, device='cuda:0', grad_fn=<MaxBackward1>)\n",
      "avg error rate: tensor(-0.0022, device='cuda:0', grad_fn=<MeanBackward0>)\n",
      "rms error rate: tensor(0.0028, device='cuda:0', grad_fn=<SqrtBackward>)\n"
     ]
    }
   ],
   "source": [
    "num = 100000\n",
    "x = torch.rand(num).mul(64).cuda()\n",
    "\n",
    "x = torch.arange(0.5, 1., 0.001)\n",
    "# x = x.cuda()\n",
    "\n",
    "x = torch.tensor([0.5123141, 43.]).cuda()\n",
    "\n",
    "x.requires_grad_()\n",
    "\n",
    "start_time = time.time()\n",
    "approximate = MACsigmoid(x, 8, 7, 8, True)\n",
    "approximate.sum().backward()\n",
    "print(x.grad)\n",
    "print(\"--- %s seconds ---\" % (time.time() - start_time))\n",
    "\n",
    "x = torch.tensor([0.5123141, 43.]).cuda()\n",
    "\n",
    "x.requires_grad_()\n",
    "\n",
    "start_time = time.time()\n",
    "precise = torch.sigmoid(x)\n",
    "precise.sum().backward()\n",
    "print(x.grad)\n",
    "print(\"--- %s seconds ---\" % (time.time() - start_time))\n",
    "\n",
    "error = (approximate - precise) / precise\n",
    "print(\"min error rate:\", error.min())\n",
    "print(\"max error rate:\", error.max())\n",
    "print(\"avg error rate:\", error.mean())\n",
    "print(\"rms error rate:\", error.mul(error).mean().sqrt())\n"
   ]
  },
  {
   "cell_type": "markdown",
   "metadata": {},
   "source": [
    "# test MACtanh"
   ]
  },
  {
   "cell_type": "code",
   "execution_count": 9,
   "metadata": {},
   "outputs": [
    {
     "name": "stdout",
     "output_type": "stream",
     "text": [
      "tensor([0.7794, 0.0585], device='cuda:0')\n",
      "--- 0.008991718292236328 seconds ---\n",
      "tensor([0.7775, 0.0582], device='cuda:0')\n",
      "--- 0.003998994827270508 seconds ---\n",
      "min error rate: tensor(-0.0018, device='cuda:0', grad_fn=<MinBackward1>)\n",
      "max error rate: tensor(0.0019, device='cuda:0', grad_fn=<MaxBackward1>)\n",
      "avg error rate: tensor(8.7631e-05, device='cuda:0', grad_fn=<MeanBackward0>)\n",
      "rms error rate: tensor(0.0018, device='cuda:0', grad_fn=<SqrtBackward>)\n"
     ]
    }
   ],
   "source": [
    "num = 100000\n",
    "x = torch.rand(num).mul(64).cuda()\n",
    "\n",
    "x = torch.arange(0.5, 1., 0.001)\n",
    "# x = x.cuda()\n",
    "\n",
    "x = torch.tensor([0.5123141, 2.1]).cuda()\n",
    "\n",
    "x.requires_grad_()\n",
    "\n",
    "start_time = time.time()\n",
    "approximate = MACtanh(x, 8, 7, 8, True)\n",
    "approximate.sum().backward()\n",
    "print(x.grad)\n",
    "print(\"--- %s seconds ---\" % (time.time() - start_time))\n",
    "\n",
    "x = torch.tensor([0.5123141, 2.1]).cuda()\n",
    "\n",
    "x.requires_grad_()\n",
    "\n",
    "start_time = time.time()\n",
    "precise = torch.tanh(x)\n",
    "precise.sum().backward()\n",
    "print(x.grad)\n",
    "print(\"--- %s seconds ---\" % (time.time() - start_time))\n",
    "\n",
    "error = (approximate - precise) / precise\n",
    "print(\"min error rate:\", error.min())\n",
    "print(\"max error rate:\", error.max())\n",
    "print(\"avg error rate:\", error.mean())\n",
    "print(\"rms error rate:\", error.mul(error).mean().sqrt())\n"
   ]
  },
  {
   "cell_type": "markdown",
   "metadata": {},
   "source": [
    "# test MACsoftmax"
   ]
  },
  {
   "cell_type": "code",
   "execution_count": 20,
   "metadata": {},
   "outputs": [
    {
     "name": "stdout",
     "output_type": "stream",
     "text": [
      "tensor([0., 0., 0., 0., 0., 0., 0., 0.], device='cuda:0')\n",
      "--- 0.007999658584594727 seconds ---\n",
      "tensor([0., 0., 0., 0., 0., 0., 0., 0.], device='cuda:0')\n",
      "--- 0.00199127197265625 seconds ---\n",
      "min error rate: tensor(-0.0236, device='cuda:0', grad_fn=<MinBackward1>)\n",
      "max error rate: tensor(0.0297, device='cuda:0', grad_fn=<MaxBackward1>)\n",
      "avg error rate: tensor(0.0045, device='cuda:0', grad_fn=<MeanBackward0>)\n",
      "rms error rate: tensor(0.0156, device='cuda:0', grad_fn=<SqrtBackward>)\n"
     ]
    }
   ],
   "source": [
    "x = torch.tensor([0.1, 0.2, 0.3, 0.4, 0.5, 0.6, 0.7, 0.8]).cuda()\n",
    "\n",
    "x.requires_grad_()\n",
    "\n",
    "start_time = time.time()\n",
    "approximate = MACsoftmax(x, 8, 7, 8, True)\n",
    "approximate.sum().backward()\n",
    "print(x.grad)\n",
    "print(\"--- %s seconds ---\" % (time.time() - start_time))\n",
    "\n",
    "x = torch.tensor([0.1, 0.2, 0.3, 0.4, 0.5, 0.6, 0.7, 0.8]).cuda()\n",
    "\n",
    "x.requires_grad_()\n",
    "\n",
    "start_time = time.time()\n",
    "softmax = torch.nn.Softmax(dim=0)\n",
    "precise = softmax(x)\n",
    "precise.sum().backward()\n",
    "print(x.grad)\n",
    "print(\"--- %s seconds ---\" % (time.time() - start_time))\n",
    "\n",
    "error = (approximate - precise) / precise\n",
    "print(\"min error rate:\", error.min())\n",
    "print(\"max error rate:\", error.max())\n",
    "print(\"avg error rate:\", error.mean())\n",
    "print(\"rms error rate:\", error.mul(error).mean().sqrt())\n"
   ]
  },
  {
   "cell_type": "markdown",
   "metadata": {},
   "source": [
    "# test MAClogsoftmax"
   ]
  },
  {
   "cell_type": "code",
   "execution_count": 7,
   "metadata": {},
   "outputs": [
    {
     "name": "stdout",
     "output_type": "stream",
     "text": [
      "tensor([ 0.3150,  0.2157,  0.1588,  0.0657,  0.0044, -0.1209, -0.2449, -0.3935],\n",
      "       device='cuda:0')\n",
      "--- 0.010988950729370117 seconds ---\n",
      "tensor([ 0.3135,  0.2413,  0.1615,  0.0733, -0.0242, -0.1319, -0.2509, -0.3825],\n",
      "       device='cuda:0')\n",
      "--- 0.004000186920166016 seconds ---\n",
      "min error rate: tensor(-0.0127, device='cuda:0', grad_fn=<MinBackward1>)\n",
      "max error rate: tensor(0.0108, device='cuda:0', grad_fn=<MaxBackward1>)\n",
      "avg error rate: tensor(-0.0025, device='cuda:0', grad_fn=<MeanBackward0>)\n",
      "rms error rate: tensor(0.0074, device='cuda:0', grad_fn=<SqrtBackward>)\n"
     ]
    }
   ],
   "source": [
    "x = torch.tensor([0.1, 0.2, 0.3, 0.4, 0.5, 0.6, 0.7, 0.8]).cuda()\n",
    "\n",
    "x.requires_grad_()\n",
    "\n",
    "start_time = time.time()\n",
    "approximate = MAClogsoftmax(x, 8, 7, 8, True)\n",
    "approximate.sum().backward()\n",
    "print(x.grad)\n",
    "print(\"--- %s seconds ---\" % (time.time() - start_time))\n",
    "\n",
    "x = torch.tensor([0.1, 0.2, 0.3, 0.4, 0.5, 0.6, 0.7, 0.8]).cuda()\n",
    "\n",
    "x.requires_grad_()\n",
    "\n",
    "start_time = time.time()\n",
    "softmax = torch.nn.LogSoftmax(dim=0)\n",
    "precise = softmax(x)\n",
    "precise.sum().backward()\n",
    "print(x.grad)\n",
    "print(\"--- %s seconds ---\" % (time.time() - start_time))\n",
    "\n",
    "error = (approximate - precise) / precise\n",
    "print(\"min error rate:\", error.min())\n",
    "print(\"max error rate:\", error.max())\n",
    "print(\"avg error rate:\", error.mean())\n",
    "print(\"rms error rate:\", error.mul(error).mean().sqrt())\n"
   ]
  },
  {
   "cell_type": "code",
   "execution_count": null,
   "metadata": {},
   "outputs": [],
   "source": []
  }
 ],
 "metadata": {
  "kernelspec": {
   "display_name": "Python 3",
   "language": "python",
   "name": "python3"
  },
  "language_info": {
   "codemirror_mode": {
    "name": "ipython",
    "version": 3
   },
   "file_extension": ".py",
   "mimetype": "text/x-python",
   "name": "python",
   "nbconvert_exporter": "python",
   "pygments_lexer": "ipython3",
   "version": "3.7.3"
  }
 },
 "nbformat": 4,
 "nbformat_minor": 2
}
