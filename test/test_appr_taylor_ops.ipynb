{
 "cells": [
  {
   "cell_type": "code",
   "execution_count": 128,
   "metadata": {},
   "outputs": [
    {
     "name": "stdout",
     "output_type": "stream",
     "text": [
      "The autoreload extension is already loaded. To reload it, use:\n",
      "  %reload_ext autoreload\n"
     ]
    }
   ],
   "source": [
    "%load_ext autoreload\n",
    "%autoreload 2"
   ]
  },
  {
   "cell_type": "code",
   "execution_count": 286,
   "metadata": {},
   "outputs": [],
   "source": [
    "import torch\n",
    "from RAVEN.pe.appr_ops import *\n",
    "from RAVEN.pe.appr_poly_utils import *\n",
    "import time\n",
    "import math"
   ]
  },
  {
   "cell_type": "code",
   "execution_count": 287,
   "metadata": {},
   "outputs": [
    {
     "name": "stdout",
     "output_type": "stream",
     "text": [
      "/////////////////////////////\n",
      "single op test\n",
      "/////////////////////////////\n",
      "\n",
      "[1.0, 0.5, 0.25]\n",
      "approximate: tensor(0.0026)\n",
      "min error rate: tensor(-0.9990)\n",
      "max error rate: tensor(-0.9974)\n",
      "avg error rate: tensor(-0.9983)\n",
      "rms error rate: tensor(0.9983)\n"
     ]
    }
   ],
   "source": [
    "print(\"/////////////////////////////\")\n",
    "print(\"single op test\")\n",
    "print(\"/////////////////////////////\\n\")\n",
    "a = torch.arange(0, 1, 0.001)\n",
    "\n",
    "precise = torch.exp(a)\n",
    "a_int = a.floor()\n",
    "\n",
    "point = torch.tensor(1.)\n",
    "scale = torch.exp(a_int + point)\n",
    "const = torch.tensor(1.0)\n",
    "input = a - point\n",
    "\n",
    "coeff = [1/1, 1/2, 1/4, 1/8, 1/16, 1/32]\n",
    "power = [1  ,   2,   3,   4,    5,    5]\n",
    "sign  = [1  ,   1,   1,  -1,    1,    1]\n",
    "\n",
    "\n",
    "scale = torch.tensor(0.0051)\n",
    "const = torch.tensor(0.00511)\n",
    "input = torch.tensor(0.51)\n",
    "\n",
    "coeff = coeff[0:3]\n",
    "print(coeff)\n",
    "power = power[0:3]\n",
    "sign  = sign[0:3]\n",
    "\n",
    "approximate = Appr_Taylor(scale, \n",
    "                          const, \n",
    "                          input, \n",
    "                          coeff, \n",
    "                          power, \n",
    "                          sign, \n",
    "                          fxp=True, \n",
    "                          intwidth=7, \n",
    "                          fracwidth=8, \n",
    "                          rounding=\"floor\", \n",
    "                          keepwidth=True)\n",
    "\n",
    "print(\"approximate:\", approximate)\n",
    "error = (approximate - precise) / precise\n",
    "print(\"min error rate:\", error.min())\n",
    "print(\"max error rate:\", error.max())\n",
    "print(\"avg error rate:\", error.mean())\n",
    "print(\"rms error rate:\", error.mul(error).mean().sqrt())\n"
   ]
  },
  {
   "cell_type": "code",
   "execution_count": 12,
   "metadata": {},
   "outputs": [
    {
     "name": "stdout",
     "output_type": "stream",
     "text": [
      "--- 0.9012479782104492 seconds ---\n",
      "--- 0.414686918258667 seconds ---\n"
     ]
    }
   ],
   "source": [
    "a = torch.rand([10000, 10000])\n",
    "b = torch.rand([10000, 10000])\n",
    "start_time = time.time()\n",
    "torch.div(a, b)\n",
    "print(\"--- %s seconds ---\" % (time.time() - start_time))\n",
    "\n",
    "start_time = time.time()\n",
    "torch.add(a, b)\n",
    "print(\"--- %s seconds ---\" % (time.time() - start_time))"
   ]
  },
  {
   "cell_type": "code",
   "execution_count": null,
   "metadata": {},
   "outputs": [],
   "source": []
  }
 ],
 "metadata": {
  "kernelspec": {
   "display_name": "Python 3",
   "language": "python",
   "name": "python3"
  },
  "language_info": {
   "codemirror_mode": {
    "name": "ipython",
    "version": 3
   },
   "file_extension": ".py",
   "mimetype": "text/x-python",
   "name": "python",
   "nbconvert_exporter": "python",
   "pygments_lexer": "ipython3",
   "version": "3.7.7"
  }
 },
 "nbformat": 4,
 "nbformat_minor": 2
}
