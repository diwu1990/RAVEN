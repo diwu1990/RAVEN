{
 "cells": [
  {
   "cell_type": "code",
   "execution_count": 1,
   "metadata": {},
   "outputs": [],
   "source": [
    "%load_ext autoreload\n",
    "%autoreload 2"
   ]
  },
  {
   "cell_type": "code",
   "execution_count": 2,
   "metadata": {},
   "outputs": [],
   "source": [
    "import torch\n",
    "from RAVEN.pe.appr_taylor_utils import *\n",
    "import matplotlib.pyplot as plt"
   ]
  },
  {
   "cell_type": "markdown",
   "metadata": {},
   "source": [
    "# Test for Appr_Taylor"
   ]
  },
  {
   "cell_type": "code",
   "execution_count": 38,
   "metadata": {},
   "outputs": [
    {
     "name": "stdout",
     "output_type": "stream",
     "text": [
      "min error rate: tensor(-0.0043, device='cuda:0')\n",
      "max error rate: tensor(0.0060, device='cuda:0')\n",
      "avg error rate: tensor(0.0007, device='cuda:0')\n",
      "rms error rate: tensor(0.0018, device='cuda:0')\n"
     ]
    }
   ],
   "source": [
    "a = torch.arange(0, 1, 0.001).cuda()\n",
    "a_int = a.floor()\n",
    "\n",
    "precise = torch.exp(a)\n",
    "\n",
    "point = torch.tensor(0.)\n",
    "scale = torch.exp(a_int + point)\n",
    "const = torch.tensor(1.0)\n",
    "input = a - point\n",
    "\n",
    "coeff = [1/1, 1/2, 1/4, 1/8, 1/16, 1/32]\n",
    "power = [1  ,   2,   3,   4,    5,    5]\n",
    "sign  = [1  ,   1,   1,  -1,    1,    1]\n",
    "\n",
    "approximate = Appr_Taylor(scale, \n",
    "                          const, \n",
    "                          input, \n",
    "                          coeff, \n",
    "                          power, \n",
    "                          sign, \n",
    "                          fxp=True, \n",
    "                          intwidth=7, \n",
    "                          fracwidth=8, \n",
    "                          rounding=\"round\", \n",
    "                          keepwidth=True)\n",
    "\n",
    "error = (approximate - precise) / precise\n",
    "print(\"min error rate:\", error.min())\n",
    "print(\"max error rate:\", error.max())\n",
    "print(\"avg error rate:\", error.mean())\n",
    "print(\"rms error rate:\", error.mul(error).mean().sqrt())"
   ]
  },
  {
   "cell_type": "markdown",
   "metadata": {},
   "source": [
    "# exp parameter generation"
   ]
  },
  {
   "cell_type": "markdown",
   "metadata": {},
   "source": [
    "1. exp_data_gen test"
   ]
  },
  {
   "cell_type": "code",
   "execution_count": 5,
   "metadata": {},
   "outputs": [
    {
     "data": {
      "image/png": "[encoded data removed]",
      "text/plain": [
       "<Figure size 432x288 with 1 Axes>"
      ]
     },
     "metadata": {
      "needs_background": "light"
     },
     "output_type": "display_data"
    }
   ],
   "source": [
    "data = exp_data_gen(\"left\")\n",
    "fig = plt.hist(data.cpu().numpy(), bins='auto')  # arguments are passed to np.histogram\n",
    "plt.title(\"Histogram for data\")\n",
    "plt.show()"
   ]
  },
  {
   "cell_type": "markdown",
   "metadata": {},
   "source": [
    "2. exp_param_gen test"
   ]
  },
  {
   "cell_type": "code",
   "execution_count": 2,
   "metadata": {},
   "outputs": [
    {
     "name": "stdout",
     "output_type": "stream",
     "text": [
      "Approximate Taylor series at point: 0.0\n",
      "final coeff [1.0, 0.5, 0.25, 0.03125, 0.0078125]\n",
      "final power [1, 2, 3, 3, 4]\n",
      "final sign [1, 1, 1, -1, 1]\n",
      "min error: ['-0.26567', '-0.08461', '-0.00768', '-0.00768', '-0.00768']\n",
      "max error: ['-0.00001', '-0.00001', '0.01154', '0.00410', '0.00442']\n",
      "avg error: ['-0.10447', '-0.02626', '0.00118', '-0.00151', '-0.00123']\n",
      "rms error: ['0.13226', '0.03525', '0.00453', '0.00256', '0.00250']\n",
      "\n",
      "Approximate Taylor series at point: 0.125\n",
      "final coeff [1.0, 0.5, 0.25, 0.03125, 0.0078125]\n",
      "final power [1, 2, 3, 3, 4]\n",
      "final sign [1, 1, 1, -1, 1]\n",
      "min error: ['-0.22024', '-0.06396', '-0.00824', '-0.00807', '-0.00807']\n",
      "max error: ['-0.00030', '0.00005', '0.00939', '0.00379', '0.00448']\n",
      "avg error: ['-0.07509', '-0.01802', '-0.00051', '-0.00205', '-0.00192']\n",
      "rms error: ['0.10115', '0.02472', '0.00389', '0.00298', '0.00297']\n",
      "\n",
      "Approximate Taylor series at point: 0.25\n",
      "final coeff [1.0, 0.5, 0.25, 0.03125, 0.03125, 0.015625]\n",
      "final power [1, 2, 3, 3, 4, 4]\n",
      "final sign [1, 1, 1, -1, 1, -1]\n",
      "min error: ['-0.17698', '-0.04810', '-0.01140', '-0.00993', '-0.00993', '-0.00993']\n",
      "max error: ['-0.00217', '0.00097', '0.00616', '0.00223', '0.00489', '0.00489']\n",
      "avg error: ['-0.05520', '-0.01368', '-0.00369', '-0.00385', '-0.00327', '-0.00330']\n",
      "rms error: ['0.07526', '0.01777', '0.00491', '0.00446', '0.00432', '0.00431']\n",
      "\n",
      "Approximate Taylor series at point: 0.375\n",
      "final coeff [1.0, 0.5, 0.25, 0.03125, 0.0625]\n",
      "final power [1, 2, 3, 3, 4]\n",
      "final sign [1, 1, 1, -1, 1]\n",
      "min error: ['-0.13340', '-0.03189', '-0.01618', '-0.01052', '-0.00907']\n",
      "max error: ['-0.00129', '0.01037', '0.00470', '0.00309', '0.00509']\n",
      "avg error: ['-0.04335', '-0.00805', '-0.00428', '-0.00329', '-0.00236']\n",
      "rms error: ['0.05655', '0.01113', '0.00530', '0.00397', '0.00368']\n",
      "\n",
      "Approximate Taylor series at point: 0.5\n",
      "final coeff [1.0, 0.5, 0.125, 0.015625, 0.0625]\n",
      "final power [1, 2, 3, 4, 5]\n",
      "final sign [1, 1, 1, 1, 1]\n",
      "min error: ['-0.17899', '-0.01929', '-0.01218', '-0.01218', '-0.01218']\n",
      "max error: ['-0.00017', '0.03026', '0.00711', '0.00947', '0.00711']\n",
      "avg error: ['-0.04509', '-0.00215', '-0.00377', '-0.00314', '-0.00368']\n",
      "rms error: ['0.06208', '0.00882', '0.00466', '0.00459', '0.00459']\n",
      "\n",
      "Approximate Taylor series at point: 0.625\n",
      "final coeff [1.0, 0.5, 0.125]\n",
      "final power [1, 2, 3]\n",
      "final sign [1, 1, 1]\n",
      "min error: ['-0.30253', '-0.01337', '-0.00989']\n",
      "max error: ['-0.00057', '0.06487', '0.01005']\n",
      "avg error: ['-0.06600', '0.00444', '-0.00279']\n",
      "rms error: ['0.10192', '0.01699', '0.00441']\n",
      "\n",
      "Approximate Taylor series at point: 0.75\n",
      "final coeff [1.0, 0.5, 0.125, 0.015625, 0.015625]\n",
      "final power [1, 2, 3, 4, 5]\n",
      "final sign [1, 1, 1, -1, -1]\n",
      "min error: ['-0.47374', '-0.01021', '-0.00998', '-0.01227', '-0.01067']\n",
      "max error: ['-0.00177', '0.12267', '0.01219', '0.00586', '0.01140']\n",
      "avg error: ['-0.10998', '0.01528', '-0.00227', '-0.00454', '-0.00400']\n",
      "rms error: ['0.17056', '0.03538', '0.00527', '0.00528', '0.00510']\n",
      "\n",
      "Approximate Taylor series at point: 0.875\n",
      "final coeff [1.0, 0.5, 0.125, 0.015625, 0.0078125]\n",
      "final power [1, 2, 3, 4, 5]\n",
      "final sign [1, 1, 1, -1, -1]\n",
      "min error: ['-0.70136', '-0.00797', '-0.00825', '-0.01846', '-0.01073']\n",
      "max error: ['-0.00019', '0.21795', '0.02407', '0.00746', '0.00931']\n",
      "avg error: ['-0.17951', '0.03807', '0.00155', '-0.00300', '-0.00248']\n",
      "rms error: ['0.26812', '0.06911', '0.00668', '0.00437', '0.00385']\n",
      "\n"
     ]
    }
   ],
   "source": [
    "exp_param_gen(distribution=\"uniform\", intwidth=7, fracwidth=8, rounding=\"floor\", keepwidth=True, valid=True)"
   ]
  },
  {
   "cell_type": "markdown",
   "metadata": {},
   "source": [
    "# div paprameter generation"
   ]
  },
  {
   "cell_type": "markdown",
   "metadata": {},
   "source": [
    "1. div_data_gen test"
   ]
  },
  {
   "cell_type": "code",
   "execution_count": 16,
   "metadata": {},
   "outputs": [
    {
     "data": {
      "image/png": "[encoded data removed]",
      "text/plain": [
       "<Figure size 432x288 with 1 Axes>"
      ]
     },
     "metadata": {
      "needs_background": "light"
     },
     "output_type": "display_data"
    }
   ],
   "source": [
    "data = div_data_gen(\"uniform\")\n",
    "fig = plt.hist(data.cpu().numpy(), bins='auto')  # arguments are passed to np.histogram\n",
    "plt.title(\"Histogram for data\")\n",
    "plt.show()"
   ]
  },
  {
   "cell_type": "markdown",
   "metadata": {},
   "source": [
    "2. div_param_gen test"
   ]
  },
  {
   "cell_type": "code",
   "execution_count": 17,
   "metadata": {},
   "outputs": [
    {
     "name": "stdout",
     "output_type": "stream",
     "text": [
      "Approximate Taylor series at point: 1.0\n",
      "final coeff [1.0, 1.0, 1.0, 1.0, 1.0, 1.0, 1.0]\n",
      "final power [1, 2, 3, 4, 5, 6, 7]\n",
      "final sign [-1, 1, -1, 1, -1, 1, -1]\n",
      "min error: ['-0.25000', '-0.12500', '-0.06250', '-0.03125', '-0.01579', '-0.00852', '-0.00505']\n",
      "max error: ['0.00389', '0.00390', '0.00390', '0.00455', '0.00523', '0.00616', '0.00621']\n",
      "avg error: ['-0.06891', '-0.02495', '-0.00952', '-0.00320', '-0.00099', '0.00030', '0.00069']\n",
      "rms error: ['0.10054', '0.04243', '0.01862', '0.00798', '0.00370', '0.00223', '0.00201']\n",
      "\n"
     ]
    }
   ],
   "source": [
    "div_param_gen(distribution=\"right\", intwidth=7, fracwidth=8, rounding=\"floor\", keepwidth=True, valid=True)"
   ]
  },
  {
   "cell_type": "markdown",
   "metadata": {},
   "source": [
    "# log parameter generation"
   ]
  },
  {
   "cell_type": "markdown",
   "metadata": {},
   "source": [
    "1. log_data_gen test"
   ]
  },
  {
   "cell_type": "code",
   "execution_count": 2,
   "metadata": {},
   "outputs": [
    {
     "data": {
      "image/png": "[encoded data removed]",
      "text/plain": [
       "<Figure size 432x288 with 1 Axes>"
      ]
     },
     "metadata": {
      "needs_background": "light"
     },
     "output_type": "display_data"
    }
   ],
   "source": [
    "data = log_data_gen(\"uniform\")\n",
    "fig = plt.hist(data.cpu().numpy(), bins='auto')  # arguments are passed to np.histogram\n",
    "plt.title(\"Histogram for data\")\n",
    "plt.show()"
   ]
  },
  {
   "cell_type": "markdown",
   "metadata": {},
   "source": [
    "2. log_param_gen test"
   ]
  },
  {
   "cell_type": "code",
   "execution_count": 3,
   "metadata": {},
   "outputs": [
    {
     "name": "stdout",
     "output_type": "stream",
     "text": [
      "tensor([-0.2922, -0.2112, -0.0194,  ..., -0.1752, -0.6778, -0.0743])\n",
      "tensor([1.]) tensor([0.])\n",
      "Approximate Taylor series at point: 1.0\n",
      "final coeff [1.0, 0.5, 0.25, 0.25, 0.25, 0.125, 0.015625]\n",
      "final power [1, 2, 3, 4, 5, 6, 6]\n",
      "final sign [1, -1, 1, -1, 1, -1, -1]\n",
      "min error: ['-0.27865', '-0.09831', '-0.05322', '-0.03068', '-0.02015', '-0.01639', '-0.01639']\n",
      "max error: ['681.66473', '1364.32947', '1364.32947', '1364.32947', '1364.32947', '1364.32947', '1364.32947']\n",
      "avg error: ['-0.07589', '0.12576', '0.14394', '0.15212', '0.15426', '0.15576', '0.15576']\n",
      "rms error: ['3.32324', '6.65636', '6.65628', '6.65626', '6.65626', '6.65626', '6.65626']\n",
      "\n"
     ]
    }
   ],
   "source": [
    "log_param_gen(distribution=\"left\", intwidth=7, fracwidth=8, rounding=\"floor\", keepwidth=True, valid=False)"
   ]
  },
  {
   "cell_type": "code",
   "execution_count": 36,
   "metadata": {},
   "outputs": [
    {
     "data": {
      "text/plain": [
       "tensor([-0.0252])"
      ]
     },
     "execution_count": 36,
     "metadata": {},
     "output_type": "execute_result"
    }
   ],
   "source": [
    "x = torch.tensor([0.56])\n",
    "((x-1) - (x-1)**2 / 2 + (x-1)**3 / 3 - (x-1)**4 / 4 + (x-1)**5 / 5 - (x-1)**6 / 6 - (x-1)**7 / 7  + (x-1)**8 / 8) / torch.log(x) - 1"
   ]
  },
  {
   "cell_type": "code",
   "execution_count": 10,
   "metadata": {},
   "outputs": [],
   "source": [
    "a = a+1"
   ]
  },
  {
   "cell_type": "code",
   "execution_count": 3,
   "metadata": {},
   "outputs": [
    {
     "data": {
      "text/plain": [
       "0.00390625"
      ]
     },
     "execution_count": 3,
     "metadata": {},
     "output_type": "execute_result"
    }
   ],
   "source": [
    "1/256"
   ]
  },
  {
   "cell_type": "code",
   "execution_count": 37,
   "metadata": {},
   "outputs": [
    {
     "name": "stdout",
     "output_type": "stream",
     "text": [
      "tensor([-1.4593])\n"
     ]
    }
   ],
   "source": [
    "coeff = [1/1, 1/2, 1/4, 1/4, 1/4, 1/8]\n",
    "power = [  1,   2,   3,   4,   5,   6]\n",
    "sign  = [  1,  -1,   1,  -1,   1,  -1]\n",
    "scale = torch.Tensor([1.0])\n",
    "const = torch.Tensor([1.0])\n",
    "var   = torch.Tensor([0.5]) - 1.\n",
    "appr_result = Appr_Taylor(scale,\n",
    "                          const, \n",
    "                          var, \n",
    "                          coeff, \n",
    "                          power, \n",
    "                          sign, \n",
    "                          fxp=False, \n",
    "                          intwidth=7, \n",
    "                          fracwidth=8, \n",
    "                          rounding=\"round\", \n",
    "                          keepwidth=True)\n",
    "ref_result = torch.log(torch.Tensor([0.5]))\n",
    "print((appr_result - ref_result) / ref_result)"
   ]
  },
  {
   "cell_type": "code",
   "execution_count": null,
   "metadata": {},
   "outputs": [],
   "source": []
  }
 ],
 "metadata": {
  "kernelspec": {
   "display_name": "Python 3",
   "language": "python",
   "name": "python3"
  },
  "language_info": {
   "codemirror_mode": {
    "name": "ipython",
    "version": 3
   },
   "file_extension": ".py",
   "mimetype": "text/x-python",
   "name": "python",
   "nbconvert_exporter": "python",
   "pygments_lexer": "ipython3",
   "version": "3.7.7"
  }
 },
 "nbformat": 4,
 "nbformat_minor": 2
}
