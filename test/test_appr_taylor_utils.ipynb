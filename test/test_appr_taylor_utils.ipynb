{
 "cells": [
  {
   "cell_type": "code",
   "execution_count": 8,
   "metadata": {},
   "outputs": [
    {
     "name": "stdout",
     "output_type": "stream",
     "text": [
      "The autoreload extension is already loaded. To reload it, use:\n",
      "  %reload_ext autoreload\n"
     ]
    }
   ],
   "source": [
    "%load_ext autoreload\n",
    "%autoreload 2"
   ]
  },
  {
   "cell_type": "code",
   "execution_count": 9,
   "metadata": {},
   "outputs": [],
   "source": [
    "import torch\n",
    "from RAVEN.pe.appr_taylor_utils import *"
   ]
  },
  {
   "cell_type": "markdown",
   "metadata": {},
   "source": [
    "# Test for RoundingNoGrad"
   ]
  },
  {
   "cell_type": "code",
   "execution_count": 23,
   "metadata": {},
   "outputs": [
    {
     "name": "stdout",
     "output_type": "stream",
     "text": [
      "ceil : tensor([1., 1., -0., -0.])\n",
      "floor: tensor([ 0.,  0., -1., -1.])\n",
      "round: tensor([ 1.,  0., -1., -0.])\n"
     ]
    }
   ],
   "source": [
    "input = torch.tensor([0.51, 0.49, -0.51, -0.49])\n",
    "print(\"ceil :\", RoundingNoGrad.apply(input, \"ceil\"))\n",
    "print(\"floor:\", RoundingNoGrad.apply(input, \"floor\"))\n",
    "print(\"round:\", RoundingNoGrad.apply(input, \"round\"))"
   ]
  },
  {
   "cell_type": "markdown",
   "metadata": {},
   "source": [
    "# Test for Trunc"
   ]
  },
  {
   "cell_type": "code",
   "execution_count": 27,
   "metadata": {},
   "outputs": [
    {
     "name": "stdout",
     "output_type": "stream",
     "text": [
      "tensor([ 1.0000,  0.7500, -0.7500, -0.5000,  1.0000,  0.7500, -0.7500, -0.5000])\n",
      "tensor([ 0.7500,  0.5000, -1.0000, -0.7500,  0.7500,  0.5000, -1.0000, -0.7500])\n",
      "tensor([ 0.7500,  0.7500, -0.7500, -0.7500,  0.7500,  0.7500, -0.7500, -0.7500])\n"
     ]
    }
   ],
   "source": [
    "input = torch.tensor([0.751, 0.749, -0.751, -0.749, 0.759, 0.741, -0.759, -0.741])\n",
    "print(Trunc(input, intwidth=1, fracwidth=2, rounding=\"ceil\"))\n",
    "print(Trunc(input, intwidth=1, fracwidth=2, rounding=\"floor\"))\n",
    "print(Trunc(input, intwidth=1, fracwidth=2, rounding=\"round\"))"
   ]
  },
  {
   "cell_type": "markdown",
   "metadata": {},
   "source": [
    "# Test for Appr_Taylor"
   ]
  },
  {
   "cell_type": "code",
   "execution_count": 43,
   "metadata": {},
   "outputs": [
    {
     "name": "stdout",
     "output_type": "stream",
     "text": [
      "min error rate: tensor(-0.0043)\n",
      "max error rate: tensor(0.0060)\n",
      "avg error rate: tensor(0.0007)\n",
      "rms error rate: tensor(0.0018)\n"
     ]
    }
   ],
   "source": [
    "a = torch.arange(0, 1, 0.001)\n",
    "a_int = a.floor()\n",
    "\n",
    "precise = torch.exp(a)\n",
    "\n",
    "point = torch.tensor(0.)\n",
    "scale = torch.exp(a_int + point)\n",
    "const = torch.tensor(1.0)\n",
    "input = a - point\n",
    "\n",
    "coeff = [1/1, 1/2, 1/4, 1/8, 1/16, 1/32]\n",
    "power = [1  ,   2,   3,   4,    5,    5]\n",
    "sign  = [1  ,   1,   1,  -1,    1,    1]\n",
    "\n",
    "approximate = Appr_Taylor(scale, \n",
    "                          const, \n",
    "                          input, \n",
    "                          coeff, \n",
    "                          power, \n",
    "                          sign, \n",
    "                          fxp=True, \n",
    "                          intwidth=7, \n",
    "                          fracwidth=8, \n",
    "                          rounding=\"round\", \n",
    "                          keepwidth=True)\n",
    "\n",
    "error = (approximate - precise) / precise\n",
    "print(\"min error rate:\", error.min())\n",
    "print(\"max error rate:\", error.max())\n",
    "print(\"avg error rate:\", error.mean())\n",
    "print(\"rms error rate:\", error.mul(error).mean().sqrt())"
   ]
  },
  {
   "cell_type": "code",
   "execution_count": null,
   "metadata": {},
   "outputs": [],
   "source": []
  }
 ],
 "metadata": {
  "kernelspec": {
   "display_name": "Python 3",
   "language": "python",
   "name": "python3"
  },
  "language_info": {
   "codemirror_mode": {
    "name": "ipython",
    "version": 3
   },
   "file_extension": ".py",
   "mimetype": "text/x-python",
   "name": "python",
   "nbconvert_exporter": "python",
   "pygments_lexer": "ipython3",
   "version": "3.6.8"
  }
 },
 "nbformat": 4,
 "nbformat_minor": 2
}
