{
 "cells": [
  {
   "cell_type": "code",
   "execution_count": 1,
   "metadata": {},
   "outputs": [],
   "source": [
    "%load_ext autoreload\n",
    "%autoreload 2"
   ]
  },
  {
   "cell_type": "code",
   "execution_count": 2,
   "metadata": {},
   "outputs": [],
   "source": [
    "import torch\n",
    "from RAVEN.pe.appr_taylor_utils import *\n",
    "import matplotlib.pyplot as plt"
   ]
  },
  {
   "cell_type": "markdown",
   "metadata": {},
   "source": [
    "# Test for RoundingNoGrad"
   ]
  },
  {
   "cell_type": "code",
   "execution_count": 23,
   "metadata": {},
   "outputs": [
    {
     "name": "stdout",
     "output_type": "stream",
     "text": [
      "ceil : tensor([1., 1., -0., -0.])\n",
      "floor: tensor([ 0.,  0., -1., -1.])\n",
      "round: tensor([ 1.,  0., -1., -0.])\n"
     ]
    }
   ],
   "source": [
    "input = torch.tensor([0.51, 0.49, -0.51, -0.49])\n",
    "print(\"ceil :\", RoundingNoGrad.apply(input, \"ceil\"))\n",
    "print(\"floor:\", RoundingNoGrad.apply(input, \"floor\"))\n",
    "print(\"round:\", RoundingNoGrad.apply(input, \"round\"))"
   ]
  },
  {
   "cell_type": "markdown",
   "metadata": {},
   "source": [
    "# Test for Trunc"
   ]
  },
  {
   "cell_type": "code",
   "execution_count": 46,
   "metadata": {},
   "outputs": [
    {
     "name": "stdout",
     "output_type": "stream",
     "text": [
      "tensor([ 1.0000,  0.7500, -0.7500, -0.5000,  1.0000,  0.7500, -0.7500, -0.5000])\n",
      "tensor([ 0.7500,  0.5000, -1.0000, -0.7500,  0.7500,  0.5000, -1.0000, -0.7500])\n",
      "tensor([ 0.7500,  0.7500, -0.7500, -0.7500,  0.7500,  0.7500, -0.7500, -0.7500])\n"
     ]
    }
   ],
   "source": [
    "input = torch.tensor([0.751, 0.749, -0.751, -0.749, 0.759, 0.741, -0.759, -0.741])\n",
    "print(Trunc(input, intwidth=1, fracwidth=2, rounding=\"ceil\"))\n",
    "print(Trunc(input, intwidth=1, fracwidth=2, rounding=\"floor\"))\n",
    "print(Trunc(input, intwidth=1, fracwidth=2, rounding=\"round\"))"
   ]
  },
  {
   "cell_type": "markdown",
   "metadata": {},
   "source": [
    "# Test for Appr_Taylor"
   ]
  },
  {
   "cell_type": "code",
   "execution_count": 3,
   "metadata": {},
   "outputs": [
    {
     "name": "stdout",
     "output_type": "stream",
     "text": [
      "min error rate: tensor(-0.0043, device='cuda:0')\n",
      "max error rate: tensor(0.0060, device='cuda:0')\n",
      "avg error rate: tensor(0.0007, device='cuda:0')\n",
      "rms error rate: tensor(0.0018, device='cuda:0')\n"
     ]
    }
   ],
   "source": [
    "a = torch.arange(0, 1, 0.001).cuda()\n",
    "a_int = a.floor()\n",
    "\n",
    "precise = torch.exp(a)\n",
    "\n",
    "point = torch.tensor(0.)\n",
    "scale = torch.exp(a_int + point)\n",
    "const = torch.tensor(1.0)\n",
    "input = a - point\n",
    "\n",
    "coeff = [1/1, 1/2, 1/4, 1/8, 1/16, 1/32]\n",
    "power = [1  ,   2,   3,   4,    5,    5]\n",
    "sign  = [1  ,   1,   1,  -1,    1,    1]\n",
    "\n",
    "approximate = Appr_Taylor(scale, \n",
    "                          const, \n",
    "                          input, \n",
    "                          coeff, \n",
    "                          power, \n",
    "                          sign, \n",
    "                          fxp=True, \n",
    "                          intwidth=7, \n",
    "                          fracwidth=8, \n",
    "                          rounding=\"round\", \n",
    "                          keepwidth=True)\n",
    "\n",
    "error = (approximate - precise) / precise\n",
    "print(\"min error rate:\", error.min())\n",
    "print(\"max error rate:\", error.max())\n",
    "print(\"avg error rate:\", error.mean())\n",
    "print(\"rms error rate:\", error.mul(error).mean().sqrt())"
   ]
  },
  {
   "cell_type": "markdown",
   "metadata": {},
   "source": [
    "# exp parameter generate"
   ]
  },
  {
   "cell_type": "markdown",
   "metadata": {},
   "source": [
    "1. exp_data_gen test"
   ]
  },
  {
   "cell_type": "code",
   "execution_count": 266,
   "metadata": {},
   "outputs": [
    {
     "data": {
      "image/png": "[encoded data removed]",
      "text/plain": [
       "<Figure size 432x288 with 1 Axes>"
      ]
     },
     "metadata": {
      "needs_background": "light"
     },
     "output_type": "display_data"
    }
   ],
   "source": [
    "data = exp_data_gen(\"left\")\n",
    "fig = plt.hist(data.cpu().numpy(), bins='auto')  # arguments are passed to np.histogram\n",
    "plt.title(\"Histogram for data\")\n",
    "plt.show()"
   ]
  },
  {
   "cell_type": "markdown",
   "metadata": {},
   "source": [
    "2. exp_param_gen test"
   ]
  },
  {
   "cell_type": "code",
   "execution_count": 3,
   "metadata": {},
   "outputs": [
    {
     "name": "stdout",
     "output_type": "stream",
     "text": [
      "Approximate Taylor series at point: 0.0\n",
      "final coeff [1.0, 0.5, 0.25, 0.03125, 0.0078125, 0.001953125]\n",
      "final power [1, 2, 3, 3, 3, 3]\n",
      "final sign [1, 1, 1, -1, -1, -1]\n",
      "min error: ['-0.08460', '-0.00023', '-0.00023', '-0.00289', '-0.00361', '-0.00343']\n",
      "max error: ['-0.00000', '0.01191', '0.00341', '0.00229', '0.00203', '0.00203']\n",
      "avg error: ['-0.03053', '0.00600', '0.00181', '0.00077', '0.00052', '0.00056']\n",
      "rms error: ['0.03858', '0.00729', '0.00213', '0.00130', '0.00125', '0.00123']\n",
      "\n",
      "Approximate Taylor series at point: 0.125\n",
      "final coeff [1.0, 0.5, 0.25, 0.0625, 0.0078125, 0.00390625]\n",
      "final power [1, 2, 3, 4, 5, 5]\n",
      "final sign [1, 1, 1, -1, 1, -1]\n",
      "min error: ['-0.06395', '-0.00051', '-0.00453', '-0.00280', '-0.00361', '-0.00341']\n",
      "max error: ['0.00006', '0.01108', '0.00242', '0.00267', '0.00254', '0.00254']\n",
      "avg error: ['-0.02092', '0.00434', '0.00062', '0.00095', '0.00079', '0.00082']\n",
      "rms error: ['0.02700', '0.00571', '0.00152', '0.00151', '0.00149', '0.00148']\n",
      "\n",
      "Approximate Taylor series at point: 0.25\n",
      "final coeff [1.0, 0.5, 0.25, 0.0625, 0.015625, 0.001953125]\n",
      "final power [1, 2, 3, 3, 4, 5]\n",
      "final sign [1, 1, 1, -1, 1, 1]\n",
      "min error: ['-0.04809', '-0.00218', '-0.00340', '-0.00109', '-0.00097', '-0.00091']\n",
      "max error: ['0.00098', '0.00943', '0.00039', '0.00064', '0.00067', '0.00067']\n",
      "avg error: ['-0.01543', '0.00277', '-0.00045', '0.00003', '0.00006', '0.00008']\n",
      "rms error: ['0.01926', '0.00413', '0.00088', '0.00030', '0.00029', '0.00028']\n",
      "\n",
      "Approximate Taylor series at point: 0.375\n",
      "final coeff [1.0, 0.5, 0.125, 0.0625, 0.0078125, 0.0009765625]\n",
      "final power [1, 2, 3, 3, 4, 4]\n",
      "final sign [1, 1, 1, 1, 1, 1]\n",
      "min error: ['-0.03190', '-0.00943', '-0.00295', '-0.00263', '-0.00263', '-0.00263']\n",
      "max error: ['0.01038', '0.00242', '0.00054', '0.00062', '0.00062', '0.00062']\n",
      "avg error: ['-0.00906', '-0.00155', '-0.00017', '-0.00006', '-0.00005', '-0.00005']\n",
      "rms error: ['0.01197', '0.00304', '0.00059', '0.00053', '0.00053', '0.00053']\n",
      "\n",
      "Approximate Taylor series at point: 0.5\n",
      "final coeff [1.0, 0.5, 0.125, 0.03125, 0.03125, 0.03125]\n",
      "final power [1, 2, 3, 3, 4, 5]\n",
      "final sign [1, 1, 1, 1, 1, 1]\n",
      "min error: ['-0.01928', '-0.00508', '-0.00273', '-0.00162', '-0.00109', '-0.00142']\n",
      "max error: ['0.03027', '0.00496', '0.00042', '0.00180', '0.00074', '0.00066']\n",
      "avg error: ['-0.00303', '-0.00025', '-0.00048', '-0.00008', '-0.00013', '-0.00015']\n",
      "rms error: ['0.00896', '0.00186', '0.00079', '0.00054', '0.00030', '0.00029']\n",
      "\n",
      "Approximate Taylor series at point: 0.625\n",
      "final coeff [1.0, 0.5, 0.125, 0.015625]\n",
      "final power [1, 2, 3, 3]\n",
      "final sign [1, 1, 1, 1]\n",
      "min error: ['-0.01338', '-0.00234', '-0.00184', '-0.00167']\n",
      "max error: ['0.06488', '0.00875', '0.00216', '0.00134']\n",
      "avg error: ['0.00272', '0.00087', '0.00013', '-0.00006']\n",
      "rms error: ['0.01611', '0.00249', '0.00075', '0.00049']\n",
      "\n",
      "Approximate Taylor series at point: 0.75\n",
      "final coeff [1.0, 0.5, 0.125, 0.015625, 0.001953125, 0.0009765625]\n",
      "final power [1, 2, 3, 3, 3, 3]\n",
      "final sign [1, 1, 1, 1, 1, -1]\n",
      "min error: ['-0.01021', '-0.00085', '-0.00146', '-0.00300', '-0.00197', '-0.00146']\n",
      "max error: ['0.12268', '0.01344', '0.00218', '0.00175', '0.00175', '0.00175']\n",
      "avg error: ['0.01139', '0.00213', '0.00031', '0.00009', '0.00020', '0.00023']\n",
      "rms error: ['0.03293', '0.00422', '0.00067', '0.00062', '0.00054', '0.00052']\n",
      "\n",
      "Approximate Taylor series at point: 0.875\n",
      "final coeff [1.0, 0.5, 0.125, 0.015625, 0.00390625, 0.0009765625]\n",
      "final power [1, 2, 3, 3, 4, 4]\n",
      "final sign [1, 1, 1, 1, 1, -1]\n",
      "min error: ['-0.00797', '-0.00029', '-0.00847', '-0.00286', '-0.00402', '-0.00344']\n",
      "max error: ['0.21796', '0.01789', '0.00219', '0.00320', '0.00299', '0.00299']\n",
      "avg error: ['0.03013', '0.00376', '-0.00000', '0.00068', '0.00051', '0.00056']\n",
      "rms error: ['0.06354', '0.00642', '0.00163', '0.00118', '0.00115', '0.00110']\n",
      "\n"
     ]
    }
   ],
   "source": [
    "exp_param_gen(distribution=\"right\", intwidth=7, fracwidth=12, rounding=\"round\", keepwidth=True, valid=True)"
   ]
  },
  {
   "cell_type": "code",
   "execution_count": null,
   "metadata": {},
   "outputs": [],
   "source": []
  }
 ],
 "metadata": {
  "kernelspec": {
   "display_name": "Python 3",
   "language": "python",
   "name": "python3"
  },
  "language_info": {
   "codemirror_mode": {
    "name": "ipython",
    "version": 3
   },
   "file_extension": ".py",
   "mimetype": "text/x-python",
   "name": "python",
   "nbconvert_exporter": "python",
   "pygments_lexer": "ipython3",
   "version": "3.6.8"
  }
 },
 "nbformat": 4,
 "nbformat_minor": 2
}
