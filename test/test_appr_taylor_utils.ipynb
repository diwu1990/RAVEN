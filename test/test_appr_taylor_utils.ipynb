{
 "cells": [
  {
   "cell_type": "code",
   "execution_count": 1,
   "metadata": {},
   "outputs": [],
   "source": [
    "%load_ext autoreload\n",
    "%autoreload 2"
   ]
  },
  {
   "cell_type": "code",
   "execution_count": 1,
   "metadata": {},
   "outputs": [],
   "source": [
    "import torch\n",
    "from RAVEN.pe.appr_taylor_utils import *\n",
    "import matplotlib.pyplot as plt"
   ]
  },
  {
   "cell_type": "markdown",
   "metadata": {},
   "source": [
    "# Test for RoundingNoGrad"
   ]
  },
  {
   "cell_type": "code",
   "execution_count": 23,
   "metadata": {},
   "outputs": [
    {
     "name": "stdout",
     "output_type": "stream",
     "text": [
      "ceil : tensor([1., 1., -0., -0.])\n",
      "floor: tensor([ 0.,  0., -1., -1.])\n",
      "round: tensor([ 1.,  0., -1., -0.])\n"
     ]
    }
   ],
   "source": [
    "input = torch.tensor([0.51, 0.49, -0.51, -0.49])\n",
    "print(\"ceil :\", RoundingNoGrad.apply(input, \"ceil\"))\n",
    "print(\"floor:\", RoundingNoGrad.apply(input, \"floor\"))\n",
    "print(\"round:\", RoundingNoGrad.apply(input, \"round\"))"
   ]
  },
  {
   "cell_type": "markdown",
   "metadata": {},
   "source": [
    "# Test for Trunc"
   ]
  },
  {
   "cell_type": "code",
   "execution_count": 46,
   "metadata": {},
   "outputs": [
    {
     "name": "stdout",
     "output_type": "stream",
     "text": [
      "tensor([ 1.0000,  0.7500, -0.7500, -0.5000,  1.0000,  0.7500, -0.7500, -0.5000])\n",
      "tensor([ 0.7500,  0.5000, -1.0000, -0.7500,  0.7500,  0.5000, -1.0000, -0.7500])\n",
      "tensor([ 0.7500,  0.7500, -0.7500, -0.7500,  0.7500,  0.7500, -0.7500, -0.7500])\n"
     ]
    }
   ],
   "source": [
    "input = torch.tensor([0.751, 0.749, -0.751, -0.749, 0.759, 0.741, -0.759, -0.741])\n",
    "print(Trunc(input, intwidth=1, fracwidth=2, rounding=\"ceil\"))\n",
    "print(Trunc(input, intwidth=1, fracwidth=2, rounding=\"floor\"))\n",
    "print(Trunc(input, intwidth=1, fracwidth=2, rounding=\"round\"))"
   ]
  },
  {
   "cell_type": "markdown",
   "metadata": {},
   "source": [
    "# Test for Appr_Taylor"
   ]
  },
  {
   "cell_type": "code",
   "execution_count": 3,
   "metadata": {},
   "outputs": [
    {
     "name": "stdout",
     "output_type": "stream",
     "text": [
      "min error rate: tensor(-0.0043, device='cuda:0')\n",
      "max error rate: tensor(0.0060, device='cuda:0')\n",
      "avg error rate: tensor(0.0007, device='cuda:0')\n",
      "rms error rate: tensor(0.0018, device='cuda:0')\n"
     ]
    }
   ],
   "source": [
    "a = torch.arange(0, 1, 0.001).cuda()\n",
    "a_int = a.floor()\n",
    "\n",
    "precise = torch.exp(a)\n",
    "\n",
    "point = torch.tensor(0.)\n",
    "scale = torch.exp(a_int + point)\n",
    "const = torch.tensor(1.0)\n",
    "input = a - point\n",
    "\n",
    "coeff = [1/1, 1/2, 1/4, 1/8, 1/16, 1/32]\n",
    "power = [1  ,   2,   3,   4,    5,    5]\n",
    "sign  = [1  ,   1,   1,  -1,    1,    1]\n",
    "\n",
    "approximate = Appr_Taylor(scale, \n",
    "                          const, \n",
    "                          input, \n",
    "                          coeff, \n",
    "                          power, \n",
    "                          sign, \n",
    "                          fxp=True, \n",
    "                          intwidth=7, \n",
    "                          fracwidth=8, \n",
    "                          rounding=\"round\", \n",
    "                          keepwidth=True)\n",
    "\n",
    "error = (approximate - precise) / precise\n",
    "print(\"min error rate:\", error.min())\n",
    "print(\"max error rate:\", error.max())\n",
    "print(\"avg error rate:\", error.mean())\n",
    "print(\"rms error rate:\", error.mul(error).mean().sqrt())"
   ]
  },
  {
   "cell_type": "markdown",
   "metadata": {},
   "source": [
    "# exp parameter generate"
   ]
  },
  {
   "cell_type": "markdown",
   "metadata": {},
   "source": [
    "1. exp_data_gen test"
   ]
  },
  {
   "cell_type": "code",
   "execution_count": 266,
   "metadata": {},
   "outputs": [
    {
     "data": {
      "image/png": "[encoded data removed]",
      "text/plain": [
       "<Figure size 432x288 with 1 Axes>"
      ]
     },
     "metadata": {
      "needs_background": "light"
     },
     "output_type": "display_data"
    }
   ],
   "source": [
    "data = exp_data_gen(\"left\")\n",
    "fig = plt.hist(data.cpu().numpy(), bins='auto')  # arguments are passed to np.histogram\n",
    "plt.title(\"Histogram for data\")\n",
    "plt.show()"
   ]
  },
  {
   "cell_type": "markdown",
   "metadata": {},
   "source": [
    "2. exp_param_gen test"
   ]
  },
  {
   "cell_type": "code",
   "execution_count": 10,
   "metadata": {},
   "outputs": [
    {
     "name": "stdout",
     "output_type": "stream",
     "text": [
      "Approximate Taylor series at point: 0.0\n",
      "final coeff [1.0, 0.5, 0.25, 0.03125, 0.0078125]\n",
      "final power [1, 2, 3, 3, 3]\n",
      "final sign [1, 1, 1, -1, -1]\n",
      "min error: ['-0.08461', '-0.00378', '-0.00378', '-0.00595', '-0.00450']\n",
      "max error: ['-0.00001', '0.01561', '0.00742', '0.00742', '0.00742']\n",
      "avg error: ['-0.03046', '0.00600', '0.00188', '0.00099', '0.00116']\n",
      "rms error: ['0.03849', '0.00746', '0.00264', '0.00229', '0.00220']\n",
      "\n",
      "Approximate Taylor series at point: 0.125\n",
      "final coeff [1.0, 0.5, 0.25, 0.0625]\n",
      "final power [1, 2, 3, 4]\n",
      "final sign [1, 1, 1, -1]\n",
      "min error: ['-0.06396', '-0.00479', '-0.00708', '-0.00544']\n",
      "max error: ['0.00005', '0.01417', '0.00546', '0.00546']\n",
      "avg error: ['-0.02086', '0.00408', '0.00039', '0.00069']\n",
      "rms error: ['0.02692', '0.00575', '0.00209', '0.00198']\n",
      "\n",
      "Approximate Taylor series at point: 0.25\n",
      "final coeff [1.0, 0.5, 0.25, 0.0625]\n",
      "final power [1, 2, 3, 3]\n",
      "final sign [1, 1, 1, -1]\n",
      "min error: ['-0.04810', '-0.00465', '-0.00548', '-0.00465']\n",
      "max error: ['0.00096', '0.01307', '0.00536', '0.00536']\n",
      "avg error: ['-0.01538', '0.00366', '0.00048', '0.00062']\n",
      "rms error: ['0.01919', '0.00504', '0.00185', '0.00177']\n",
      "\n",
      "Approximate Taylor series at point: 0.375\n",
      "final coeff [1.0, 0.5, 0.25, 0.0625]\n",
      "final power [1, 2, 3, 3]\n",
      "final sign [1, 1, 1, -1]\n",
      "min error: ['-0.03189', '-0.01245', '-0.00864', '-0.00864']\n",
      "max error: ['0.01036', '0.00916', '0.00483', '0.00483']\n",
      "avg error: ['-0.00902', '-0.00017', '-0.00148', '-0.00114']\n",
      "rms error: ['0.01192', '0.00324', '0.00234', '0.00223']\n",
      "\n",
      "Approximate Taylor series at point: 0.5\n",
      "final coeff [1.0, 0.5, 0.125, 0.03125]\n",
      "final power [1, 2, 3, 3]\n",
      "final sign [1, 1, 1, 1]\n",
      "min error: ['-0.01929', '-0.00768', '-0.00948', '-0.00566']\n",
      "max error: ['0.03026', '0.00908', '0.00659', '0.00659']\n",
      "avg error: ['-0.00302', '-0.00048', '-0.00076', '-0.00035']\n",
      "rms error: ['0.00895', '0.00251', '0.00218', '0.00191']\n",
      "\n",
      "Approximate Taylor series at point: 0.625\n",
      "final coeff [1.0, 0.5, 0.125]\n",
      "final power [1, 2, 3]\n",
      "final sign [1, 1, 1]\n",
      "min error: ['-0.01337', '-0.00558', '-0.00713']\n",
      "max error: ['0.06487', '0.01289', '0.00746']\n",
      "avg error: ['0.00273', '0.00026', '-0.00054']\n",
      "rms error: ['0.01613', '0.00295', '0.00208']\n",
      "\n",
      "Approximate Taylor series at point: 0.75\n",
      "final coeff [1.0, 0.5, 0.125, 0.015625]\n",
      "final power [1, 2, 3, 3]\n",
      "final sign [1, 1, 1, 1]\n",
      "min error: ['-0.01021', '-0.00435', '-0.01213', '-0.00748']\n",
      "max error: ['0.12267', '0.01974', '0.00934', '0.00934']\n",
      "avg error: ['0.01139', '0.00205', '0.00036', '0.00059']\n",
      "rms error: ['0.03295', '0.00448', '0.00257', '0.00243']\n",
      "\n",
      "Approximate Taylor series at point: 0.875\n",
      "final coeff [1.0, 0.5, 0.125, 0.015625]\n",
      "final power [1, 2, 3, 4]\n",
      "final sign [1, 1, 1, -1]\n",
      "min error: ['-0.00797', '-0.00465', '-0.01499', '-0.00853']\n",
      "max error: ['0.21794', '0.02856', '0.01574', '0.01574']\n",
      "avg error: ['0.03015', '0.00333', '0.00072', '0.00091']\n",
      "rms error: ['0.06358', '0.00653', '0.00331', '0.00315']\n",
      "\n"
     ]
    }
   ],
   "source": [
    "exp_param_gen(distribution=\"right\", intwidth=7, fracwidth=8, rounding=\"round\", keepwidth=True, valid=True)"
   ]
  },
  {
   "cell_type": "code",
   "execution_count": null,
   "metadata": {},
   "outputs": [],
   "source": []
  }
 ],
 "metadata": {
  "kernelspec": {
   "display_name": "Python 3",
   "language": "python",
   "name": "python3"
  },
  "language_info": {
   "codemirror_mode": {
    "name": "ipython",
    "version": 3
   },
   "file_extension": ".py",
   "mimetype": "text/x-python",
   "name": "python",
   "nbconvert_exporter": "python",
   "pygments_lexer": "ipython3",
   "version": "3.7.3"
  }
 },
 "nbformat": 4,
 "nbformat_minor": 2
}
