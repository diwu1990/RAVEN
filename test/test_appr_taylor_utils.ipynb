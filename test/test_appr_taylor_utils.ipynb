{
 "cells": [
  {
   "cell_type": "code",
   "execution_count": 18,
   "metadata": {},
   "outputs": [
    {
     "name": "stdout",
     "output_type": "stream",
     "text": [
      "The autoreload extension is already loaded. To reload it, use:\n",
      "  %reload_ext autoreload\n"
     ]
    }
   ],
   "source": [
    "%load_ext autoreload\n",
    "%autoreload 2"
   ]
  },
  {
   "cell_type": "code",
   "execution_count": 19,
   "metadata": {},
   "outputs": [
    {
     "ename": "SyntaxError",
     "evalue": "invalid syntax (appr_poly_utils.py, line 15)",
     "output_type": "error",
     "traceback": [
      "Traceback \u001b[0;36m(most recent call last)\u001b[0m:\n",
      "  File \u001b[1;32m\"/Users/wudidaizi/anaconda3/lib/python3.6/site-packages/IPython/core/interactiveshell.py\"\u001b[0m, line \u001b[1;32m3325\u001b[0m, in \u001b[1;35mrun_code\u001b[0m\n    exec(code_obj, self.user_global_ns, self.user_ns)\n",
      "\u001b[0;36m  File \u001b[0;32m\"<ipython-input-19-8907cf6ba3a1>\"\u001b[0;36m, line \u001b[0;32m1\u001b[0;36m, in \u001b[0;35m<module>\u001b[0;36m\u001b[0m\n\u001b[0;31m    from RAVEN.pe.appr_poly_utils import Ref_Func as ref_func\u001b[0m\n",
      "\u001b[0;36m  File \u001b[0;32m\"/Users/wudidaizi/anaconda3/lib/python3.6/RAVEN/pe/appr_poly_utils.py\"\u001b[0;36m, line \u001b[0;32m15\u001b[0m\n\u001b[0;31m    output = input^\u001b[0m\n\u001b[0m                   ^\u001b[0m\n\u001b[0;31mSyntaxError\u001b[0m\u001b[0;31m:\u001b[0m invalid syntax\n"
     ]
    }
   ],
   "source": [
    "import torch\n",
    "from RAVEN.pe.appr_poly_utils import *"
   ]
  },
  {
   "cell_type": "code",
   "execution_count": 35,
   "metadata": {},
   "outputs": [],
   "source": [
    "mode = \"exp\""
   ]
  },
  {
   "cell_type": "code",
   "execution_count": 36,
   "metadata": {},
   "outputs": [],
   "source": [
    "func = ref_func(mode).inst()"
   ]
  },
  {
   "cell_type": "code",
   "execution_count": 37,
   "metadata": {},
   "outputs": [
    {
     "name": "stdout",
     "output_type": "stream",
     "text": [
      "<bound method Ref_Func.ref_exp of <RAVEN.pe.appr_poly_utils.Ref_Func object at 0x1218d9a90>>\n"
     ]
    }
   ],
   "source": [
    "print(func)"
   ]
  },
  {
   "cell_type": "code",
   "execution_count": 38,
   "metadata": {},
   "outputs": [],
   "source": [
    "func_out = func(torch.Tensor([0, 1]))"
   ]
  },
  {
   "cell_type": "code",
   "execution_count": 39,
   "metadata": {},
   "outputs": [
    {
     "name": "stdout",
     "output_type": "stream",
     "text": [
      "tensor([1.0000, 2.7183])\n"
     ]
    }
   ],
   "source": [
    "print(func_out)"
   ]
  },
  {
   "cell_type": "code",
   "execution_count": 74,
   "metadata": {},
   "outputs": [
    {
     "name": "stdout",
     "output_type": "stream",
     "text": [
      "0 th: input: 0.1 output -2.3025850929940455 error: 2.457713900941487\n",
      "1 th: input: 0.2 output -1.6094379124341003 error: 1.8065122986128344\n",
      "2 th: input: 0.3 output -1.2039728043259361 error: 1.4423921856455837\n",
      "3 th: input: 0.4 output -0.916290731874155 error: 1.1954603561481272\n",
      "4 th: input: 0.5 output -0.6931471805599453 error: 1.0124781265054432\n",
      "5 th: input: 0.6 output -0.5108256237659907 error: 0.8697348010040054\n",
      "6 th: input: 0.7 output -0.35667494393873245 error: 0.7545850929940455\n",
      "7 th: input: 0.8 output -0.2231435513142097 error: 0.6594832436153925\n",
      "8 th: input: 0.9 output -0.10536051565782628 error: 0.5795641535372409\n",
      "9 th: input: 1.0 output 0.0 error: 0.5115078166937974\n"
     ]
    }
   ],
   "source": [
    "import math\n",
    "\n",
    "for y in range(10):\n",
    "    x = (y+1)/10\n",
    "#     a = (x-1)**1 - 1/2*(x-1)**2 + 1/3*(x-1)**3 - 1/4*(x-1)**4 + 1/5*(x-1)**5 - 1/6*(x-1)**6 + 1/7*(x-1)**7 - 1/8*(x-1)**8\n",
    "    \n",
    "    a = math.log(7) + 1/1*(x-7)**1/7**1 - 1/2*(x-7)**2/7**2 + 1/3*(x-7)**3/7**3\n",
    "#     - 1/4*(x-7)**4/7**4\n",
    "    \n",
    "    print(y, \"th:\", \"input:\", x, \"output\", math.log(x), \"error:\", a - math.log(x))"
   ]
  },
  {
   "cell_type": "code",
   "execution_count": null,
   "metadata": {},
   "outputs": [],
   "source": []
  }
 ],
 "metadata": {
  "kernelspec": {
   "display_name": "Python 3",
   "language": "python",
   "name": "python3"
  },
  "language_info": {
   "codemirror_mode": {
    "name": "ipython",
    "version": 3
   },
   "file_extension": ".py",
   "mimetype": "text/x-python",
   "name": "python",
   "nbconvert_exporter": "python",
   "pygments_lexer": "ipython3",
   "version": "3.6.8"
  }
 },
 "nbformat": 4,
 "nbformat_minor": 2
}
